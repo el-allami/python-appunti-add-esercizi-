{
 "cells": [
  {
   "cell_type": "markdown",
   "source": [
    "# Colori e stili dei grafici\r\n",
    "*MatPlotLib* offrre molte vie per personalizzare i suoi grafici, sia per colore che, per stile"
   ],
   "metadata": {}
  },
  {
   "cell_type": "code",
   "execution_count": 1,
   "source": [
    "import matplotlib.pyplot as plt\r\n",
    "from numpy.random import rand as rn"
   ],
   "outputs": [],
   "metadata": {}
  },
  {
   "cell_type": "markdown",
   "source": [
    "### Scheletro di un grafico\r\n",
    "Principali elementi personabilizzabili del grafico:\r\n",
    "* Titolo\r\n",
    "* Legenda\r\n",
    "* Tacche\r\n",
    "  * Label\r\n",
    "* Assi\r\n",
    "\r\n",
    "Gli elementi sono personabilizzabili per:\r\n",
    "* Forma\r\n",
    "* Testo\r\n",
    "* Colore\r\n",
    "\r\n",
    "Ognuno di questi componenti puà essere modificato."
   ],
   "metadata": {}
  },
  {
   "cell_type": "markdown",
   "source": [
    "## Tipi di grafici\r\n",
    "Per analizzare i principali tipi di grafici fai riferimento al Notebook [Tipi di grafici](./Notebook1%20-%20Tipi%20di%20grafici.ipynb)"
   ],
   "metadata": {}
  },
  {
   "cell_type": "markdown",
   "source": [
    "## Stili delle linee e dei puntatori\r\n",
    "Simbolo | Linea | Puntatore | Descrizione\r\n",
    "---: | :---: | :---: | ---\r\n",
    "\\- | x | | Stile a linea continua\r\n",
    "-- | x | | Stile linea tratteggiata\r\n",
    "-. | x | | Stile linea trattino-punto\r\n",
    ": | x | | Stile della linea tratteggiata\r\n",
    ". | | x | Segnapunti\r\n",
    ", | | x | Marcatore pixel\r\n",
    "o | | x | Marcatore di cerchio\r\n",
    "v | | x | Triangolo giù\r\n",
    "^ | | x | Triangolo sù\r\n",
    "< | | x | Ttriangolo sinistro\r\n",
    "\\> | | x | Triangolo destro \r\n",
    "1 | | x | Marcatore tri_down\r\n",
    "2 | | x | Marcatore tri_up\r\n",
    "3 | | x | Marcatore tri_left\r\n",
    "4 | | x | Marcatore tri_right\r\n",
    "s | | x | Marcatore quadrato\r\n",
    "p | | x | Pennarello pentagono\r\n",
    "\\* | | x | Marcatore di stelle\r\n",
    "h | | x | Esagono 1\r\n",
    "H | | x | Esagono 2\r\n",
    "\\+ | | x | Più marcatore\r\n",
    "x | | x | x marcatore\r\n",
    "D | | x | Diamante\r\n",
    "d | | x | Pennarello *thin_diamond*\r\n",
    "\\| | | x | Marcatore vline\r\n",
    "_ | | x | Marcatore di linea"
   ],
   "metadata": {}
  },
  {
   "cell_type": "markdown",
   "source": [
    "## Colori\r\n",
    "*MatPlotLib* oltre ad avere colori predefiniti accetta anche:\r\n",
    "* I colori presenti nel [CSS](https://www.w3schools.com/cssref/css_colors.asp)\r\n",
    "* I colori [XKCD](https://www.w3schools.com/colors/colors_xkcd.asp).\r\n",
    "\r\n",
    "![Colori predefiniti di MatPLotLib](./Data/Base_colors.png)"
   ],
   "metadata": {}
  },
  {
   "cell_type": "code",
   "execution_count": 76,
   "source": [
    "fig = plt.figure()\r\n",
    "ax = plt.axes()\r\n",
    "\r\n",
    "ax.plot(rn(10), 'c-.', label='A')                               # Colore base seguito dallo stile della linea\r\n",
    "ax.plot(rn(10), color='ForestGreen', linestyle='--', label='B') # Colore del CSS, in seguito lo stile della linea\r\n",
    "\r\n",
    "ax.set_xlabel('Asse X')                                         # Imposta una label per l'asse X\r\n",
    "ax.set_ylabel('Asse Y')                                         # Imposta una label per l'asse Y\r\n",
    "\r\n",
    "fig.suptitle('Titolo del grafico')                              # Imposta un titolo per il grafico\r\n",
    "fig.legend()                                                    # Mostra la legenda\r\n",
    "fig.tight_layout()                                              # Regaola in automatico le distanze tra gli oggetti\r\n",
    "\r\n",
    "plt.show()"
   ],
   "outputs": [
    {
     "output_type": "display_data",
     "data": {
      "image/png": "[encoded data removed]",
      "text/plain": [
       "<Figure size 432x288 with 1 Axes>"
      ]
     },
     "metadata": {
      "needs_background": "light"
     }
    }
   ],
   "metadata": {}
  },
  {
   "cell_type": "markdown",
   "source": [
    "## Mappe colori\r\n",
    "*MatPlotLib* offre mappe di sfumature di colore predefinite per i grafici.<br>[Docs](https://matplotlib.org/stable/tutorials/colors/colormaps.html)"
   ],
   "metadata": {}
  },
  {
   "cell_type": "code",
   "execution_count": 8,
   "source": [
    "data = rn(10, 10)                         # Crea 10 Array da 10 elementi interi l'uno\r\n",
    "print(data)                               # I valori vanno letti dall'Array in ultima posizione\r\n",
    "\r\n",
    "fig = plt.figure()\r\n",
    "ax = plt.axes()\r\n",
    "\r\n",
    "im = ax.pcolormesh(data, cmap='magma')    # Crea il grafico ed assegna l'intensità di colore in base al dato\r\n",
    "\r\n",
    "fig.colorbar(im)                          # Mostra la barra delle sfumature di riferimento\r\n",
    "fig.tight_layout()\r\n",
    "\r\n",
    "plt.show()"
   ],
   "outputs": [
    {
     "output_type": "stream",
     "name": "stdout",
     "text": [
      "[[0.84589235 0.57110393 0.06778406 0.44654715 0.53503548 0.04228077\n",
      "  0.6135631  0.02861058 0.97269352 0.22091228]\n",
      " [0.08412091 0.40202453 0.38979645 0.37614237 0.8641617  0.15175128\n",
      "  0.39712762 0.37124772 0.17236191 0.85914291]\n",
      " [0.22619155 0.16091335 0.95322937 0.43832629 0.29183995 0.42408802\n",
      "  0.58782616 0.25255806 0.6412501  0.63651559]\n",
      " [0.54628662 0.10150369 0.99127135 0.5518136  0.94624297 0.4777295\n",
      "  0.39158141 0.44232415 0.20718736 0.33305235]\n",
      " [0.72169946 0.54173419 0.67136044 0.03868259 0.50808857 0.87840568\n",
      "  0.88869875 0.35261979 0.23810969 0.84948665]\n",
      " [0.43823517 0.2145688  0.87168201 0.51753233 0.57896711 0.2121731\n",
      "  0.99174751 0.15380899 0.89011014 0.1699964 ]\n",
      " [0.73420145 0.05113382 0.26009579 0.5182939  0.46868462 0.96069059\n",
      "  0.97995727 0.59635429 0.62267782 0.58469992]\n",
      " [0.04441294 0.67496004 0.11392821 0.99297765 0.98102042 0.77854253\n",
      "  0.64218662 0.30023713 0.58790683 0.61362299]\n",
      " [0.45227098 0.77762525 0.61726061 0.60780807 0.08024528 0.46790077\n",
      "  0.67356909 0.17742828 0.78853691 0.39640955]\n",
      " [0.92375862 0.85363965 0.82535194 0.39912466 0.23629791 0.64887673\n",
      "  0.45574341 0.74408152 0.7007169  0.93645451]]\n"
     ]
    },
    {
     "output_type": "display_data",
     "data": {
      "image/png": "[encoded data removed]",
      "text/plain": [
       "<Figure size 432x288 with 2 Axes>"
      ]
     },
     "metadata": {
      "needs_background": "light"
     }
    }
   ],
   "metadata": {}
  }
 ],
 "metadata": {
  "orig_nbformat": 4,
  "language_info": {
   "name": "python",
   "version": "3.8.8",
   "mimetype": "text/x-python",
   "codemirror_mode": {
    "name": "ipython",
    "version": 3
   },
   "pygments_lexer": "ipython3",
   "nbconvert_exporter": "python",
   "file_extension": ".py"
  },
  "kernelspec": {
   "name": "python3",
   "display_name": "Python 3.8.8 64-bit ('base': conda)"
  },
  "interpreter": {
   "hash": "9b2d9740616a8399ca404dca2f042dd6ae09cf83a307dbe456eb4f69c6b37002"
  }
 },
 "nbformat": 4,
 "nbformat_minor": 2
}
