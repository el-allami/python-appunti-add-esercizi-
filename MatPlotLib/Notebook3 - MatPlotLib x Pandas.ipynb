{
 "cells": [
  {
   "cell_type": "markdown",
   "source": [
    "# *MatPlotLib* x *Pandas*\r\n",
    "In questo notebbok vedremo un altro esempio di interazione tra *MatPlotLib* e *Pandas*."
   ],
   "metadata": {}
  },
  {
   "cell_type": "code",
   "execution_count": 1,
   "source": [
    "import pandas as pd\r\n",
    "import matplotlib.pyplot as plt"
   ],
   "outputs": [],
   "metadata": {}
  },
  {
   "cell_type": "markdown",
   "source": [
    "## 1. Importare la tabella\r\n",
    "Per prima cosa dobbiamo importare una tabella da analizzare, in questo caso utilizzeremo le [ultime cosegne di vaccini](https://raw.githubusercontent.com/italia/covid19-opendata-vaccini/master/dati/anagrafica-vaccini-summary-latest.csv)."
   ],
   "metadata": {}
  },
  {
   "cell_type": "code",
   "execution_count": 3,
   "source": [
    "df = pd.read_csv('https://raw.githubusercontent.com/italia/covid19-opendata-vaccini/master/dati/anagrafica-vaccini-summary-latest.csv')\r\n",
    "df"
   ],
   "outputs": [
    {
     "output_type": "execute_result",
     "data": {
      "text/html": [
       "<div>\n",
       "<style scoped>\n",
       "    .dataframe tbody tr th:only-of-type {\n",
       "        vertical-align: middle;\n",
       "    }\n",
       "\n",
       "    .dataframe tbody tr th {\n",
       "        vertical-align: top;\n",
       "    }\n",
       "\n",
       "    .dataframe thead th {\n",
       "        text-align: right;\n",
       "    }\n",
       "</style>\n",
       "<table border=\"1\" class=\"dataframe\">\n",
       "  <thead>\n",
       "    <tr style=\"text-align: right;\">\n",
       "      <th></th>\n",
       "      <th>fascia_anagrafica</th>\n",
       "      <th>totale</th>\n",
       "      <th>sesso_maschile</th>\n",
       "      <th>sesso_femminile</th>\n",
       "      <th>prima_dose</th>\n",
       "      <th>seconda_dose</th>\n",
       "      <th>pregressa_infezione</th>\n",
       "      <th>dose_aggiuntiva</th>\n",
       "      <th>dose_booster</th>\n",
       "      <th>ultimo_aggiornamento</th>\n",
       "    </tr>\n",
       "  </thead>\n",
       "  <tbody>\n",
       "    <tr>\n",
       "      <th>0</th>\n",
       "      <td>12-19</td>\n",
       "      <td>6342704</td>\n",
       "      <td>3249674</td>\n",
       "      <td>3093030</td>\n",
       "      <td>3249747</td>\n",
       "      <td>2985320</td>\n",
       "      <td>106257</td>\n",
       "      <td>994</td>\n",
       "      <td>386</td>\n",
       "      <td>2021-11-05</td>\n",
       "    </tr>\n",
       "    <tr>\n",
       "      <th>1</th>\n",
       "      <td>20-29</td>\n",
       "      <td>10016990</td>\n",
       "      <td>5241492</td>\n",
       "      <td>4775498</td>\n",
       "      <td>5098458</td>\n",
       "      <td>4669637</td>\n",
       "      <td>200835</td>\n",
       "      <td>5637</td>\n",
       "      <td>42423</td>\n",
       "      <td>2021-11-05</td>\n",
       "    </tr>\n",
       "    <tr>\n",
       "      <th>2</th>\n",
       "      <td>30-39</td>\n",
       "      <td>10713685</td>\n",
       "      <td>5502132</td>\n",
       "      <td>5211553</td>\n",
       "      <td>5442314</td>\n",
       "      <td>4987618</td>\n",
       "      <td>207526</td>\n",
       "      <td>10262</td>\n",
       "      <td>65965</td>\n",
       "      <td>2021-11-05</td>\n",
       "    </tr>\n",
       "    <tr>\n",
       "      <th>3</th>\n",
       "      <td>40-49</td>\n",
       "      <td>13919858</td>\n",
       "      <td>6910678</td>\n",
       "      <td>7009180</td>\n",
       "      <td>7014438</td>\n",
       "      <td>6509530</td>\n",
       "      <td>286867</td>\n",
       "      <td>23945</td>\n",
       "      <td>85078</td>\n",
       "      <td>2021-11-05</td>\n",
       "    </tr>\n",
       "    <tr>\n",
       "      <th>4</th>\n",
       "      <td>50-59</td>\n",
       "      <td>15974229</td>\n",
       "      <td>7836853</td>\n",
       "      <td>8137376</td>\n",
       "      <td>8042869</td>\n",
       "      <td>7410223</td>\n",
       "      <td>348755</td>\n",
       "      <td>51499</td>\n",
       "      <td>120883</td>\n",
       "      <td>2021-11-05</td>\n",
       "    </tr>\n",
       "    <tr>\n",
       "      <th>5</th>\n",
       "      <td>60-69</td>\n",
       "      <td>13012625</td>\n",
       "      <td>6321576</td>\n",
       "      <td>6691049</td>\n",
       "      <td>6550012</td>\n",
       "      <td>5982707</td>\n",
       "      <td>240753</td>\n",
       "      <td>80874</td>\n",
       "      <td>158279</td>\n",
       "      <td>2021-11-05</td>\n",
       "    </tr>\n",
       "    <tr>\n",
       "      <th>6</th>\n",
       "      <td>70-79</td>\n",
       "      <td>10961789</td>\n",
       "      <td>5157922</td>\n",
       "      <td>5803867</td>\n",
       "      <td>5401637</td>\n",
       "      <td>5176827</td>\n",
       "      <td>164201</td>\n",
       "      <td>89651</td>\n",
       "      <td>129473</td>\n",
       "      <td>2021-11-05</td>\n",
       "    </tr>\n",
       "    <tr>\n",
       "      <th>7</th>\n",
       "      <td>80-89</td>\n",
       "      <td>7866887</td>\n",
       "      <td>3292275</td>\n",
       "      <td>4574612</td>\n",
       "      <td>3455946</td>\n",
       "      <td>3396643</td>\n",
       "      <td>76131</td>\n",
       "      <td>48453</td>\n",
       "      <td>889714</td>\n",
       "      <td>2021-11-05</td>\n",
       "    </tr>\n",
       "    <tr>\n",
       "      <th>8</th>\n",
       "      <td>90+</td>\n",
       "      <td>1781041</td>\n",
       "      <td>533379</td>\n",
       "      <td>1247662</td>\n",
       "      <td>798473</td>\n",
       "      <td>770901</td>\n",
       "      <td>18554</td>\n",
       "      <td>8447</td>\n",
       "      <td>184666</td>\n",
       "      <td>2021-11-05</td>\n",
       "    </tr>\n",
       "  </tbody>\n",
       "</table>\n",
       "</div>"
      ],
      "text/plain": [
       "  fascia_anagrafica    totale  sesso_maschile  sesso_femminile  prima_dose  \\\n",
       "0             12-19   6342704         3249674          3093030     3249747   \n",
       "1             20-29  10016990         5241492          4775498     5098458   \n",
       "2             30-39  10713685         5502132          5211553     5442314   \n",
       "3             40-49  13919858         6910678          7009180     7014438   \n",
       "4             50-59  15974229         7836853          8137376     8042869   \n",
       "5             60-69  13012625         6321576          6691049     6550012   \n",
       "6             70-79  10961789         5157922          5803867     5401637   \n",
       "7             80-89   7866887         3292275          4574612     3455946   \n",
       "8               90+   1781041          533379          1247662      798473   \n",
       "\n",
       "   seconda_dose  pregressa_infezione  dose_aggiuntiva  dose_booster  \\\n",
       "0       2985320               106257              994           386   \n",
       "1       4669637               200835             5637         42423   \n",
       "2       4987618               207526            10262         65965   \n",
       "3       6509530               286867            23945         85078   \n",
       "4       7410223               348755            51499        120883   \n",
       "5       5982707               240753            80874        158279   \n",
       "6       5176827               164201            89651        129473   \n",
       "7       3396643                76131            48453        889714   \n",
       "8        770901                18554             8447        184666   \n",
       "\n",
       "  ultimo_aggiornamento  \n",
       "0           2021-11-05  \n",
       "1           2021-11-05  \n",
       "2           2021-11-05  \n",
       "3           2021-11-05  \n",
       "4           2021-11-05  \n",
       "5           2021-11-05  \n",
       "6           2021-11-05  \n",
       "7           2021-11-05  \n",
       "8           2021-11-05  "
      ]
     },
     "metadata": {},
     "execution_count": 3
    }
   ],
   "metadata": {}
  },
  {
   "cell_type": "markdown",
   "source": [
    "## 2. Prendere i dati da analizzare\r\n",
    "Dopo aver importato la tabella bisogna selezionare i dati da analizzare e riportare su i due assi"
   ],
   "metadata": {}
  },
  {
   "cell_type": "code",
   "execution_count": 4,
   "source": [
    "names = list(df['fascia_anagrafica'])\r\n",
    "values = list(df['totale'])\r\n",
    "\r\n",
    "print('Fascie anagrafiche:\\n{}\\n\\nTotali per fascie totali:\\n{}'.format(names, values))"
   ],
   "outputs": [
    {
     "output_type": "stream",
     "name": "stdout",
     "text": [
      "Fascie anagrafiche:\n",
      "['12-19', '20-29', '30-39', '40-49', '50-59', '60-69', '70-79', '80-89', '90+']\n",
      "\n",
      "Totali per fascie totali:\n",
      "[6342704, 10016990, 10713685, 13919858, 15974229, 13012625, 10961789, 7866887, 1781041]\n"
     ]
    }
   ],
   "metadata": {}
  },
  {
   "cell_type": "markdown",
   "source": [
    "## 3. Creare il grafico"
   ],
   "metadata": {}
  },
  {
   "cell_type": "code",
   "execution_count": null,
   "source": [
    "fig = plt.figure()\r\n",
    "ax = plt.axes()\r\n",
    "\r\n",
    "# Nella funzione lambda la 'x' sta per il valore della percentuale\r\n",
    "ax.pie(values, labels=names, autopct=lambda x: '{:.0f}'.format(sum(values)*x/100), explode=[0.2 if names.index(n) == 4 else 0 for n in names])\r\n"
   ],
   "outputs": [],
   "metadata": {}
  },
  {
   "cell_type": "markdown",
   "source": [
    "![Output](https://raw.githubusercontent.com/CappuCitti/Python-appunti-ed-esercizi/main/MatPlotLib/Data/OutputGraph_nb3-1.png)"
   ],
   "metadata": {}
  },
  {
   "cell_type": "markdown",
   "source": [
    "## 4. Sistemare lo stile del grafico"
   ],
   "metadata": {}
  },
  {
   "cell_type": "code",
   "execution_count": null,
   "source": [
    "fig.suptitle('Numero vaccini totali')\r\n",
    "fig.set_figwidth(6)\r\n",
    "fig.set_figheight(6)\r\n",
    "\r\n",
    "ax.axis('equal')"
   ],
   "outputs": [],
   "metadata": {}
  },
  {
   "cell_type": "markdown",
   "source": [
    "## 5. Mostrare il grafico"
   ],
   "metadata": {}
  },
  {
   "cell_type": "code",
   "execution_count": 6,
   "source": [
    "plt.show()"
   ],
   "outputs": [],
   "metadata": {}
  },
  {
   "cell_type": "markdown",
   "source": [
    "![Output](https://raw.githubusercontent.com/CappuCitti/Python-appunti-ed-esercizi/main/MatPlotLib/Data/OutputGraph_nb3-2.png)"
   ],
   "metadata": {}
  }
 ],
 "metadata": {
  "orig_nbformat": 4,
  "language_info": {
   "name": "python",
   "version": "3.8.8",
   "mimetype": "text/x-python",
   "codemirror_mode": {
    "name": "ipython",
    "version": 3
   },
   "pygments_lexer": "ipython3",
   "nbconvert_exporter": "python",
   "file_extension": ".py"
  },
  "kernelspec": {
   "name": "python3",
   "display_name": "Python 3.8.8 64-bit ('base': conda)"
  },
  "interpreter": {
   "hash": "9b2d9740616a8399ca404dca2f042dd6ae09cf83a307dbe456eb4f69c6b37002"
  }
 },
 "nbformat": 4,
 "nbformat_minor": 2
}
