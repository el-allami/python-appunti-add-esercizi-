{
 "cells": [
  {
   "cell_type": "markdown",
   "source": [
    "# *MatPlotLib* x *Pandas*\r\n",
    "E' possibile far interagire le due librerie creando grafici accurati sulla base dei dati delle tabelle di *Pandas*."
   ],
   "metadata": {}
  },
  {
   "cell_type": "code",
   "execution_count": 12,
   "source": [
    "import pandas as pd\r\n",
    "import matplotlib.pyplot as plt\r\n",
    "\r\n",
    "import numpy as np"
   ],
   "outputs": [],
   "metadata": {}
  },
  {
   "cell_type": "markdown",
   "source": [
    "## 1. Importare la tabella\r\n",
    "Per prima cosa dobbiamo importare una tabella da analizzare, in questo caso utilizzeremo le [ultime cosegne di vaccini](https://raw.githubusercontent.com/italia/covid19-opendata-vaccini/master/dati/consegne-vaccini-latest.csv)."
   ],
   "metadata": {}
  },
  {
   "cell_type": "code",
   "execution_count": 6,
   "source": [
    "df = pd.read_csv('https://raw.githubusercontent.com/italia/covid19-opendata-vaccini/master/dati/consegne-vaccini-latest.csv')\r\n",
    "df"
   ],
   "outputs": [
    {
     "output_type": "execute_result",
     "data": {
      "text/html": [
       "<div>\n",
       "<style scoped>\n",
       "    .dataframe tbody tr th:only-of-type {\n",
       "        vertical-align: middle;\n",
       "    }\n",
       "\n",
       "    .dataframe tbody tr th {\n",
       "        vertical-align: top;\n",
       "    }\n",
       "\n",
       "    .dataframe thead th {\n",
       "        text-align: right;\n",
       "    }\n",
       "</style>\n",
       "<table border=\"1\" class=\"dataframe\">\n",
       "  <thead>\n",
       "    <tr style=\"text-align: right;\">\n",
       "      <th></th>\n",
       "      <th>area</th>\n",
       "      <th>fornitore</th>\n",
       "      <th>numero_dosi</th>\n",
       "      <th>data_consegna</th>\n",
       "      <th>codice_NUTS1</th>\n",
       "      <th>codice_NUTS2</th>\n",
       "      <th>codice_regione_ISTAT</th>\n",
       "      <th>nome_area</th>\n",
       "    </tr>\n",
       "  </thead>\n",
       "  <tbody>\n",
       "    <tr>\n",
       "      <th>0</th>\n",
       "      <td>ABR</td>\n",
       "      <td>Pfizer/BioNTech</td>\n",
       "      <td>135</td>\n",
       "      <td>2020-12-27</td>\n",
       "      <td>ITF</td>\n",
       "      <td>ITF1</td>\n",
       "      <td>13</td>\n",
       "      <td>Abruzzo</td>\n",
       "    </tr>\n",
       "    <tr>\n",
       "      <th>1</th>\n",
       "      <td>ABR</td>\n",
       "      <td>Pfizer/BioNTech</td>\n",
       "      <td>7800</td>\n",
       "      <td>2020-12-30</td>\n",
       "      <td>ITF</td>\n",
       "      <td>ITF1</td>\n",
       "      <td>13</td>\n",
       "      <td>Abruzzo</td>\n",
       "    </tr>\n",
       "    <tr>\n",
       "      <th>2</th>\n",
       "      <td>ABR</td>\n",
       "      <td>Pfizer/BioNTech</td>\n",
       "      <td>3900</td>\n",
       "      <td>2021-01-05</td>\n",
       "      <td>ITF</td>\n",
       "      <td>ITF1</td>\n",
       "      <td>13</td>\n",
       "      <td>Abruzzo</td>\n",
       "    </tr>\n",
       "    <tr>\n",
       "      <th>3</th>\n",
       "      <td>ABR</td>\n",
       "      <td>Pfizer/BioNTech</td>\n",
       "      <td>3900</td>\n",
       "      <td>2021-01-07</td>\n",
       "      <td>ITF</td>\n",
       "      <td>ITF1</td>\n",
       "      <td>13</td>\n",
       "      <td>Abruzzo</td>\n",
       "    </tr>\n",
       "    <tr>\n",
       "      <th>4</th>\n",
       "      <td>ABR</td>\n",
       "      <td>Pfizer/BioNTech</td>\n",
       "      <td>3900</td>\n",
       "      <td>2021-01-11</td>\n",
       "      <td>ITF</td>\n",
       "      <td>ITF1</td>\n",
       "      <td>13</td>\n",
       "      <td>Abruzzo</td>\n",
       "    </tr>\n",
       "    <tr>\n",
       "      <th>...</th>\n",
       "      <td>...</td>\n",
       "      <td>...</td>\n",
       "      <td>...</td>\n",
       "      <td>...</td>\n",
       "      <td>...</td>\n",
       "      <td>...</td>\n",
       "      <td>...</td>\n",
       "      <td>...</td>\n",
       "    </tr>\n",
       "    <tr>\n",
       "      <th>5086</th>\n",
       "      <td>VEN</td>\n",
       "      <td>Pfizer/BioNTech</td>\n",
       "      <td>91260</td>\n",
       "      <td>2021-10-06</td>\n",
       "      <td>ITH</td>\n",
       "      <td>ITH3</td>\n",
       "      <td>5</td>\n",
       "      <td>Veneto</td>\n",
       "    </tr>\n",
       "    <tr>\n",
       "      <th>5087</th>\n",
       "      <td>VEN</td>\n",
       "      <td>Moderna</td>\n",
       "      <td>-1200</td>\n",
       "      <td>2021-10-11</td>\n",
       "      <td>ITH</td>\n",
       "      <td>ITH3</td>\n",
       "      <td>5</td>\n",
       "      <td>Veneto</td>\n",
       "    </tr>\n",
       "    <tr>\n",
       "      <th>5088</th>\n",
       "      <td>VEN</td>\n",
       "      <td>Moderna</td>\n",
       "      <td>1</td>\n",
       "      <td>2021-10-13</td>\n",
       "      <td>ITH</td>\n",
       "      <td>ITH3</td>\n",
       "      <td>5</td>\n",
       "      <td>Veneto</td>\n",
       "    </tr>\n",
       "    <tr>\n",
       "      <th>5089</th>\n",
       "      <td>VEN</td>\n",
       "      <td>Moderna</td>\n",
       "      <td>8</td>\n",
       "      <td>2021-10-14</td>\n",
       "      <td>ITH</td>\n",
       "      <td>ITH3</td>\n",
       "      <td>5</td>\n",
       "      <td>Veneto</td>\n",
       "    </tr>\n",
       "    <tr>\n",
       "      <th>5090</th>\n",
       "      <td>VEN</td>\n",
       "      <td>Pfizer/BioNTech</td>\n",
       "      <td>4</td>\n",
       "      <td>2021-10-15</td>\n",
       "      <td>ITH</td>\n",
       "      <td>ITH3</td>\n",
       "      <td>5</td>\n",
       "      <td>Veneto</td>\n",
       "    </tr>\n",
       "  </tbody>\n",
       "</table>\n",
       "<p>5091 rows × 8 columns</p>\n",
       "</div>"
      ],
      "text/plain": [
       "     area        fornitore  numero_dosi data_consegna codice_NUTS1  \\\n",
       "0     ABR  Pfizer/BioNTech          135    2020-12-27          ITF   \n",
       "1     ABR  Pfizer/BioNTech         7800    2020-12-30          ITF   \n",
       "2     ABR  Pfizer/BioNTech         3900    2021-01-05          ITF   \n",
       "3     ABR  Pfizer/BioNTech         3900    2021-01-07          ITF   \n",
       "4     ABR  Pfizer/BioNTech         3900    2021-01-11          ITF   \n",
       "...   ...              ...          ...           ...          ...   \n",
       "5086  VEN  Pfizer/BioNTech        91260    2021-10-06          ITH   \n",
       "5087  VEN          Moderna        -1200    2021-10-11          ITH   \n",
       "5088  VEN          Moderna            1    2021-10-13          ITH   \n",
       "5089  VEN          Moderna            8    2021-10-14          ITH   \n",
       "5090  VEN  Pfizer/BioNTech            4    2021-10-15          ITH   \n",
       "\n",
       "     codice_NUTS2  codice_regione_ISTAT nome_area  \n",
       "0            ITF1                    13   Abruzzo  \n",
       "1            ITF1                    13   Abruzzo  \n",
       "2            ITF1                    13   Abruzzo  \n",
       "3            ITF1                    13   Abruzzo  \n",
       "4            ITF1                    13   Abruzzo  \n",
       "...           ...                   ...       ...  \n",
       "5086         ITH3                     5    Veneto  \n",
       "5087         ITH3                     5    Veneto  \n",
       "5088         ITH3                     5    Veneto  \n",
       "5089         ITH3                     5    Veneto  \n",
       "5090         ITH3                     5    Veneto  \n",
       "\n",
       "[5091 rows x 8 columns]"
      ]
     },
     "metadata": {},
     "execution_count": 6
    }
   ],
   "metadata": {}
  },
  {
   "cell_type": "markdown",
   "source": [
    "## 2. Prendere i dati da analizzare\r\n",
    "Dopo aver importato la tabella bisogna selezionare i dati da analizzare e riportare su i due assi"
   ],
   "metadata": {}
  },
  {
   "cell_type": "code",
   "execution_count": 33,
   "source": [
    "data = df.groupby('nome_area').sum().sort_values('numero_dosi', ascending=False)\r\n",
    "\r\n",
    "names = list(data.index)\r\n",
    "values = list(data['numero_dosi'])\r\n",
    "max_value = data.sort_values('numero_dosi', ascending=False)['numero_dosi'].head(1)[0]\r\n",
    "\r\n",
    "print('Nomi delle regioni:\\n{}\\n\\nNumero di dosi per regione:\\n{}\\n\\nValore massimo delle dosi: {}'.format(names, values, max_value))"
   ],
   "outputs": [
    {
     "output_type": "stream",
     "name": "stdout",
     "text": [
      "Nomi delle regioni:\n",
      "['Lombardia', 'Lazio', 'Campania', 'Veneto', 'Sicilia', 'Emilia-Romagna', 'Piemonte', 'Puglia', 'Toscana', 'Calabria', 'Sardegna', 'Liguria', 'Marche', 'Abruzzo', 'Friuli-Venezia Giulia', 'Umbria', 'Basilicata', 'Provincia Autonoma Trento', 'Provincia Autonoma Bolzano / Bozen', 'Molise', \"Valle d'Aosta / Vallée d'Aoste\"]\n",
      "\n",
      "Numero di dosi per regione:\n",
      "[17273609, 10328389, 9179702, 8087581, 7649403, 7329079, 7131644, 6874701, 6156615, 2899944, 2751731, 2546891, 2507456, 2267251, 2030395, 1469397, 936665, 878910, 782179, 506050, 191150]\n",
      "\n",
      "Valore massimo delle dosi: 17273609\n"
     ]
    }
   ],
   "metadata": {}
  },
  {
   "cell_type": "markdown",
   "source": [
    "## 3. Creare il grafico"
   ],
   "metadata": {}
  },
  {
   "cell_type": "code",
   "execution_count": null,
   "source": [
    " \r\n",
    "fig = plt.figure()\r\n",
    "ax = plt.axes()\r\n",
    "ax.bar(names, values)"
   ],
   "outputs": [],
   "metadata": {}
  },
  {
   "cell_type": "markdown",
   "source": [
    "![Output](https://raw.githubusercontent.com/CappuCitti/Python-appunti-ed-esercizi/main/MatPlotLib/Data/OutputGraph_nb2-1.png)"
   ],
   "metadata": {}
  },
  {
   "cell_type": "markdown",
   "source": [
    "## 4. Sistemare lo stile del grafico\r\n",
    "Questo grafico è difficile da capire ed analizzare, quindi va sistemato graficamente."
   ],
   "metadata": {}
  },
  {
   "cell_type": "code",
   "execution_count": null,
   "source": [
    "fig.set_figwidth(12)                                     # Regola la larghezza del grafico\r\n",
    "fig.set_figheight(4)                                     # Regola l'altezza del grafico\r\n",
    "fig.autofmt_xdate(rotation=90)                           # Modifica la rotazione dei nomi dell'asse X\r\n",
    "\r\n",
    "ax.set_ylim([0, 20000000])                               # Cambia il limite dei valori sull'asse Y\r\n",
    "ax.set_yticklabels(np.arange(0, 20000001, step=2000000)) # Cambia i nomi dei valori riportati sull'asse Y\r\n",
    "ax.set_yticks(np.arange(0, 20000001, step=2000000))      # Cambia la frequenza con cui viene visualizzato un nome sull'asse Y"
   ],
   "outputs": [],
   "metadata": {}
  },
  {
   "cell_type": "markdown",
   "source": [
    "## 5. Mostrare il grafico"
   ],
   "metadata": {}
  },
  {
   "cell_type": "code",
   "execution_count": 43,
   "source": [
    "plt.show()"
   ],
   "outputs": [],
   "metadata": {}
  },
  {
   "cell_type": "markdown",
   "source": [
    "![Output](https://raw.githubusercontent.com/CappuCitti/Python-appunti-ed-esercizi/main/MatPlotLib/Data/OutputGraph_nb2-2.png)"
   ],
   "metadata": {}
  }
 ],
 "metadata": {
  "orig_nbformat": 4,
  "language_info": {
   "name": "python",
   "version": "3.8.8",
   "mimetype": "text/x-python",
   "codemirror_mode": {
    "name": "ipython",
    "version": 3
   },
   "pygments_lexer": "ipython3",
   "nbconvert_exporter": "python",
   "file_extension": ".py"
  },
  "kernelspec": {
   "name": "python3",
   "display_name": "Python 3.8.8 64-bit ('base': conda)"
  },
  "interpreter": {
   "hash": "9b2d9740616a8399ca404dca2f042dd6ae09cf83a307dbe456eb4f69c6b37002"
  }
 },
 "nbformat": 4,
 "nbformat_minor": 2
}
