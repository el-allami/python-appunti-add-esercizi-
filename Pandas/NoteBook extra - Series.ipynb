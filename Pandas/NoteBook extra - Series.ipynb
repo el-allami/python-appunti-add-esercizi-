{
 "cells": [
  {
   "cell_type": "markdown",
   "source": [
    "## Le ``Series``\n",
    "La struttura dati **Series** è un array unidimensionale."
   ],
   "metadata": {}
  },
  {
   "cell_type": "code",
   "execution_count": 2,
   "source": [
    "import pandas as pd"
   ],
   "outputs": [],
   "metadata": {}
  },
  {
   "cell_type": "markdown",
   "source": [
    "Da edesso la varibile `s` assumerà il valore di una *Series*"
   ],
   "metadata": {}
  },
  {
   "cell_type": "code",
   "execution_count": 3,
   "source": [
    "s = pd.Series([float(n) for n in range(0, 4)])\r\n",
    "print(s)"
   ],
   "outputs": [
    {
     "output_type": "stream",
     "name": "stdout",
     "text": [
      "0    0.0\n",
      "1    1.0\n",
      "2    2.0\n",
      "3    3.0\n",
      "dtype: float64\n"
     ]
    }
   ],
   "metadata": {}
  },
  {
   "cell_type": "markdown",
   "source": [
    "*Series* ha un concetto di base di **Indice**, che di base parte da 0, e di **valore**, attribuito all'indice"
   ],
   "metadata": {}
  },
  {
   "cell_type": "code",
   "execution_count": 4,
   "source": [
    "print('Indici:', s.index)\r\n",
    "print('Valori degli incici:', s.values)"
   ],
   "outputs": [
    {
     "output_type": "stream",
     "name": "stdout",
     "text": [
      "Indici: RangeIndex(start=0, stop=4, step=1)\n",
      "Valori degli incici: [0. 1. 2. 3.]\n"
     ]
    }
   ],
   "metadata": {}
  },
  {
   "cell_type": "markdown",
   "source": [
    "Oltre a far tornare solo le chiavi o solo i valori è possibile ritornare essi insime con la funzione `.items()`"
   ],
   "metadata": {}
  },
  {
   "cell_type": "code",
   "execution_count": 5,
   "source": [
    "for index, val in s.items():\r\n",
    "  print([index, val])"
   ],
   "outputs": [
    {
     "output_type": "stream",
     "name": "stdout",
     "text": [
      "[0, 0.0]\n",
      "[1, 1.0]\n",
      "[2, 2.0]\n",
      "[3, 3.0]\n"
     ]
    }
   ],
   "metadata": {}
  },
  {
   "cell_type": "markdown",
   "source": [
    "Come i *dizionari* è possibile accedere al valore dell'indice tramite una **chiave** con il metodo `s[Index]`"
   ],
   "metadata": {}
  },
  {
   "cell_type": "code",
   "execution_count": 6,
   "source": [
    "print(s[2])"
   ],
   "outputs": [
    {
     "output_type": "stream",
     "name": "stdout",
     "text": [
      "2.0\n"
     ]
    }
   ],
   "metadata": {}
  },
  {
   "cell_type": "markdown",
   "source": [
    "E' possibile cambiare il valore dell'indice della *Series*"
   ],
   "metadata": {}
  },
  {
   "cell_type": "code",
   "execution_count": 7,
   "source": [
    "s2 = pd.Series([n for n in range(0, 4)], index=list('abcd'))\r\n",
    "print(s2)\r\n",
    "\r\n",
    "print('Valore dell\\'indice c:', s2['c'])"
   ],
   "outputs": [
    {
     "output_type": "stream",
     "name": "stdout",
     "text": [
      "a    0\n",
      "b    1\n",
      "c    2\n",
      "d    3\n",
      "dtype: int64\n",
      "Valore dell'indice c: 2\n"
     ]
    }
   ],
   "metadata": {}
  },
  {
   "cell_type": "markdown",
   "source": [
    "Quindi una *Series* può assumere il valore di un dizionaro unidimensionale trasformandolo in una tabella"
   ],
   "metadata": {}
  },
  {
   "cell_type": "code",
   "execution_count": 8,
   "source": [
    "data = {'Abruzzo': 'Aquila', 'Basilicata': 'Potenza', 'Calabria': 'Catanzaro', 'Campania': 'Napoli', 'Emilia-Romagna': 'Bologna', 'Friuli-venezia-Giulia': 'Trieste', 'Lazio': 'Roma', 'Liguaria': 'Genova', 'Lombardia': 'Milano', 'Marche': 'Ancona', 'Molise': 'Campobasso', 'Piemonte': 'Torino', 'Puglia': 'Bari', 'Sardegna': 'Cagliari', 'Sicilia': 'Palermo', 'Toscana': 'Firenze', 'Trentino-Alto Adige': 'Trento', 'Umbria': 'Perugia', 'valle d\\'Aosta': 'Aosta', 'Veneto': 'Venezia'}\r\n",
    "\r\n",
    "capoluoghi_di_regione = pd.Series(data, name='Capoluoghi di regione')\r\n",
    "print(capoluoghi_di_regione)"
   ],
   "outputs": [
    {
     "output_type": "stream",
     "name": "stdout",
     "text": [
      "Abruzzo                      Aquila\n",
      "Basilicata                  Potenza\n",
      "Calabria                  Catanzaro\n",
      "Campania                     Napoli\n",
      "Emilia-Romagna              Bologna\n",
      "Friuli-venezia-Giulia       Trieste\n",
      "Lazio                          Roma\n",
      "Liguaria                     Genova\n",
      "Lombardia                    Milano\n",
      "Marche                       Ancona\n",
      "Molise                   Campobasso\n",
      "Piemonte                     Torino\n",
      "Puglia                         Bari\n",
      "Sardegna                   Cagliari\n",
      "Sicilia                     Palermo\n",
      "Toscana                     Firenze\n",
      "Trentino-Alto Adige          Trento\n",
      "Umbria                      Perugia\n",
      "valle d'Aosta                 Aosta\n",
      "Veneto                      Venezia\n",
      "Name: Capoluoghi di regione, dtype: object\n"
     ]
    }
   ],
   "metadata": {}
  },
  {
   "cell_type": "markdown",
   "source": [
    "Anche se le chiavi non hanno un valore intero è possibile usare lo *slicing* all'interno della *Series*, ed ovviamente ritornare il valore dell'indice dalla posizione di esso"
   ],
   "metadata": {}
  },
  {
   "cell_type": "code",
   "execution_count": 15,
   "source": [
    "print(capoluoghi_di_regione['Campania':'Molise'])\r\n",
    "\r\n",
    "print(capoluoghi_di_regione[0])\r\n",
    "#Oppure - Il risultato è lo stesso\r\n",
    "print(capoluoghi_di_regione['Abruzzo'])"
   ],
   "outputs": [
    {
     "output_type": "stream",
     "name": "stdout",
     "text": [
      "Campania                     Napoli\n",
      "Emilia-Romagna              Bologna\n",
      "Friuli-venezia-Giulia       Trieste\n",
      "Lazio                          Roma\n",
      "Liguaria                     Genova\n",
      "Lombardia                    Milano\n",
      "Marche                       Ancona\n",
      "Molise                   Campobasso\n",
      "Name: Capoluoghi di regione, dtype: object\n",
      "Aquila\n",
      "Aquila\n"
     ]
    }
   ],
   "metadata": {}
  },
  {
   "cell_type": "markdown",
   "source": [
    "E' possibile applicare le *list comprehension* ad i valori delle chiavi di una *Series*"
   ],
   "metadata": {}
  },
  {
   "cell_type": "code",
   "execution_count": 10,
   "source": [
    "population = pd.Series({'Germany': 81.3, 'Belgium': 11.3, 'France': 64.3, 'United Kingdom': 64.9, 'Netherlands': 16.9})"
   ],
   "outputs": [],
   "metadata": {}
  },
  {
   "cell_type": "code",
   "execution_count": 11,
   "source": [
    "print(population[population > 20])"
   ],
   "outputs": [
    {
     "output_type": "stream",
     "name": "stdout",
     "text": [
      "Germany           81.3\n",
      "France            64.3\n",
      "United Kingdom    64.9\n",
      "dtype: float64\n"
     ]
    }
   ],
   "metadata": {}
  },
  {
   "cell_type": "markdown",
   "source": [
    "Oltre che alle *list comprehension* si possono eseguire anhce operazioni di ricerca tramite il valore della chiave.\r\n",
    "\r\n",
    "Sintassi: `s[s == value]`"
   ],
   "metadata": {}
  },
  {
   "cell_type": "code",
   "execution_count": 12,
   "source": [
    "# Si voglio far tornare con una unica variabile i paesi con una popolazione sopra i 50mln di abitanti\r\n",
    "res = pd.Series(dtype='float64')\r\n",
    "\r\n",
    "for country, popl in population.items():\r\n",
    "  if popl >= 50:\r\n",
    "    res = res.append(population[population == popl])\r\n",
    "\r\n",
    "print(res)"
   ],
   "outputs": [
    {
     "output_type": "stream",
     "name": "stdout",
     "text": [
      "Germany           81.3\n",
      "France            64.3\n",
      "United Kingdom    64.9\n",
      "dtype: float64\n"
     ]
    }
   ],
   "metadata": {}
  },
  {
   "cell_type": "markdown",
   "source": [
    "E' possibile ricevere informazioni base sulla *Sereis* con la fuznione `s.describe()`\r\n",
    "\r\n",
    "| Chiave | Significato |\r\n",
    "| ---: | --- |\r\n",
    "| ``count`` | Numero di elementi totali |\r\n",
    "| ``mean`` | Media dei valori |\r\n",
    "| ``std`` | Deviazione standard delle osservazioni |\r\n",
    "| ``min`` | Valore più basso |\r\n",
    "| ``25%`` | Valore minimo |\r\n",
    "| ``50%`` | Valore medio |\r\n",
    "| ``75%`` | Valore massimo |\r\n",
    "| ``max`` | Valore più alto |"
   ],
   "metadata": {}
  },
  {
   "cell_type": "code",
   "execution_count": 13,
   "source": [
    "print(population.describe())"
   ],
   "outputs": [
    {
     "output_type": "stream",
     "name": "stdout",
     "text": [
      "count     5.000000\n",
      "mean     47.740000\n",
      "std      31.519645\n",
      "min      11.300000\n",
      "25%      16.900000\n",
      "50%      64.300000\n",
      "75%      64.900000\n",
      "max      81.300000\n",
      "dtype: float64\n"
     ]
    }
   ],
   "metadata": {}
  },
  {
   "cell_type": "markdown",
   "source": [
    "Se in caso ci si scorda un valore da inserire nella *Series* non c'è problema, con la funzione `.appned(Series_or_Dataframe)` è possbile aggiungerlo, quindi è anche possibile concatenare più *Series*.\r\n",
    "\r\n",
    "### [Docs](https://pandas.pydata.org/pandas-docs/stable/reference/api/pandas.Series.append.html)"
   ],
   "metadata": {}
  },
  {
   "cell_type": "code",
   "execution_count": 14,
   "source": [
    "series_to_appned = pd.Series({'Spain': 46.9, 'Congo': 86.7})\r\n",
    "population = population.append(series_to_appned)\r\n",
    "\r\n",
    "population"
   ],
   "outputs": [
    {
     "output_type": "execute_result",
     "data": {
      "text/plain": [
       "Germany           81.3\n",
       "Belgium           11.3\n",
       "France            64.3\n",
       "United Kingdom    64.9\n",
       "Netherlands       16.9\n",
       "Spain             46.9\n",
       "Congo             86.7\n",
       "dtype: float64"
      ]
     },
     "metadata": {},
     "execution_count": 14
    }
   ],
   "metadata": {}
  }
 ],
 "metadata": {
  "interpreter": {
   "hash": "9b2d9740616a8399ca404dca2f042dd6ae09cf83a307dbe456eb4f69c6b37002"
  },
  "kernelspec": {
   "name": "python3",
   "display_name": "Python 3.8.8 64-bit ('base': conda)"
  },
  "language_info": {
   "codemirror_mode": {
    "name": "ipython",
    "version": 3
   },
   "file_extension": ".py",
   "mimetype": "text/x-python",
   "name": "python",
   "nbconvert_exporter": "python",
   "pygments_lexer": "ipython3",
   "version": "3.8.8"
  }
 },
 "nbformat": 4,
 "nbformat_minor": 2
}
