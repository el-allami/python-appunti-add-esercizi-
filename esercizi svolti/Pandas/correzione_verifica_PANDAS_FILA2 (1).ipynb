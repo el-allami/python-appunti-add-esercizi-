{
  "nbformat": 4,
  "nbformat_minor": 0,
  "metadata": {
    "colab": {
      "name": "correzione_verifica_PANDAS_FILA2.ipynb",
      "provenance": [],
      "collapsed_sections": []
    },
    "kernelspec": {
      "name": "python3",
      "display_name": "Python 3"
    },
    "language_info": {
      "name": "python"
    }
  },
  "cells": [
    {
      "cell_type": "code",
      "metadata": {
        "colab": {
          "base_uri": "https://localhost:8080/",
          "height": 423
        },
        "id": "oEo3YoBwrTE_",
        "outputId": "ee22a991-e9ea-463d-b573-52caac83ba0f"
      },
      "source": [
        "import pandas as pd\n",
        "url = \"https://raw.githubusercontent.com/wtitze/3E/main/Athletes.xlsx\"\n",
        "athletes = pd.read_excel(url)\n",
        "athletes\n"
      ],
      "execution_count": null,
      "outputs": [
        {
          "output_type": "execute_result",
          "data": {
            "text/html": [
              "<div>\n",
              "<style scoped>\n",
              "    .dataframe tbody tr th:only-of-type {\n",
              "        vertical-align: middle;\n",
              "    }\n",
              "\n",
              "    .dataframe tbody tr th {\n",
              "        vertical-align: top;\n",
              "    }\n",
              "\n",
              "    .dataframe thead th {\n",
              "        text-align: right;\n",
              "    }\n",
              "</style>\n",
              "<table border=\"1\" class=\"dataframe\">\n",
              "  <thead>\n",
              "    <tr style=\"text-align: right;\">\n",
              "      <th></th>\n",
              "      <th>Name</th>\n",
              "      <th>NOC</th>\n",
              "      <th>Discipline</th>\n",
              "    </tr>\n",
              "  </thead>\n",
              "  <tbody>\n",
              "    <tr>\n",
              "      <th>0</th>\n",
              "      <td>AALERUD Katrine</td>\n",
              "      <td>Norway</td>\n",
              "      <td>Cycling Road</td>\n",
              "    </tr>\n",
              "    <tr>\n",
              "      <th>1</th>\n",
              "      <td>ABAD Nestor</td>\n",
              "      <td>Spain</td>\n",
              "      <td>Artistic Gymnastics</td>\n",
              "    </tr>\n",
              "    <tr>\n",
              "      <th>2</th>\n",
              "      <td>ABAGNALE Giovanni</td>\n",
              "      <td>Italy</td>\n",
              "      <td>Rowing</td>\n",
              "    </tr>\n",
              "    <tr>\n",
              "      <th>3</th>\n",
              "      <td>ABALDE Alberto</td>\n",
              "      <td>Spain</td>\n",
              "      <td>Basketball</td>\n",
              "    </tr>\n",
              "    <tr>\n",
              "      <th>4</th>\n",
              "      <td>ABALDE Tamara</td>\n",
              "      <td>Spain</td>\n",
              "      <td>Basketball</td>\n",
              "    </tr>\n",
              "    <tr>\n",
              "      <th>...</th>\n",
              "      <td>...</td>\n",
              "      <td>...</td>\n",
              "      <td>...</td>\n",
              "    </tr>\n",
              "    <tr>\n",
              "      <th>11080</th>\n",
              "      <td>ZWICKER Martin Detlef</td>\n",
              "      <td>Germany</td>\n",
              "      <td>Hockey</td>\n",
              "    </tr>\n",
              "    <tr>\n",
              "      <th>11081</th>\n",
              "      <td>ZWOLINSKA Klaudia</td>\n",
              "      <td>Poland</td>\n",
              "      <td>Canoe Slalom</td>\n",
              "    </tr>\n",
              "    <tr>\n",
              "      <th>11082</th>\n",
              "      <td>ZYKOVA Yulia</td>\n",
              "      <td>ROC</td>\n",
              "      <td>Shooting</td>\n",
              "    </tr>\n",
              "    <tr>\n",
              "      <th>11083</th>\n",
              "      <td>ZYUZINA Ekaterina</td>\n",
              "      <td>ROC</td>\n",
              "      <td>Sailing</td>\n",
              "    </tr>\n",
              "    <tr>\n",
              "      <th>11084</th>\n",
              "      <td>ZYZANSKA Sylwia</td>\n",
              "      <td>Poland</td>\n",
              "      <td>Archery</td>\n",
              "    </tr>\n",
              "  </tbody>\n",
              "</table>\n",
              "<p>11085 rows × 3 columns</p>\n",
              "</div>"
            ],
            "text/plain": [
              "                        Name      NOC           Discipline\n",
              "0            AALERUD Katrine   Norway         Cycling Road\n",
              "1                ABAD Nestor    Spain  Artistic Gymnastics\n",
              "2          ABAGNALE Giovanni    Italy               Rowing\n",
              "3             ABALDE Alberto    Spain           Basketball\n",
              "4              ABALDE Tamara    Spain           Basketball\n",
              "...                      ...      ...                  ...\n",
              "11080  ZWICKER Martin Detlef  Germany               Hockey\n",
              "11081      ZWOLINSKA Klaudia   Poland         Canoe Slalom\n",
              "11082           ZYKOVA Yulia      ROC             Shooting\n",
              "11083      ZYUZINA Ekaterina      ROC              Sailing\n",
              "11084        ZYZANSKA Sylwia   Poland              Archery\n",
              "\n",
              "[11085 rows x 3 columns]"
            ]
          },
          "metadata": {},
          "execution_count": 1
        }
      ]
    },
    {
      "cell_type": "code",
      "metadata": {
        "id": "nR_X3sbcm0-l",
        "colab": {
          "base_uri": "https://localhost:8080/",
          "height": 596
        },
        "outputId": "a9b69c05-474a-48c4-f80b-6fe2af2c8bfd"
      },
      "source": [
        "# visualizzare il numero di atleti maschi del nuoto\n",
        "\n",
        "\n",
        "athletes[athletes[\"Gender\"].str.cointains(\"Men\")] ##########           ???????????????????"
      ],
      "execution_count": null,
      "outputs": [
        {
          "output_type": "error",
          "ename": "KeyError",
          "evalue": "ignored",
          "traceback": [
            "\u001b[0;31m---------------------------------------------------------------------------\u001b[0m",
            "\u001b[0;31mKeyError\u001b[0m                                  Traceback (most recent call last)",
            "\u001b[0;32m/usr/local/lib/python3.7/dist-packages/pandas/core/indexes/base.py\u001b[0m in \u001b[0;36mget_loc\u001b[0;34m(self, key, method, tolerance)\u001b[0m\n\u001b[1;32m   2897\u001b[0m             \u001b[0;32mtry\u001b[0m\u001b[0;34m:\u001b[0m\u001b[0;34m\u001b[0m\u001b[0;34m\u001b[0m\u001b[0m\n\u001b[0;32m-> 2898\u001b[0;31m                 \u001b[0;32mreturn\u001b[0m \u001b[0mself\u001b[0m\u001b[0;34m.\u001b[0m\u001b[0m_engine\u001b[0m\u001b[0;34m.\u001b[0m\u001b[0mget_loc\u001b[0m\u001b[0;34m(\u001b[0m\u001b[0mcasted_key\u001b[0m\u001b[0;34m)\u001b[0m\u001b[0;34m\u001b[0m\u001b[0;34m\u001b[0m\u001b[0m\n\u001b[0m\u001b[1;32m   2899\u001b[0m             \u001b[0;32mexcept\u001b[0m \u001b[0mKeyError\u001b[0m \u001b[0;32mas\u001b[0m \u001b[0merr\u001b[0m\u001b[0;34m:\u001b[0m\u001b[0;34m\u001b[0m\u001b[0;34m\u001b[0m\u001b[0m\n",
            "\u001b[0;32mpandas/_libs/index.pyx\u001b[0m in \u001b[0;36mpandas._libs.index.IndexEngine.get_loc\u001b[0;34m()\u001b[0m\n",
            "\u001b[0;32mpandas/_libs/index.pyx\u001b[0m in \u001b[0;36mpandas._libs.index.IndexEngine.get_loc\u001b[0;34m()\u001b[0m\n",
            "\u001b[0;32mpandas/_libs/hashtable_class_helper.pxi\u001b[0m in \u001b[0;36mpandas._libs.hashtable.PyObjectHashTable.get_item\u001b[0;34m()\u001b[0m\n",
            "\u001b[0;32mpandas/_libs/hashtable_class_helper.pxi\u001b[0m in \u001b[0;36mpandas._libs.hashtable.PyObjectHashTable.get_item\u001b[0;34m()\u001b[0m\n",
            "\u001b[0;31mKeyError\u001b[0m: 'Gender'",
            "\nThe above exception was the direct cause of the following exception:\n",
            "\u001b[0;31mKeyError\u001b[0m                                  Traceback (most recent call last)",
            "\u001b[0;32m<ipython-input-4-740ab2d175c8>\u001b[0m in \u001b[0;36m<module>\u001b[0;34m()\u001b[0m\n\u001b[1;32m      2\u001b[0m \u001b[0;34m\u001b[0m\u001b[0m\n\u001b[1;32m      3\u001b[0m \u001b[0;34m\u001b[0m\u001b[0m\n\u001b[0;32m----> 4\u001b[0;31m \u001b[0mathletes\u001b[0m\u001b[0;34m[\u001b[0m\u001b[0mathletes\u001b[0m\u001b[0;34m[\u001b[0m\u001b[0;34m\"Gender\"\u001b[0m\u001b[0;34m]\u001b[0m\u001b[0;34m.\u001b[0m\u001b[0mstr\u001b[0m\u001b[0;34m.\u001b[0m\u001b[0mcointains\u001b[0m\u001b[0;34m(\u001b[0m\u001b[0;34m\"Men\"\u001b[0m\u001b[0;34m)\u001b[0m\u001b[0;34m]\u001b[0m \u001b[0;31m##########           ???????????????????\u001b[0m\u001b[0;34m\u001b[0m\u001b[0;34m\u001b[0m\u001b[0m\n\u001b[0m",
            "\u001b[0;32m/usr/local/lib/python3.7/dist-packages/pandas/core/frame.py\u001b[0m in \u001b[0;36m__getitem__\u001b[0;34m(self, key)\u001b[0m\n\u001b[1;32m   2904\u001b[0m             \u001b[0;32mif\u001b[0m \u001b[0mself\u001b[0m\u001b[0;34m.\u001b[0m\u001b[0mcolumns\u001b[0m\u001b[0;34m.\u001b[0m\u001b[0mnlevels\u001b[0m \u001b[0;34m>\u001b[0m \u001b[0;36m1\u001b[0m\u001b[0;34m:\u001b[0m\u001b[0;34m\u001b[0m\u001b[0;34m\u001b[0m\u001b[0m\n\u001b[1;32m   2905\u001b[0m                 \u001b[0;32mreturn\u001b[0m \u001b[0mself\u001b[0m\u001b[0;34m.\u001b[0m\u001b[0m_getitem_multilevel\u001b[0m\u001b[0;34m(\u001b[0m\u001b[0mkey\u001b[0m\u001b[0;34m)\u001b[0m\u001b[0;34m\u001b[0m\u001b[0;34m\u001b[0m\u001b[0m\n\u001b[0;32m-> 2906\u001b[0;31m             \u001b[0mindexer\u001b[0m \u001b[0;34m=\u001b[0m \u001b[0mself\u001b[0m\u001b[0;34m.\u001b[0m\u001b[0mcolumns\u001b[0m\u001b[0;34m.\u001b[0m\u001b[0mget_loc\u001b[0m\u001b[0;34m(\u001b[0m\u001b[0mkey\u001b[0m\u001b[0;34m)\u001b[0m\u001b[0;34m\u001b[0m\u001b[0;34m\u001b[0m\u001b[0m\n\u001b[0m\u001b[1;32m   2907\u001b[0m             \u001b[0;32mif\u001b[0m \u001b[0mis_integer\u001b[0m\u001b[0;34m(\u001b[0m\u001b[0mindexer\u001b[0m\u001b[0;34m)\u001b[0m\u001b[0;34m:\u001b[0m\u001b[0;34m\u001b[0m\u001b[0;34m\u001b[0m\u001b[0m\n\u001b[1;32m   2908\u001b[0m                 \u001b[0mindexer\u001b[0m \u001b[0;34m=\u001b[0m \u001b[0;34m[\u001b[0m\u001b[0mindexer\u001b[0m\u001b[0;34m]\u001b[0m\u001b[0;34m\u001b[0m\u001b[0;34m\u001b[0m\u001b[0m\n",
            "\u001b[0;32m/usr/local/lib/python3.7/dist-packages/pandas/core/indexes/base.py\u001b[0m in \u001b[0;36mget_loc\u001b[0;34m(self, key, method, tolerance)\u001b[0m\n\u001b[1;32m   2898\u001b[0m                 \u001b[0;32mreturn\u001b[0m \u001b[0mself\u001b[0m\u001b[0;34m.\u001b[0m\u001b[0m_engine\u001b[0m\u001b[0;34m.\u001b[0m\u001b[0mget_loc\u001b[0m\u001b[0;34m(\u001b[0m\u001b[0mcasted_key\u001b[0m\u001b[0;34m)\u001b[0m\u001b[0;34m\u001b[0m\u001b[0;34m\u001b[0m\u001b[0m\n\u001b[1;32m   2899\u001b[0m             \u001b[0;32mexcept\u001b[0m \u001b[0mKeyError\u001b[0m \u001b[0;32mas\u001b[0m \u001b[0merr\u001b[0m\u001b[0;34m:\u001b[0m\u001b[0;34m\u001b[0m\u001b[0;34m\u001b[0m\u001b[0m\n\u001b[0;32m-> 2900\u001b[0;31m                 \u001b[0;32mraise\u001b[0m \u001b[0mKeyError\u001b[0m\u001b[0;34m(\u001b[0m\u001b[0mkey\u001b[0m\u001b[0;34m)\u001b[0m \u001b[0;32mfrom\u001b[0m \u001b[0merr\u001b[0m\u001b[0;34m\u001b[0m\u001b[0;34m\u001b[0m\u001b[0m\n\u001b[0m\u001b[1;32m   2901\u001b[0m \u001b[0;34m\u001b[0m\u001b[0m\n\u001b[1;32m   2902\u001b[0m         \u001b[0;32mif\u001b[0m \u001b[0mtolerance\u001b[0m \u001b[0;32mis\u001b[0m \u001b[0;32mnot\u001b[0m \u001b[0;32mNone\u001b[0m\u001b[0;34m:\u001b[0m\u001b[0;34m\u001b[0m\u001b[0;34m\u001b[0m\u001b[0m\n",
            "\u001b[0;31mKeyError\u001b[0m: 'Gender'"
          ]
        }
      ]
    },
    {
      "cell_type": "code",
      "metadata": {
        "id": "j-36pEk1sdC2"
      },
      "source": [
        "# visualizzare le discipline con meno di 100 atleti donne\n",
        "\n"
      ],
      "execution_count": null,
      "outputs": []
    },
    {
      "cell_type": "code",
      "metadata": {
        "id": "ivNybSyDtu1e"
      },
      "source": [
        "# aggiungere una colonna contenente il numero totale di atleti di ogni disciplina. Chiamare la colonna “Total”\n",
        "\n",
        "df = athletes.groupby(\"Discipline\").count()\n",
        "athletes[\"Total\"] = df[\"Name\"]\n",
        "athletes\n"
      ],
      "execution_count": null,
      "outputs": []
    },
    {
      "cell_type": "code",
      "metadata": {
        "id": "DdTUv3-fvArf",
        "colab": {
          "base_uri": "https://localhost:8080/"
        },
        "outputId": "cf95fa05-a0b1-4dda-cbc8-c1a2ebd70c58"
      },
      "source": [
        "# visualizzare la nazione che ha più atleti (in totale)\n",
        "\n",
        "athletes2 = athletes.groupby('NOC').count()\n",
        "maxx = athletes2['Name'].max()\n",
        "athletes2.loc[athletes2['Name'] == maxx]['Name']"
      ],
      "execution_count": null,
      "outputs": [
        {
          "output_type": "execute_result",
          "data": {
            "text/plain": [
              "NOC\n",
              "United States of America    615\n",
              "Name: Name, dtype: int64"
            ]
          },
          "metadata": {},
          "execution_count": 5
        }
      ]
    },
    {
      "cell_type": "code",
      "metadata": {
        "id": "GaEi87Jyv8ql",
        "colab": {
          "base_uri": "https://localhost:8080/"
        },
        "outputId": "7fe9f3a2-3517-4a44-807c-b7615e5bb188"
      },
      "source": [
        "# visualizzare il numero totale di atleti\n",
        "\n",
        "athletes2[\"Name\"].count()"
      ],
      "execution_count": null,
      "outputs": [
        {
          "output_type": "execute_result",
          "data": {
            "text/plain": [
              "206"
            ]
          },
          "metadata": {},
          "execution_count": 6
        }
      ]
    },
    {
      "cell_type": "code",
      "metadata": {
        "id": "njVXVrYrwtbm",
        "colab": {
          "base_uri": "https://localhost:8080/"
        },
        "outputId": "9c511626-5182-4303-b656-47588887153c"
      },
      "source": [
        "athletes[\"Name\"].count()"
      ],
      "execution_count": null,
      "outputs": [
        {
          "output_type": "execute_result",
          "data": {
            "text/plain": [
              "11085"
            ]
          },
          "metadata": {},
          "execution_count": 3
        }
      ]
    },
    {
      "cell_type": "code",
      "metadata": {
        "id": "hdh84r7Ow1Dm"
      },
      "source": [
        "# aggiungere una colonna contenente la percentuale di atleti di ogni disciplina rispetto al totale. Chiamare la colonna “Percentuale”\n",
        "\n",
        "tot = athletes[\"Name\"].count()\n",
        "athletes[\"Percentuale\"] = round((100 * athletes2[\"Name\"]) / tot)\n",
        "athletes"
      ],
      "execution_count": null,
      "outputs": []
    },
    {
      "cell_type": "code",
      "metadata": {
        "id": "EHw9okuTxn28",
        "colab": {
          "base_uri": "https://localhost:8080/",
          "height": 423
        },
        "outputId": "a59b6f9c-85d0-4ef9-bbba-9e3e3a04f822"
      },
      "source": [
        "url = \"https://raw.githubusercontent.com/wtitze/3E/main/Coaches.xlsx\"\n",
        "coaches = pd.read_excel(url)\n",
        "coaches"
      ],
      "execution_count": null,
      "outputs": [
        {
          "output_type": "execute_result",
          "data": {
            "text/html": [
              "<div>\n",
              "<style scoped>\n",
              "    .dataframe tbody tr th:only-of-type {\n",
              "        vertical-align: middle;\n",
              "    }\n",
              "\n",
              "    .dataframe tbody tr th {\n",
              "        vertical-align: top;\n",
              "    }\n",
              "\n",
              "    .dataframe thead th {\n",
              "        text-align: right;\n",
              "    }\n",
              "</style>\n",
              "<table border=\"1\" class=\"dataframe\">\n",
              "  <thead>\n",
              "    <tr style=\"text-align: right;\">\n",
              "      <th></th>\n",
              "      <th>Name</th>\n",
              "      <th>NOC</th>\n",
              "      <th>Discipline</th>\n",
              "      <th>Event</th>\n",
              "    </tr>\n",
              "  </thead>\n",
              "  <tbody>\n",
              "    <tr>\n",
              "      <th>0</th>\n",
              "      <td>ABDELMAGID Wael</td>\n",
              "      <td>Egypt</td>\n",
              "      <td>Football</td>\n",
              "      <td>NaN</td>\n",
              "    </tr>\n",
              "    <tr>\n",
              "      <th>1</th>\n",
              "      <td>ABE Junya</td>\n",
              "      <td>Japan</td>\n",
              "      <td>Volleyball</td>\n",
              "      <td>NaN</td>\n",
              "    </tr>\n",
              "    <tr>\n",
              "      <th>2</th>\n",
              "      <td>ABE Katsuhiko</td>\n",
              "      <td>Japan</td>\n",
              "      <td>Basketball</td>\n",
              "      <td>NaN</td>\n",
              "    </tr>\n",
              "    <tr>\n",
              "      <th>3</th>\n",
              "      <td>ADAMA Cherif</td>\n",
              "      <td>Côte d'Ivoire</td>\n",
              "      <td>Football</td>\n",
              "      <td>NaN</td>\n",
              "    </tr>\n",
              "    <tr>\n",
              "      <th>4</th>\n",
              "      <td>AGEBA Yuya</td>\n",
              "      <td>Japan</td>\n",
              "      <td>Volleyball</td>\n",
              "      <td>NaN</td>\n",
              "    </tr>\n",
              "    <tr>\n",
              "      <th>...</th>\n",
              "      <td>...</td>\n",
              "      <td>...</td>\n",
              "      <td>...</td>\n",
              "      <td>...</td>\n",
              "    </tr>\n",
              "    <tr>\n",
              "      <th>389</th>\n",
              "      <td>ZAMORA PEDREIRA Javier</td>\n",
              "      <td>Spain</td>\n",
              "      <td>Basketball</td>\n",
              "      <td>NaN</td>\n",
              "    </tr>\n",
              "    <tr>\n",
              "      <th>390</th>\n",
              "      <td>ZAMPIERI Francesca</td>\n",
              "      <td>Liechtenstein</td>\n",
              "      <td>Artistic Swimming</td>\n",
              "      <td>Duet</td>\n",
              "    </tr>\n",
              "    <tr>\n",
              "      <th>391</th>\n",
              "      <td>ZHANG Xiaohuan</td>\n",
              "      <td>People's Republic of China</td>\n",
              "      <td>Artistic Swimming</td>\n",
              "      <td>NaN</td>\n",
              "    </tr>\n",
              "    <tr>\n",
              "      <th>392</th>\n",
              "      <td>ZIJP Simon</td>\n",
              "      <td>Netherlands</td>\n",
              "      <td>Hockey</td>\n",
              "      <td>NaN</td>\n",
              "    </tr>\n",
              "    <tr>\n",
              "      <th>393</th>\n",
              "      <td>ZONDI Nkuliso</td>\n",
              "      <td>South Africa</td>\n",
              "      <td>Hockey</td>\n",
              "      <td>Women</td>\n",
              "    </tr>\n",
              "  </tbody>\n",
              "</table>\n",
              "<p>394 rows × 4 columns</p>\n",
              "</div>"
            ],
            "text/plain": [
              "                       Name  ...  Event\n",
              "0           ABDELMAGID Wael  ...    NaN\n",
              "1                 ABE Junya  ...    NaN\n",
              "2             ABE Katsuhiko  ...    NaN\n",
              "3              ADAMA Cherif  ...    NaN\n",
              "4                AGEBA Yuya  ...    NaN\n",
              "..                      ...  ...    ...\n",
              "389  ZAMORA PEDREIRA Javier  ...    NaN\n",
              "390      ZAMPIERI Francesca  ...   Duet\n",
              "391          ZHANG Xiaohuan  ...    NaN\n",
              "392              ZIJP Simon  ...    NaN\n",
              "393           ZONDI Nkuliso  ...  Women\n",
              "\n",
              "[394 rows x 4 columns]"
            ]
          },
          "metadata": {},
          "execution_count": 9
        }
      ]
    },
    {
      "cell_type": "code",
      "metadata": {
        "id": "WtxyLbLXxk0V",
        "colab": {
          "base_uri": "https://localhost:8080/"
        },
        "outputId": "aa64551a-575b-47ba-e3b3-65f7aa81bdef"
      },
      "source": [
        "# visualizzare il numero di allenatori per ogni nazione. Ordinare in ordine decrescente a partire dalla nazione che ha più allenatori. \n",
        "\n",
        "df = coaches.groupby(\"NOC\", as_index = False).count()\n",
        "df[\"Name\"].sort_values(ascending = False)"
      ],
      "execution_count": null,
      "outputs": [
        {
          "output_type": "execute_result",
          "data": {
            "text/plain": [
              "30    35\n",
              "58    28\n",
              "53    28\n",
              "2     22\n",
              "9     16\n",
              "      ..\n",
              "5      1\n",
              "42     1\n",
              "12     1\n",
              "33     1\n",
              "0      1\n",
              "Name: Name, Length: 61, dtype: int64"
            ]
          },
          "metadata": {},
          "execution_count": 12
        }
      ]
    },
    {
      "cell_type": "code",
      "metadata": {
        "id": "2aongxfuzA61"
      },
      "source": [
        "# visualizzare il numero di allenatori per ogni  disciplina. Ordinare in ordine decrescente in base alla disciplina in cui ci sono più allenatori\n",
        "\n",
        "df = coaches.groupby(\"Discipline\").count()\n",
        "df[\"Name\"].sort_values(ascending = False)"
      ],
      "execution_count": null,
      "outputs": []
    },
    {
      "cell_type": "code",
      "metadata": {
        "id": "LXqV-usM0XOT"
      },
      "source": [
        "# visualizzare il nome della nazione che ha portato più allenatori\n",
        "\n",
        "max = df[\"Name\"].max()\n",
        "df.loc[df[\"Name\"] == max][\"Name\"]"
      ],
      "execution_count": null,
      "outputs": []
    },
    {
      "cell_type": "code",
      "metadata": {
        "id": "udPkB2p404GM"
      },
      "source": [
        "df = coaches.groupby(\"NOC\").count()\n",
        "df"
      ],
      "execution_count": null,
      "outputs": []
    },
    {
      "cell_type": "code",
      "metadata": {
        "id": "jMWwb9yF0uj0"
      },
      "source": [
        "# visualizzare il nome delle nazioni che hanno portato più allenatori rispetto alla media \n",
        "\n",
        "df = coaches.groupby('NOC').count()\n",
        "media = coaches.groupby('NOC').count().mean()['Name']\n",
        "df.loc[df[\"Name\"] >=media][\"Name\"]"
      ],
      "execution_count": null,
      "outputs": []
    },
    {
      "cell_type": "code",
      "metadata": {
        "id": "unEoZ-Pc3Cjs"
      },
      "source": [
        "# eliminare la colonna “Name”\n",
        "\n",
        "coaches = coaches.drop(columns = [\"Name\"])\n",
        "coaches"
      ],
      "execution_count": null,
      "outputs": []
    },
    {
      "cell_type": "code",
      "metadata": {
        "id": "T3mTO6x23bFM"
      },
      "source": [
        "# rinominare la colonna NOC in “Name”\n",
        "\n",
        "coaches.rename(columns={\"NOC\" : \"Name\"}, inplace = True)\n",
        "coaches"
      ],
      "execution_count": null,
      "outputs": []
    }
  ]
}