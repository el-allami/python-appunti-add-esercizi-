{
  "nbformat": 4,
  "nbformat_minor": 0,
  "metadata": {
    "colab": {
      "name": "Esercizio1PANDAS.ipynb",
      "provenance": [],
      "collapsed_sections": []
    },
    "kernelspec": {
      "name": "python3",
      "display_name": "Python 3"
    },
    "language_info": {
      "name": "python"
    }
  },
  "cells": [
    {
      "cell_type": "markdown",
      "metadata": {
        "id": "n7uBz3nYr_1g"
      },
      "source": [
        "a. Creare un dizionario avente come chiavi regione, capoluogo, superficie, presidente e abitanti e per ciascuna chiave, inserire come valore una lista del corrispettivo attributo per tre regioni del nord Italia."
      ]
    },
    {
      "cell_type": "code",
      "metadata": {
        "id": "KLQzsHK7r--6"
      },
      "source": [
        "diz = {'regione':['Lombardia', 'piemonte', 'Aosta'],\n",
        "       'capoluogo':['Milano', 'torino', 'aosta'],\n",
        "       'superficie':['23.844 km²', '25.387 km²', '21,37 km²'],\n",
        "       'presidente':['attilio fontana', 'Alberto Albo Cirio', 'Erik Lavévaz'],\n",
        "       'abitanti':['10,06 milioni (2019)', '4,356 milioni (2019)', '34.361 (2017)']}"
      ],
      "execution_count": null,
      "outputs": []
    },
    {
      "cell_type": "markdown",
      "metadata": {
        "id": "Bl-Z458asAmo"
      },
      "source": [
        "b. Assegnare ad una variabile chiamata nord_italia un dataframe basato sopra il dizionario precedentemente creato."
      ]
    },
    {
      "cell_type": "code",
      "metadata": {
        "colab": {
          "base_uri": "https://localhost:8080/",
          "height": 212
        },
        "id": "6LHMTlXer6GF",
        "outputId": "0039eec5-01a2-4441-a39c-10789e8a95a2"
      },
      "source": [
        "import pandas as pd\n",
        "\n",
        "\n",
        "nord_italia = pd.DataFrame(diz)\n",
        "nord_italia"
      ],
      "execution_count": null,
      "outputs": [
        {
          "output_type": "error",
          "ename": "NameError",
          "evalue": "ignored",
          "traceback": [
            "\u001b[0;31m---------------------------------------------------------------------------\u001b[0m",
            "\u001b[0;31mNameError\u001b[0m                                 Traceback (most recent call last)",
            "\u001b[0;32m<ipython-input-1-64fab4c0bbd3>\u001b[0m in \u001b[0;36m<module>\u001b[0;34m()\u001b[0m\n\u001b[1;32m      2\u001b[0m \u001b[0;34m\u001b[0m\u001b[0m\n\u001b[1;32m      3\u001b[0m \u001b[0;34m\u001b[0m\u001b[0m\n\u001b[0;32m----> 4\u001b[0;31m \u001b[0mnord_italia\u001b[0m \u001b[0;34m=\u001b[0m \u001b[0mpd\u001b[0m\u001b[0;34m.\u001b[0m\u001b[0mDataFrame\u001b[0m\u001b[0;34m(\u001b[0m\u001b[0mdiz\u001b[0m\u001b[0;34m)\u001b[0m\u001b[0;34m\u001b[0m\u001b[0;34m\u001b[0m\u001b[0m\n\u001b[0m\u001b[1;32m      5\u001b[0m \u001b[0mnord_italia\u001b[0m\u001b[0;34m\u001b[0m\u001b[0;34m\u001b[0m\u001b[0m\n",
            "\u001b[0;31mNameError\u001b[0m: name 'diz' is not defined"
          ]
        }
      ]
    },
    {
      "cell_type": "markdown",
      "metadata": {
        "id": "kF1cf0O6vjiR"
      },
      "source": [
        "c. Impostare regione come nuovo indice del dataframe. Visualizzare in fine il dataframe con il nuovo index."
      ]
    },
    {
      "cell_type": "code",
      "metadata": {
        "colab": {
          "base_uri": "https://localhost:8080/",
          "height": 142
        },
        "id": "3Fc4UCwHvm2Q",
        "outputId": "d1e87de2-6c42-411b-99c7-9c6054c1d9c2"
      },
      "source": [
        "nord_italia.sort_values('regione', ascending = False)\n"
      ],
      "execution_count": null,
      "outputs": [
        {
          "output_type": "execute_result",
          "data": {
            "text/html": [
              "<div>\n",
              "<style scoped>\n",
              "    .dataframe tbody tr th:only-of-type {\n",
              "        vertical-align: middle;\n",
              "    }\n",
              "\n",
              "    .dataframe tbody tr th {\n",
              "        vertical-align: top;\n",
              "    }\n",
              "\n",
              "    .dataframe thead th {\n",
              "        text-align: right;\n",
              "    }\n",
              "</style>\n",
              "<table border=\"1\" class=\"dataframe\">\n",
              "  <thead>\n",
              "    <tr style=\"text-align: right;\">\n",
              "      <th></th>\n",
              "      <th>regione</th>\n",
              "      <th>capoluogo</th>\n",
              "      <th>superficie</th>\n",
              "      <th>presidente</th>\n",
              "      <th>abitanti</th>\n",
              "    </tr>\n",
              "  </thead>\n",
              "  <tbody>\n",
              "    <tr>\n",
              "      <th>1</th>\n",
              "      <td>piemonte</td>\n",
              "      <td>torino</td>\n",
              "      <td>25.387 km²</td>\n",
              "      <td>Alberto Albo Cirio</td>\n",
              "      <td>4,356 milioni (2019)</td>\n",
              "    </tr>\n",
              "    <tr>\n",
              "      <th>0</th>\n",
              "      <td>Lombardia</td>\n",
              "      <td>Milano</td>\n",
              "      <td>23.844 km²</td>\n",
              "      <td>attilio fontana</td>\n",
              "      <td>10,06 milioni (2019)</td>\n",
              "    </tr>\n",
              "    <tr>\n",
              "      <th>2</th>\n",
              "      <td>Aosta</td>\n",
              "      <td>aosta</td>\n",
              "      <td>21,37 km²</td>\n",
              "      <td>Erik Lavévaz</td>\n",
              "      <td>34.361 (2017)</td>\n",
              "    </tr>\n",
              "  </tbody>\n",
              "</table>\n",
              "</div>"
            ],
            "text/plain": [
              "     regione capoluogo  superficie          presidente              abitanti\n",
              "1   piemonte    torino  25.387 km²  Alberto Albo Cirio  4,356 milioni (2019)\n",
              "0  Lombardia    Milano  23.844 km²     attilio fontana  10,06 milioni (2019)\n",
              "2      Aosta     aosta   21,37 km²        Erik Lavévaz         34.361 (2017)"
            ]
          },
          "metadata": {},
          "execution_count": 3
        }
      ]
    },
    {
      "cell_type": "code",
      "metadata": {
        "colab": {
          "base_uri": "https://localhost:8080/",
          "height": 142
        },
        "id": "OH4TwRwuwafP",
        "outputId": "3489facd-61ac-409b-b0b2-f9801cd90bd4"
      },
      "source": [
        "nord_italia.sort_values('regione')"
      ],
      "execution_count": null,
      "outputs": [
        {
          "output_type": "execute_result",
          "data": {
            "text/html": [
              "<div>\n",
              "<style scoped>\n",
              "    .dataframe tbody tr th:only-of-type {\n",
              "        vertical-align: middle;\n",
              "    }\n",
              "\n",
              "    .dataframe tbody tr th {\n",
              "        vertical-align: top;\n",
              "    }\n",
              "\n",
              "    .dataframe thead th {\n",
              "        text-align: right;\n",
              "    }\n",
              "</style>\n",
              "<table border=\"1\" class=\"dataframe\">\n",
              "  <thead>\n",
              "    <tr style=\"text-align: right;\">\n",
              "      <th></th>\n",
              "      <th>regione</th>\n",
              "      <th>capoluogo</th>\n",
              "      <th>superficie</th>\n",
              "      <th>presidente</th>\n",
              "      <th>abitanti</th>\n",
              "    </tr>\n",
              "  </thead>\n",
              "  <tbody>\n",
              "    <tr>\n",
              "      <th>2</th>\n",
              "      <td>Aosta</td>\n",
              "      <td>aosta</td>\n",
              "      <td>21,37 km²</td>\n",
              "      <td>Erik Lavévaz</td>\n",
              "      <td>34.361 (2017)</td>\n",
              "    </tr>\n",
              "    <tr>\n",
              "      <th>0</th>\n",
              "      <td>Lombardia</td>\n",
              "      <td>Milano</td>\n",
              "      <td>23.844 km²</td>\n",
              "      <td>attilio fontana</td>\n",
              "      <td>10,06 milioni (2019)</td>\n",
              "    </tr>\n",
              "    <tr>\n",
              "      <th>1</th>\n",
              "      <td>piemonte</td>\n",
              "      <td>torino</td>\n",
              "      <td>25.387 km²</td>\n",
              "      <td>Alberto Albo Cirio</td>\n",
              "      <td>4,356 milioni (2019)</td>\n",
              "    </tr>\n",
              "  </tbody>\n",
              "</table>\n",
              "</div>"
            ],
            "text/plain": [
              "     regione capoluogo  superficie          presidente              abitanti\n",
              "2      Aosta     aosta   21,37 km²        Erik Lavévaz         34.361 (2017)\n",
              "0  Lombardia    Milano  23.844 km²     attilio fontana  10,06 milioni (2019)\n",
              "1   piemonte    torino  25.387 km²  Alberto Albo Cirio  4,356 milioni (2019)"
            ]
          },
          "metadata": {},
          "execution_count": 4
        }
      ]
    },
    {
      "cell_type": "markdown",
      "metadata": {
        "id": "_00yyu8WwNZ4"
      },
      "source": [
        "d. Utilizzando il dataframe appena creato visualizzare solo i capoluoghi."
      ]
    },
    {
      "cell_type": "code",
      "metadata": {
        "colab": {
          "base_uri": "https://localhost:8080/"
        },
        "id": "MbxDbKFSwej_",
        "outputId": "9fdebd92-d9c6-465f-b62a-c34b56e51a3d"
      },
      "source": [
        "nord_italia['capoluogo']"
      ],
      "execution_count": null,
      "outputs": [
        {
          "output_type": "execute_result",
          "data": {
            "text/plain": [
              "0    Milano\n",
              "1    torino\n",
              "2     aosta\n",
              "Name: capoluogo, dtype: object"
            ]
          },
          "metadata": {},
          "execution_count": 5
        }
      ]
    },
    {
      "cell_type": "markdown",
      "metadata": {
        "id": "4wXReo3uw06f"
      },
      "source": [
        "e. Visualizzare una lista delle colonne del dataframe."
      ]
    },
    {
      "cell_type": "code",
      "metadata": {
        "colab": {
          "base_uri": "https://localhost:8080/"
        },
        "id": "UXE6KWz5w5-Z",
        "outputId": "52a7c44f-e68e-4450-92f3-93cd243a7d5c"
      },
      "source": [
        "nord_italia.columns    ##### per vedere la lista di colonne"
      ],
      "execution_count": null,
      "outputs": [
        {
          "output_type": "execute_result",
          "data": {
            "text/plain": [
              "Index(['regione', 'capoluogo', 'superficie', 'presidente', 'abitanti'], dtype='object')"
            ]
          },
          "metadata": {},
          "execution_count": 6
        }
      ]
    },
    {
      "cell_type": "markdown",
      "metadata": {
        "id": "Cpx0kPHnxVvh"
      },
      "source": [
        "f. Visualizzare l'insieme degli indici."
      ]
    },
    {
      "cell_type": "code",
      "metadata": {
        "colab": {
          "base_uri": "https://localhost:8080/"
        },
        "id": "veydGwtfxX34",
        "outputId": "c67a0896-5c8d-40b8-eb18-87d7e40899c6"
      },
      "source": [
        "nord_italia.index"
      ],
      "execution_count": null,
      "outputs": [
        {
          "output_type": "execute_result",
          "data": {
            "text/plain": [
              "RangeIndex(start=0, stop=3, step=1)"
            ]
          },
          "metadata": {},
          "execution_count": 7
        }
      ]
    },
    {
      "cell_type": "markdown",
      "metadata": {
        "id": "GRW3wBrEybEQ"
      },
      "source": [
        "--------------------------------------------------------------------------------------"
      ]
    },
    {
      "cell_type": "code",
      "metadata": {
        "colab": {
          "base_uri": "https://localhost:8080/",
          "height": 326
        },
        "id": "hgHMeEoRydzZ",
        "outputId": "3c9c50a3-b5bb-4e52-c334-2d45bc538165"
      },
      "source": [
        "url = 'https://raw.githubusercontent.com/italia/covid19-opendata-vaccini/master/dati/anagrafica-vaccini-summary-latest.csv'\n",
        "\n",
        "dataF = pd.read_csv(url)\n",
        "dataF"
      ],
      "execution_count": null,
      "outputs": [
        {
          "output_type": "execute_result",
          "data": {
            "text/html": [
              "<div>\n",
              "<style scoped>\n",
              "    .dataframe tbody tr th:only-of-type {\n",
              "        vertical-align: middle;\n",
              "    }\n",
              "\n",
              "    .dataframe tbody tr th {\n",
              "        vertical-align: top;\n",
              "    }\n",
              "\n",
              "    .dataframe thead th {\n",
              "        text-align: right;\n",
              "    }\n",
              "</style>\n",
              "<table border=\"1\" class=\"dataframe\">\n",
              "  <thead>\n",
              "    <tr style=\"text-align: right;\">\n",
              "      <th></th>\n",
              "      <th>fascia_anagrafica</th>\n",
              "      <th>totale</th>\n",
              "      <th>sesso_maschile</th>\n",
              "      <th>sesso_femminile</th>\n",
              "      <th>prima_dose</th>\n",
              "      <th>seconda_dose</th>\n",
              "      <th>pregressa_infezione</th>\n",
              "      <th>dose_aggiuntiva</th>\n",
              "      <th>dose_booster</th>\n",
              "      <th>ultimo_aggiornamento</th>\n",
              "    </tr>\n",
              "  </thead>\n",
              "  <tbody>\n",
              "    <tr>\n",
              "      <th>0</th>\n",
              "      <td>12-19</td>\n",
              "      <td>6281722</td>\n",
              "      <td>3216579</td>\n",
              "      <td>3065143</td>\n",
              "      <td>3227773</td>\n",
              "      <td>2948513</td>\n",
              "      <td>104410</td>\n",
              "      <td>759</td>\n",
              "      <td>267</td>\n",
              "      <td>2021-10-29</td>\n",
              "    </tr>\n",
              "    <tr>\n",
              "      <th>1</th>\n",
              "      <td>20-29</td>\n",
              "      <td>9918181</td>\n",
              "      <td>5186728</td>\n",
              "      <td>4731453</td>\n",
              "      <td>5081398</td>\n",
              "      <td>4604886</td>\n",
              "      <td>198847</td>\n",
              "      <td>4202</td>\n",
              "      <td>28848</td>\n",
              "      <td>2021-10-29</td>\n",
              "    </tr>\n",
              "    <tr>\n",
              "      <th>2</th>\n",
              "      <td>30-39</td>\n",
              "      <td>10590345</td>\n",
              "      <td>5438383</td>\n",
              "      <td>5151962</td>\n",
              "      <td>5422484</td>\n",
              "      <td>4909829</td>\n",
              "      <td>205621</td>\n",
              "      <td>8010</td>\n",
              "      <td>44401</td>\n",
              "      <td>2021-10-29</td>\n",
              "    </tr>\n",
              "    <tr>\n",
              "      <th>3</th>\n",
              "      <td>40-49</td>\n",
              "      <td>13796802</td>\n",
              "      <td>6847578</td>\n",
              "      <td>6949224</td>\n",
              "      <td>6997947</td>\n",
              "      <td>6437560</td>\n",
              "      <td>284619</td>\n",
              "      <td>19540</td>\n",
              "      <td>57136</td>\n",
              "      <td>2021-10-29</td>\n",
              "    </tr>\n",
              "    <tr>\n",
              "      <th>4</th>\n",
              "      <td>50-59</td>\n",
              "      <td>15852115</td>\n",
              "      <td>7777128</td>\n",
              "      <td>8074987</td>\n",
              "      <td>8029283</td>\n",
              "      <td>7352690</td>\n",
              "      <td>347138</td>\n",
              "      <td>41817</td>\n",
              "      <td>81187</td>\n",
              "      <td>2021-10-29</td>\n",
              "    </tr>\n",
              "    <tr>\n",
              "      <th>5</th>\n",
              "      <td>60-69</td>\n",
              "      <td>12901833</td>\n",
              "      <td>6261610</td>\n",
              "      <td>6640223</td>\n",
              "      <td>6540395</td>\n",
              "      <td>5954838</td>\n",
              "      <td>241290</td>\n",
              "      <td>61139</td>\n",
              "      <td>104171</td>\n",
              "      <td>2021-10-29</td>\n",
              "    </tr>\n",
              "    <tr>\n",
              "      <th>6</th>\n",
              "      <td>70-79</td>\n",
              "      <td>10861693</td>\n",
              "      <td>5103413</td>\n",
              "      <td>5758280</td>\n",
              "      <td>5395433</td>\n",
              "      <td>5162015</td>\n",
              "      <td>165687</td>\n",
              "      <td>66389</td>\n",
              "      <td>72169</td>\n",
              "      <td>2021-10-29</td>\n",
              "    </tr>\n",
              "    <tr>\n",
              "      <th>7</th>\n",
              "      <td>80-89</td>\n",
              "      <td>7613920</td>\n",
              "      <td>3180990</td>\n",
              "      <td>4432930</td>\n",
              "      <td>3452848</td>\n",
              "      <td>3389955</td>\n",
              "      <td>77931</td>\n",
              "      <td>38730</td>\n",
              "      <td>654456</td>\n",
              "      <td>2021-10-29</td>\n",
              "    </tr>\n",
              "    <tr>\n",
              "      <th>8</th>\n",
              "      <td>90+</td>\n",
              "      <td>1735799</td>\n",
              "      <td>519421</td>\n",
              "      <td>1216378</td>\n",
              "      <td>797509</td>\n",
              "      <td>768953</td>\n",
              "      <td>19078</td>\n",
              "      <td>6514</td>\n",
              "      <td>143745</td>\n",
              "      <td>2021-10-29</td>\n",
              "    </tr>\n",
              "  </tbody>\n",
              "</table>\n",
              "</div>"
            ],
            "text/plain": [
              "  fascia_anagrafica    totale  ...  dose_booster  ultimo_aggiornamento\n",
              "0             12-19   6281722  ...           267            2021-10-29\n",
              "1             20-29   9918181  ...         28848            2021-10-29\n",
              "2             30-39  10590345  ...         44401            2021-10-29\n",
              "3             40-49  13796802  ...         57136            2021-10-29\n",
              "4             50-59  15852115  ...         81187            2021-10-29\n",
              "5             60-69  12901833  ...        104171            2021-10-29\n",
              "6             70-79  10861693  ...         72169            2021-10-29\n",
              "7             80-89   7613920  ...        654456            2021-10-29\n",
              "8               90+   1735799  ...        143745            2021-10-29\n",
              "\n",
              "[9 rows x 10 columns]"
            ]
          },
          "metadata": {},
          "execution_count": 9
        }
      ]
    },
    {
      "cell_type": "markdown",
      "metadata": {
        "id": "kdHPhDrnzDFf"
      },
      "source": [
        "visualizzare il numero di vaccinati nella fascia 12-19"
      ]
    },
    {
      "cell_type": "code",
      "metadata": {
        "colab": {
          "base_uri": "https://localhost:8080/"
        },
        "id": "c7baQ_2bzKuw",
        "outputId": "8c5cbc00-7ad3-413e-aa06-3c945732864d"
      },
      "source": [
        "dataF.loc[dataF['fascia_anagrafica'] == '12-19', 'totale']  "
      ],
      "execution_count": null,
      "outputs": [
        {
          "output_type": "execute_result",
          "data": {
            "text/plain": [
              "0    6268693\n",
              "Name: totale, dtype: int64"
            ]
          },
          "metadata": {},
          "execution_count": 9
        }
      ]
    },
    {
      "cell_type": "markdown",
      "metadata": {
        "id": "AuvlvQYHz4YR"
      },
      "source": [
        "visualizzare il numero di vaccinati maschi e femmine "
      ]
    },
    {
      "cell_type": "code",
      "metadata": {
        "colab": {
          "base_uri": "https://localhost:8080/",
          "height": 80
        },
        "id": "q3tOpY9vz3Dv",
        "outputId": "a65ab87a-e2f4-402c-aa0b-bfddd430addb"
      },
      "source": [
        "dataF.loc[dataF['fascia_anagrafica'] == '12-19', ['sesso_maschile', 'sesso_femminile']] "
      ],
      "execution_count": null,
      "outputs": [
        {
          "output_type": "execute_result",
          "data": {
            "text/html": [
              "<div>\n",
              "<style scoped>\n",
              "    .dataframe tbody tr th:only-of-type {\n",
              "        vertical-align: middle;\n",
              "    }\n",
              "\n",
              "    .dataframe tbody tr th {\n",
              "        vertical-align: top;\n",
              "    }\n",
              "\n",
              "    .dataframe thead th {\n",
              "        text-align: right;\n",
              "    }\n",
              "</style>\n",
              "<table border=\"1\" class=\"dataframe\">\n",
              "  <thead>\n",
              "    <tr style=\"text-align: right;\">\n",
              "      <th></th>\n",
              "      <th>sesso_maschile</th>\n",
              "      <th>sesso_femminile</th>\n",
              "    </tr>\n",
              "  </thead>\n",
              "  <tbody>\n",
              "    <tr>\n",
              "      <th>0</th>\n",
              "      <td>3209454</td>\n",
              "      <td>3059239</td>\n",
              "    </tr>\n",
              "  </tbody>\n",
              "</table>\n",
              "</div>"
            ],
            "text/plain": [
              "   sesso_maschile  sesso_femminile\n",
              "0         3209454          3059239"
            ]
          },
          "metadata": {},
          "execution_count": 10
        }
      ]
    },
    {
      "cell_type": "markdown",
      "metadata": {
        "id": "uT7amEsP0R4o"
      },
      "source": [
        "fasce di eta con piu di 10 millioni di vaccinazioni"
      ]
    },
    {
      "cell_type": "code",
      "metadata": {
        "colab": {
          "base_uri": "https://localhost:8080/"
        },
        "id": "S1ZcV_Le0VjQ",
        "outputId": "09cba6b4-83ea-415e-ce0b-43c380b7cf89"
      },
      "source": [
        "dataF.loc[dataF['totale'] >= 10000000, 'fascia_anagrafica']"
      ],
      "execution_count": null,
      "outputs": [
        {
          "output_type": "execute_result",
          "data": {
            "text/plain": [
              "2    30-39\n",
              "3    40-49\n",
              "4    50-59\n",
              "5    60-69\n",
              "6    70-79\n",
              "Name: fascia_anagrafica, dtype: object"
            ]
          },
          "metadata": {},
          "execution_count": 11
        }
      ]
    },
    {
      "cell_type": "markdown",
      "metadata": {
        "id": "dRzqUmT40uNH"
      },
      "source": [
        "fasce di eta in cuo sono stati vaccinato tra i 10 e 20 millioni "
      ]
    },
    {
      "cell_type": "code",
      "metadata": {
        "colab": {
          "base_uri": "https://localhost:8080/"
        },
        "id": "_7PM5o4Q02An",
        "outputId": "176c2797-c0f4-4ba1-800b-44175823ced7"
      },
      "source": [
        "dataF.loc[(dataF['totale'] > 10000000) & (dataF['totale'] < 20000000), 'fascia_anagrafica']"
      ],
      "execution_count": null,
      "outputs": [
        {
          "output_type": "execute_result",
          "data": {
            "text/plain": [
              "2    30-39\n",
              "3    40-49\n",
              "4    50-59\n",
              "5    60-69\n",
              "6    70-79\n",
              "Name: fascia_anagrafica, dtype: object"
            ]
          },
          "metadata": {},
          "execution_count": 12
        }
      ]
    },
    {
      "cell_type": "markdown",
      "metadata": {
        "id": "-72nqpGlK8AC"
      },
      "source": [
        "aggiungere una colonna percentuale sesso maschile dove inserire la percentuale i maschi vaccinati su totale"
      ]
    },
    {
      "cell_type": "code",
      "metadata": {
        "colab": {
          "base_uri": "https://localhost:8080/",
          "height": 328
        },
        "id": "9R_MuGfWMisH",
        "outputId": "61cc28cc-8e3b-4c05-b836-c2a2649cbddf"
      },
      "source": [
        "dataF['%_sesso_maschile'] = round((dataF['sesso_maschile'] * 100) / dataF['totale'], 2)\n",
        "dataF"
      ],
      "execution_count": null,
      "outputs": [
        {
          "output_type": "execute_result",
          "data": {
            "text/html": [
              "<div>\n",
              "<style scoped>\n",
              "    .dataframe tbody tr th:only-of-type {\n",
              "        vertical-align: middle;\n",
              "    }\n",
              "\n",
              "    .dataframe tbody tr th {\n",
              "        vertical-align: top;\n",
              "    }\n",
              "\n",
              "    .dataframe thead th {\n",
              "        text-align: right;\n",
              "    }\n",
              "</style>\n",
              "<table border=\"1\" class=\"dataframe\">\n",
              "  <thead>\n",
              "    <tr style=\"text-align: right;\">\n",
              "      <th></th>\n",
              "      <th>fascia_anagrafica</th>\n",
              "      <th>totale</th>\n",
              "      <th>sesso_maschile</th>\n",
              "      <th>sesso_femminile</th>\n",
              "      <th>prima_dose</th>\n",
              "      <th>seconda_dose</th>\n",
              "      <th>pregressa_infezione</th>\n",
              "      <th>dose_aggiuntiva</th>\n",
              "      <th>dose_booster</th>\n",
              "      <th>ultimo_aggiornamento</th>\n",
              "      <th>percentuale</th>\n",
              "      <th>%_sesso_maschile</th>\n",
              "      <th>%_sesso_femminile</th>\n",
              "    </tr>\n",
              "  </thead>\n",
              "  <tbody>\n",
              "    <tr>\n",
              "      <th>0</th>\n",
              "      <td>12-19</td>\n",
              "      <td>6268693</td>\n",
              "      <td>3209454</td>\n",
              "      <td>3059239</td>\n",
              "      <td>3223185</td>\n",
              "      <td>2940568</td>\n",
              "      <td>103985</td>\n",
              "      <td>726</td>\n",
              "      <td>229</td>\n",
              "      <td>2021-10-28</td>\n",
              "      <td>51.198137</td>\n",
              "      <td>51.20</td>\n",
              "      <td>48.80</td>\n",
              "    </tr>\n",
              "    <tr>\n",
              "      <th>1</th>\n",
              "      <td>20-29</td>\n",
              "      <td>9891343</td>\n",
              "      <td>5171718</td>\n",
              "      <td>4719625</td>\n",
              "      <td>5075497</td>\n",
              "      <td>4587980</td>\n",
              "      <td>198307</td>\n",
              "      <td>3952</td>\n",
              "      <td>25607</td>\n",
              "      <td>2021-10-28</td>\n",
              "      <td>52.285296</td>\n",
              "      <td>52.29</td>\n",
              "      <td>47.71</td>\n",
              "    </tr>\n",
              "    <tr>\n",
              "      <th>2</th>\n",
              "      <td>30-39</td>\n",
              "      <td>10555697</td>\n",
              "      <td>5420477</td>\n",
              "      <td>5135220</td>\n",
              "      <td>5415036</td>\n",
              "      <td>4888959</td>\n",
              "      <td>205108</td>\n",
              "      <td>7605</td>\n",
              "      <td>38989</td>\n",
              "      <td>2021-10-28</td>\n",
              "      <td>51.351199</td>\n",
              "      <td>51.35</td>\n",
              "      <td>48.65</td>\n",
              "    </tr>\n",
              "    <tr>\n",
              "      <th>3</th>\n",
              "      <td>40-49</td>\n",
              "      <td>13761536</td>\n",
              "      <td>6829397</td>\n",
              "      <td>6932139</td>\n",
              "      <td>6991305</td>\n",
              "      <td>6417692</td>\n",
              "      <td>283878</td>\n",
              "      <td>18727</td>\n",
              "      <td>49934</td>\n",
              "      <td>2021-10-28</td>\n",
              "      <td>49.626706</td>\n",
              "      <td>49.63</td>\n",
              "      <td>50.37</td>\n",
              "    </tr>\n",
              "    <tr>\n",
              "      <th>4</th>\n",
              "      <td>50-59</td>\n",
              "      <td>15818591</td>\n",
              "      <td>7760613</td>\n",
              "      <td>8057978</td>\n",
              "      <td>8023900</td>\n",
              "      <td>7337139</td>\n",
              "      <td>346607</td>\n",
              "      <td>39896</td>\n",
              "      <td>71049</td>\n",
              "      <td>2021-10-28</td>\n",
              "      <td>49.060077</td>\n",
              "      <td>49.06</td>\n",
              "      <td>50.94</td>\n",
              "    </tr>\n",
              "    <tr>\n",
              "      <th>5</th>\n",
              "      <td>60-69</td>\n",
              "      <td>12875027</td>\n",
              "      <td>6247299</td>\n",
              "      <td>6627728</td>\n",
              "      <td>6537683</td>\n",
              "      <td>5948012</td>\n",
              "      <td>241212</td>\n",
              "      <td>57677</td>\n",
              "      <td>90443</td>\n",
              "      <td>2021-10-28</td>\n",
              "      <td>48.522609</td>\n",
              "      <td>48.52</td>\n",
              "      <td>51.48</td>\n",
              "    </tr>\n",
              "    <tr>\n",
              "      <th>6</th>\n",
              "      <td>70-79</td>\n",
              "      <td>10840433</td>\n",
              "      <td>5091827</td>\n",
              "      <td>5748606</td>\n",
              "      <td>5393839</td>\n",
              "      <td>5158247</td>\n",
              "      <td>165987</td>\n",
              "      <td>61817</td>\n",
              "      <td>60543</td>\n",
              "      <td>2021-10-28</td>\n",
              "      <td>46.970698</td>\n",
              "      <td>46.97</td>\n",
              "      <td>53.03</td>\n",
              "    </tr>\n",
              "    <tr>\n",
              "      <th>7</th>\n",
              "      <td>80-89</td>\n",
              "      <td>7541357</td>\n",
              "      <td>3148258</td>\n",
              "      <td>4393099</td>\n",
              "      <td>3451789</td>\n",
              "      <td>3388016</td>\n",
              "      <td>78350</td>\n",
              "      <td>36395</td>\n",
              "      <td>586807</td>\n",
              "      <td>2021-10-28</td>\n",
              "      <td>41.746572</td>\n",
              "      <td>41.75</td>\n",
              "      <td>58.25</td>\n",
              "    </tr>\n",
              "    <tr>\n",
              "      <th>8</th>\n",
              "      <td>90+</td>\n",
              "      <td>1721375</td>\n",
              "      <td>514973</td>\n",
              "      <td>1206402</td>\n",
              "      <td>797161</td>\n",
              "      <td>768344</td>\n",
              "      <td>19234</td>\n",
              "      <td>6096</td>\n",
              "      <td>130540</td>\n",
              "      <td>2021-10-28</td>\n",
              "      <td>29.916375</td>\n",
              "      <td>29.92</td>\n",
              "      <td>70.08</td>\n",
              "    </tr>\n",
              "  </tbody>\n",
              "</table>\n",
              "</div>"
            ],
            "text/plain": [
              "  fascia_anagrafica    totale  ...  %_sesso_maschile  %_sesso_femminile\n",
              "0             12-19   6268693  ...             51.20              48.80\n",
              "1             20-29   9891343  ...             52.29              47.71\n",
              "2             30-39  10555697  ...             51.35              48.65\n",
              "3             40-49  13761536  ...             49.63              50.37\n",
              "4             50-59  15818591  ...             49.06              50.94\n",
              "5             60-69  12875027  ...             48.52              51.48\n",
              "6             70-79  10840433  ...             46.97              53.03\n",
              "7             80-89   7541357  ...             41.75              58.25\n",
              "8               90+   1721375  ...             29.92              70.08\n",
              "\n",
              "[9 rows x 13 columns]"
            ]
          },
          "metadata": {},
          "execution_count": 21
        }
      ]
    },
    {
      "cell_type": "markdown",
      "metadata": {
        "id": "QRSkr9QFLHGZ"
      },
      "source": [
        "fare la stessa cosa per le femmine"
      ]
    },
    {
      "cell_type": "code",
      "metadata": {
        "colab": {
          "base_uri": "https://localhost:8080/",
          "height": 328
        },
        "id": "hjBRIgflOdQZ",
        "outputId": "dd83cb9f-ecb2-4429-ed28-e38c50dfb320"
      },
      "source": [
        "dataF['%_sesso_femminile'] = round((dataF['sesso_femminile'] * 100) / dataF['totale'],2)\n",
        "dataF"
      ],
      "execution_count": null,
      "outputs": [
        {
          "output_type": "execute_result",
          "data": {
            "text/html": [
              "<div>\n",
              "<style scoped>\n",
              "    .dataframe tbody tr th:only-of-type {\n",
              "        vertical-align: middle;\n",
              "    }\n",
              "\n",
              "    .dataframe tbody tr th {\n",
              "        vertical-align: top;\n",
              "    }\n",
              "\n",
              "    .dataframe thead th {\n",
              "        text-align: right;\n",
              "    }\n",
              "</style>\n",
              "<table border=\"1\" class=\"dataframe\">\n",
              "  <thead>\n",
              "    <tr style=\"text-align: right;\">\n",
              "      <th></th>\n",
              "      <th>fascia_anagrafica</th>\n",
              "      <th>totale</th>\n",
              "      <th>sesso_maschile</th>\n",
              "      <th>sesso_femminile</th>\n",
              "      <th>prima_dose</th>\n",
              "      <th>seconda_dose</th>\n",
              "      <th>pregressa_infezione</th>\n",
              "      <th>dose_aggiuntiva</th>\n",
              "      <th>dose_booster</th>\n",
              "      <th>ultimo_aggiornamento</th>\n",
              "      <th>percentuale</th>\n",
              "      <th>%_sesso_maschile</th>\n",
              "      <th>%_sesso_femminile</th>\n",
              "    </tr>\n",
              "  </thead>\n",
              "  <tbody>\n",
              "    <tr>\n",
              "      <th>0</th>\n",
              "      <td>12-19</td>\n",
              "      <td>6268693</td>\n",
              "      <td>3209454</td>\n",
              "      <td>3059239</td>\n",
              "      <td>3223185</td>\n",
              "      <td>2940568</td>\n",
              "      <td>103985</td>\n",
              "      <td>726</td>\n",
              "      <td>229</td>\n",
              "      <td>2021-10-28</td>\n",
              "      <td>51.198137</td>\n",
              "      <td>51.20</td>\n",
              "      <td>48.80</td>\n",
              "    </tr>\n",
              "    <tr>\n",
              "      <th>1</th>\n",
              "      <td>20-29</td>\n",
              "      <td>9891343</td>\n",
              "      <td>5171718</td>\n",
              "      <td>4719625</td>\n",
              "      <td>5075497</td>\n",
              "      <td>4587980</td>\n",
              "      <td>198307</td>\n",
              "      <td>3952</td>\n",
              "      <td>25607</td>\n",
              "      <td>2021-10-28</td>\n",
              "      <td>52.285296</td>\n",
              "      <td>52.29</td>\n",
              "      <td>47.71</td>\n",
              "    </tr>\n",
              "    <tr>\n",
              "      <th>2</th>\n",
              "      <td>30-39</td>\n",
              "      <td>10555697</td>\n",
              "      <td>5420477</td>\n",
              "      <td>5135220</td>\n",
              "      <td>5415036</td>\n",
              "      <td>4888959</td>\n",
              "      <td>205108</td>\n",
              "      <td>7605</td>\n",
              "      <td>38989</td>\n",
              "      <td>2021-10-28</td>\n",
              "      <td>51.351199</td>\n",
              "      <td>51.35</td>\n",
              "      <td>48.65</td>\n",
              "    </tr>\n",
              "    <tr>\n",
              "      <th>3</th>\n",
              "      <td>40-49</td>\n",
              "      <td>13761536</td>\n",
              "      <td>6829397</td>\n",
              "      <td>6932139</td>\n",
              "      <td>6991305</td>\n",
              "      <td>6417692</td>\n",
              "      <td>283878</td>\n",
              "      <td>18727</td>\n",
              "      <td>49934</td>\n",
              "      <td>2021-10-28</td>\n",
              "      <td>49.626706</td>\n",
              "      <td>49.63</td>\n",
              "      <td>50.37</td>\n",
              "    </tr>\n",
              "    <tr>\n",
              "      <th>4</th>\n",
              "      <td>50-59</td>\n",
              "      <td>15818591</td>\n",
              "      <td>7760613</td>\n",
              "      <td>8057978</td>\n",
              "      <td>8023900</td>\n",
              "      <td>7337139</td>\n",
              "      <td>346607</td>\n",
              "      <td>39896</td>\n",
              "      <td>71049</td>\n",
              "      <td>2021-10-28</td>\n",
              "      <td>49.060077</td>\n",
              "      <td>49.06</td>\n",
              "      <td>50.94</td>\n",
              "    </tr>\n",
              "    <tr>\n",
              "      <th>5</th>\n",
              "      <td>60-69</td>\n",
              "      <td>12875027</td>\n",
              "      <td>6247299</td>\n",
              "      <td>6627728</td>\n",
              "      <td>6537683</td>\n",
              "      <td>5948012</td>\n",
              "      <td>241212</td>\n",
              "      <td>57677</td>\n",
              "      <td>90443</td>\n",
              "      <td>2021-10-28</td>\n",
              "      <td>48.522609</td>\n",
              "      <td>48.52</td>\n",
              "      <td>51.48</td>\n",
              "    </tr>\n",
              "    <tr>\n",
              "      <th>6</th>\n",
              "      <td>70-79</td>\n",
              "      <td>10840433</td>\n",
              "      <td>5091827</td>\n",
              "      <td>5748606</td>\n",
              "      <td>5393839</td>\n",
              "      <td>5158247</td>\n",
              "      <td>165987</td>\n",
              "      <td>61817</td>\n",
              "      <td>60543</td>\n",
              "      <td>2021-10-28</td>\n",
              "      <td>46.970698</td>\n",
              "      <td>46.97</td>\n",
              "      <td>53.03</td>\n",
              "    </tr>\n",
              "    <tr>\n",
              "      <th>7</th>\n",
              "      <td>80-89</td>\n",
              "      <td>7541357</td>\n",
              "      <td>3148258</td>\n",
              "      <td>4393099</td>\n",
              "      <td>3451789</td>\n",
              "      <td>3388016</td>\n",
              "      <td>78350</td>\n",
              "      <td>36395</td>\n",
              "      <td>586807</td>\n",
              "      <td>2021-10-28</td>\n",
              "      <td>41.746572</td>\n",
              "      <td>41.75</td>\n",
              "      <td>58.25</td>\n",
              "    </tr>\n",
              "    <tr>\n",
              "      <th>8</th>\n",
              "      <td>90+</td>\n",
              "      <td>1721375</td>\n",
              "      <td>514973</td>\n",
              "      <td>1206402</td>\n",
              "      <td>797161</td>\n",
              "      <td>768344</td>\n",
              "      <td>19234</td>\n",
              "      <td>6096</td>\n",
              "      <td>130540</td>\n",
              "      <td>2021-10-28</td>\n",
              "      <td>29.916375</td>\n",
              "      <td>29.92</td>\n",
              "      <td>70.08</td>\n",
              "    </tr>\n",
              "  </tbody>\n",
              "</table>\n",
              "</div>"
            ],
            "text/plain": [
              "  fascia_anagrafica    totale  ...  %_sesso_maschile  %_sesso_femminile\n",
              "0             12-19   6268693  ...             51.20              48.80\n",
              "1             20-29   9891343  ...             52.29              47.71\n",
              "2             30-39  10555697  ...             51.35              48.65\n",
              "3             40-49  13761536  ...             49.63              50.37\n",
              "4             50-59  15818591  ...             49.06              50.94\n",
              "5             60-69  12875027  ...             48.52              51.48\n",
              "6             70-79  10840433  ...             46.97              53.03\n",
              "7             80-89   7541357  ...             41.75              58.25\n",
              "8               90+   1721375  ...             29.92              70.08\n",
              "\n",
              "[9 rows x 13 columns]"
            ]
          },
          "metadata": {},
          "execution_count": 20
        }
      ]
    },
    {
      "cell_type": "markdown",
      "metadata": {
        "id": "cA_l258jLMsh"
      },
      "source": [
        "visualizzare le fasce di eta in cui la percentuale di maschi vaccinati e maggiore delle femmine vaccinate"
      ]
    },
    {
      "cell_type": "code",
      "metadata": {
        "colab": {
          "base_uri": "https://localhost:8080/"
        },
        "id": "TAIfpDBFOm6x",
        "outputId": "57daa26b-39a1-4f61-cf49-ea986625f21d"
      },
      "source": [
        "dataF.loc[dataF['%_sesso_maschile'] > dataF['%_sesso_femminile'], 'fascia_anagrafica']"
      ],
      "execution_count": null,
      "outputs": [
        {
          "output_type": "execute_result",
          "data": {
            "text/plain": [
              "0    12-19\n",
              "1    20-29\n",
              "2    30-39\n",
              "Name: fascia_anagrafica, dtype: object"
            ]
          },
          "metadata": {},
          "execution_count": 24
        }
      ]
    },
    {
      "cell_type": "markdown",
      "metadata": {
        "id": "y8CtCAReLbzB"
      },
      "source": [
        "visualizzare le fasce di eta dove la dose aggiuntiva e minore della dose buster"
      ]
    },
    {
      "cell_type": "code",
      "metadata": {
        "colab": {
          "base_uri": "https://localhost:8080/"
        },
        "id": "fi_qni8dR6GA",
        "outputId": "3aa3be4f-ecf3-46c7-93a5-c8b5dfcf5084"
      },
      "source": [
        "dataF.loc[dataF['dose_aggiuntiva'] < dataF['dose_booster'], 'fascia_anagrafica']"
      ],
      "execution_count": null,
      "outputs": [
        {
          "output_type": "execute_result",
          "data": {
            "text/plain": [
              "1    20-29\n",
              "2    30-39\n",
              "3    40-49\n",
              "4    50-59\n",
              "5    60-69\n",
              "7    80-89\n",
              "8      90+\n",
              "Name: fascia_anagrafica, dtype: object"
            ]
          },
          "metadata": {},
          "execution_count": 25
        }
      ]
    },
    {
      "cell_type": "markdown",
      "metadata": {
        "id": "cYo1IlJELkRi"
      },
      "source": [
        "sostitutuire al valore 90+ il valore 90 - 120"
      ]
    },
    {
      "cell_type": "code",
      "metadata": {
        "id": "e93aiei2SQaR",
        "colab": {
          "base_uri": "https://localhost:8080/"
        },
        "outputId": "28bc3023-14b8-4e20-bf2e-10c4eae313eb"
      },
      "source": [
        "dataF['fascia_anagrafica'].replace(['90+'], '90-120')\n",
        "\n",
        "\n",
        "         ######     per sostituire un valore\n",
        "\n",
        "# df[column_name].replace([old_value1, old_value2, old_value3], new_value)   -----> Sostituisci più valori con lo stesso valore\n",
        "\n",
        "# df[column_name].replace([old_value1, old_value2, old_value3],[new_value1, new_value2, new_value3])   ------> Sostituisci più valori con più valori\n",
        "\n",
        "# df.replace([old_value], new_value)     ------->   Sostituisci un valore con un nuovo valore per l’intero DataFrame"
      ],
      "execution_count": null,
      "outputs": [
        {
          "output_type": "execute_result",
          "data": {
            "text/plain": [
              "0     12-19\n",
              "1     20-29\n",
              "2     30-39\n",
              "3     40-49\n",
              "4     50-59\n",
              "5     60-69\n",
              "6     70-79\n",
              "7     80-89\n",
              "8    90-120\n",
              "Name: fascia_anagrafica, dtype: object"
            ]
          },
          "metadata": {},
          "execution_count": 6
        }
      ]
    },
    {
      "cell_type": "markdown",
      "metadata": {
        "id": "4dSz5T8WLvU4"
      },
      "source": [
        "creare un nuovo data frame contenente le prime dieci fasce anagrafiche "
      ]
    },
    {
      "cell_type": "code",
      "metadata": {
        "colab": {
          "base_uri": "https://localhost:8080/",
          "height": 328
        },
        "id": "VhrK3wHzSgJY",
        "outputId": "9c477ab4-d494-4f24-e9d7-59830ec5542c"
      },
      "source": [
        "dataF2 = dataF.loc[:,['fascia_anagrafica']]\n",
        "dataF2"
      ],
      "execution_count": null,
      "outputs": [
        {
          "output_type": "execute_result",
          "data": {
            "text/html": [
              "<div>\n",
              "<style scoped>\n",
              "    .dataframe tbody tr th:only-of-type {\n",
              "        vertical-align: middle;\n",
              "    }\n",
              "\n",
              "    .dataframe tbody tr th {\n",
              "        vertical-align: top;\n",
              "    }\n",
              "\n",
              "    .dataframe thead th {\n",
              "        text-align: right;\n",
              "    }\n",
              "</style>\n",
              "<table border=\"1\" class=\"dataframe\">\n",
              "  <thead>\n",
              "    <tr style=\"text-align: right;\">\n",
              "      <th></th>\n",
              "      <th>fascia_anagrafica</th>\n",
              "    </tr>\n",
              "  </thead>\n",
              "  <tbody>\n",
              "    <tr>\n",
              "      <th>0</th>\n",
              "      <td>12-19</td>\n",
              "    </tr>\n",
              "    <tr>\n",
              "      <th>1</th>\n",
              "      <td>20-29</td>\n",
              "    </tr>\n",
              "    <tr>\n",
              "      <th>2</th>\n",
              "      <td>30-39</td>\n",
              "    </tr>\n",
              "    <tr>\n",
              "      <th>3</th>\n",
              "      <td>40-49</td>\n",
              "    </tr>\n",
              "    <tr>\n",
              "      <th>4</th>\n",
              "      <td>50-59</td>\n",
              "    </tr>\n",
              "    <tr>\n",
              "      <th>5</th>\n",
              "      <td>60-69</td>\n",
              "    </tr>\n",
              "    <tr>\n",
              "      <th>6</th>\n",
              "      <td>70-79</td>\n",
              "    </tr>\n",
              "    <tr>\n",
              "      <th>7</th>\n",
              "      <td>80-89</td>\n",
              "    </tr>\n",
              "    <tr>\n",
              "      <th>8</th>\n",
              "      <td>90+</td>\n",
              "    </tr>\n",
              "  </tbody>\n",
              "</table>\n",
              "</div>"
            ],
            "text/plain": [
              "  fascia_anagrafica\n",
              "0             12-19\n",
              "1             20-29\n",
              "2             30-39\n",
              "3             40-49\n",
              "4             50-59\n",
              "5             60-69\n",
              "6             70-79\n",
              "7             80-89\n",
              "8               90+"
            ]
          },
          "metadata": {},
          "execution_count": 27
        }
      ]
    },
    {
      "cell_type": "markdown",
      "metadata": {
        "id": "sJq1tK9WL4Ag"
      },
      "source": [
        "creare un nuovo data frame contenente la fascia anagrafica e la prima e seconda dose"
      ]
    },
    {
      "cell_type": "code",
      "metadata": {
        "colab": {
          "base_uri": "https://localhost:8080/",
          "height": 328
        },
        "id": "xiM_3qcJS2qi",
        "outputId": "3d9f8c57-70c5-4df9-af69-ee22edaa03ae"
      },
      "source": [
        "dataF3 = dataF.loc[:,['fascia_anagrafica', 'prima_dose', 'seconda_dose']]\n",
        "dataF3"
      ],
      "execution_count": null,
      "outputs": [
        {
          "output_type": "execute_result",
          "data": {
            "text/html": [
              "<div>\n",
              "<style scoped>\n",
              "    .dataframe tbody tr th:only-of-type {\n",
              "        vertical-align: middle;\n",
              "    }\n",
              "\n",
              "    .dataframe tbody tr th {\n",
              "        vertical-align: top;\n",
              "    }\n",
              "\n",
              "    .dataframe thead th {\n",
              "        text-align: right;\n",
              "    }\n",
              "</style>\n",
              "<table border=\"1\" class=\"dataframe\">\n",
              "  <thead>\n",
              "    <tr style=\"text-align: right;\">\n",
              "      <th></th>\n",
              "      <th>fascia_anagrafica</th>\n",
              "      <th>prima_dose</th>\n",
              "      <th>seconda_dose</th>\n",
              "    </tr>\n",
              "  </thead>\n",
              "  <tbody>\n",
              "    <tr>\n",
              "      <th>0</th>\n",
              "      <td>12-19</td>\n",
              "      <td>3223185</td>\n",
              "      <td>2940568</td>\n",
              "    </tr>\n",
              "    <tr>\n",
              "      <th>1</th>\n",
              "      <td>20-29</td>\n",
              "      <td>5075497</td>\n",
              "      <td>4587980</td>\n",
              "    </tr>\n",
              "    <tr>\n",
              "      <th>2</th>\n",
              "      <td>30-39</td>\n",
              "      <td>5415036</td>\n",
              "      <td>4888959</td>\n",
              "    </tr>\n",
              "    <tr>\n",
              "      <th>3</th>\n",
              "      <td>40-49</td>\n",
              "      <td>6991305</td>\n",
              "      <td>6417692</td>\n",
              "    </tr>\n",
              "    <tr>\n",
              "      <th>4</th>\n",
              "      <td>50-59</td>\n",
              "      <td>8023900</td>\n",
              "      <td>7337139</td>\n",
              "    </tr>\n",
              "    <tr>\n",
              "      <th>5</th>\n",
              "      <td>60-69</td>\n",
              "      <td>6537683</td>\n",
              "      <td>5948012</td>\n",
              "    </tr>\n",
              "    <tr>\n",
              "      <th>6</th>\n",
              "      <td>70-79</td>\n",
              "      <td>5393839</td>\n",
              "      <td>5158247</td>\n",
              "    </tr>\n",
              "    <tr>\n",
              "      <th>7</th>\n",
              "      <td>80-89</td>\n",
              "      <td>3451789</td>\n",
              "      <td>3388016</td>\n",
              "    </tr>\n",
              "    <tr>\n",
              "      <th>8</th>\n",
              "      <td>90+</td>\n",
              "      <td>797161</td>\n",
              "      <td>768344</td>\n",
              "    </tr>\n",
              "  </tbody>\n",
              "</table>\n",
              "</div>"
            ],
            "text/plain": [
              "  fascia_anagrafica  prima_dose  seconda_dose\n",
              "0             12-19     3223185       2940568\n",
              "1             20-29     5075497       4587980\n",
              "2             30-39     5415036       4888959\n",
              "3             40-49     6991305       6417692\n",
              "4             50-59     8023900       7337139\n",
              "5             60-69     6537683       5948012\n",
              "6             70-79     5393839       5158247\n",
              "7             80-89     3451789       3388016\n",
              "8               90+      797161        768344"
            ]
          },
          "metadata": {},
          "execution_count": 29
        }
      ]
    },
    {
      "cell_type": "markdown",
      "metadata": {
        "id": "9Mu_bhFwMDcB"
      },
      "source": [
        "eliminare dal dataframe i dati relativi alle persone dai 40 a 69 anni "
      ]
    },
    {
      "cell_type": "code",
      "metadata": {
        "colab": {
          "base_uri": "https://localhost:8080/",
          "height": 297
        },
        "id": "H6USCOdXTI3h",
        "outputId": "be7fb75d-ba33-4dad-e4b1-f1ad4e99db17"
      },
      "source": [
        "dataF = dataF.drop(3)   ######      per eliminare una riga\n",
        "dataF"
      ],
      "execution_count": null,
      "outputs": [
        {
          "output_type": "execute_result",
          "data": {
            "text/html": [
              "<div>\n",
              "<style scoped>\n",
              "    .dataframe tbody tr th:only-of-type {\n",
              "        vertical-align: middle;\n",
              "    }\n",
              "\n",
              "    .dataframe tbody tr th {\n",
              "        vertical-align: top;\n",
              "    }\n",
              "\n",
              "    .dataframe thead th {\n",
              "        text-align: right;\n",
              "    }\n",
              "</style>\n",
              "<table border=\"1\" class=\"dataframe\">\n",
              "  <thead>\n",
              "    <tr style=\"text-align: right;\">\n",
              "      <th></th>\n",
              "      <th>fascia_anagrafica</th>\n",
              "      <th>totale</th>\n",
              "      <th>sesso_maschile</th>\n",
              "      <th>sesso_femminile</th>\n",
              "      <th>prima_dose</th>\n",
              "      <th>seconda_dose</th>\n",
              "      <th>pregressa_infezione</th>\n",
              "      <th>dose_aggiuntiva</th>\n",
              "      <th>dose_booster</th>\n",
              "      <th>ultimo_aggiornamento</th>\n",
              "    </tr>\n",
              "  </thead>\n",
              "  <tbody>\n",
              "    <tr>\n",
              "      <th>0</th>\n",
              "      <td>12-19</td>\n",
              "      <td>6268693</td>\n",
              "      <td>3209454</td>\n",
              "      <td>3059239</td>\n",
              "      <td>3223185</td>\n",
              "      <td>2940568</td>\n",
              "      <td>103985</td>\n",
              "      <td>726</td>\n",
              "      <td>229</td>\n",
              "      <td>2021-10-28</td>\n",
              "    </tr>\n",
              "    <tr>\n",
              "      <th>1</th>\n",
              "      <td>20-29</td>\n",
              "      <td>9891343</td>\n",
              "      <td>5171718</td>\n",
              "      <td>4719625</td>\n",
              "      <td>5075497</td>\n",
              "      <td>4587980</td>\n",
              "      <td>198307</td>\n",
              "      <td>3952</td>\n",
              "      <td>25607</td>\n",
              "      <td>2021-10-28</td>\n",
              "    </tr>\n",
              "    <tr>\n",
              "      <th>2</th>\n",
              "      <td>30-39</td>\n",
              "      <td>10555697</td>\n",
              "      <td>5420477</td>\n",
              "      <td>5135220</td>\n",
              "      <td>5415036</td>\n",
              "      <td>4888959</td>\n",
              "      <td>205108</td>\n",
              "      <td>7605</td>\n",
              "      <td>38989</td>\n",
              "      <td>2021-10-28</td>\n",
              "    </tr>\n",
              "    <tr>\n",
              "      <th>4</th>\n",
              "      <td>50-59</td>\n",
              "      <td>15818591</td>\n",
              "      <td>7760613</td>\n",
              "      <td>8057978</td>\n",
              "      <td>8023900</td>\n",
              "      <td>7337139</td>\n",
              "      <td>346607</td>\n",
              "      <td>39896</td>\n",
              "      <td>71049</td>\n",
              "      <td>2021-10-28</td>\n",
              "    </tr>\n",
              "    <tr>\n",
              "      <th>5</th>\n",
              "      <td>60-69</td>\n",
              "      <td>12875027</td>\n",
              "      <td>6247299</td>\n",
              "      <td>6627728</td>\n",
              "      <td>6537683</td>\n",
              "      <td>5948012</td>\n",
              "      <td>241212</td>\n",
              "      <td>57677</td>\n",
              "      <td>90443</td>\n",
              "      <td>2021-10-28</td>\n",
              "    </tr>\n",
              "    <tr>\n",
              "      <th>6</th>\n",
              "      <td>70-79</td>\n",
              "      <td>10840433</td>\n",
              "      <td>5091827</td>\n",
              "      <td>5748606</td>\n",
              "      <td>5393839</td>\n",
              "      <td>5158247</td>\n",
              "      <td>165987</td>\n",
              "      <td>61817</td>\n",
              "      <td>60543</td>\n",
              "      <td>2021-10-28</td>\n",
              "    </tr>\n",
              "    <tr>\n",
              "      <th>7</th>\n",
              "      <td>80-89</td>\n",
              "      <td>7541357</td>\n",
              "      <td>3148258</td>\n",
              "      <td>4393099</td>\n",
              "      <td>3451789</td>\n",
              "      <td>3388016</td>\n",
              "      <td>78350</td>\n",
              "      <td>36395</td>\n",
              "      <td>586807</td>\n",
              "      <td>2021-10-28</td>\n",
              "    </tr>\n",
              "    <tr>\n",
              "      <th>8</th>\n",
              "      <td>90+</td>\n",
              "      <td>1721375</td>\n",
              "      <td>514973</td>\n",
              "      <td>1206402</td>\n",
              "      <td>797161</td>\n",
              "      <td>768344</td>\n",
              "      <td>19234</td>\n",
              "      <td>6096</td>\n",
              "      <td>130540</td>\n",
              "      <td>2021-10-28</td>\n",
              "    </tr>\n",
              "  </tbody>\n",
              "</table>\n",
              "</div>"
            ],
            "text/plain": [
              "  fascia_anagrafica    totale  ...  dose_booster  ultimo_aggiornamento\n",
              "0             12-19   6268693  ...           229            2021-10-28\n",
              "1             20-29   9891343  ...         25607            2021-10-28\n",
              "2             30-39  10555697  ...         38989            2021-10-28\n",
              "4             50-59  15818591  ...         71049            2021-10-28\n",
              "5             60-69  12875027  ...         90443            2021-10-28\n",
              "6             70-79  10840433  ...         60543            2021-10-28\n",
              "7             80-89   7541357  ...        586807            2021-10-28\n",
              "8               90+   1721375  ...        130540            2021-10-28\n",
              "\n",
              "[8 rows x 10 columns]"
            ]
          },
          "metadata": {},
          "execution_count": 34
        }
      ]
    },
    {
      "cell_type": "markdown",
      "metadata": {
        "id": "HMSuR1llMLSx"
      },
      "source": [
        "eliminare dal data frame le colonne sesso femminile e sesso maschile "
      ]
    },
    {
      "cell_type": "code",
      "metadata": {
        "colab": {
          "base_uri": "https://localhost:8080/",
          "height": 326
        },
        "id": "lKmaOnIab3kK",
        "outputId": "c5d201c9-db4c-4d7a-93fa-b47fe929af68"
      },
      "source": [
        "dataF = dataF.drop(columns = ['sesso_maschile', 'sesso_femminile'])\n",
        "dataF"
      ],
      "execution_count": null,
      "outputs": [
        {
          "output_type": "execute_result",
          "data": {
            "text/html": [
              "<div>\n",
              "<style scoped>\n",
              "    .dataframe tbody tr th:only-of-type {\n",
              "        vertical-align: middle;\n",
              "    }\n",
              "\n",
              "    .dataframe tbody tr th {\n",
              "        vertical-align: top;\n",
              "    }\n",
              "\n",
              "    .dataframe thead th {\n",
              "        text-align: right;\n",
              "    }\n",
              "</style>\n",
              "<table border=\"1\" class=\"dataframe\">\n",
              "  <thead>\n",
              "    <tr style=\"text-align: right;\">\n",
              "      <th></th>\n",
              "      <th>fascia_anagrafica</th>\n",
              "      <th>totale</th>\n",
              "      <th>prima_dose</th>\n",
              "      <th>seconda_dose</th>\n",
              "      <th>pregressa_infezione</th>\n",
              "      <th>dose_aggiuntiva</th>\n",
              "      <th>dose_booster</th>\n",
              "      <th>ultimo_aggiornamento</th>\n",
              "    </tr>\n",
              "  </thead>\n",
              "  <tbody>\n",
              "    <tr>\n",
              "      <th>0</th>\n",
              "      <td>12-19</td>\n",
              "      <td>6281722</td>\n",
              "      <td>3227773</td>\n",
              "      <td>2948513</td>\n",
              "      <td>104410</td>\n",
              "      <td>759</td>\n",
              "      <td>267</td>\n",
              "      <td>2021-10-29</td>\n",
              "    </tr>\n",
              "    <tr>\n",
              "      <th>1</th>\n",
              "      <td>20-29</td>\n",
              "      <td>9918181</td>\n",
              "      <td>5081398</td>\n",
              "      <td>4604886</td>\n",
              "      <td>198847</td>\n",
              "      <td>4202</td>\n",
              "      <td>28848</td>\n",
              "      <td>2021-10-29</td>\n",
              "    </tr>\n",
              "    <tr>\n",
              "      <th>2</th>\n",
              "      <td>30-39</td>\n",
              "      <td>10590345</td>\n",
              "      <td>5422484</td>\n",
              "      <td>4909829</td>\n",
              "      <td>205621</td>\n",
              "      <td>8010</td>\n",
              "      <td>44401</td>\n",
              "      <td>2021-10-29</td>\n",
              "    </tr>\n",
              "    <tr>\n",
              "      <th>3</th>\n",
              "      <td>40-49</td>\n",
              "      <td>13796802</td>\n",
              "      <td>6997947</td>\n",
              "      <td>6437560</td>\n",
              "      <td>284619</td>\n",
              "      <td>19540</td>\n",
              "      <td>57136</td>\n",
              "      <td>2021-10-29</td>\n",
              "    </tr>\n",
              "    <tr>\n",
              "      <th>4</th>\n",
              "      <td>50-59</td>\n",
              "      <td>15852115</td>\n",
              "      <td>8029283</td>\n",
              "      <td>7352690</td>\n",
              "      <td>347138</td>\n",
              "      <td>41817</td>\n",
              "      <td>81187</td>\n",
              "      <td>2021-10-29</td>\n",
              "    </tr>\n",
              "    <tr>\n",
              "      <th>5</th>\n",
              "      <td>60-69</td>\n",
              "      <td>12901833</td>\n",
              "      <td>6540395</td>\n",
              "      <td>5954838</td>\n",
              "      <td>241290</td>\n",
              "      <td>61139</td>\n",
              "      <td>104171</td>\n",
              "      <td>2021-10-29</td>\n",
              "    </tr>\n",
              "    <tr>\n",
              "      <th>6</th>\n",
              "      <td>70-79</td>\n",
              "      <td>10861693</td>\n",
              "      <td>5395433</td>\n",
              "      <td>5162015</td>\n",
              "      <td>165687</td>\n",
              "      <td>66389</td>\n",
              "      <td>72169</td>\n",
              "      <td>2021-10-29</td>\n",
              "    </tr>\n",
              "    <tr>\n",
              "      <th>7</th>\n",
              "      <td>80-89</td>\n",
              "      <td>7613920</td>\n",
              "      <td>3452848</td>\n",
              "      <td>3389955</td>\n",
              "      <td>77931</td>\n",
              "      <td>38730</td>\n",
              "      <td>654456</td>\n",
              "      <td>2021-10-29</td>\n",
              "    </tr>\n",
              "    <tr>\n",
              "      <th>8</th>\n",
              "      <td>90+</td>\n",
              "      <td>1735799</td>\n",
              "      <td>797509</td>\n",
              "      <td>768953</td>\n",
              "      <td>19078</td>\n",
              "      <td>6514</td>\n",
              "      <td>143745</td>\n",
              "      <td>2021-10-29</td>\n",
              "    </tr>\n",
              "  </tbody>\n",
              "</table>\n",
              "</div>"
            ],
            "text/plain": [
              "  fascia_anagrafica    totale  ...  dose_booster  ultimo_aggiornamento\n",
              "0             12-19   6281722  ...           267            2021-10-29\n",
              "1             20-29   9918181  ...         28848            2021-10-29\n",
              "2             30-39  10590345  ...         44401            2021-10-29\n",
              "3             40-49  13796802  ...         57136            2021-10-29\n",
              "4             50-59  15852115  ...         81187            2021-10-29\n",
              "5             60-69  12901833  ...        104171            2021-10-29\n",
              "6             70-79  10861693  ...         72169            2021-10-29\n",
              "7             80-89   7613920  ...        654456            2021-10-29\n",
              "8               90+   1735799  ...        143745            2021-10-29\n",
              "\n",
              "[9 rows x 8 columns]"
            ]
          },
          "metadata": {},
          "execution_count": 10
        }
      ]
    }
  ]
}