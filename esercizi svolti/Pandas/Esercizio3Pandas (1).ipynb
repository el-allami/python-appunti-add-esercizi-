{
  "nbformat": 4,
  "nbformat_minor": 0,
  "metadata": {
    "colab": {
      "name": "Esercizio3Pandas.ipynb",
      "provenance": [],
      "collapsed_sections": []
    },
    "kernelspec": {
      "name": "python3",
      "display_name": "Python 3"
    },
    "language_info": {
      "name": "python"
    }
  },
  "cells": [
    {
      "cell_type": "markdown",
      "metadata": {
        "id": "ho6rkk4rPwjT"
      },
      "source": [
        "caricare i dati in un dataframe e studiare le informazioni inserite per capire di che cosa si tratta"
      ]
    },
    {
      "cell_type": "code",
      "metadata": {
        "colab": {
          "base_uri": "https://localhost:8080/",
          "height": 423
        },
        "id": "UAyvJNESPN7o",
        "outputId": "0b74b166-68c5-4f44-cb4a-95442365c8be"
      },
      "source": [
        "import pandas as pd\n",
        "\n",
        "url = \"https://raw.githubusercontent.com/CappuCitti/Python-appunti-ed-esercizi/main/Pandas/Data/uffici_postali_milano.csv\"\n",
        "\n",
        "df = pd.read_csv(url)\n",
        "df"
      ],
      "execution_count": null,
      "outputs": [
        {
          "output_type": "execute_result",
          "data": {
            "text/html": [
              "<div>\n",
              "<style scoped>\n",
              "    .dataframe tbody tr th:only-of-type {\n",
              "        vertical-align: middle;\n",
              "    }\n",
              "\n",
              "    .dataframe tbody tr th {\n",
              "        vertical-align: top;\n",
              "    }\n",
              "\n",
              "    .dataframe thead th {\n",
              "        text-align: right;\n",
              "    }\n",
              "</style>\n",
              "<table border=\"1\" class=\"dataframe\">\n",
              "  <thead>\n",
              "    <tr style=\"text-align: right;\">\n",
              "      <th></th>\n",
              "      <th>Indirizzo</th>\n",
              "      <th>Telefono</th>\n",
              "      <th>Fax</th>\n",
              "      <th>CAP</th>\n",
              "      <th>MUNICIPIO</th>\n",
              "      <th>ID_NIL</th>\n",
              "      <th>NIL</th>\n",
              "      <th>LONG_X_4326</th>\n",
              "      <th>LAT_Y_4326</th>\n",
              "      <th>Location</th>\n",
              "    </tr>\n",
              "  </thead>\n",
              "  <tbody>\n",
              "    <tr>\n",
              "      <th>0</th>\n",
              "      <td>BASTIONI DI PORTA VOLTA 7</td>\n",
              "      <td>02-6572655</td>\n",
              "      <td>02-29002004</td>\n",
              "      <td>20121</td>\n",
              "      <td>1</td>\n",
              "      <td>2</td>\n",
              "      <td>BRERA</td>\n",
              "      <td>9.182151</td>\n",
              "      <td>45.479601</td>\n",
              "      <td>(45.47960100000006;9.182151000000033)</td>\n",
              "    </tr>\n",
              "    <tr>\n",
              "      <th>1</th>\n",
              "      <td>CORSO DI PORTA VIGENTINA 35</td>\n",
              "      <td>02-58320771</td>\n",
              "      <td>02-58319779</td>\n",
              "      <td>20122</td>\n",
              "      <td>1</td>\n",
              "      <td>5</td>\n",
              "      <td>PORTA VIGENTINA - PORTA LODOVICA</td>\n",
              "      <td>9.196520</td>\n",
              "      <td>45.452538</td>\n",
              "      <td>(45.45253800000006;9.196519500000022)</td>\n",
              "    </tr>\n",
              "    <tr>\n",
              "      <th>2</th>\n",
              "      <td>CORSO ITALI 16</td>\n",
              "      <td>02-804336</td>\n",
              "      <td>02-86454450</td>\n",
              "      <td>20122</td>\n",
              "      <td>1</td>\n",
              "      <td>1</td>\n",
              "      <td>DUOMO</td>\n",
              "      <td>9.187470</td>\n",
              "      <td>45.457893</td>\n",
              "      <td>(45.45789300000007;9.187470000000076)</td>\n",
              "    </tr>\n",
              "    <tr>\n",
              "      <th>3</th>\n",
              "      <td>CORSO SEMPIONE 94</td>\n",
              "      <td>NaN</td>\n",
              "      <td>NaN</td>\n",
              "      <td>20154</td>\n",
              "      <td>8</td>\n",
              "      <td>69</td>\n",
              "      <td>SARPI</td>\n",
              "      <td>9.158508</td>\n",
              "      <td>45.486540</td>\n",
              "      <td>(45.48654000000005;9.15850800000004)</td>\n",
              "    </tr>\n",
              "    <tr>\n",
              "      <th>4</th>\n",
              "      <td>CORSO VENEZIA 42</td>\n",
              "      <td>02-76023056</td>\n",
              "      <td>02-7837251</td>\n",
              "      <td>20121</td>\n",
              "      <td>1</td>\n",
              "      <td>4</td>\n",
              "      <td>GUASTALLA</td>\n",
              "      <td>9.202703</td>\n",
              "      <td>45.471861</td>\n",
              "      <td>(45.47186100000005;9.202702500000044)</td>\n",
              "    </tr>\n",
              "    <tr>\n",
              "      <th>...</th>\n",
              "      <td>...</td>\n",
              "      <td>...</td>\n",
              "      <td>...</td>\n",
              "      <td>...</td>\n",
              "      <td>...</td>\n",
              "      <td>...</td>\n",
              "      <td>...</td>\n",
              "      <td>...</td>\n",
              "      <td>...</td>\n",
              "      <td>...</td>\n",
              "    </tr>\n",
              "    <tr>\n",
              "      <th>77</th>\n",
              "      <td>VIALE GORIZIA 6</td>\n",
              "      <td>02-8358241</td>\n",
              "      <td>02-8373830</td>\n",
              "      <td>20144</td>\n",
              "      <td>6</td>\n",
              "      <td>44</td>\n",
              "      <td>PORTA TICINESE - CONCHETTA</td>\n",
              "      <td>9.173156</td>\n",
              "      <td>45.454518</td>\n",
              "      <td>(45.454518000000064;9.173155500000064)</td>\n",
              "    </tr>\n",
              "    <tr>\n",
              "      <th>78</th>\n",
              "      <td>VIALE MONTE CENERI SNC</td>\n",
              "      <td>02-32671911</td>\n",
              "      <td>02-32671947</td>\n",
              "      <td>20155</td>\n",
              "      <td>8</td>\n",
              "      <td>71</td>\n",
              "      <td>VILLAPIZZONE - CAGNOLA - BOLDINASCO</td>\n",
              "      <td>9.153592</td>\n",
              "      <td>45.491568</td>\n",
              "      <td>(45.49156751800007;9.153591732000052)</td>\n",
              "    </tr>\n",
              "    <tr>\n",
              "      <th>79</th>\n",
              "      <td>VIALE SABOTINO 21/A</td>\n",
              "      <td>02-58457911</td>\n",
              "      <td>02-58457947</td>\n",
              "      <td>20135</td>\n",
              "      <td>5</td>\n",
              "      <td>27</td>\n",
              "      <td>PTA ROMANA</td>\n",
              "      <td>9.200174</td>\n",
              "      <td>45.451017</td>\n",
              "      <td>(45.451017000000036;9.200173500000062)</td>\n",
              "    </tr>\n",
              "    <tr>\n",
              "      <th>80</th>\n",
              "      <td>VIALE SAN GIMIGNANO 10</td>\n",
              "      <td>02-41411311</td>\n",
              "      <td>02-41411347</td>\n",
              "      <td>20146</td>\n",
              "      <td>6</td>\n",
              "      <td>52</td>\n",
              "      <td>BANDE NERE</td>\n",
              "      <td>9.136526</td>\n",
              "      <td>45.455868</td>\n",
              "      <td>(45.455868000000066;9.136525500000062)</td>\n",
              "    </tr>\n",
              "    <tr>\n",
              "      <th>81</th>\n",
              "      <td>VIALE ZARA 131</td>\n",
              "      <td>02-69911111</td>\n",
              "      <td>02-69911147</td>\n",
              "      <td>20159</td>\n",
              "      <td>9</td>\n",
              "      <td>12</td>\n",
              "      <td>MACIACHINI - MAGGIOLINA</td>\n",
              "      <td>9.196686</td>\n",
              "      <td>45.500193</td>\n",
              "      <td>(45.50019300000008;9.196686000000057)</td>\n",
              "    </tr>\n",
              "  </tbody>\n",
              "</table>\n",
              "<p>82 rows × 10 columns</p>\n",
              "</div>"
            ],
            "text/plain": [
              "                      Indirizzo  ...                                Location\n",
              "0     BASTIONI DI PORTA VOLTA 7  ...   (45.47960100000006;9.182151000000033)\n",
              "1   CORSO DI PORTA VIGENTINA 35  ...   (45.45253800000006;9.196519500000022)\n",
              "2                CORSO ITALI 16  ...   (45.45789300000007;9.187470000000076)\n",
              "3             CORSO SEMPIONE 94  ...    (45.48654000000005;9.15850800000004)\n",
              "4              CORSO VENEZIA 42  ...   (45.47186100000005;9.202702500000044)\n",
              "..                          ...  ...                                     ...\n",
              "77              VIALE GORIZIA 6  ...  (45.454518000000064;9.173155500000064)\n",
              "78       VIALE MONTE CENERI SNC  ...   (45.49156751800007;9.153591732000052)\n",
              "79          VIALE SABOTINO 21/A  ...  (45.451017000000036;9.200173500000062)\n",
              "80       VIALE SAN GIMIGNANO 10  ...  (45.455868000000066;9.136525500000062)\n",
              "81               VIALE ZARA 131  ...   (45.50019300000008;9.196686000000057)\n",
              "\n",
              "[82 rows x 10 columns]"
            ]
          },
          "metadata": {},
          "execution_count": 2
        }
      ]
    },
    {
      "cell_type": "markdown",
      "metadata": {
        "id": "uepktRGhQSor"
      },
      "source": [
        "---------------------------------------------------------------------------------------------"
      ]
    },
    {
      "cell_type": "markdown",
      "metadata": {
        "id": "kJ33UoK7QVoz"
      },
      "source": [
        "        OPERAZIONI SULLA COLONNA :"
      ]
    },
    {
      "cell_type": "markdown",
      "metadata": {
        "id": "zbqYoZLFQa7y"
      },
      "source": [
        "a. visualizzare solo la prima colonna"
      ]
    },
    {
      "cell_type": "code",
      "metadata": {
        "colab": {
          "base_uri": "https://localhost:8080/",
          "height": 423
        },
        "id": "ykbf0WrXQgjb",
        "outputId": "4aaeb4ea-1ee7-487b-ed60-e8ff5e756aa3"
      },
      "source": [
        "df.loc[:,[\"Indirizzo\"]]"
      ],
      "execution_count": null,
      "outputs": [
        {
          "output_type": "execute_result",
          "data": {
            "text/html": [
              "<div>\n",
              "<style scoped>\n",
              "    .dataframe tbody tr th:only-of-type {\n",
              "        vertical-align: middle;\n",
              "    }\n",
              "\n",
              "    .dataframe tbody tr th {\n",
              "        vertical-align: top;\n",
              "    }\n",
              "\n",
              "    .dataframe thead th {\n",
              "        text-align: right;\n",
              "    }\n",
              "</style>\n",
              "<table border=\"1\" class=\"dataframe\">\n",
              "  <thead>\n",
              "    <tr style=\"text-align: right;\">\n",
              "      <th></th>\n",
              "      <th>Indirizzo</th>\n",
              "    </tr>\n",
              "  </thead>\n",
              "  <tbody>\n",
              "    <tr>\n",
              "      <th>0</th>\n",
              "      <td>BASTIONI DI PORTA VOLTA 7</td>\n",
              "    </tr>\n",
              "    <tr>\n",
              "      <th>1</th>\n",
              "      <td>CORSO DI PORTA VIGENTINA 35</td>\n",
              "    </tr>\n",
              "    <tr>\n",
              "      <th>2</th>\n",
              "      <td>CORSO ITALI 16</td>\n",
              "    </tr>\n",
              "    <tr>\n",
              "      <th>3</th>\n",
              "      <td>CORSO SEMPIONE 94</td>\n",
              "    </tr>\n",
              "    <tr>\n",
              "      <th>4</th>\n",
              "      <td>CORSO VENEZIA 42</td>\n",
              "    </tr>\n",
              "    <tr>\n",
              "      <th>...</th>\n",
              "      <td>...</td>\n",
              "    </tr>\n",
              "    <tr>\n",
              "      <th>77</th>\n",
              "      <td>VIALE GORIZIA 6</td>\n",
              "    </tr>\n",
              "    <tr>\n",
              "      <th>78</th>\n",
              "      <td>VIALE MONTE CENERI SNC</td>\n",
              "    </tr>\n",
              "    <tr>\n",
              "      <th>79</th>\n",
              "      <td>VIALE SABOTINO 21/A</td>\n",
              "    </tr>\n",
              "    <tr>\n",
              "      <th>80</th>\n",
              "      <td>VIALE SAN GIMIGNANO 10</td>\n",
              "    </tr>\n",
              "    <tr>\n",
              "      <th>81</th>\n",
              "      <td>VIALE ZARA 131</td>\n",
              "    </tr>\n",
              "  </tbody>\n",
              "</table>\n",
              "<p>82 rows × 1 columns</p>\n",
              "</div>"
            ],
            "text/plain": [
              "                      Indirizzo\n",
              "0     BASTIONI DI PORTA VOLTA 7\n",
              "1   CORSO DI PORTA VIGENTINA 35\n",
              "2                CORSO ITALI 16\n",
              "3             CORSO SEMPIONE 94\n",
              "4              CORSO VENEZIA 42\n",
              "..                          ...\n",
              "77              VIALE GORIZIA 6\n",
              "78       VIALE MONTE CENERI SNC\n",
              "79          VIALE SABOTINO 21/A\n",
              "80       VIALE SAN GIMIGNANO 10\n",
              "81               VIALE ZARA 131\n",
              "\n",
              "[82 rows x 1 columns]"
            ]
          },
          "metadata": {},
          "execution_count": 41
        }
      ]
    },
    {
      "cell_type": "code",
      "metadata": {
        "colab": {
          "base_uri": "https://localhost:8080/",
          "height": 423
        },
        "id": "Cx4HmNwCRYIr",
        "outputId": "402d32a2-6182-4605-822a-a01a1f1feb6e"
      },
      "source": [
        "df.iloc[:, :1]"
      ],
      "execution_count": null,
      "outputs": [
        {
          "output_type": "execute_result",
          "data": {
            "text/html": [
              "<div>\n",
              "<style scoped>\n",
              "    .dataframe tbody tr th:only-of-type {\n",
              "        vertical-align: middle;\n",
              "    }\n",
              "\n",
              "    .dataframe tbody tr th {\n",
              "        vertical-align: top;\n",
              "    }\n",
              "\n",
              "    .dataframe thead th {\n",
              "        text-align: right;\n",
              "    }\n",
              "</style>\n",
              "<table border=\"1\" class=\"dataframe\">\n",
              "  <thead>\n",
              "    <tr style=\"text-align: right;\">\n",
              "      <th></th>\n",
              "      <th>Indirizzo</th>\n",
              "    </tr>\n",
              "  </thead>\n",
              "  <tbody>\n",
              "    <tr>\n",
              "      <th>0</th>\n",
              "      <td>BASTIONI DI PORTA VOLTA 7</td>\n",
              "    </tr>\n",
              "    <tr>\n",
              "      <th>1</th>\n",
              "      <td>CORSO DI PORTA VIGENTINA 35</td>\n",
              "    </tr>\n",
              "    <tr>\n",
              "      <th>2</th>\n",
              "      <td>CORSO ITALI 16</td>\n",
              "    </tr>\n",
              "    <tr>\n",
              "      <th>3</th>\n",
              "      <td>CORSO SEMPIONE 94</td>\n",
              "    </tr>\n",
              "    <tr>\n",
              "      <th>4</th>\n",
              "      <td>CORSO VENEZIA 42</td>\n",
              "    </tr>\n",
              "    <tr>\n",
              "      <th>...</th>\n",
              "      <td>...</td>\n",
              "    </tr>\n",
              "    <tr>\n",
              "      <th>77</th>\n",
              "      <td>VIALE GORIZIA 6</td>\n",
              "    </tr>\n",
              "    <tr>\n",
              "      <th>78</th>\n",
              "      <td>VIALE MONTE CENERI SNC</td>\n",
              "    </tr>\n",
              "    <tr>\n",
              "      <th>79</th>\n",
              "      <td>VIALE SABOTINO 21/A</td>\n",
              "    </tr>\n",
              "    <tr>\n",
              "      <th>80</th>\n",
              "      <td>VIALE SAN GIMIGNANO 10</td>\n",
              "    </tr>\n",
              "    <tr>\n",
              "      <th>81</th>\n",
              "      <td>VIALE ZARA 131</td>\n",
              "    </tr>\n",
              "  </tbody>\n",
              "</table>\n",
              "<p>82 rows × 1 columns</p>\n",
              "</div>"
            ],
            "text/plain": [
              "                      Indirizzo\n",
              "0     BASTIONI DI PORTA VOLTA 7\n",
              "1   CORSO DI PORTA VIGENTINA 35\n",
              "2                CORSO ITALI 16\n",
              "3             CORSO SEMPIONE 94\n",
              "4              CORSO VENEZIA 42\n",
              "..                          ...\n",
              "77              VIALE GORIZIA 6\n",
              "78       VIALE MONTE CENERI SNC\n",
              "79          VIALE SABOTINO 21/A\n",
              "80       VIALE SAN GIMIGNANO 10\n",
              "81               VIALE ZARA 131\n",
              "\n",
              "[82 rows x 1 columns]"
            ]
          },
          "metadata": {},
          "execution_count": 42
        }
      ]
    },
    {
      "cell_type": "markdown",
      "metadata": {
        "id": "XLonny9PQy1b"
      },
      "source": [
        "b. visualizzare solo l'ultima colonna"
      ]
    },
    {
      "cell_type": "code",
      "metadata": {
        "colab": {
          "base_uri": "https://localhost:8080/",
          "height": 423
        },
        "id": "KoCdkarTQ07C",
        "outputId": "13d00a30-2102-407c-d4d4-f0a2762978a3"
      },
      "source": [
        "df.loc[:,[\"Location\"]]"
      ],
      "execution_count": null,
      "outputs": [
        {
          "output_type": "execute_result",
          "data": {
            "text/html": [
              "<div>\n",
              "<style scoped>\n",
              "    .dataframe tbody tr th:only-of-type {\n",
              "        vertical-align: middle;\n",
              "    }\n",
              "\n",
              "    .dataframe tbody tr th {\n",
              "        vertical-align: top;\n",
              "    }\n",
              "\n",
              "    .dataframe thead th {\n",
              "        text-align: right;\n",
              "    }\n",
              "</style>\n",
              "<table border=\"1\" class=\"dataframe\">\n",
              "  <thead>\n",
              "    <tr style=\"text-align: right;\">\n",
              "      <th></th>\n",
              "      <th>Location</th>\n",
              "    </tr>\n",
              "  </thead>\n",
              "  <tbody>\n",
              "    <tr>\n",
              "      <th>0</th>\n",
              "      <td>(45.47960100000006;9.182151000000033)</td>\n",
              "    </tr>\n",
              "    <tr>\n",
              "      <th>1</th>\n",
              "      <td>(45.45253800000006;9.196519500000022)</td>\n",
              "    </tr>\n",
              "    <tr>\n",
              "      <th>2</th>\n",
              "      <td>(45.45789300000007;9.187470000000076)</td>\n",
              "    </tr>\n",
              "    <tr>\n",
              "      <th>3</th>\n",
              "      <td>(45.48654000000005;9.15850800000004)</td>\n",
              "    </tr>\n",
              "    <tr>\n",
              "      <th>4</th>\n",
              "      <td>(45.47186100000005;9.202702500000044)</td>\n",
              "    </tr>\n",
              "    <tr>\n",
              "      <th>...</th>\n",
              "      <td>...</td>\n",
              "    </tr>\n",
              "    <tr>\n",
              "      <th>77</th>\n",
              "      <td>(45.454518000000064;9.173155500000064)</td>\n",
              "    </tr>\n",
              "    <tr>\n",
              "      <th>78</th>\n",
              "      <td>(45.49156751800007;9.153591732000052)</td>\n",
              "    </tr>\n",
              "    <tr>\n",
              "      <th>79</th>\n",
              "      <td>(45.451017000000036;9.200173500000062)</td>\n",
              "    </tr>\n",
              "    <tr>\n",
              "      <th>80</th>\n",
              "      <td>(45.455868000000066;9.136525500000062)</td>\n",
              "    </tr>\n",
              "    <tr>\n",
              "      <th>81</th>\n",
              "      <td>(45.50019300000008;9.196686000000057)</td>\n",
              "    </tr>\n",
              "  </tbody>\n",
              "</table>\n",
              "<p>82 rows × 1 columns</p>\n",
              "</div>"
            ],
            "text/plain": [
              "                                  Location\n",
              "0    (45.47960100000006;9.182151000000033)\n",
              "1    (45.45253800000006;9.196519500000022)\n",
              "2    (45.45789300000007;9.187470000000076)\n",
              "3     (45.48654000000005;9.15850800000004)\n",
              "4    (45.47186100000005;9.202702500000044)\n",
              "..                                     ...\n",
              "77  (45.454518000000064;9.173155500000064)\n",
              "78   (45.49156751800007;9.153591732000052)\n",
              "79  (45.451017000000036;9.200173500000062)\n",
              "80  (45.455868000000066;9.136525500000062)\n",
              "81   (45.50019300000008;9.196686000000057)\n",
              "\n",
              "[82 rows x 1 columns]"
            ]
          },
          "metadata": {},
          "execution_count": 43
        }
      ]
    },
    {
      "cell_type": "code",
      "metadata": {
        "colab": {
          "base_uri": "https://localhost:8080/",
          "height": 423
        },
        "id": "I0dXOK4KRPc0",
        "outputId": "bf17c2bc-9c77-4793-fb24-d5e9c2626b2d"
      },
      "source": [
        "df.iloc[:, -1:]"
      ],
      "execution_count": null,
      "outputs": [
        {
          "output_type": "execute_result",
          "data": {
            "text/html": [
              "<div>\n",
              "<style scoped>\n",
              "    .dataframe tbody tr th:only-of-type {\n",
              "        vertical-align: middle;\n",
              "    }\n",
              "\n",
              "    .dataframe tbody tr th {\n",
              "        vertical-align: top;\n",
              "    }\n",
              "\n",
              "    .dataframe thead th {\n",
              "        text-align: right;\n",
              "    }\n",
              "</style>\n",
              "<table border=\"1\" class=\"dataframe\">\n",
              "  <thead>\n",
              "    <tr style=\"text-align: right;\">\n",
              "      <th></th>\n",
              "      <th>Location</th>\n",
              "    </tr>\n",
              "  </thead>\n",
              "  <tbody>\n",
              "    <tr>\n",
              "      <th>0</th>\n",
              "      <td>(45.47960100000006;9.182151000000033)</td>\n",
              "    </tr>\n",
              "    <tr>\n",
              "      <th>1</th>\n",
              "      <td>(45.45253800000006;9.196519500000022)</td>\n",
              "    </tr>\n",
              "    <tr>\n",
              "      <th>2</th>\n",
              "      <td>(45.45789300000007;9.187470000000076)</td>\n",
              "    </tr>\n",
              "    <tr>\n",
              "      <th>3</th>\n",
              "      <td>(45.48654000000005;9.15850800000004)</td>\n",
              "    </tr>\n",
              "    <tr>\n",
              "      <th>4</th>\n",
              "      <td>(45.47186100000005;9.202702500000044)</td>\n",
              "    </tr>\n",
              "    <tr>\n",
              "      <th>...</th>\n",
              "      <td>...</td>\n",
              "    </tr>\n",
              "    <tr>\n",
              "      <th>77</th>\n",
              "      <td>(45.454518000000064;9.173155500000064)</td>\n",
              "    </tr>\n",
              "    <tr>\n",
              "      <th>78</th>\n",
              "      <td>(45.49156751800007;9.153591732000052)</td>\n",
              "    </tr>\n",
              "    <tr>\n",
              "      <th>79</th>\n",
              "      <td>(45.451017000000036;9.200173500000062)</td>\n",
              "    </tr>\n",
              "    <tr>\n",
              "      <th>80</th>\n",
              "      <td>(45.455868000000066;9.136525500000062)</td>\n",
              "    </tr>\n",
              "    <tr>\n",
              "      <th>81</th>\n",
              "      <td>(45.50019300000008;9.196686000000057)</td>\n",
              "    </tr>\n",
              "  </tbody>\n",
              "</table>\n",
              "<p>82 rows × 1 columns</p>\n",
              "</div>"
            ],
            "text/plain": [
              "                                  Location\n",
              "0    (45.47960100000006;9.182151000000033)\n",
              "1    (45.45253800000006;9.196519500000022)\n",
              "2    (45.45789300000007;9.187470000000076)\n",
              "3     (45.48654000000005;9.15850800000004)\n",
              "4    (45.47186100000005;9.202702500000044)\n",
              "..                                     ...\n",
              "77  (45.454518000000064;9.173155500000064)\n",
              "78   (45.49156751800007;9.153591732000052)\n",
              "79  (45.451017000000036;9.200173500000062)\n",
              "80  (45.455868000000066;9.136525500000062)\n",
              "81   (45.50019300000008;9.196686000000057)\n",
              "\n",
              "[82 rows x 1 columns]"
            ]
          },
          "metadata": {},
          "execution_count": 44
        }
      ]
    },
    {
      "cell_type": "markdown",
      "metadata": {
        "id": "Y9gB1VuoQ7Oj"
      },
      "source": [
        "c. visualizzare le colonne dalle terza alla quinta"
      ]
    },
    {
      "cell_type": "code",
      "metadata": {
        "colab": {
          "base_uri": "https://localhost:8080/",
          "height": 423
        },
        "id": "MJOzpAqoQ9X0",
        "outputId": "f47f86e8-1f37-42c3-ccfa-8557c728010c"
      },
      "source": [
        "df.iloc[:, 3:6]\n"
      ],
      "execution_count": null,
      "outputs": [
        {
          "output_type": "execute_result",
          "data": {
            "text/html": [
              "<div>\n",
              "<style scoped>\n",
              "    .dataframe tbody tr th:only-of-type {\n",
              "        vertical-align: middle;\n",
              "    }\n",
              "\n",
              "    .dataframe tbody tr th {\n",
              "        vertical-align: top;\n",
              "    }\n",
              "\n",
              "    .dataframe thead th {\n",
              "        text-align: right;\n",
              "    }\n",
              "</style>\n",
              "<table border=\"1\" class=\"dataframe\">\n",
              "  <thead>\n",
              "    <tr style=\"text-align: right;\">\n",
              "      <th></th>\n",
              "      <th>CAP</th>\n",
              "      <th>MUNICIPIO</th>\n",
              "      <th>ID_NIL</th>\n",
              "    </tr>\n",
              "  </thead>\n",
              "  <tbody>\n",
              "    <tr>\n",
              "      <th>0</th>\n",
              "      <td>20121</td>\n",
              "      <td>1</td>\n",
              "      <td>2</td>\n",
              "    </tr>\n",
              "    <tr>\n",
              "      <th>1</th>\n",
              "      <td>20122</td>\n",
              "      <td>1</td>\n",
              "      <td>5</td>\n",
              "    </tr>\n",
              "    <tr>\n",
              "      <th>2</th>\n",
              "      <td>20122</td>\n",
              "      <td>1</td>\n",
              "      <td>1</td>\n",
              "    </tr>\n",
              "    <tr>\n",
              "      <th>3</th>\n",
              "      <td>20154</td>\n",
              "      <td>8</td>\n",
              "      <td>69</td>\n",
              "    </tr>\n",
              "    <tr>\n",
              "      <th>4</th>\n",
              "      <td>20121</td>\n",
              "      <td>1</td>\n",
              "      <td>4</td>\n",
              "    </tr>\n",
              "    <tr>\n",
              "      <th>...</th>\n",
              "      <td>...</td>\n",
              "      <td>...</td>\n",
              "      <td>...</td>\n",
              "    </tr>\n",
              "    <tr>\n",
              "      <th>77</th>\n",
              "      <td>20144</td>\n",
              "      <td>6</td>\n",
              "      <td>44</td>\n",
              "    </tr>\n",
              "    <tr>\n",
              "      <th>78</th>\n",
              "      <td>20155</td>\n",
              "      <td>8</td>\n",
              "      <td>71</td>\n",
              "    </tr>\n",
              "    <tr>\n",
              "      <th>79</th>\n",
              "      <td>20135</td>\n",
              "      <td>5</td>\n",
              "      <td>27</td>\n",
              "    </tr>\n",
              "    <tr>\n",
              "      <th>80</th>\n",
              "      <td>20146</td>\n",
              "      <td>6</td>\n",
              "      <td>52</td>\n",
              "    </tr>\n",
              "    <tr>\n",
              "      <th>81</th>\n",
              "      <td>20159</td>\n",
              "      <td>9</td>\n",
              "      <td>12</td>\n",
              "    </tr>\n",
              "  </tbody>\n",
              "</table>\n",
              "<p>82 rows × 3 columns</p>\n",
              "</div>"
            ],
            "text/plain": [
              "      CAP  MUNICIPIO  ID_NIL\n",
              "0   20121          1       2\n",
              "1   20122          1       5\n",
              "2   20122          1       1\n",
              "3   20154          8      69\n",
              "4   20121          1       4\n",
              "..    ...        ...     ...\n",
              "77  20144          6      44\n",
              "78  20155          8      71\n",
              "79  20135          5      27\n",
              "80  20146          6      52\n",
              "81  20159          9      12\n",
              "\n",
              "[82 rows x 3 columns]"
            ]
          },
          "metadata": {},
          "execution_count": 45
        }
      ]
    },
    {
      "cell_type": "markdown",
      "metadata": {
        "id": "4_dN3OMsRp0C"
      },
      "source": [
        "d. visualizzare la terza e la sesta colonna"
      ]
    },
    {
      "cell_type": "code",
      "metadata": {
        "colab": {
          "base_uri": "https://localhost:8080/",
          "height": 423
        },
        "id": "sBF26Rp1RsXy",
        "outputId": "850ff43c-fc3e-4ddc-9cec-9841b04c232a"
      },
      "source": [
        "df.loc[:, [\"CAP\", \"ID_NIL\"]]"
      ],
      "execution_count": null,
      "outputs": [
        {
          "output_type": "execute_result",
          "data": {
            "text/html": [
              "<div>\n",
              "<style scoped>\n",
              "    .dataframe tbody tr th:only-of-type {\n",
              "        vertical-align: middle;\n",
              "    }\n",
              "\n",
              "    .dataframe tbody tr th {\n",
              "        vertical-align: top;\n",
              "    }\n",
              "\n",
              "    .dataframe thead th {\n",
              "        text-align: right;\n",
              "    }\n",
              "</style>\n",
              "<table border=\"1\" class=\"dataframe\">\n",
              "  <thead>\n",
              "    <tr style=\"text-align: right;\">\n",
              "      <th></th>\n",
              "      <th>CAP</th>\n",
              "      <th>ID_NIL</th>\n",
              "    </tr>\n",
              "  </thead>\n",
              "  <tbody>\n",
              "    <tr>\n",
              "      <th>0</th>\n",
              "      <td>20121</td>\n",
              "      <td>2</td>\n",
              "    </tr>\n",
              "    <tr>\n",
              "      <th>1</th>\n",
              "      <td>20122</td>\n",
              "      <td>5</td>\n",
              "    </tr>\n",
              "    <tr>\n",
              "      <th>2</th>\n",
              "      <td>20122</td>\n",
              "      <td>1</td>\n",
              "    </tr>\n",
              "    <tr>\n",
              "      <th>3</th>\n",
              "      <td>20154</td>\n",
              "      <td>69</td>\n",
              "    </tr>\n",
              "    <tr>\n",
              "      <th>4</th>\n",
              "      <td>20121</td>\n",
              "      <td>4</td>\n",
              "    </tr>\n",
              "    <tr>\n",
              "      <th>...</th>\n",
              "      <td>...</td>\n",
              "      <td>...</td>\n",
              "    </tr>\n",
              "    <tr>\n",
              "      <th>77</th>\n",
              "      <td>20144</td>\n",
              "      <td>44</td>\n",
              "    </tr>\n",
              "    <tr>\n",
              "      <th>78</th>\n",
              "      <td>20155</td>\n",
              "      <td>71</td>\n",
              "    </tr>\n",
              "    <tr>\n",
              "      <th>79</th>\n",
              "      <td>20135</td>\n",
              "      <td>27</td>\n",
              "    </tr>\n",
              "    <tr>\n",
              "      <th>80</th>\n",
              "      <td>20146</td>\n",
              "      <td>52</td>\n",
              "    </tr>\n",
              "    <tr>\n",
              "      <th>81</th>\n",
              "      <td>20159</td>\n",
              "      <td>12</td>\n",
              "    </tr>\n",
              "  </tbody>\n",
              "</table>\n",
              "<p>82 rows × 2 columns</p>\n",
              "</div>"
            ],
            "text/plain": [
              "      CAP  ID_NIL\n",
              "0   20121       2\n",
              "1   20122       5\n",
              "2   20122       1\n",
              "3   20154      69\n",
              "4   20121       4\n",
              "..    ...     ...\n",
              "77  20144      44\n",
              "78  20155      71\n",
              "79  20135      27\n",
              "80  20146      52\n",
              "81  20159      12\n",
              "\n",
              "[82 rows x 2 columns]"
            ]
          },
          "metadata": {},
          "execution_count": 46
        }
      ]
    },
    {
      "cell_type": "markdown",
      "metadata": {
        "id": "-gO2wH3_R2_q"
      },
      "source": [
        "e. visualizzare la colonna dell'indirizzo e del municipio"
      ]
    },
    {
      "cell_type": "code",
      "metadata": {
        "colab": {
          "base_uri": "https://localhost:8080/",
          "height": 423
        },
        "id": "ME1h3Q2GR7Di",
        "outputId": "3274d9b1-445c-4edf-ad38-cc9dc85e31e2"
      },
      "source": [
        "df.loc[:, [\"Indirizzo\", \"MUNICIPIO\"]]"
      ],
      "execution_count": null,
      "outputs": [
        {
          "output_type": "execute_result",
          "data": {
            "text/html": [
              "<div>\n",
              "<style scoped>\n",
              "    .dataframe tbody tr th:only-of-type {\n",
              "        vertical-align: middle;\n",
              "    }\n",
              "\n",
              "    .dataframe tbody tr th {\n",
              "        vertical-align: top;\n",
              "    }\n",
              "\n",
              "    .dataframe thead th {\n",
              "        text-align: right;\n",
              "    }\n",
              "</style>\n",
              "<table border=\"1\" class=\"dataframe\">\n",
              "  <thead>\n",
              "    <tr style=\"text-align: right;\">\n",
              "      <th></th>\n",
              "      <th>Indirizzo</th>\n",
              "      <th>MUNICIPIO</th>\n",
              "    </tr>\n",
              "  </thead>\n",
              "  <tbody>\n",
              "    <tr>\n",
              "      <th>0</th>\n",
              "      <td>BASTIONI DI PORTA VOLTA 7</td>\n",
              "      <td>1</td>\n",
              "    </tr>\n",
              "    <tr>\n",
              "      <th>1</th>\n",
              "      <td>CORSO DI PORTA VIGENTINA 35</td>\n",
              "      <td>1</td>\n",
              "    </tr>\n",
              "    <tr>\n",
              "      <th>2</th>\n",
              "      <td>CORSO ITALI 16</td>\n",
              "      <td>1</td>\n",
              "    </tr>\n",
              "    <tr>\n",
              "      <th>3</th>\n",
              "      <td>CORSO SEMPIONE 94</td>\n",
              "      <td>8</td>\n",
              "    </tr>\n",
              "    <tr>\n",
              "      <th>4</th>\n",
              "      <td>CORSO VENEZIA 42</td>\n",
              "      <td>1</td>\n",
              "    </tr>\n",
              "    <tr>\n",
              "      <th>...</th>\n",
              "      <td>...</td>\n",
              "      <td>...</td>\n",
              "    </tr>\n",
              "    <tr>\n",
              "      <th>77</th>\n",
              "      <td>VIALE GORIZIA 6</td>\n",
              "      <td>6</td>\n",
              "    </tr>\n",
              "    <tr>\n",
              "      <th>78</th>\n",
              "      <td>VIALE MONTE CENERI SNC</td>\n",
              "      <td>8</td>\n",
              "    </tr>\n",
              "    <tr>\n",
              "      <th>79</th>\n",
              "      <td>VIALE SABOTINO 21/A</td>\n",
              "      <td>5</td>\n",
              "    </tr>\n",
              "    <tr>\n",
              "      <th>80</th>\n",
              "      <td>VIALE SAN GIMIGNANO 10</td>\n",
              "      <td>6</td>\n",
              "    </tr>\n",
              "    <tr>\n",
              "      <th>81</th>\n",
              "      <td>VIALE ZARA 131</td>\n",
              "      <td>9</td>\n",
              "    </tr>\n",
              "  </tbody>\n",
              "</table>\n",
              "<p>82 rows × 2 columns</p>\n",
              "</div>"
            ],
            "text/plain": [
              "                      Indirizzo  MUNICIPIO\n",
              "0     BASTIONI DI PORTA VOLTA 7          1\n",
              "1   CORSO DI PORTA VIGENTINA 35          1\n",
              "2                CORSO ITALI 16          1\n",
              "3             CORSO SEMPIONE 94          8\n",
              "4              CORSO VENEZIA 42          1\n",
              "..                          ...        ...\n",
              "77              VIALE GORIZIA 6          6\n",
              "78       VIALE MONTE CENERI SNC          8\n",
              "79          VIALE SABOTINO 21/A          5\n",
              "80       VIALE SAN GIMIGNANO 10          6\n",
              "81               VIALE ZARA 131          9\n",
              "\n",
              "[82 rows x 2 columns]"
            ]
          },
          "metadata": {},
          "execution_count": 47
        }
      ]
    },
    {
      "cell_type": "markdown",
      "metadata": {
        "id": "tSQ7an8FSGPq"
      },
      "source": [
        "--------------------------------------------------------------------------------------------------------"
      ]
    },
    {
      "cell_type": "markdown",
      "metadata": {
        "id": "sJJo1cCYSKDi"
      },
      "source": [
        "operazioni sulle righe"
      ]
    },
    {
      "cell_type": "markdown",
      "metadata": {
        "id": "eHvtNJ-3SKt7"
      },
      "source": [
        "a. visualizzare la prima riga"
      ]
    },
    {
      "cell_type": "code",
      "metadata": {
        "colab": {
          "base_uri": "https://localhost:8080/",
          "height": 81
        },
        "id": "_sK3YK8NSM36",
        "outputId": "9895615d-2b40-4d2d-f665-1abfdb506187"
      },
      "source": [
        "df.iloc[:1]"
      ],
      "execution_count": null,
      "outputs": [
        {
          "output_type": "execute_result",
          "data": {
            "text/html": [
              "<div>\n",
              "<style scoped>\n",
              "    .dataframe tbody tr th:only-of-type {\n",
              "        vertical-align: middle;\n",
              "    }\n",
              "\n",
              "    .dataframe tbody tr th {\n",
              "        vertical-align: top;\n",
              "    }\n",
              "\n",
              "    .dataframe thead th {\n",
              "        text-align: right;\n",
              "    }\n",
              "</style>\n",
              "<table border=\"1\" class=\"dataframe\">\n",
              "  <thead>\n",
              "    <tr style=\"text-align: right;\">\n",
              "      <th></th>\n",
              "      <th>Indirizzo</th>\n",
              "      <th>Telefono</th>\n",
              "      <th>Fax</th>\n",
              "      <th>CAP</th>\n",
              "      <th>MUNICIPIO</th>\n",
              "      <th>ID_NIL</th>\n",
              "      <th>NIL</th>\n",
              "      <th>LONG_X_4326</th>\n",
              "      <th>LAT_Y_4326</th>\n",
              "      <th>Location</th>\n",
              "    </tr>\n",
              "  </thead>\n",
              "  <tbody>\n",
              "    <tr>\n",
              "      <th>0</th>\n",
              "      <td>BASTIONI DI PORTA VOLTA 7</td>\n",
              "      <td>02-6572655</td>\n",
              "      <td>02-29002004</td>\n",
              "      <td>20121</td>\n",
              "      <td>1</td>\n",
              "      <td>2</td>\n",
              "      <td>BRERA</td>\n",
              "      <td>9.182151</td>\n",
              "      <td>45.479601</td>\n",
              "      <td>(45.47960100000006;9.182151000000033)</td>\n",
              "    </tr>\n",
              "  </tbody>\n",
              "</table>\n",
              "</div>"
            ],
            "text/plain": [
              "                   Indirizzo  ...                               Location\n",
              "0  BASTIONI DI PORTA VOLTA 7  ...  (45.47960100000006;9.182151000000033)\n",
              "\n",
              "[1 rows x 10 columns]"
            ]
          },
          "metadata": {},
          "execution_count": 48
        }
      ]
    },
    {
      "cell_type": "code",
      "metadata": {
        "colab": {
          "base_uri": "https://localhost:8080/",
          "height": 81
        },
        "id": "Mgcmv0T3SV5L",
        "outputId": "557df231-799e-4630-cacc-d985244b65d7"
      },
      "source": [
        "df.head(1)"
      ],
      "execution_count": null,
      "outputs": [
        {
          "output_type": "execute_result",
          "data": {
            "text/html": [
              "<div>\n",
              "<style scoped>\n",
              "    .dataframe tbody tr th:only-of-type {\n",
              "        vertical-align: middle;\n",
              "    }\n",
              "\n",
              "    .dataframe tbody tr th {\n",
              "        vertical-align: top;\n",
              "    }\n",
              "\n",
              "    .dataframe thead th {\n",
              "        text-align: right;\n",
              "    }\n",
              "</style>\n",
              "<table border=\"1\" class=\"dataframe\">\n",
              "  <thead>\n",
              "    <tr style=\"text-align: right;\">\n",
              "      <th></th>\n",
              "      <th>Indirizzo</th>\n",
              "      <th>Telefono</th>\n",
              "      <th>Fax</th>\n",
              "      <th>CAP</th>\n",
              "      <th>MUNICIPIO</th>\n",
              "      <th>ID_NIL</th>\n",
              "      <th>NIL</th>\n",
              "      <th>LONG_X_4326</th>\n",
              "      <th>LAT_Y_4326</th>\n",
              "      <th>Location</th>\n",
              "    </tr>\n",
              "  </thead>\n",
              "  <tbody>\n",
              "    <tr>\n",
              "      <th>0</th>\n",
              "      <td>BASTIONI DI PORTA VOLTA 7</td>\n",
              "      <td>02-6572655</td>\n",
              "      <td>02-29002004</td>\n",
              "      <td>20121</td>\n",
              "      <td>1</td>\n",
              "      <td>2</td>\n",
              "      <td>BRERA</td>\n",
              "      <td>9.182151</td>\n",
              "      <td>45.479601</td>\n",
              "      <td>(45.47960100000006;9.182151000000033)</td>\n",
              "    </tr>\n",
              "  </tbody>\n",
              "</table>\n",
              "</div>"
            ],
            "text/plain": [
              "                   Indirizzo  ...                               Location\n",
              "0  BASTIONI DI PORTA VOLTA 7  ...  (45.47960100000006;9.182151000000033)\n",
              "\n",
              "[1 rows x 10 columns]"
            ]
          },
          "metadata": {},
          "execution_count": 49
        }
      ]
    },
    {
      "cell_type": "markdown",
      "metadata": {
        "id": "YEY7RrZmSa5D"
      },
      "source": [
        "b.  visualizzare l'ultima riga"
      ]
    },
    {
      "cell_type": "code",
      "metadata": {
        "colab": {
          "base_uri": "https://localhost:8080/",
          "height": 81
        },
        "id": "lDSidaEFSc2L",
        "outputId": "818592f2-024f-4073-ed29-7d605dd3ad2e"
      },
      "source": [
        "df.tail(1)"
      ],
      "execution_count": null,
      "outputs": [
        {
          "output_type": "execute_result",
          "data": {
            "text/html": [
              "<div>\n",
              "<style scoped>\n",
              "    .dataframe tbody tr th:only-of-type {\n",
              "        vertical-align: middle;\n",
              "    }\n",
              "\n",
              "    .dataframe tbody tr th {\n",
              "        vertical-align: top;\n",
              "    }\n",
              "\n",
              "    .dataframe thead th {\n",
              "        text-align: right;\n",
              "    }\n",
              "</style>\n",
              "<table border=\"1\" class=\"dataframe\">\n",
              "  <thead>\n",
              "    <tr style=\"text-align: right;\">\n",
              "      <th></th>\n",
              "      <th>Indirizzo</th>\n",
              "      <th>Telefono</th>\n",
              "      <th>Fax</th>\n",
              "      <th>CAP</th>\n",
              "      <th>MUNICIPIO</th>\n",
              "      <th>ID_NIL</th>\n",
              "      <th>NIL</th>\n",
              "      <th>LONG_X_4326</th>\n",
              "      <th>LAT_Y_4326</th>\n",
              "      <th>Location</th>\n",
              "    </tr>\n",
              "  </thead>\n",
              "  <tbody>\n",
              "    <tr>\n",
              "      <th>81</th>\n",
              "      <td>VIALE ZARA 131</td>\n",
              "      <td>02-69911111</td>\n",
              "      <td>02-69911147</td>\n",
              "      <td>20159</td>\n",
              "      <td>9</td>\n",
              "      <td>12</td>\n",
              "      <td>MACIACHINI - MAGGIOLINA</td>\n",
              "      <td>9.196686</td>\n",
              "      <td>45.500193</td>\n",
              "      <td>(45.50019300000008;9.196686000000057)</td>\n",
              "    </tr>\n",
              "  </tbody>\n",
              "</table>\n",
              "</div>"
            ],
            "text/plain": [
              "         Indirizzo  ...                               Location\n",
              "81  VIALE ZARA 131  ...  (45.50019300000008;9.196686000000057)\n",
              "\n",
              "[1 rows x 10 columns]"
            ]
          },
          "metadata": {},
          "execution_count": 50
        }
      ]
    },
    {
      "cell_type": "code",
      "metadata": {
        "colab": {
          "base_uri": "https://localhost:8080/",
          "height": 81
        },
        "id": "_qsCBydUSi66",
        "outputId": "04b1b900-806d-4c9a-931c-1cb661bc2161"
      },
      "source": [
        "df.iloc[-1:]"
      ],
      "execution_count": null,
      "outputs": [
        {
          "output_type": "execute_result",
          "data": {
            "text/html": [
              "<div>\n",
              "<style scoped>\n",
              "    .dataframe tbody tr th:only-of-type {\n",
              "        vertical-align: middle;\n",
              "    }\n",
              "\n",
              "    .dataframe tbody tr th {\n",
              "        vertical-align: top;\n",
              "    }\n",
              "\n",
              "    .dataframe thead th {\n",
              "        text-align: right;\n",
              "    }\n",
              "</style>\n",
              "<table border=\"1\" class=\"dataframe\">\n",
              "  <thead>\n",
              "    <tr style=\"text-align: right;\">\n",
              "      <th></th>\n",
              "      <th>Indirizzo</th>\n",
              "      <th>Telefono</th>\n",
              "      <th>Fax</th>\n",
              "      <th>CAP</th>\n",
              "      <th>MUNICIPIO</th>\n",
              "      <th>ID_NIL</th>\n",
              "      <th>NIL</th>\n",
              "      <th>LONG_X_4326</th>\n",
              "      <th>LAT_Y_4326</th>\n",
              "      <th>Location</th>\n",
              "    </tr>\n",
              "  </thead>\n",
              "  <tbody>\n",
              "    <tr>\n",
              "      <th>81</th>\n",
              "      <td>VIALE ZARA 131</td>\n",
              "      <td>02-69911111</td>\n",
              "      <td>02-69911147</td>\n",
              "      <td>20159</td>\n",
              "      <td>9</td>\n",
              "      <td>12</td>\n",
              "      <td>MACIACHINI - MAGGIOLINA</td>\n",
              "      <td>9.196686</td>\n",
              "      <td>45.500193</td>\n",
              "      <td>(45.50019300000008;9.196686000000057)</td>\n",
              "    </tr>\n",
              "  </tbody>\n",
              "</table>\n",
              "</div>"
            ],
            "text/plain": [
              "         Indirizzo  ...                               Location\n",
              "81  VIALE ZARA 131  ...  (45.50019300000008;9.196686000000057)\n",
              "\n",
              "[1 rows x 10 columns]"
            ]
          },
          "metadata": {},
          "execution_count": 51
        }
      ]
    },
    {
      "cell_type": "markdown",
      "metadata": {
        "id": "9NjX78FkSq9i"
      },
      "source": [
        "c. visualizzare la riga centrale"
      ]
    },
    {
      "cell_type": "code",
      "metadata": {
        "colab": {
          "base_uri": "https://localhost:8080/"
        },
        "id": "oyoiy0H-St1r",
        "outputId": "5e1da410-f4b6-40c7-c431-0ddf1e5dc373"
      },
      "source": [
        "df.iloc[41]"
      ],
      "execution_count": null,
      "outputs": [
        {
          "output_type": "execute_result",
          "data": {
            "text/plain": [
              "Indirizzo                 VIA GIUSEPPE RIPAMONTI 167\n",
              "Telefono                                 02-53580011\n",
              "Fax                                      02-53580047\n",
              "CAP                                            20141\n",
              "MUNICIPIO                                          5\n",
              "ID_NIL                                            38\n",
              "NIL                          VIGENTINO - Q.RE FATIMA\n",
              "LONG_X_4326                                  9.20112\n",
              "LAT_Y_4326                                   45.4352\n",
              "Location       (45.43522200000007;9.201118500000064)\n",
              "Name: 41, dtype: object"
            ]
          },
          "metadata": {},
          "execution_count": 52
        }
      ]
    },
    {
      "cell_type": "markdown",
      "metadata": {
        "id": "EXg9mVtpS9vq"
      },
      "source": [
        "d. visualizzare le righe 3, 4 e 12"
      ]
    },
    {
      "cell_type": "code",
      "metadata": {
        "colab": {
          "base_uri": "https://localhost:8080/",
          "height": 143
        },
        "id": "koUwpw9cTA1a",
        "outputId": "7788bd81-e486-4abf-8d4e-8df680bdd954"
      },
      "source": [
        "df.iloc[[3, 4, 12]]    ##### ci sono due [[]] perche se ce solo uno non puoi mettere una lista di numeri"
      ],
      "execution_count": null,
      "outputs": [
        {
          "output_type": "execute_result",
          "data": {
            "text/html": [
              "<div>\n",
              "<style scoped>\n",
              "    .dataframe tbody tr th:only-of-type {\n",
              "        vertical-align: middle;\n",
              "    }\n",
              "\n",
              "    .dataframe tbody tr th {\n",
              "        vertical-align: top;\n",
              "    }\n",
              "\n",
              "    .dataframe thead th {\n",
              "        text-align: right;\n",
              "    }\n",
              "</style>\n",
              "<table border=\"1\" class=\"dataframe\">\n",
              "  <thead>\n",
              "    <tr style=\"text-align: right;\">\n",
              "      <th></th>\n",
              "      <th>Indirizzo</th>\n",
              "      <th>Telefono</th>\n",
              "      <th>Fax</th>\n",
              "      <th>CAP</th>\n",
              "      <th>MUNICIPIO</th>\n",
              "      <th>ID_NIL</th>\n",
              "      <th>NIL</th>\n",
              "      <th>LONG_X_4326</th>\n",
              "      <th>LAT_Y_4326</th>\n",
              "      <th>Location</th>\n",
              "    </tr>\n",
              "  </thead>\n",
              "  <tbody>\n",
              "    <tr>\n",
              "      <th>3</th>\n",
              "      <td>CORSO SEMPIONE 94</td>\n",
              "      <td>NaN</td>\n",
              "      <td>NaN</td>\n",
              "      <td>20154</td>\n",
              "      <td>8</td>\n",
              "      <td>69</td>\n",
              "      <td>SARPI</td>\n",
              "      <td>9.158508</td>\n",
              "      <td>45.486540</td>\n",
              "      <td>(45.48654000000005;9.15850800000004)</td>\n",
              "    </tr>\n",
              "    <tr>\n",
              "      <th>4</th>\n",
              "      <td>CORSO VENEZIA 42</td>\n",
              "      <td>02-76023056</td>\n",
              "      <td>02-7837251</td>\n",
              "      <td>20121</td>\n",
              "      <td>1</td>\n",
              "      <td>4</td>\n",
              "      <td>GUASTALLA</td>\n",
              "      <td>9.202703</td>\n",
              "      <td>45.471861</td>\n",
              "      <td>(45.47186100000005;9.202702500000044)</td>\n",
              "    </tr>\n",
              "    <tr>\n",
              "      <th>12</th>\n",
              "      <td>VIA APPENNINI 77/A</td>\n",
              "      <td>02-3535414</td>\n",
              "      <td>02-3538072</td>\n",
              "      <td>20151</td>\n",
              "      <td>8</td>\n",
              "      <td>65</td>\n",
              "      <td>Q.RE GALLARATESE - Q.RE SAN LEONARDO - LAMPUGNANO</td>\n",
              "      <td>9.104292</td>\n",
              "      <td>45.502074</td>\n",
              "      <td>(45.50207400000005;9.104292000000044)</td>\n",
              "    </tr>\n",
              "  </tbody>\n",
              "</table>\n",
              "</div>"
            ],
            "text/plain": [
              "             Indirizzo  ...                               Location\n",
              "3    CORSO SEMPIONE 94  ...   (45.48654000000005;9.15850800000004)\n",
              "4     CORSO VENEZIA 42  ...  (45.47186100000005;9.202702500000044)\n",
              "12  VIA APPENNINI 77/A  ...  (45.50207400000005;9.104292000000044)\n",
              "\n",
              "[3 rows x 10 columns]"
            ]
          },
          "metadata": {},
          "execution_count": 53
        }
      ]
    },
    {
      "cell_type": "markdown",
      "metadata": {
        "id": "diMHaYbxTXpC"
      },
      "source": [
        "e. visualizzare le righe dalla decima alla quindicesima"
      ]
    },
    {
      "cell_type": "code",
      "metadata": {
        "colab": {
          "base_uri": "https://localhost:8080/",
          "height": 237
        },
        "id": "KoyJimrHTbAC",
        "outputId": "6db0cb10-aa04-4f3c-df2f-1c3ccd6eecf7"
      },
      "source": [
        "df.iloc[10:16]"
      ],
      "execution_count": null,
      "outputs": [
        {
          "output_type": "execute_result",
          "data": {
            "text/html": [
              "<div>\n",
              "<style scoped>\n",
              "    .dataframe tbody tr th:only-of-type {\n",
              "        vertical-align: middle;\n",
              "    }\n",
              "\n",
              "    .dataframe tbody tr th {\n",
              "        vertical-align: top;\n",
              "    }\n",
              "\n",
              "    .dataframe thead th {\n",
              "        text-align: right;\n",
              "    }\n",
              "</style>\n",
              "<table border=\"1\" class=\"dataframe\">\n",
              "  <thead>\n",
              "    <tr style=\"text-align: right;\">\n",
              "      <th></th>\n",
              "      <th>Indirizzo</th>\n",
              "      <th>Telefono</th>\n",
              "      <th>Fax</th>\n",
              "      <th>CAP</th>\n",
              "      <th>MUNICIPIO</th>\n",
              "      <th>ID_NIL</th>\n",
              "      <th>NIL</th>\n",
              "      <th>LONG_X_4326</th>\n",
              "      <th>LAT_Y_4326</th>\n",
              "      <th>Location</th>\n",
              "    </tr>\n",
              "  </thead>\n",
              "  <tbody>\n",
              "    <tr>\n",
              "      <th>10</th>\n",
              "      <td>VIA ALFREDO CAPPELLINI 17/19</td>\n",
              "      <td>02-6773311</td>\n",
              "      <td>02-67733147</td>\n",
              "      <td>20124</td>\n",
              "      <td>2</td>\n",
              "      <td>10</td>\n",
              "      <td>STAZIONE CENTRALE - PONTE SEVESO</td>\n",
              "      <td>9.201735</td>\n",
              "      <td>45.481950</td>\n",
              "      <td>(45.48195000000004;9.201735000000042)</td>\n",
              "    </tr>\n",
              "    <tr>\n",
              "      <th>11</th>\n",
              "      <td>VIA ANDREA VOCHIERI 12</td>\n",
              "      <td>02-66200116</td>\n",
              "      <td>02-66203094</td>\n",
              "      <td>20161</td>\n",
              "      <td>9</td>\n",
              "      <td>80</td>\n",
              "      <td>AFFORI</td>\n",
              "      <td>9.168683</td>\n",
              "      <td>45.514143</td>\n",
              "      <td>(45.51414300000005;9.168682500000045)</td>\n",
              "    </tr>\n",
              "    <tr>\n",
              "      <th>12</th>\n",
              "      <td>VIA APPENNINI 77/A</td>\n",
              "      <td>02-3535414</td>\n",
              "      <td>02-3538072</td>\n",
              "      <td>20151</td>\n",
              "      <td>8</td>\n",
              "      <td>65</td>\n",
              "      <td>Q.RE GALLARATESE - Q.RE SAN LEONARDO - LAMPUGNANO</td>\n",
              "      <td>9.104292</td>\n",
              "      <td>45.502074</td>\n",
              "      <td>(45.50207400000005;9.104292000000044)</td>\n",
              "    </tr>\n",
              "    <tr>\n",
              "      <th>13</th>\n",
              "      <td>VIA ARQUA' 14</td>\n",
              "      <td>02-26141687</td>\n",
              "      <td>02-26825342</td>\n",
              "      <td>20131</td>\n",
              "      <td>2</td>\n",
              "      <td>20</td>\n",
              "      <td>LORETO - CASORETTO - NOLO</td>\n",
              "      <td>9.227714</td>\n",
              "      <td>45.492876</td>\n",
              "      <td>(45.49287600000008;9.22771350000005)</td>\n",
              "    </tr>\n",
              "    <tr>\n",
              "      <th>14</th>\n",
              "      <td>VIA BENOZZO GOZZOLI 51</td>\n",
              "      <td>02-48945239</td>\n",
              "      <td>02-48945202</td>\n",
              "      <td>20152</td>\n",
              "      <td>7</td>\n",
              "      <td>55</td>\n",
              "      <td>BAGGIO - Q.RE DEGLI OLMI - Q.RE VALSESIA</td>\n",
              "      <td>9.090990</td>\n",
              "      <td>45.455607</td>\n",
              "      <td>(45.45560700000004;9.090990000000033)</td>\n",
              "    </tr>\n",
              "    <tr>\n",
              "      <th>15</th>\n",
              "      <td>VIA BOVISASCA 173</td>\n",
              "      <td>02-3573683</td>\n",
              "      <td>02-39000632</td>\n",
              "      <td>20161</td>\n",
              "      <td>9</td>\n",
              "      <td>81</td>\n",
              "      <td>BOVISASCA</td>\n",
              "      <td>9.152855</td>\n",
              "      <td>45.519456</td>\n",
              "      <td>(45.519456269000045;9.152854782000077)</td>\n",
              "    </tr>\n",
              "  </tbody>\n",
              "</table>\n",
              "</div>"
            ],
            "text/plain": [
              "                       Indirizzo  ...                                Location\n",
              "10  VIA ALFREDO CAPPELLINI 17/19  ...   (45.48195000000004;9.201735000000042)\n",
              "11        VIA ANDREA VOCHIERI 12  ...   (45.51414300000005;9.168682500000045)\n",
              "12            VIA APPENNINI 77/A  ...   (45.50207400000005;9.104292000000044)\n",
              "13                 VIA ARQUA' 14  ...    (45.49287600000008;9.22771350000005)\n",
              "14        VIA BENOZZO GOZZOLI 51  ...   (45.45560700000004;9.090990000000033)\n",
              "15             VIA BOVISASCA 173  ...  (45.519456269000045;9.152854782000077)\n",
              "\n",
              "[6 rows x 10 columns]"
            ]
          },
          "metadata": {},
          "execution_count": 54
        }
      ]
    },
    {
      "cell_type": "markdown",
      "metadata": {
        "id": "2y1u0tcYThMM"
      },
      "source": [
        "--------------------------------------------------------------------------------------------------------"
      ]
    },
    {
      "cell_type": "markdown",
      "metadata": {
        "id": "PPYp8rhmTkny"
      },
      "source": [
        "operazioni sulle righe e sulle colonne"
      ]
    },
    {
      "cell_type": "markdown",
      "metadata": {
        "id": "3DUdMuqTTnA6"
      },
      "source": [
        "a. visualizzare la colonna indirizzo e NIL delle righe dalla decima alla quindicesima"
      ]
    },
    {
      "cell_type": "code",
      "metadata": {
        "colab": {
          "base_uri": "https://localhost:8080/",
          "height": 268
        },
        "id": "id0-S3e1Tpxi",
        "outputId": "0d91a254-ba20-443c-c801-b94ce230a53a"
      },
      "source": [
        "df.loc[10:16, [\"Indirizzo\", \"NIL\"]]"
      ],
      "execution_count": null,
      "outputs": [
        {
          "output_type": "execute_result",
          "data": {
            "text/html": [
              "<div>\n",
              "<style scoped>\n",
              "    .dataframe tbody tr th:only-of-type {\n",
              "        vertical-align: middle;\n",
              "    }\n",
              "\n",
              "    .dataframe tbody tr th {\n",
              "        vertical-align: top;\n",
              "    }\n",
              "\n",
              "    .dataframe thead th {\n",
              "        text-align: right;\n",
              "    }\n",
              "</style>\n",
              "<table border=\"1\" class=\"dataframe\">\n",
              "  <thead>\n",
              "    <tr style=\"text-align: right;\">\n",
              "      <th></th>\n",
              "      <th>Indirizzo</th>\n",
              "      <th>NIL</th>\n",
              "    </tr>\n",
              "  </thead>\n",
              "  <tbody>\n",
              "    <tr>\n",
              "      <th>10</th>\n",
              "      <td>VIA ALFREDO CAPPELLINI 17/19</td>\n",
              "      <td>STAZIONE CENTRALE - PONTE SEVESO</td>\n",
              "    </tr>\n",
              "    <tr>\n",
              "      <th>11</th>\n",
              "      <td>VIA ANDREA VOCHIERI 12</td>\n",
              "      <td>AFFORI</td>\n",
              "    </tr>\n",
              "    <tr>\n",
              "      <th>12</th>\n",
              "      <td>VIA APPENNINI 77/A</td>\n",
              "      <td>Q.RE GALLARATESE - Q.RE SAN LEONARDO - LAMPUGNANO</td>\n",
              "    </tr>\n",
              "    <tr>\n",
              "      <th>13</th>\n",
              "      <td>VIA ARQUA' 14</td>\n",
              "      <td>LORETO - CASORETTO - NOLO</td>\n",
              "    </tr>\n",
              "    <tr>\n",
              "      <th>14</th>\n",
              "      <td>VIA BENOZZO GOZZOLI 51</td>\n",
              "      <td>BAGGIO - Q.RE DEGLI OLMI - Q.RE VALSESIA</td>\n",
              "    </tr>\n",
              "    <tr>\n",
              "      <th>15</th>\n",
              "      <td>VIA BOVISASCA 173</td>\n",
              "      <td>BOVISASCA</td>\n",
              "    </tr>\n",
              "    <tr>\n",
              "      <th>16</th>\n",
              "      <td>VIA BRONZINO 7</td>\n",
              "      <td>BUENOS AIRES - PORTA VENEZIA - PORTA MONFORTE</td>\n",
              "    </tr>\n",
              "  </tbody>\n",
              "</table>\n",
              "</div>"
            ],
            "text/plain": [
              "                       Indirizzo                                                NIL\n",
              "10  VIA ALFREDO CAPPELLINI 17/19                   STAZIONE CENTRALE - PONTE SEVESO\n",
              "11        VIA ANDREA VOCHIERI 12                                             AFFORI\n",
              "12            VIA APPENNINI 77/A  Q.RE GALLARATESE - Q.RE SAN LEONARDO - LAMPUGNANO\n",
              "13                 VIA ARQUA' 14                          LORETO - CASORETTO - NOLO\n",
              "14        VIA BENOZZO GOZZOLI 51           BAGGIO - Q.RE DEGLI OLMI - Q.RE VALSESIA\n",
              "15             VIA BOVISASCA 173                                          BOVISASCA\n",
              "16                VIA BRONZINO 7      BUENOS AIRES - PORTA VENEZIA - PORTA MONFORTE"
            ]
          },
          "metadata": {},
          "execution_count": 55
        }
      ]
    },
    {
      "cell_type": "markdown",
      "metadata": {
        "id": "GQzVZGOmUagC"
      },
      "source": [
        "b. visualizzare le colonne telefono e fax delle righe 3, 5 e 12"
      ]
    },
    {
      "cell_type": "code",
      "metadata": {
        "colab": {
          "base_uri": "https://localhost:8080/",
          "height": 143
        },
        "id": "ztGttvK8UccC",
        "outputId": "2063aa0f-5d8c-4c39-cb44-7bad74ab788f"
      },
      "source": [
        "df.loc[[3,5,12], [\"Telefono\", \"Fax\"]]"
      ],
      "execution_count": null,
      "outputs": [
        {
          "output_type": "execute_result",
          "data": {
            "text/html": [
              "<div>\n",
              "<style scoped>\n",
              "    .dataframe tbody tr th:only-of-type {\n",
              "        vertical-align: middle;\n",
              "    }\n",
              "\n",
              "    .dataframe tbody tr th {\n",
              "        vertical-align: top;\n",
              "    }\n",
              "\n",
              "    .dataframe thead th {\n",
              "        text-align: right;\n",
              "    }\n",
              "</style>\n",
              "<table border=\"1\" class=\"dataframe\">\n",
              "  <thead>\n",
              "    <tr style=\"text-align: right;\">\n",
              "      <th></th>\n",
              "      <th>Telefono</th>\n",
              "      <th>Fax</th>\n",
              "    </tr>\n",
              "  </thead>\n",
              "  <tbody>\n",
              "    <tr>\n",
              "      <th>3</th>\n",
              "      <td>NaN</td>\n",
              "      <td>NaN</td>\n",
              "    </tr>\n",
              "    <tr>\n",
              "      <th>5</th>\n",
              "      <td>02-47714011</td>\n",
              "      <td>02-47714047</td>\n",
              "    </tr>\n",
              "    <tr>\n",
              "      <th>12</th>\n",
              "      <td>02-3535414</td>\n",
              "      <td>02-3538072</td>\n",
              "    </tr>\n",
              "  </tbody>\n",
              "</table>\n",
              "</div>"
            ],
            "text/plain": [
              "       Telefono          Fax\n",
              "3           NaN          NaN\n",
              "5   02-47714011  02-47714047\n",
              "12   02-3535414   02-3538072"
            ]
          },
          "metadata": {},
          "execution_count": 56
        }
      ]
    },
    {
      "cell_type": "markdown",
      "metadata": {
        "id": "DVeWCrTDUpSr"
      },
      "source": [
        "c. visualizzare le colonne dalla 2 alla 6 delle righe dalla 3 alla 10"
      ]
    },
    {
      "cell_type": "code",
      "metadata": {
        "colab": {
          "base_uri": "https://localhost:8080/",
          "height": 300
        },
        "id": "iDCIeF3oUrcF",
        "outputId": "22e1b7e8-28e9-457e-d1f3-3e51b4e3aa77"
      },
      "source": [
        "df.iloc[3:11, 1:6]"
      ],
      "execution_count": null,
      "outputs": [
        {
          "output_type": "execute_result",
          "data": {
            "text/html": [
              "<div>\n",
              "<style scoped>\n",
              "    .dataframe tbody tr th:only-of-type {\n",
              "        vertical-align: middle;\n",
              "    }\n",
              "\n",
              "    .dataframe tbody tr th {\n",
              "        vertical-align: top;\n",
              "    }\n",
              "\n",
              "    .dataframe thead th {\n",
              "        text-align: right;\n",
              "    }\n",
              "</style>\n",
              "<table border=\"1\" class=\"dataframe\">\n",
              "  <thead>\n",
              "    <tr style=\"text-align: right;\">\n",
              "      <th></th>\n",
              "      <th>Telefono</th>\n",
              "      <th>Fax</th>\n",
              "      <th>CAP</th>\n",
              "      <th>MUNICIPIO</th>\n",
              "      <th>ID_NIL</th>\n",
              "    </tr>\n",
              "  </thead>\n",
              "  <tbody>\n",
              "    <tr>\n",
              "      <th>3</th>\n",
              "      <td>NaN</td>\n",
              "      <td>NaN</td>\n",
              "      <td>20154</td>\n",
              "      <td>8</td>\n",
              "      <td>69</td>\n",
              "    </tr>\n",
              "    <tr>\n",
              "      <th>4</th>\n",
              "      <td>02-76023056</td>\n",
              "      <td>02-7837251</td>\n",
              "      <td>20121</td>\n",
              "      <td>1</td>\n",
              "      <td>4</td>\n",
              "    </tr>\n",
              "    <tr>\n",
              "      <th>5</th>\n",
              "      <td>02-47714011</td>\n",
              "      <td>02-47714047</td>\n",
              "      <td>20146</td>\n",
              "      <td>6</td>\n",
              "      <td>49</td>\n",
              "    </tr>\n",
              "    <tr>\n",
              "      <th>6</th>\n",
              "      <td>02-42255211</td>\n",
              "      <td>02-42255247</td>\n",
              "      <td>20146</td>\n",
              "      <td>6</td>\n",
              "      <td>49</td>\n",
              "    </tr>\n",
              "    <tr>\n",
              "      <th>7</th>\n",
              "      <td>02-325774</td>\n",
              "      <td>02-3271232</td>\n",
              "      <td>20148</td>\n",
              "      <td>8</td>\n",
              "      <td>66</td>\n",
              "    </tr>\n",
              "    <tr>\n",
              "      <th>8</th>\n",
              "      <td>02-37790911</td>\n",
              "      <td>02-37790947</td>\n",
              "      <td>20158</td>\n",
              "      <td>9</td>\n",
              "      <td>78</td>\n",
              "    </tr>\n",
              "    <tr>\n",
              "      <th>9</th>\n",
              "      <td>02-2665192</td>\n",
              "      <td>02-26680123</td>\n",
              "      <td>20131</td>\n",
              "      <td>3</td>\n",
              "      <td>22</td>\n",
              "    </tr>\n",
              "    <tr>\n",
              "      <th>10</th>\n",
              "      <td>02-6773311</td>\n",
              "      <td>02-67733147</td>\n",
              "      <td>20124</td>\n",
              "      <td>2</td>\n",
              "      <td>10</td>\n",
              "    </tr>\n",
              "  </tbody>\n",
              "</table>\n",
              "</div>"
            ],
            "text/plain": [
              "       Telefono          Fax    CAP  MUNICIPIO  ID_NIL\n",
              "3           NaN          NaN  20154          8      69\n",
              "4   02-76023056   02-7837251  20121          1       4\n",
              "5   02-47714011  02-47714047  20146          6      49\n",
              "6   02-42255211  02-42255247  20146          6      49\n",
              "7     02-325774   02-3271232  20148          8      66\n",
              "8   02-37790911  02-37790947  20158          9      78\n",
              "9    02-2665192  02-26680123  20131          3      22\n",
              "10   02-6773311  02-67733147  20124          2      10"
            ]
          },
          "metadata": {},
          "execution_count": 57
        }
      ]
    },
    {
      "cell_type": "markdown",
      "metadata": {
        "id": "62qDx20lVFVj"
      },
      "source": [
        "--------------------------------------------------------------------------------------------------------"
      ]
    },
    {
      "cell_type": "markdown",
      "metadata": {
        "id": "hy4qQNHcVLeD"
      },
      "source": [
        "ricerca di informazioni"
      ]
    },
    {
      "cell_type": "markdown",
      "metadata": {
        "id": "VsFVQx0ZVNpL"
      },
      "source": [
        "a. visualizzare il numero di telefono dell'ufficio di piazza Napoli"
      ]
    },
    {
      "cell_type": "code",
      "metadata": {
        "colab": {
          "base_uri": "https://localhost:8080/"
        },
        "id": "38t2SE_9VQm0",
        "outputId": "7f10ad19-d6a7-4a70-b1e3-672bc98e4441"
      },
      "source": [
        "df.loc[df[\"Indirizzo\"].str.contains(\"PIAZZA NAPOLI\")][\"Telefono\"]"
      ],
      "execution_count": null,
      "outputs": [
        {
          "output_type": "execute_result",
          "data": {
            "text/plain": [
              "6    02-42255211\n",
              "Name: Telefono, dtype: object"
            ]
          },
          "metadata": {},
          "execution_count": 58
        }
      ]
    },
    {
      "cell_type": "markdown",
      "metadata": {
        "id": "OmKUFFjmWZAb"
      },
      "source": [
        "b.  visualizzare l'indirizzo e il numero di telefono degli uffici postali di Niguarda"
      ]
    },
    {
      "cell_type": "code",
      "metadata": {
        "colab": {
          "base_uri": "https://localhost:8080/",
          "height": 112
        },
        "id": "n0CTtT8eWbp_",
        "outputId": "22c6cde6-178b-4547-87b1-dbc573abb1f8"
      },
      "source": [
        "df.loc[df[\"NIL\"].str.contains(\"NIGUARDA\")][[\"Telefono\", \"Indirizzo\"]]   ##### ci sono due [[]] perche se ce solo uno non puoi mettere una lista di stringhe o numeri"
      ],
      "execution_count": null,
      "outputs": [
        {
          "output_type": "execute_result",
          "data": {
            "text/html": [
              "<div>\n",
              "<style scoped>\n",
              "    .dataframe tbody tr th:only-of-type {\n",
              "        vertical-align: middle;\n",
              "    }\n",
              "\n",
              "    .dataframe tbody tr th {\n",
              "        vertical-align: top;\n",
              "    }\n",
              "\n",
              "    .dataframe thead th {\n",
              "        text-align: right;\n",
              "    }\n",
              "</style>\n",
              "<table border=\"1\" class=\"dataframe\">\n",
              "  <thead>\n",
              "    <tr style=\"text-align: right;\">\n",
              "      <th></th>\n",
              "      <th>Telefono</th>\n",
              "      <th>Indirizzo</th>\n",
              "    </tr>\n",
              "  </thead>\n",
              "  <tbody>\n",
              "    <tr>\n",
              "      <th>60</th>\n",
              "      <td>02-66100185</td>\n",
              "      <td>VIA PONALE 6</td>\n",
              "    </tr>\n",
              "    <tr>\n",
              "      <th>76</th>\n",
              "      <td>02-6470400</td>\n",
              "      <td>VIALE GIOVANNI SUZZANI</td>\n",
              "    </tr>\n",
              "  </tbody>\n",
              "</table>\n",
              "</div>"
            ],
            "text/plain": [
              "       Telefono               Indirizzo\n",
              "60  02-66100185            VIA PONALE 6\n",
              "76   02-6470400  VIALE GIOVANNI SUZZANI"
            ]
          },
          "metadata": {},
          "execution_count": 59
        }
      ]
    },
    {
      "cell_type": "markdown",
      "metadata": {
        "id": "6zjwgF14W6gE"
      },
      "source": [
        "c. visualizzare l'indirizzo e il numero di telefono degli uffici postali dei municipi 1, 2 e 3"
      ]
    },
    {
      "cell_type": "code",
      "metadata": {
        "colab": {
          "base_uri": "https://localhost:8080/",
          "height": 989
        },
        "id": "gsNrVc57W8nr",
        "outputId": "e53df6b0-3517-4eca-d80f-525d57de8bc1"
      },
      "source": [
        "df.loc[(df[\"MUNICIPIO\"] == 1) | (df[\"MUNICIPIO\"] == 2) | (df[\"MUNICIPIO\"] == 3)][[\"Indirizzo\", \"Telefono\", \"MUNICIPIO\"]]"
      ],
      "execution_count": null,
      "outputs": [
        {
          "output_type": "execute_result",
          "data": {
            "text/html": [
              "<div>\n",
              "<style scoped>\n",
              "    .dataframe tbody tr th:only-of-type {\n",
              "        vertical-align: middle;\n",
              "    }\n",
              "\n",
              "    .dataframe tbody tr th {\n",
              "        vertical-align: top;\n",
              "    }\n",
              "\n",
              "    .dataframe thead th {\n",
              "        text-align: right;\n",
              "    }\n",
              "</style>\n",
              "<table border=\"1\" class=\"dataframe\">\n",
              "  <thead>\n",
              "    <tr style=\"text-align: right;\">\n",
              "      <th></th>\n",
              "      <th>Indirizzo</th>\n",
              "      <th>Telefono</th>\n",
              "      <th>MUNICIPIO</th>\n",
              "    </tr>\n",
              "  </thead>\n",
              "  <tbody>\n",
              "    <tr>\n",
              "      <th>0</th>\n",
              "      <td>BASTIONI DI PORTA VOLTA 7</td>\n",
              "      <td>02-6572655</td>\n",
              "      <td>1</td>\n",
              "    </tr>\n",
              "    <tr>\n",
              "      <th>1</th>\n",
              "      <td>CORSO DI PORTA VIGENTINA 35</td>\n",
              "      <td>02-58320771</td>\n",
              "      <td>1</td>\n",
              "    </tr>\n",
              "    <tr>\n",
              "      <th>2</th>\n",
              "      <td>CORSO ITALI 16</td>\n",
              "      <td>02-804336</td>\n",
              "      <td>1</td>\n",
              "    </tr>\n",
              "    <tr>\n",
              "      <th>4</th>\n",
              "      <td>CORSO VENEZIA 42</td>\n",
              "      <td>02-76023056</td>\n",
              "      <td>1</td>\n",
              "    </tr>\n",
              "    <tr>\n",
              "      <th>9</th>\n",
              "      <td>VIA ADELCHI 2</td>\n",
              "      <td>02-2665192</td>\n",
              "      <td>3</td>\n",
              "    </tr>\n",
              "    <tr>\n",
              "      <th>10</th>\n",
              "      <td>VIA ALFREDO CAPPELLINI 17/19</td>\n",
              "      <td>02-6773311</td>\n",
              "      <td>2</td>\n",
              "    </tr>\n",
              "    <tr>\n",
              "      <th>13</th>\n",
              "      <td>VIA ARQUA' 14</td>\n",
              "      <td>02-26141687</td>\n",
              "      <td>2</td>\n",
              "    </tr>\n",
              "    <tr>\n",
              "      <th>16</th>\n",
              "      <td>VIA BRONZINO 7</td>\n",
              "      <td>02-29527423</td>\n",
              "      <td>3</td>\n",
              "    </tr>\n",
              "    <tr>\n",
              "      <th>21</th>\n",
              "      <td>VIA COMUNE ANTICO 1</td>\n",
              "      <td>02-67070525</td>\n",
              "      <td>2</td>\n",
              "    </tr>\n",
              "    <tr>\n",
              "      <th>22</th>\n",
              "      <td>VIA CORDUSIO 4</td>\n",
              "      <td>02-72482126</td>\n",
              "      <td>1</td>\n",
              "    </tr>\n",
              "    <tr>\n",
              "      <th>25</th>\n",
              "      <td>VIA DELL'ORSO 11</td>\n",
              "      <td>02-80277311</td>\n",
              "      <td>1</td>\n",
              "    </tr>\n",
              "    <tr>\n",
              "      <th>26</th>\n",
              "      <td>VIA DELLA MOSCOVA 30</td>\n",
              "      <td>NaN</td>\n",
              "      <td>1</td>\n",
              "    </tr>\n",
              "    <tr>\n",
              "      <th>27</th>\n",
              "      <td>VIA DURAZZO 5</td>\n",
              "      <td>02-21040511</td>\n",
              "      <td>3</td>\n",
              "    </tr>\n",
              "    <tr>\n",
              "      <th>30</th>\n",
              "      <td>VIA FESTA DEL PERDONO 10</td>\n",
              "      <td>02-58207833</td>\n",
              "      <td>1</td>\n",
              "    </tr>\n",
              "    <tr>\n",
              "      <th>38</th>\n",
              "      <td>VIA GIOSUE' CARDUCCI 7</td>\n",
              "      <td>02-85917111</td>\n",
              "      <td>1</td>\n",
              "    </tr>\n",
              "    <tr>\n",
              "      <th>40</th>\n",
              "      <td>VIA GIUSEPPE PECCHIO 1</td>\n",
              "      <td>NaN</td>\n",
              "      <td>3</td>\n",
              "    </tr>\n",
              "    <tr>\n",
              "      <th>46</th>\n",
              "      <td>VIA LUIGI VARANINI 26/28</td>\n",
              "      <td>02-28181611</td>\n",
              "      <td>2</td>\n",
              "    </tr>\n",
              "    <tr>\n",
              "      <th>49</th>\n",
              "      <td>VIA MAZZINI GIUSEPPE 15</td>\n",
              "      <td>02-86396911</td>\n",
              "      <td>1</td>\n",
              "    </tr>\n",
              "    <tr>\n",
              "      <th>51</th>\n",
              "      <td>VIA MONDOVI' 2</td>\n",
              "      <td>02-26300993</td>\n",
              "      <td>2</td>\n",
              "    </tr>\n",
              "    <tr>\n",
              "      <th>55</th>\n",
              "      <td>VIA ORTICA 19</td>\n",
              "      <td>02-70061332</td>\n",
              "      <td>3</td>\n",
              "    </tr>\n",
              "    <tr>\n",
              "      <th>59</th>\n",
              "      <td>VIA PINDARO 29</td>\n",
              "      <td>NaN</td>\n",
              "      <td>2</td>\n",
              "    </tr>\n",
              "    <tr>\n",
              "      <th>64</th>\n",
              "      <td>VIA ROSOLINO PILO 19/A</td>\n",
              "      <td>02-2046789</td>\n",
              "      <td>3</td>\n",
              "    </tr>\n",
              "    <tr>\n",
              "      <th>66</th>\n",
              "      <td>VIA SAMBUCO 15</td>\n",
              "      <td>02-89405932</td>\n",
              "      <td>1</td>\n",
              "    </tr>\n",
              "    <tr>\n",
              "      <th>67</th>\n",
              "      <td>VIA SAN MAMETE 16</td>\n",
              "      <td>02-2566786</td>\n",
              "      <td>2</td>\n",
              "    </tr>\n",
              "    <tr>\n",
              "      <th>68</th>\n",
              "      <td>VIA SAN SIMPLICIANO 5</td>\n",
              "      <td>02-86396811</td>\n",
              "      <td>1</td>\n",
              "    </tr>\n",
              "    <tr>\n",
              "      <th>69</th>\n",
              "      <td>VIA SANTA SOFIA 8</td>\n",
              "      <td>02-58318572</td>\n",
              "      <td>1</td>\n",
              "    </tr>\n",
              "    <tr>\n",
              "      <th>71</th>\n",
              "      <td>VIA SCIPIONE PIATTOLI 6</td>\n",
              "      <td>02-26112432</td>\n",
              "      <td>2</td>\n",
              "    </tr>\n",
              "    <tr>\n",
              "      <th>72</th>\n",
              "      <td>VIA VIGNA 6</td>\n",
              "      <td>02-86396711</td>\n",
              "      <td>1</td>\n",
              "    </tr>\n",
              "    <tr>\n",
              "      <th>73</th>\n",
              "      <td>VIALE ANDREA DORIA 48</td>\n",
              "      <td>02-2047169</td>\n",
              "      <td>3</td>\n",
              "    </tr>\n",
              "    <tr>\n",
              "      <th>75</th>\n",
              "      <td>VIALE EVARISTO STEFINI 12</td>\n",
              "      <td>02-67361911</td>\n",
              "      <td>2</td>\n",
              "    </tr>\n",
              "  </tbody>\n",
              "</table>\n",
              "</div>"
            ],
            "text/plain": [
              "                       Indirizzo     Telefono  MUNICIPIO\n",
              "0      BASTIONI DI PORTA VOLTA 7   02-6572655          1\n",
              "1    CORSO DI PORTA VIGENTINA 35  02-58320771          1\n",
              "2                 CORSO ITALI 16    02-804336          1\n",
              "4               CORSO VENEZIA 42  02-76023056          1\n",
              "9                  VIA ADELCHI 2   02-2665192          3\n",
              "10  VIA ALFREDO CAPPELLINI 17/19   02-6773311          2\n",
              "13                 VIA ARQUA' 14  02-26141687          2\n",
              "16                VIA BRONZINO 7  02-29527423          3\n",
              "21           VIA COMUNE ANTICO 1  02-67070525          2\n",
              "22                VIA CORDUSIO 4  02-72482126          1\n",
              "25              VIA DELL'ORSO 11  02-80277311          1\n",
              "26          VIA DELLA MOSCOVA 30          NaN          1\n",
              "27                 VIA DURAZZO 5  02-21040511          3\n",
              "30      VIA FESTA DEL PERDONO 10  02-58207833          1\n",
              "38        VIA GIOSUE' CARDUCCI 7  02-85917111          1\n",
              "40        VIA GIUSEPPE PECCHIO 1          NaN          3\n",
              "46      VIA LUIGI VARANINI 26/28  02-28181611          2\n",
              "49       VIA MAZZINI GIUSEPPE 15  02-86396911          1\n",
              "51                VIA MONDOVI' 2  02-26300993          2\n",
              "55                 VIA ORTICA 19  02-70061332          3\n",
              "59                VIA PINDARO 29          NaN          2\n",
              "64        VIA ROSOLINO PILO 19/A   02-2046789          3\n",
              "66                VIA SAMBUCO 15  02-89405932          1\n",
              "67             VIA SAN MAMETE 16   02-2566786          2\n",
              "68         VIA SAN SIMPLICIANO 5  02-86396811          1\n",
              "69             VIA SANTA SOFIA 8  02-58318572          1\n",
              "71       VIA SCIPIONE PIATTOLI 6  02-26112432          2\n",
              "72                   VIA VIGNA 6  02-86396711          1\n",
              "73         VIALE ANDREA DORIA 48   02-2047169          3\n",
              "75     VIALE EVARISTO STEFINI 12  02-67361911          2"
            ]
          },
          "metadata": {},
          "execution_count": 60
        }
      ]
    },
    {
      "cell_type": "markdown",
      "metadata": {
        "id": "Iny0M3jsXx9j"
      },
      "source": [
        "d. visualizzare gli uffici di cui non si conosce il numero di telefono o il fax"
      ]
    },
    {
      "cell_type": "code",
      "metadata": {
        "colab": {
          "base_uri": "https://localhost:8080/",
          "height": 206
        },
        "id": "08q5CvhXX0KT",
        "outputId": "a0ddd0df-781c-4db9-ef70-4d84d2dbe60c"
      },
      "source": [
        "df.loc[df[\"Telefono\"].isnull() | df[\"Fax\"].isnull()]        #########    PER VISALIZZARE RIGHE CHE HANNO UN VALORE SPECIFICO MANCANTE SI USA .isnull()"
      ],
      "execution_count": null,
      "outputs": [
        {
          "output_type": "execute_result",
          "data": {
            "text/html": [
              "<div>\n",
              "<style scoped>\n",
              "    .dataframe tbody tr th:only-of-type {\n",
              "        vertical-align: middle;\n",
              "    }\n",
              "\n",
              "    .dataframe tbody tr th {\n",
              "        vertical-align: top;\n",
              "    }\n",
              "\n",
              "    .dataframe thead th {\n",
              "        text-align: right;\n",
              "    }\n",
              "</style>\n",
              "<table border=\"1\" class=\"dataframe\">\n",
              "  <thead>\n",
              "    <tr style=\"text-align: right;\">\n",
              "      <th></th>\n",
              "      <th>Indirizzo</th>\n",
              "      <th>Telefono</th>\n",
              "      <th>Fax</th>\n",
              "      <th>CAP</th>\n",
              "      <th>MUNICIPIO</th>\n",
              "      <th>ID_NIL</th>\n",
              "      <th>NIL</th>\n",
              "      <th>LONG_X_4326</th>\n",
              "      <th>LAT_Y_4326</th>\n",
              "      <th>Location</th>\n",
              "    </tr>\n",
              "  </thead>\n",
              "  <tbody>\n",
              "    <tr>\n",
              "      <th>3</th>\n",
              "      <td>CORSO SEMPIONE 94</td>\n",
              "      <td>NaN</td>\n",
              "      <td>NaN</td>\n",
              "      <td>20154</td>\n",
              "      <td>8</td>\n",
              "      <td>69</td>\n",
              "      <td>SARPI</td>\n",
              "      <td>9.158508</td>\n",
              "      <td>45.486540</td>\n",
              "      <td>(45.48654000000005;9.15850800000004)</td>\n",
              "    </tr>\n",
              "    <tr>\n",
              "      <th>26</th>\n",
              "      <td>VIA DELLA MOSCOVA 30</td>\n",
              "      <td>NaN</td>\n",
              "      <td>NaN</td>\n",
              "      <td>20121</td>\n",
              "      <td>1</td>\n",
              "      <td>2</td>\n",
              "      <td>BRERA</td>\n",
              "      <td>9.189608</td>\n",
              "      <td>45.476856</td>\n",
              "      <td>(45.476856000000055;9.189607500000022)</td>\n",
              "    </tr>\n",
              "    <tr>\n",
              "      <th>31</th>\n",
              "      <td>VIA FILIPPO SASSETTI 27</td>\n",
              "      <td>NaN</td>\n",
              "      <td>NaN</td>\n",
              "      <td>20124</td>\n",
              "      <td>9</td>\n",
              "      <td>11</td>\n",
              "      <td>ISOLA</td>\n",
              "      <td>9.193140</td>\n",
              "      <td>45.488259</td>\n",
              "      <td>(45.48825900000003;9.193140000000028)</td>\n",
              "    </tr>\n",
              "    <tr>\n",
              "      <th>40</th>\n",
              "      <td>VIA GIUSEPPE PECCHIO 1</td>\n",
              "      <td>NaN</td>\n",
              "      <td>NaN</td>\n",
              "      <td>20131</td>\n",
              "      <td>3</td>\n",
              "      <td>21</td>\n",
              "      <td>BUENOS AIRES - PORTA VENEZIA - PORTA MONFORTE</td>\n",
              "      <td>9.215861</td>\n",
              "      <td>45.484731</td>\n",
              "      <td>(45.48473100000007;9.215860500000076)</td>\n",
              "    </tr>\n",
              "    <tr>\n",
              "      <th>59</th>\n",
              "      <td>VIA PINDARO 29</td>\n",
              "      <td>NaN</td>\n",
              "      <td>NaN</td>\n",
              "      <td>20128</td>\n",
              "      <td>2</td>\n",
              "      <td>16</td>\n",
              "      <td>GORLA - PRECOTTO</td>\n",
              "      <td>9.229959</td>\n",
              "      <td>45.517005</td>\n",
              "      <td>(45.51700500000004;9.229959000000065)</td>\n",
              "    </tr>\n",
              "  </tbody>\n",
              "</table>\n",
              "</div>"
            ],
            "text/plain": [
              "                  Indirizzo  ...                                Location\n",
              "3         CORSO SEMPIONE 94  ...    (45.48654000000005;9.15850800000004)\n",
              "26     VIA DELLA MOSCOVA 30  ...  (45.476856000000055;9.189607500000022)\n",
              "31  VIA FILIPPO SASSETTI 27  ...   (45.48825900000003;9.193140000000028)\n",
              "40   VIA GIUSEPPE PECCHIO 1  ...   (45.48473100000007;9.215860500000076)\n",
              "59           VIA PINDARO 29  ...   (45.51700500000004;9.229959000000065)\n",
              "\n",
              "[5 rows x 10 columns]"
            ]
          },
          "metadata": {},
          "execution_count": 61
        }
      ]
    },
    {
      "cell_type": "markdown",
      "metadata": {
        "id": "jI1cWEEKZp0k"
      },
      "source": [
        "--------------------------------------------------------------------------------------------------------\n"
      ]
    },
    {
      "cell_type": "markdown",
      "metadata": {
        "id": "lQ4fJkKFZs9T"
      },
      "source": [
        "raggruppamento"
      ]
    },
    {
      "cell_type": "markdown",
      "metadata": {
        "id": "0Hypo6gdZ8-0"
      },
      "source": [
        "a. visualizzare il numero di uffici per ogni Nucleo di Identità Locale (NIL)"
      ]
    },
    {
      "cell_type": "code",
      "metadata": {
        "colab": {
          "base_uri": "https://localhost:8080/"
        },
        "id": "gTHcNso3ZvNc",
        "outputId": "d6a0dc3a-28a0-4269-d524-b459a5477fcc"
      },
      "source": [
        "df.groupby(\"NIL\")[\"Indirizzo\"].count()"
      ],
      "execution_count": null,
      "outputs": [
        {
          "output_type": "execute_result",
          "data": {
            "text/plain": [
              "NIL\n",
              "ADRIANO                                                        1\n",
              "AFFORI                                                         2\n",
              "BAGGIO - Q.RE DEGLI OLMI - Q.RE VALSESIA                       2\n",
              "BANDE NERE                                                     1\n",
              "BOVISASCA                                                      1\n",
              "BRERA                                                          4\n",
              "BRUZZANO                                                       1\n",
              "BUENOS AIRES - PORTA VENEZIA - PORTA MONFORTE                  4\n",
              "CIMIANO - ROTTOLE - Q.RE FELTRE                                1\n",
              "CITTA' STUDI                                                   1\n",
              "CORSICA                                                        1\n",
              "DE ANGELI - MONTE ROSA                                         1\n",
              "DERGANO                                                        1\n",
              "DUOMO                                                          7\n",
              "FARINI                                                         1\n",
              "FORZE ARMATE                                                   2\n",
              "GIAMBELLINO                                                    3\n",
              "GORLA - PRECOTTO                                               1\n",
              "GRATOSOGLIO - Q.RE MISSAGLIA - Q.RE TERRAZZE                   1\n",
              "GRECO - SEGNANO                                                1\n",
              "GUASTALLA                                                      1\n",
              "ISOLA                                                          3\n",
              "LAMBRATE - ORTICA                                              1\n",
              "LODI - CORVETTO                                                1\n",
              "LORETO - CASORETTO - NOLO                                      2\n",
              "MACIACHINI - MAGGIOLINA                                        2\n",
              "MONCUCCO - SAN CRISTOFORO                                      1\n",
              "MONLUE' - PONTE LAMBRO                                         1\n",
              "NIGUARDA - CA' GRANDA - PRATO CENTENARO - Q.RE FULVIO TESTI    2\n",
              "PADOVA - TURRO - CRESCENZAGO                                   2\n",
              "PAGANO                                                         1\n",
              "PORTA GARIBALDI - PORTA NUOVA                                  1\n",
              "PORTA GENOVA                                                   1\n",
              "PORTA MAGENTA                                                  1\n",
              "PORTA TICINESE - CONCA DEL NAVIGLIO                            1\n",
              "PORTA TICINESE - CONCHETTA                                     1\n",
              "PORTA VIGENTINA - PORTA LODOVICA                               1\n",
              "PTA ROMANA                                                     1\n",
              "Q.RE GALLARATESE - Q.RE SAN LEONARDO - LAMPUGNANO              2\n",
              "QT 8                                                           1\n",
              "QUARTO OGGIARO - VIALBA - MUSOCCO                              2\n",
              "QUINTO ROMANO                                                  1\n",
              "ROGOREDO - SANTA GIULIA                                        1\n",
              "RONCHETTO SUL NAVIGLIO - Q.RE LODOVICO IL MORO                 1\n",
              "SAN SIRO                                                       1\n",
              "SARPI                                                          2\n",
              "SCALO ROMANA                                                   1\n",
              "STADERA - CHIESA ROSSA - Q.RE TORRETTA - CONCA FALLATA         1\n",
              "STAZIONE CENTRALE - PONTE SEVESO                               1\n",
              "TIBALDI                                                        2\n",
              "UMBRIA - MOLISE - CALVAIRATE                                   1\n",
              "VIGENTINO - Q.RE FATIMA                                        1\n",
              "VILLAPIZZONE - CAGNOLA - BOLDINASCO                            1\n",
              "XXII MARZO                                                     2\n",
              "Name: Indirizzo, dtype: int64"
            ]
          },
          "metadata": {},
          "execution_count": 62
        }
      ]
    },
    {
      "cell_type": "markdown",
      "metadata": {
        "id": "18CGUhoSbJDk"
      },
      "source": [
        "b. visualizzare il numero di uffici per ogni Nucleo di Identità Locale (NIL). Ordinare a partire dal NIL che ha più uffici in giù"
      ]
    },
    {
      "cell_type": "code",
      "metadata": {
        "colab": {
          "base_uri": "https://localhost:8080/"
        },
        "id": "7FmDz-S4bL_N",
        "outputId": "03c78036-a79d-4920-f2a8-28b085327bec"
      },
      "source": [
        "df.groupby(\"NIL\")[\"Indirizzo\"].count().sort_values(ascending = False)       ###########       PER RIORDINARE UN VALORE DAL PIU GRANDE AL PIU PICCOLO"
      ],
      "execution_count": null,
      "outputs": [
        {
          "output_type": "execute_result",
          "data": {
            "text/plain": [
              "NIL\n",
              "DUOMO                                                          7\n",
              "BRERA                                                          4\n",
              "BUENOS AIRES - PORTA VENEZIA - PORTA MONFORTE                  4\n",
              "ISOLA                                                          3\n",
              "GIAMBELLINO                                                    3\n",
              "QUARTO OGGIARO - VIALBA - MUSOCCO                              2\n",
              "LORETO - CASORETTO - NOLO                                      2\n",
              "MACIACHINI - MAGGIOLINA                                        2\n",
              "NIGUARDA - CA' GRANDA - PRATO CENTENARO - Q.RE FULVIO TESTI    2\n",
              "PADOVA - TURRO - CRESCENZAGO                                   2\n",
              "FORZE ARMATE                                                   2\n",
              "XXII MARZO                                                     2\n",
              "Q.RE GALLARATESE - Q.RE SAN LEONARDO - LAMPUGNANO              2\n",
              "AFFORI                                                         2\n",
              "BAGGIO - Q.RE DEGLI OLMI - Q.RE VALSESIA                       2\n",
              "TIBALDI                                                        2\n",
              "SARPI                                                          2\n",
              "GORLA - PRECOTTO                                               1\n",
              "GUASTALLA                                                      1\n",
              "GRECO - SEGNANO                                                1\n",
              "BANDE NERE                                                     1\n",
              "GRATOSOGLIO - Q.RE MISSAGLIA - Q.RE TERRAZZE                   1\n",
              "CITTA' STUDI                                                   1\n",
              "CIMIANO - ROTTOLE - Q.RE FELTRE                                1\n",
              "FARINI                                                         1\n",
              "BRUZZANO                                                       1\n",
              "DERGANO                                                        1\n",
              "DE ANGELI - MONTE ROSA                                         1\n",
              "LAMBRATE - ORTICA                                              1\n",
              "CORSICA                                                        1\n",
              "BOVISASCA                                                      1\n",
              "MONCUCCO - SAN CRISTOFORO                                      1\n",
              "LODI - CORVETTO                                                1\n",
              "VILLAPIZZONE - CAGNOLA - BOLDINASCO                            1\n",
              "VIGENTINO - Q.RE FATIMA                                        1\n",
              "UMBRIA - MOLISE - CALVAIRATE                                   1\n",
              "STAZIONE CENTRALE - PONTE SEVESO                               1\n",
              "STADERA - CHIESA ROSSA - Q.RE TORRETTA - CONCA FALLATA         1\n",
              "SCALO ROMANA                                                   1\n",
              "SAN SIRO                                                       1\n",
              "RONCHETTO SUL NAVIGLIO - Q.RE LODOVICO IL MORO                 1\n",
              "ROGOREDO - SANTA GIULIA                                        1\n",
              "QUINTO ROMANO                                                  1\n",
              "QT 8                                                           1\n",
              "PTA ROMANA                                                     1\n",
              "PORTA VIGENTINA - PORTA LODOVICA                               1\n",
              "PORTA TICINESE - CONCHETTA                                     1\n",
              "PORTA TICINESE - CONCA DEL NAVIGLIO                            1\n",
              "PORTA MAGENTA                                                  1\n",
              "PORTA GENOVA                                                   1\n",
              "PORTA GARIBALDI - PORTA NUOVA                                  1\n",
              "PAGANO                                                         1\n",
              "MONLUE' - PONTE LAMBRO                                         1\n",
              "ADRIANO                                                        1\n",
              "Name: Indirizzo, dtype: int64"
            ]
          },
          "metadata": {},
          "execution_count": 63
        }
      ]
    },
    {
      "cell_type": "markdown",
      "metadata": {
        "id": "setSos05cDNU"
      },
      "source": [
        "c. visualizzare i municipi che hanno più di 15 uffici postali:"
      ]
    },
    {
      "cell_type": "code",
      "metadata": {
        "id": "PmfWM1z9g9jJ",
        "colab": {
          "base_uri": "https://localhost:8080/"
        },
        "outputId": "42a6151c-189b-44fe-f966-3604f84ddc5c"
      },
      "source": [
        "df1 = df.groupby(\"MUNICIPIO\").count()                   ###### TROVA L'INDICE CHE HA IL VALORE PIU ALTO DI TUTTI DI UNA SPECIFICA COLONNA\n",
        "df1.loc[df1[\"Indirizzo\"] >= 10][\"Indirizzo\"]"
      ],
      "execution_count": null,
      "outputs": [
        {
          "output_type": "execute_result",
          "data": {
            "text/plain": [
              "MUNICIPIO\n",
              "1    14\n",
              "9    13\n",
              "Name: Indirizzo, dtype: int64"
            ]
          },
          "metadata": {},
          "execution_count": 64
        }
      ]
    },
    {
      "cell_type": "markdown",
      "metadata": {
        "id": "LQlM55mEfXQd"
      },
      "source": [
        "d. visualizzare il municipio che ha più uffici postali"
      ]
    },
    {
      "cell_type": "code",
      "metadata": {
        "colab": {
          "base_uri": "https://localhost:8080/"
        },
        "id": "seoQuyNSfadU",
        "outputId": "ef59b7cc-5609-4971-a8eb-130d0c5c34ab"
      },
      "source": [
        "df1 = df.groupby(\"MUNICIPIO\").count()\n",
        "max = df1[\"Indirizzo\"].max()\n",
        "df1.loc[df1[\"Indirizzo\"] == max] [\"Indirizzo\"]"
      ],
      "execution_count": null,
      "outputs": [
        {
          "output_type": "execute_result",
          "data": {
            "text/plain": [
              "MUNICIPIO\n",
              "1    14\n",
              "Name: Indirizzo, dtype: int64"
            ]
          },
          "metadata": {},
          "execution_count": 65
        }
      ]
    },
    {
      "cell_type": "markdown",
      "metadata": {
        "id": "vFUdlzmwl8OV"
      },
      "source": [
        "e. visualizzare il municipio che ha meno uffici postali"
      ]
    },
    {
      "cell_type": "code",
      "metadata": {
        "colab": {
          "base_uri": "https://localhost:8080/"
        },
        "id": "_JGR-eUXj76c",
        "outputId": "a2215002-8dd7-43bf-aef9-ccfa414c94dd"
      },
      "source": [
        "df1 = df.groupby(\"MUNICIPIO\").count()\n",
        "min = df1[\"Indirizzo\"].min()\n",
        "df1.loc[df1[\"Indirizzo\"] == min] [\"Indirizzo\"]"
      ],
      "execution_count": null,
      "outputs": [
        {
          "output_type": "execute_result",
          "data": {
            "text/plain": [
              "MUNICIPIO\n",
              "3    7\n",
              "4    7\n",
              "5    7\n",
              "Name: Indirizzo, dtype: int64"
            ]
          },
          "metadata": {},
          "execution_count": 66
        }
      ]
    },
    {
      "cell_type": "markdown",
      "metadata": {
        "id": "h4qA1PqpmOe1"
      },
      "source": [
        "f. visualizzare il numero medio di uffici postali in ogni municipio"
      ]
    },
    {
      "cell_type": "code",
      "metadata": {
        "colab": {
          "base_uri": "https://localhost:8080/"
        },
        "id": "zrcdrUdsmRp1",
        "outputId": "14c61986-dc2d-418c-ea1f-619eab218afd"
      },
      "source": [
        "df.groupby(\"MUNICIPIO\").count().mean()[\"Indirizzo\"]"
      ],
      "execution_count": null,
      "outputs": [
        {
          "output_type": "execute_result",
          "data": {
            "text/plain": [
              "9.11111111111111"
            ]
          },
          "metadata": {},
          "execution_count": 67
        }
      ]
    },
    {
      "cell_type": "markdown",
      "metadata": {
        "id": "v7WajEb_pH3e"
      },
      "source": [
        "g. visualizzare gli uffici postali che hanno un numero di uffici postali superiore alla media"
      ]
    },
    {
      "cell_type": "code",
      "metadata": {
        "colab": {
          "base_uri": "https://localhost:8080/"
        },
        "id": "9pETIRdmpKTf",
        "outputId": "e98afe22-294d-455a-fd19-9493822bd565"
      },
      "source": [
        "df1 = df.groupby(\"MUNICIPIO\").count()\n",
        "media = df.groupby(\"MUNICIPIO\").count().mean()[\"Indirizzo\"]\n",
        "df1.loc[df1[\"Indirizzo\"] >= media] [\"Indirizzo\"]"
      ],
      "execution_count": null,
      "outputs": [
        {
          "output_type": "execute_result",
          "data": {
            "text/plain": [
              "MUNICIPIO\n",
              "1    14\n",
              "9    13\n",
              "Name: Indirizzo, dtype: int64"
            ]
          },
          "metadata": {},
          "execution_count": 68
        }
      ]
    },
    {
      "cell_type": "markdown",
      "metadata": {
        "id": "baul7n73p7dY"
      },
      "source": [
        "--------------------------------------------------------------------------------------------"
      ]
    },
    {
      "cell_type": "markdown",
      "metadata": {
        "id": "_h2ErGURp_JG"
      },
      "source": [
        "eliminazione di righe o colonne"
      ]
    },
    {
      "cell_type": "markdown",
      "metadata": {
        "id": "hvGfoiFhqBWu"
      },
      "source": [
        "a. eliminare tutti i record relativi al NIL di Niguarda"
      ]
    },
    {
      "cell_type": "code",
      "metadata": {
        "colab": {
          "base_uri": "https://localhost:8080/",
          "height": 423
        },
        "id": "iE0ly4v0qE-_",
        "outputId": "e19caf80-bf19-4ff3-cc33-aad3199d6c99"
      },
      "source": [
        "indexNames = df[ df['NIL'].str.contains(\"NIGUARDA\") ].index\n",
        "df.drop(indexNames , inplace=True)\n",
        "df                                                       #########           ?????????????????\n"
      ],
      "execution_count": null,
      "outputs": [
        {
          "output_type": "execute_result",
          "data": {
            "text/html": [
              "<div>\n",
              "<style scoped>\n",
              "    .dataframe tbody tr th:only-of-type {\n",
              "        vertical-align: middle;\n",
              "    }\n",
              "\n",
              "    .dataframe tbody tr th {\n",
              "        vertical-align: top;\n",
              "    }\n",
              "\n",
              "    .dataframe thead th {\n",
              "        text-align: right;\n",
              "    }\n",
              "</style>\n",
              "<table border=\"1\" class=\"dataframe\">\n",
              "  <thead>\n",
              "    <tr style=\"text-align: right;\">\n",
              "      <th></th>\n",
              "      <th>Indirizzo</th>\n",
              "      <th>Telefono</th>\n",
              "      <th>Fax</th>\n",
              "      <th>CAP</th>\n",
              "      <th>MUNICIPIO</th>\n",
              "      <th>ID_NIL</th>\n",
              "      <th>NIL</th>\n",
              "      <th>LONG_X_4326</th>\n",
              "      <th>LAT_Y_4326</th>\n",
              "      <th>Location</th>\n",
              "    </tr>\n",
              "  </thead>\n",
              "  <tbody>\n",
              "    <tr>\n",
              "      <th>0</th>\n",
              "      <td>BASTIONI DI PORTA VOLTA 7</td>\n",
              "      <td>02-6572655</td>\n",
              "      <td>02-29002004</td>\n",
              "      <td>20121</td>\n",
              "      <td>1</td>\n",
              "      <td>2</td>\n",
              "      <td>BRERA</td>\n",
              "      <td>9.182151</td>\n",
              "      <td>45.479601</td>\n",
              "      <td>(45.47960100000006;9.182151000000033)</td>\n",
              "    </tr>\n",
              "    <tr>\n",
              "      <th>1</th>\n",
              "      <td>CORSO DI PORTA VIGENTINA 35</td>\n",
              "      <td>02-58320771</td>\n",
              "      <td>02-58319779</td>\n",
              "      <td>20122</td>\n",
              "      <td>1</td>\n",
              "      <td>5</td>\n",
              "      <td>PORTA VIGENTINA - PORTA LODOVICA</td>\n",
              "      <td>9.196520</td>\n",
              "      <td>45.452538</td>\n",
              "      <td>(45.45253800000006;9.196519500000022)</td>\n",
              "    </tr>\n",
              "    <tr>\n",
              "      <th>2</th>\n",
              "      <td>CORSO ITALI 16</td>\n",
              "      <td>02-804336</td>\n",
              "      <td>02-86454450</td>\n",
              "      <td>20122</td>\n",
              "      <td>1</td>\n",
              "      <td>1</td>\n",
              "      <td>DUOMO</td>\n",
              "      <td>9.187470</td>\n",
              "      <td>45.457893</td>\n",
              "      <td>(45.45789300000007;9.187470000000076)</td>\n",
              "    </tr>\n",
              "    <tr>\n",
              "      <th>3</th>\n",
              "      <td>CORSO SEMPIONE 94</td>\n",
              "      <td>NaN</td>\n",
              "      <td>NaN</td>\n",
              "      <td>20154</td>\n",
              "      <td>8</td>\n",
              "      <td>69</td>\n",
              "      <td>SARPI</td>\n",
              "      <td>9.158508</td>\n",
              "      <td>45.486540</td>\n",
              "      <td>(45.48654000000005;9.15850800000004)</td>\n",
              "    </tr>\n",
              "    <tr>\n",
              "      <th>4</th>\n",
              "      <td>CORSO VENEZIA 42</td>\n",
              "      <td>02-76023056</td>\n",
              "      <td>02-7837251</td>\n",
              "      <td>20121</td>\n",
              "      <td>1</td>\n",
              "      <td>4</td>\n",
              "      <td>GUASTALLA</td>\n",
              "      <td>9.202703</td>\n",
              "      <td>45.471861</td>\n",
              "      <td>(45.47186100000005;9.202702500000044)</td>\n",
              "    </tr>\n",
              "    <tr>\n",
              "      <th>...</th>\n",
              "      <td>...</td>\n",
              "      <td>...</td>\n",
              "      <td>...</td>\n",
              "      <td>...</td>\n",
              "      <td>...</td>\n",
              "      <td>...</td>\n",
              "      <td>...</td>\n",
              "      <td>...</td>\n",
              "      <td>...</td>\n",
              "      <td>...</td>\n",
              "    </tr>\n",
              "    <tr>\n",
              "      <th>77</th>\n",
              "      <td>VIALE GORIZIA 6</td>\n",
              "      <td>02-8358241</td>\n",
              "      <td>02-8373830</td>\n",
              "      <td>20144</td>\n",
              "      <td>6</td>\n",
              "      <td>44</td>\n",
              "      <td>PORTA TICINESE - CONCHETTA</td>\n",
              "      <td>9.173156</td>\n",
              "      <td>45.454518</td>\n",
              "      <td>(45.454518000000064;9.173155500000064)</td>\n",
              "    </tr>\n",
              "    <tr>\n",
              "      <th>78</th>\n",
              "      <td>VIALE MONTE CENERI SNC</td>\n",
              "      <td>02-32671911</td>\n",
              "      <td>02-32671947</td>\n",
              "      <td>20155</td>\n",
              "      <td>8</td>\n",
              "      <td>71</td>\n",
              "      <td>VILLAPIZZONE - CAGNOLA - BOLDINASCO</td>\n",
              "      <td>9.153592</td>\n",
              "      <td>45.491568</td>\n",
              "      <td>(45.49156751800007;9.153591732000052)</td>\n",
              "    </tr>\n",
              "    <tr>\n",
              "      <th>79</th>\n",
              "      <td>VIALE SABOTINO 21/A</td>\n",
              "      <td>02-58457911</td>\n",
              "      <td>02-58457947</td>\n",
              "      <td>20135</td>\n",
              "      <td>5</td>\n",
              "      <td>27</td>\n",
              "      <td>PTA ROMANA</td>\n",
              "      <td>9.200174</td>\n",
              "      <td>45.451017</td>\n",
              "      <td>(45.451017000000036;9.200173500000062)</td>\n",
              "    </tr>\n",
              "    <tr>\n",
              "      <th>80</th>\n",
              "      <td>VIALE SAN GIMIGNANO 10</td>\n",
              "      <td>02-41411311</td>\n",
              "      <td>02-41411347</td>\n",
              "      <td>20146</td>\n",
              "      <td>6</td>\n",
              "      <td>52</td>\n",
              "      <td>BANDE NERE</td>\n",
              "      <td>9.136526</td>\n",
              "      <td>45.455868</td>\n",
              "      <td>(45.455868000000066;9.136525500000062)</td>\n",
              "    </tr>\n",
              "    <tr>\n",
              "      <th>81</th>\n",
              "      <td>VIALE ZARA 131</td>\n",
              "      <td>02-69911111</td>\n",
              "      <td>02-69911147</td>\n",
              "      <td>20159</td>\n",
              "      <td>9</td>\n",
              "      <td>12</td>\n",
              "      <td>MACIACHINI - MAGGIOLINA</td>\n",
              "      <td>9.196686</td>\n",
              "      <td>45.500193</td>\n",
              "      <td>(45.50019300000008;9.196686000000057)</td>\n",
              "    </tr>\n",
              "  </tbody>\n",
              "</table>\n",
              "<p>80 rows × 10 columns</p>\n",
              "</div>"
            ],
            "text/plain": [
              "                      Indirizzo  ...                                Location\n",
              "0     BASTIONI DI PORTA VOLTA 7  ...   (45.47960100000006;9.182151000000033)\n",
              "1   CORSO DI PORTA VIGENTINA 35  ...   (45.45253800000006;9.196519500000022)\n",
              "2                CORSO ITALI 16  ...   (45.45789300000007;9.187470000000076)\n",
              "3             CORSO SEMPIONE 94  ...    (45.48654000000005;9.15850800000004)\n",
              "4              CORSO VENEZIA 42  ...   (45.47186100000005;9.202702500000044)\n",
              "..                          ...  ...                                     ...\n",
              "77              VIALE GORIZIA 6  ...  (45.454518000000064;9.173155500000064)\n",
              "78       VIALE MONTE CENERI SNC  ...   (45.49156751800007;9.153591732000052)\n",
              "79          VIALE SABOTINO 21/A  ...  (45.451017000000036;9.200173500000062)\n",
              "80       VIALE SAN GIMIGNANO 10  ...  (45.455868000000066;9.136525500000062)\n",
              "81               VIALE ZARA 131  ...   (45.50019300000008;9.196686000000057)\n",
              "\n",
              "[80 rows x 10 columns]"
            ]
          },
          "metadata": {},
          "execution_count": 69
        }
      ]
    },
    {
      "cell_type": "code",
      "metadata": {
        "id": "ECiPISgQuYPO"
      },
      "source": [
        "df.drop(df.index[df[\"NIL\"].str.contains(\"NIGUARDA\")], inplace = True)\n",
        "                                                                   #########           ?????????????????"
      ],
      "execution_count": null,
      "outputs": []
    },
    {
      "cell_type": "markdown",
      "metadata": {
        "id": "fo1dyPpOu_6G"
      },
      "source": [
        "b.  eliminare le ultime tre colonne"
      ]
    },
    {
      "cell_type": "code",
      "metadata": {
        "colab": {
          "base_uri": "https://localhost:8080/",
          "height": 423
        },
        "id": "vM7deQ5svCPm",
        "outputId": "01fced9b-5f4a-4c0b-909c-4529c279a303"
      },
      "source": [
        "df = df.drop(columns = df.iloc[:, -3:])\n",
        "df"
      ],
      "execution_count": null,
      "outputs": [
        {
          "output_type": "execute_result",
          "data": {
            "text/html": [
              "<div>\n",
              "<style scoped>\n",
              "    .dataframe tbody tr th:only-of-type {\n",
              "        vertical-align: middle;\n",
              "    }\n",
              "\n",
              "    .dataframe tbody tr th {\n",
              "        vertical-align: top;\n",
              "    }\n",
              "\n",
              "    .dataframe thead th {\n",
              "        text-align: right;\n",
              "    }\n",
              "</style>\n",
              "<table border=\"1\" class=\"dataframe\">\n",
              "  <thead>\n",
              "    <tr style=\"text-align: right;\">\n",
              "      <th></th>\n",
              "      <th>Indirizzo</th>\n",
              "      <th>Telefono</th>\n",
              "      <th>Fax</th>\n",
              "      <th>CAP</th>\n",
              "      <th>MUNICIPIO</th>\n",
              "      <th>ID_NIL</th>\n",
              "      <th>NIL</th>\n",
              "    </tr>\n",
              "  </thead>\n",
              "  <tbody>\n",
              "    <tr>\n",
              "      <th>0</th>\n",
              "      <td>BASTIONI DI PORTA VOLTA 7</td>\n",
              "      <td>02-6572655</td>\n",
              "      <td>02-29002004</td>\n",
              "      <td>20121</td>\n",
              "      <td>1</td>\n",
              "      <td>2</td>\n",
              "      <td>BRERA</td>\n",
              "    </tr>\n",
              "    <tr>\n",
              "      <th>1</th>\n",
              "      <td>CORSO DI PORTA VIGENTINA 35</td>\n",
              "      <td>02-58320771</td>\n",
              "      <td>02-58319779</td>\n",
              "      <td>20122</td>\n",
              "      <td>1</td>\n",
              "      <td>5</td>\n",
              "      <td>PORTA VIGENTINA - PORTA LODOVICA</td>\n",
              "    </tr>\n",
              "    <tr>\n",
              "      <th>2</th>\n",
              "      <td>CORSO ITALI 16</td>\n",
              "      <td>02-804336</td>\n",
              "      <td>02-86454450</td>\n",
              "      <td>20122</td>\n",
              "      <td>1</td>\n",
              "      <td>1</td>\n",
              "      <td>DUOMO</td>\n",
              "    </tr>\n",
              "    <tr>\n",
              "      <th>3</th>\n",
              "      <td>CORSO SEMPIONE 94</td>\n",
              "      <td>NaN</td>\n",
              "      <td>NaN</td>\n",
              "      <td>20154</td>\n",
              "      <td>8</td>\n",
              "      <td>69</td>\n",
              "      <td>SARPI</td>\n",
              "    </tr>\n",
              "    <tr>\n",
              "      <th>4</th>\n",
              "      <td>CORSO VENEZIA 42</td>\n",
              "      <td>02-76023056</td>\n",
              "      <td>02-7837251</td>\n",
              "      <td>20121</td>\n",
              "      <td>1</td>\n",
              "      <td>4</td>\n",
              "      <td>GUASTALLA</td>\n",
              "    </tr>\n",
              "    <tr>\n",
              "      <th>...</th>\n",
              "      <td>...</td>\n",
              "      <td>...</td>\n",
              "      <td>...</td>\n",
              "      <td>...</td>\n",
              "      <td>...</td>\n",
              "      <td>...</td>\n",
              "      <td>...</td>\n",
              "    </tr>\n",
              "    <tr>\n",
              "      <th>77</th>\n",
              "      <td>VIALE GORIZIA 6</td>\n",
              "      <td>02-8358241</td>\n",
              "      <td>02-8373830</td>\n",
              "      <td>20144</td>\n",
              "      <td>6</td>\n",
              "      <td>44</td>\n",
              "      <td>PORTA TICINESE - CONCHETTA</td>\n",
              "    </tr>\n",
              "    <tr>\n",
              "      <th>78</th>\n",
              "      <td>VIALE MONTE CENERI SNC</td>\n",
              "      <td>02-32671911</td>\n",
              "      <td>02-32671947</td>\n",
              "      <td>20155</td>\n",
              "      <td>8</td>\n",
              "      <td>71</td>\n",
              "      <td>VILLAPIZZONE - CAGNOLA - BOLDINASCO</td>\n",
              "    </tr>\n",
              "    <tr>\n",
              "      <th>79</th>\n",
              "      <td>VIALE SABOTINO 21/A</td>\n",
              "      <td>02-58457911</td>\n",
              "      <td>02-58457947</td>\n",
              "      <td>20135</td>\n",
              "      <td>5</td>\n",
              "      <td>27</td>\n",
              "      <td>PTA ROMANA</td>\n",
              "    </tr>\n",
              "    <tr>\n",
              "      <th>80</th>\n",
              "      <td>VIALE SAN GIMIGNANO 10</td>\n",
              "      <td>02-41411311</td>\n",
              "      <td>02-41411347</td>\n",
              "      <td>20146</td>\n",
              "      <td>6</td>\n",
              "      <td>52</td>\n",
              "      <td>BANDE NERE</td>\n",
              "    </tr>\n",
              "    <tr>\n",
              "      <th>81</th>\n",
              "      <td>VIALE ZARA 131</td>\n",
              "      <td>02-69911111</td>\n",
              "      <td>02-69911147</td>\n",
              "      <td>20159</td>\n",
              "      <td>9</td>\n",
              "      <td>12</td>\n",
              "      <td>MACIACHINI - MAGGIOLINA</td>\n",
              "    </tr>\n",
              "  </tbody>\n",
              "</table>\n",
              "<p>80 rows × 7 columns</p>\n",
              "</div>"
            ],
            "text/plain": [
              "                      Indirizzo  ...                                  NIL\n",
              "0     BASTIONI DI PORTA VOLTA 7  ...                                BRERA\n",
              "1   CORSO DI PORTA VIGENTINA 35  ...     PORTA VIGENTINA - PORTA LODOVICA\n",
              "2                CORSO ITALI 16  ...                                DUOMO\n",
              "3             CORSO SEMPIONE 94  ...                                SARPI\n",
              "4              CORSO VENEZIA 42  ...                            GUASTALLA\n",
              "..                          ...  ...                                  ...\n",
              "77              VIALE GORIZIA 6  ...           PORTA TICINESE - CONCHETTA\n",
              "78       VIALE MONTE CENERI SNC  ...  VILLAPIZZONE - CAGNOLA - BOLDINASCO\n",
              "79          VIALE SABOTINO 21/A  ...                           PTA ROMANA\n",
              "80       VIALE SAN GIMIGNANO 10  ...                           BANDE NERE\n",
              "81               VIALE ZARA 131  ...              MACIACHINI - MAGGIOLINA\n",
              "\n",
              "[80 rows x 7 columns]"
            ]
          },
          "metadata": {},
          "execution_count": 71
        }
      ]
    },
    {
      "cell_type": "markdown",
      "metadata": {
        "id": "IOVlght2v57-"
      },
      "source": [
        "c. eliminare i record di cui non si conosce il numero di telefono o il fax"
      ]
    },
    {
      "cell_type": "code",
      "metadata": {
        "id": "LV93M5Zxv8l1"
      },
      "source": [
        "###        df.loc[df[\"Telefono\"].isnull() | df[\"Fax\"].isnull()] \n",
        "###    elimina le rige che hanno come valore null\n",
        "\n",
        "df = df.drop(df.index[df[\"Telefono\"].isnull() | df[\"Fax\"].isnull()], inplace = True)\n",
        "df"
      ],
      "execution_count": null,
      "outputs": []
    },
    {
      "cell_type": "markdown",
      "metadata": {
        "id": "gLzIJ0D7x0cX"
      },
      "source": [
        "-------------------------------------------------------------------------------------------------------------------------------"
      ]
    },
    {
      "cell_type": "markdown",
      "metadata": {
        "id": "CRM216oJx0-Y"
      },
      "source": [
        "aggiornamento di informazioni"
      ]
    },
    {
      "cell_type": "markdown",
      "metadata": {
        "id": "QkckT8Emx2zO"
      },
      "source": [
        "a. modificare il numero di telefono dell'ufficio di viale Zara in 02-69922222"
      ]
    },
    {
      "cell_type": "code",
      "metadata": {
        "id": "xvYSPhvvw7ev"
      },
      "source": [
        "#df.loc[df[\"Indirizzo\"].str.contains(\"VIALE ZARA\")][\"Telefono\"].replace('02-69911111', '02-69922222')\n",
        "df[\"Telefono\"] = df[\"Telefono\"].replace('02-69911111', '02-69922222')\n",
        "df.loc[df[\"Indirizzo\"].str.contains(\"VIALE ZARA\")]"
      ],
      "execution_count": null,
      "outputs": []
    },
    {
      "cell_type": "code",
      "metadata": {
        "id": "n3X7nNEA_uHK"
      },
      "source": [
        "######## di nahim\n",
        "\n",
        "df[\"Telefono\"] = df[\"Telefono\"].replace([df.loc[df[\"Indirizzo\"].str.contains(\"VIALE ZARA\")]], \"02-69922222\")\n",
        "# df.loc[:, \"Telefono\"]  "
      ],
      "execution_count": null,
      "outputs": []
    },
    {
      "cell_type": "markdown",
      "metadata": {
        "id": "PE8EWgzxZ224"
      },
      "source": [
        "b. sostituire il trattino presente nei numeri di telefono con il carattere /"
      ]
    },
    {
      "cell_type": "code",
      "metadata": {
        "id": "zqcdH9E3Z5x2",
        "colab": {
          "base_uri": "https://localhost:8080/"
        },
        "outputId": "cc2db669-a8c6-4328-b41b-1e57ff10cab2"
      },
      "source": [
        "df[\"Telefono\"] = df[\"Telefono\"].str.replace('-', '/')\n",
        "df.loc[:, \"Telefono\"]              ###########            SI USA .str.replace('cosavuoisostituire','concosalovuoisostituire')"
      ],
      "execution_count": null,
      "outputs": [
        {
          "output_type": "execute_result",
          "data": {
            "text/plain": [
              "0      02/6572655\n",
              "1     02/58320771\n",
              "2       02/804336\n",
              "3             NaN\n",
              "4     02/76023056\n",
              "         ...     \n",
              "77     02/8358241\n",
              "78    02/32671911\n",
              "79    02/58457911\n",
              "80    02/41411311\n",
              "81    02/69911111\n",
              "Name: Telefono, Length: 82, dtype: object"
            ]
          },
          "metadata": {},
          "execution_count": 3
        }
      ]
    }
  ]
}