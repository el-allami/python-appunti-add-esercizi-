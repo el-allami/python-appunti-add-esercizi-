{
  "nbformat": 4,
  "nbformat_minor": 0,
  "metadata": {
    "colab": {
      "name": "Correzione_VerificaMatplotlib_FilaA.ipynb",
      "provenance": [],
      "collapsed_sections": []
    },
    "kernelspec": {
      "name": "python3",
      "display_name": "Python 3"
    },
    "language_info": {
      "name": "python"
    }
  },
  "cells": [
    {
      "cell_type": "code",
      "metadata": {
        "id": "7fTR20XArz7e"
      },
      "source": [
        "import pandas as pd"
      ],
      "execution_count": 1,
      "outputs": []
    },
    {
      "cell_type": "code",
      "metadata": {
        "colab": {
          "base_uri": "https://localhost:8080/",
          "height": 423
        },
        "id": "R_MOofFMsNMC",
        "outputId": "23e8eb39-d5a4-40e2-fa9b-68b6ab10f775"
      },
      "source": [
        "df = pd.read_csv(\"https://raw.githubusercontent.com/italia/covid19-opendata-vaccini/master/dati/platea.csv\")\n",
        "df"
      ],
      "execution_count": 2,
      "outputs": [
        {
          "output_type": "execute_result",
          "data": {
            "text/html": [
              "<div>\n",
              "<style scoped>\n",
              "    .dataframe tbody tr th:only-of-type {\n",
              "        vertical-align: middle;\n",
              "    }\n",
              "\n",
              "    .dataframe tbody tr th {\n",
              "        vertical-align: top;\n",
              "    }\n",
              "\n",
              "    .dataframe thead th {\n",
              "        text-align: right;\n",
              "    }\n",
              "</style>\n",
              "<table border=\"1\" class=\"dataframe\">\n",
              "  <thead>\n",
              "    <tr style=\"text-align: right;\">\n",
              "      <th></th>\n",
              "      <th>area</th>\n",
              "      <th>nome_area</th>\n",
              "      <th>fascia_anagrafica</th>\n",
              "      <th>totale_popolazione</th>\n",
              "    </tr>\n",
              "  </thead>\n",
              "  <tbody>\n",
              "    <tr>\n",
              "      <th>0</th>\n",
              "      <td>ABR</td>\n",
              "      <td>Abruzzo</td>\n",
              "      <td>12-19</td>\n",
              "      <td>94727</td>\n",
              "    </tr>\n",
              "    <tr>\n",
              "      <th>1</th>\n",
              "      <td>ABR</td>\n",
              "      <td>Abruzzo</td>\n",
              "      <td>20-29</td>\n",
              "      <td>125230</td>\n",
              "    </tr>\n",
              "    <tr>\n",
              "      <th>2</th>\n",
              "      <td>ABR</td>\n",
              "      <td>Abruzzo</td>\n",
              "      <td>30-39</td>\n",
              "      <td>146965</td>\n",
              "    </tr>\n",
              "    <tr>\n",
              "      <th>3</th>\n",
              "      <td>ABR</td>\n",
              "      <td>Abruzzo</td>\n",
              "      <td>40-49</td>\n",
              "      <td>187162</td>\n",
              "    </tr>\n",
              "    <tr>\n",
              "      <th>4</th>\n",
              "      <td>ABR</td>\n",
              "      <td>Abruzzo</td>\n",
              "      <td>50-59</td>\n",
              "      <td>208686</td>\n",
              "    </tr>\n",
              "    <tr>\n",
              "      <th>...</th>\n",
              "      <td>...</td>\n",
              "      <td>...</td>\n",
              "      <td>...</td>\n",
              "      <td>...</td>\n",
              "    </tr>\n",
              "    <tr>\n",
              "      <th>163</th>\n",
              "      <td>VEN</td>\n",
              "      <td>Veneto</td>\n",
              "      <td>40-49</td>\n",
              "      <td>715790</td>\n",
              "    </tr>\n",
              "    <tr>\n",
              "      <th>164</th>\n",
              "      <td>VEN</td>\n",
              "      <td>Veneto</td>\n",
              "      <td>50-59</td>\n",
              "      <td>806474</td>\n",
              "    </tr>\n",
              "    <tr>\n",
              "      <th>165</th>\n",
              "      <td>VEN</td>\n",
              "      <td>Veneto</td>\n",
              "      <td>60-69</td>\n",
              "      <td>610635</td>\n",
              "    </tr>\n",
              "    <tr>\n",
              "      <th>166</th>\n",
              "      <td>VEN</td>\n",
              "      <td>Veneto</td>\n",
              "      <td>70-79</td>\n",
              "      <td>494721</td>\n",
              "    </tr>\n",
              "    <tr>\n",
              "      <th>167</th>\n",
              "      <td>VEN</td>\n",
              "      <td>Veneto</td>\n",
              "      <td>80+</td>\n",
              "      <td>370529</td>\n",
              "    </tr>\n",
              "  </tbody>\n",
              "</table>\n",
              "<p>168 rows × 4 columns</p>\n",
              "</div>"
            ],
            "text/plain": [
              "    area nome_area fascia_anagrafica  totale_popolazione\n",
              "0    ABR   Abruzzo             12-19               94727\n",
              "1    ABR   Abruzzo             20-29              125230\n",
              "2    ABR   Abruzzo             30-39              146965\n",
              "3    ABR   Abruzzo             40-49              187162\n",
              "4    ABR   Abruzzo             50-59              208686\n",
              "..   ...       ...               ...                 ...\n",
              "163  VEN    Veneto             40-49              715790\n",
              "164  VEN    Veneto             50-59              806474\n",
              "165  VEN    Veneto             60-69              610635\n",
              "166  VEN    Veneto             70-79              494721\n",
              "167  VEN    Veneto               80+              370529\n",
              "\n",
              "[168 rows x 4 columns]"
            ]
          },
          "metadata": {},
          "execution_count": 2
        }
      ]
    },
    {
      "cell_type": "markdown",
      "metadata": {
        "id": "rjUbD_wxst2N"
      },
      "source": [
        "a. Visualizzare la popolazione complessiva di tutte le regioni"
      ]
    },
    {
      "cell_type": "code",
      "metadata": {
        "colab": {
          "base_uri": "https://localhost:8080/"
        },
        "id": "mLn1tfP7stMF",
        "outputId": "4e35b94a-0b72-44eb-b927-a4041079a60c"
      },
      "source": [
        "df[\"totale_popolazione\"].sum()"
      ],
      "execution_count": 3,
      "outputs": [
        {
          "output_type": "execute_result",
          "data": {
            "text/plain": [
              "54009944"
            ]
          },
          "metadata": {},
          "execution_count": 3
        }
      ]
    },
    {
      "cell_type": "markdown",
      "metadata": {
        "id": "DmEpmXTQtFDN"
      },
      "source": [
        "b. Visualizzare la popolazione di una regione inserita dall’utente. Controllare il dato inserito: se la regione\n",
        "non esiste dare un opportuno messaggio, altrimenti dare il messaggio “La regione &lt;nome&gt; ha &lt;totale&gt;\n",
        "abitanti”"
      ]
    },
    {
      "cell_type": "code",
      "metadata": {
        "colab": {
          "base_uri": "https://localhost:8080/"
        },
        "id": "FOXjP4VPtHR1",
        "outputId": "2985bed8-447f-4ccb-ae3f-19236dc03896"
      },
      "source": [
        "regione = input(\"Inserire una regione: \")\n",
        "popolazione = df[df[\"nome_area\"] == regione].totale_popolazione.sum()\n",
        "\n",
        "if popolazione > 0:\n",
        "  print(\"la regione,\",regione,\"ha\",popolazione,\"abitanti\")\n",
        "else:\n",
        "  print(\"Regione non presente\")"
      ],
      "execution_count": 9,
      "outputs": [
        {
          "output_type": "stream",
          "name": "stdout",
          "text": [
            "Inserire una regione: Abruzzo\n",
            "la regione, Abruzzo ha 1188922 abitanti\n"
          ]
        }
      ]
    },
    {
      "cell_type": "markdown",
      "metadata": {
        "id": "Kve0yEZMty2e"
      },
      "source": [
        "c. Visualizzare la popolazione di ogni regione. Visualizzare il nome della regione e il numero di abitanti.\n",
        "Ordinare in ordine decrescente sul numero di abitanti (dalla regione che ha più abitanti a quella che ne\n",
        "ha di meno)"
      ]
    },
    {
      "cell_type": "code",
      "metadata": {
        "colab": {
          "base_uri": "https://localhost:8080/",
          "height": 708
        },
        "id": "B6VL1nUat16s",
        "outputId": "923802f8-164d-4480-d525-c166b0ede22e"
      },
      "source": [
        "df.groupby('nome_area', as_index = True)[[\"totale_popolazione\"]].sum().sort_values('totale_popolazione',ascending = False).reset_index()"
      ],
      "execution_count": 5,
      "outputs": [
        {
          "output_type": "execute_result",
          "data": {
            "text/html": [
              "<div>\n",
              "<style scoped>\n",
              "    .dataframe tbody tr th:only-of-type {\n",
              "        vertical-align: middle;\n",
              "    }\n",
              "\n",
              "    .dataframe tbody tr th {\n",
              "        vertical-align: top;\n",
              "    }\n",
              "\n",
              "    .dataframe thead th {\n",
              "        text-align: right;\n",
              "    }\n",
              "</style>\n",
              "<table border=\"1\" class=\"dataframe\">\n",
              "  <thead>\n",
              "    <tr style=\"text-align: right;\">\n",
              "      <th></th>\n",
              "      <th>nome_area</th>\n",
              "      <th>totale_popolazione</th>\n",
              "    </tr>\n",
              "  </thead>\n",
              "  <tbody>\n",
              "    <tr>\n",
              "      <th>0</th>\n",
              "      <td>Lombardia</td>\n",
              "      <td>9246804</td>\n",
              "    </tr>\n",
              "    <tr>\n",
              "      <th>1</th>\n",
              "      <td>Lazio</td>\n",
              "      <td>5147533</td>\n",
              "    </tr>\n",
              "    <tr>\n",
              "      <th>2</th>\n",
              "      <td>Campania</td>\n",
              "      <td>5104347</td>\n",
              "    </tr>\n",
              "    <tr>\n",
              "      <th>3</th>\n",
              "      <td>Sicilia</td>\n",
              "      <td>4435335</td>\n",
              "    </tr>\n",
              "    <tr>\n",
              "      <th>4</th>\n",
              "      <td>Veneto</td>\n",
              "      <td>4383999</td>\n",
              "    </tr>\n",
              "    <tr>\n",
              "      <th>5</th>\n",
              "      <td>Emilia-Romagna</td>\n",
              "      <td>3998406</td>\n",
              "    </tr>\n",
              "    <tr>\n",
              "      <th>6</th>\n",
              "      <td>Piemonte</td>\n",
              "      <td>3927641</td>\n",
              "    </tr>\n",
              "    <tr>\n",
              "      <th>7</th>\n",
              "      <td>Puglia</td>\n",
              "      <td>3572053</td>\n",
              "    </tr>\n",
              "    <tr>\n",
              "      <th>8</th>\n",
              "      <td>Toscana</td>\n",
              "      <td>3360763</td>\n",
              "    </tr>\n",
              "    <tr>\n",
              "      <th>9</th>\n",
              "      <td>Calabria</td>\n",
              "      <td>1689716</td>\n",
              "    </tr>\n",
              "    <tr>\n",
              "      <th>10</th>\n",
              "      <td>Sardegna</td>\n",
              "      <td>1484800</td>\n",
              "    </tr>\n",
              "    <tr>\n",
              "      <th>11</th>\n",
              "      <td>Liguria</td>\n",
              "      <td>1399466</td>\n",
              "    </tr>\n",
              "    <tr>\n",
              "      <th>12</th>\n",
              "      <td>Marche</td>\n",
              "      <td>1366477</td>\n",
              "    </tr>\n",
              "    <tr>\n",
              "      <th>13</th>\n",
              "      <td>Abruzzo</td>\n",
              "      <td>1188922</td>\n",
              "    </tr>\n",
              "    <tr>\n",
              "      <th>14</th>\n",
              "      <td>Friuli-Venezia Giulia</td>\n",
              "      <td>1088152</td>\n",
              "    </tr>\n",
              "    <tr>\n",
              "      <th>15</th>\n",
              "      <td>Umbria</td>\n",
              "      <td>790414</td>\n",
              "    </tr>\n",
              "    <tr>\n",
              "      <th>16</th>\n",
              "      <td>Basilicata</td>\n",
              "      <td>494881</td>\n",
              "    </tr>\n",
              "    <tr>\n",
              "      <th>17</th>\n",
              "      <td>P.A. Trento</td>\n",
              "      <td>481355</td>\n",
              "    </tr>\n",
              "    <tr>\n",
              "      <th>18</th>\n",
              "      <td>P.A. Bolzano</td>\n",
              "      <td>465181</td>\n",
              "    </tr>\n",
              "    <tr>\n",
              "      <th>19</th>\n",
              "      <td>Molise</td>\n",
              "      <td>273317</td>\n",
              "    </tr>\n",
              "    <tr>\n",
              "      <th>20</th>\n",
              "      <td>Valle d'Aosta</td>\n",
              "      <td>110382</td>\n",
              "    </tr>\n",
              "  </tbody>\n",
              "</table>\n",
              "</div>"
            ],
            "text/plain": [
              "                nome_area  totale_popolazione\n",
              "0               Lombardia             9246804\n",
              "1                   Lazio             5147533\n",
              "2                Campania             5104347\n",
              "3                 Sicilia             4435335\n",
              "4                  Veneto             4383999\n",
              "5          Emilia-Romagna             3998406\n",
              "6                Piemonte             3927641\n",
              "7                  Puglia             3572053\n",
              "8                 Toscana             3360763\n",
              "9                Calabria             1689716\n",
              "10               Sardegna             1484800\n",
              "11                Liguria             1399466\n",
              "12                 Marche             1366477\n",
              "13                Abruzzo             1188922\n",
              "14  Friuli-Venezia Giulia             1088152\n",
              "15                 Umbria              790414\n",
              "16             Basilicata              494881\n",
              "17            P.A. Trento              481355\n",
              "18           P.A. Bolzano              465181\n",
              "19                 Molise              273317\n",
              "20          Valle d'Aosta              110382"
            ]
          },
          "metadata": {},
          "execution_count": 5
        }
      ]
    },
    {
      "cell_type": "markdown",
      "metadata": {
        "id": "974eQcfCwa_u"
      },
      "source": [
        "d. Visualizzare il grafico a barre orizzontali relativo all’esercizio 3. Inserire il titolo, i nomi degli assi e la\n",
        "legenda. Fare in modo che i colori delle barre siano gradazioni dello stesso colore."
      ]
    },
    {
      "cell_type": "code",
      "metadata": {
        "colab": {
          "base_uri": "https://localhost:8080/",
          "height": 534
        },
        "id": "dnT67M-1wdqV",
        "outputId": "e279fc24-124c-48f6-a5a5-0d25490ba057"
      },
      "source": [
        "import matplotlib.pyplot as plt\n",
        "\n",
        "df2 = df.groupby('nome_area', as_index = True)[[\"totale_popolazione\"]].sum().sort_values('totale_popolazione',ascending = False).reset_index()\n",
        "\n",
        "#server per i colori gradients\n",
        "import seaborn as sns\n",
        "\n",
        "#  per ingrandire la larghezza del plot o del grafico\n",
        "#  devi mettere anche ---->   ax = ax\n",
        "fig_dims = (10, 8)\n",
        "fig, ax = plt.subplots(figsize=fig_dims)\n",
        "\n",
        "fig = plt.figure()\n",
        "sns.barplot(x = df2[\"totale_popolazione\"], y = df2[\"nome_area\"], palette = \"Blues_d\", ax = ax)"
      ],
      "execution_count": 8,
      "outputs": [
        {
          "output_type": "execute_result",
          "data": {
            "text/plain": [
              "<matplotlib.axes._subplots.AxesSubplot at 0x7f5f7b7dd090>"
            ]
          },
          "metadata": {},
          "execution_count": 8
        },
        {
          "output_type": "display_data",
          "data": {
            "image/png": "[encoded data removed]",
            "text/plain": [
              "<Figure size 720x576 with 1 Axes>"
            ]
          },
          "metadata": {
            "needs_background": "light"
          }
        },
        {
          "output_type": "display_data",
          "data": {
            "text/plain": [
              "<Figure size 432x288 with 0 Axes>"
            ]
          },
          "metadata": {}
        }
      ]
    },
    {
      "cell_type": "markdown",
      "metadata": {
        "id": "ZaPNvIUlzPMO"
      },
      "source": [
        "e. Eliminare la colonna ‘area’"
      ]
    },
    {
      "cell_type": "code",
      "metadata": {
        "colab": {
          "base_uri": "https://localhost:8080/",
          "height": 423
        },
        "id": "us57xS0JzOiG",
        "outputId": "1575c80a-f548-44e7-dd87-c69aa36c41b9"
      },
      "source": [
        "df.drop(columns=[\"area\"], inplace = True)\n",
        "df"
      ],
      "execution_count": 10,
      "outputs": [
        {
          "output_type": "execute_result",
          "data": {
            "text/html": [
              "<div>\n",
              "<style scoped>\n",
              "    .dataframe tbody tr th:only-of-type {\n",
              "        vertical-align: middle;\n",
              "    }\n",
              "\n",
              "    .dataframe tbody tr th {\n",
              "        vertical-align: top;\n",
              "    }\n",
              "\n",
              "    .dataframe thead th {\n",
              "        text-align: right;\n",
              "    }\n",
              "</style>\n",
              "<table border=\"1\" class=\"dataframe\">\n",
              "  <thead>\n",
              "    <tr style=\"text-align: right;\">\n",
              "      <th></th>\n",
              "      <th>nome_area</th>\n",
              "      <th>fascia_anagrafica</th>\n",
              "      <th>totale_popolazione</th>\n",
              "    </tr>\n",
              "  </thead>\n",
              "  <tbody>\n",
              "    <tr>\n",
              "      <th>0</th>\n",
              "      <td>Abruzzo</td>\n",
              "      <td>12-19</td>\n",
              "      <td>94727</td>\n",
              "    </tr>\n",
              "    <tr>\n",
              "      <th>1</th>\n",
              "      <td>Abruzzo</td>\n",
              "      <td>20-29</td>\n",
              "      <td>125230</td>\n",
              "    </tr>\n",
              "    <tr>\n",
              "      <th>2</th>\n",
              "      <td>Abruzzo</td>\n",
              "      <td>30-39</td>\n",
              "      <td>146965</td>\n",
              "    </tr>\n",
              "    <tr>\n",
              "      <th>3</th>\n",
              "      <td>Abruzzo</td>\n",
              "      <td>40-49</td>\n",
              "      <td>187162</td>\n",
              "    </tr>\n",
              "    <tr>\n",
              "      <th>4</th>\n",
              "      <td>Abruzzo</td>\n",
              "      <td>50-59</td>\n",
              "      <td>208686</td>\n",
              "    </tr>\n",
              "    <tr>\n",
              "      <th>...</th>\n",
              "      <td>...</td>\n",
              "      <td>...</td>\n",
              "      <td>...</td>\n",
              "    </tr>\n",
              "    <tr>\n",
              "      <th>163</th>\n",
              "      <td>Veneto</td>\n",
              "      <td>40-49</td>\n",
              "      <td>715790</td>\n",
              "    </tr>\n",
              "    <tr>\n",
              "      <th>164</th>\n",
              "      <td>Veneto</td>\n",
              "      <td>50-59</td>\n",
              "      <td>806474</td>\n",
              "    </tr>\n",
              "    <tr>\n",
              "      <th>165</th>\n",
              "      <td>Veneto</td>\n",
              "      <td>60-69</td>\n",
              "      <td>610635</td>\n",
              "    </tr>\n",
              "    <tr>\n",
              "      <th>166</th>\n",
              "      <td>Veneto</td>\n",
              "      <td>70-79</td>\n",
              "      <td>494721</td>\n",
              "    </tr>\n",
              "    <tr>\n",
              "      <th>167</th>\n",
              "      <td>Veneto</td>\n",
              "      <td>80+</td>\n",
              "      <td>370529</td>\n",
              "    </tr>\n",
              "  </tbody>\n",
              "</table>\n",
              "<p>168 rows × 3 columns</p>\n",
              "</div>"
            ],
            "text/plain": [
              "    nome_area fascia_anagrafica  totale_popolazione\n",
              "0     Abruzzo             12-19               94727\n",
              "1     Abruzzo             20-29              125230\n",
              "2     Abruzzo             30-39              146965\n",
              "3     Abruzzo             40-49              187162\n",
              "4     Abruzzo             50-59              208686\n",
              "..        ...               ...                 ...\n",
              "163    Veneto             40-49              715790\n",
              "164    Veneto             50-59              806474\n",
              "165    Veneto             60-69              610635\n",
              "166    Veneto             70-79              494721\n",
              "167    Veneto               80+              370529\n",
              "\n",
              "[168 rows x 3 columns]"
            ]
          },
          "metadata": {},
          "execution_count": 10
        }
      ]
    },
    {
      "cell_type": "markdown",
      "metadata": {
        "id": "s9UR3ncl0Hze"
      },
      "source": [
        "f. Visualizzare le fasce anagrafiche che hanno un numero di persone compreso tra 5 e 7 milioni"
      ]
    },
    {
      "cell_type": "code",
      "metadata": {
        "colab": {
          "base_uri": "https://localhost:8080/",
          "height": 50
        },
        "id": "uH1AdO_H0KR1",
        "outputId": "b5fb08eb-b42a-419d-8ab4-6e90c4210429"
      },
      "source": [
        "df.loc[(df[\"totale_popolazione\"] <= 7000000) & (df[\"totale_popolazione\"] >= 5000000),[\"fascia_anagrafica\"]]"
      ],
      "execution_count": 11,
      "outputs": [
        {
          "output_type": "execute_result",
          "data": {
            "text/html": [
              "<div>\n",
              "<style scoped>\n",
              "    .dataframe tbody tr th:only-of-type {\n",
              "        vertical-align: middle;\n",
              "    }\n",
              "\n",
              "    .dataframe tbody tr th {\n",
              "        vertical-align: top;\n",
              "    }\n",
              "\n",
              "    .dataframe thead th {\n",
              "        text-align: right;\n",
              "    }\n",
              "</style>\n",
              "<table border=\"1\" class=\"dataframe\">\n",
              "  <thead>\n",
              "    <tr style=\"text-align: right;\">\n",
              "      <th></th>\n",
              "      <th>fascia_anagrafica</th>\n",
              "    </tr>\n",
              "  </thead>\n",
              "  <tbody>\n",
              "  </tbody>\n",
              "</table>\n",
              "</div>"
            ],
            "text/plain": [
              "Empty DataFrame\n",
              "Columns: [fascia_anagrafica]\n",
              "Index: []"
            ]
          },
          "metadata": {},
          "execution_count": 11
        }
      ]
    },
    {
      "cell_type": "code",
      "metadata": {
        "colab": {
          "base_uri": "https://localhost:8080/",
          "height": 332
        },
        "id": "gblSFWlH0oIF",
        "outputId": "07737e15-f23e-4088-e10f-f88effd8a69b"
      },
      "source": [
        "df.groupby(\"fascia_anagrafica\")[[\"totale_popolazione\"]].sum()\n",
        "\n"
      ],
      "execution_count": 12,
      "outputs": [
        {
          "output_type": "execute_result",
          "data": {
            "text/html": [
              "<div>\n",
              "<style scoped>\n",
              "    .dataframe tbody tr th:only-of-type {\n",
              "        vertical-align: middle;\n",
              "    }\n",
              "\n",
              "    .dataframe tbody tr th {\n",
              "        vertical-align: top;\n",
              "    }\n",
              "\n",
              "    .dataframe thead th {\n",
              "        text-align: right;\n",
              "    }\n",
              "</style>\n",
              "<table border=\"1\" class=\"dataframe\">\n",
              "  <thead>\n",
              "    <tr style=\"text-align: right;\">\n",
              "      <th></th>\n",
              "      <th>totale_popolazione</th>\n",
              "    </tr>\n",
              "    <tr>\n",
              "      <th>fascia_anagrafica</th>\n",
              "      <th></th>\n",
              "    </tr>\n",
              "  </thead>\n",
              "  <tbody>\n",
              "    <tr>\n",
              "      <th>12-19</th>\n",
              "      <td>4627514</td>\n",
              "    </tr>\n",
              "    <tr>\n",
              "      <th>20-29</th>\n",
              "      <td>6013709</td>\n",
              "    </tr>\n",
              "    <tr>\n",
              "      <th>30-39</th>\n",
              "      <td>6794332</td>\n",
              "    </tr>\n",
              "    <tr>\n",
              "      <th>40-49</th>\n",
              "      <td>8783291</td>\n",
              "    </tr>\n",
              "    <tr>\n",
              "      <th>50-59</th>\n",
              "      <td>9649960</td>\n",
              "    </tr>\n",
              "    <tr>\n",
              "      <th>60-69</th>\n",
              "      <td>7553486</td>\n",
              "    </tr>\n",
              "    <tr>\n",
              "      <th>70-79</th>\n",
              "      <td>6019293</td>\n",
              "    </tr>\n",
              "    <tr>\n",
              "      <th>80+</th>\n",
              "      <td>4568359</td>\n",
              "    </tr>\n",
              "  </tbody>\n",
              "</table>\n",
              "</div>"
            ],
            "text/plain": [
              "                   totale_popolazione\n",
              "fascia_anagrafica                    \n",
              "12-19                         4627514\n",
              "20-29                         6013709\n",
              "30-39                         6794332\n",
              "40-49                         8783291\n",
              "50-59                         9649960\n",
              "60-69                         7553486\n",
              "70-79                         6019293\n",
              "80+                           4568359"
            ]
          },
          "metadata": {},
          "execution_count": 12
        }
      ]
    },
    {
      "cell_type": "code",
      "metadata": {
        "colab": {
          "base_uri": "https://localhost:8080/",
          "height": 300
        },
        "id": "WGNmGef31Om1",
        "outputId": "e3aac12f-841e-4787-aa10-240f0ca3bc41"
      },
      "source": [
        "df1 = df.groupby(\"fascia_anagrafica\", as_index = False)[\"totale_popolazione\"].sum()\n",
        "df1"
      ],
      "execution_count": 13,
      "outputs": [
        {
          "output_type": "execute_result",
          "data": {
            "text/html": [
              "<div>\n",
              "<style scoped>\n",
              "    .dataframe tbody tr th:only-of-type {\n",
              "        vertical-align: middle;\n",
              "    }\n",
              "\n",
              "    .dataframe tbody tr th {\n",
              "        vertical-align: top;\n",
              "    }\n",
              "\n",
              "    .dataframe thead th {\n",
              "        text-align: right;\n",
              "    }\n",
              "</style>\n",
              "<table border=\"1\" class=\"dataframe\">\n",
              "  <thead>\n",
              "    <tr style=\"text-align: right;\">\n",
              "      <th></th>\n",
              "      <th>fascia_anagrafica</th>\n",
              "      <th>totale_popolazione</th>\n",
              "    </tr>\n",
              "  </thead>\n",
              "  <tbody>\n",
              "    <tr>\n",
              "      <th>0</th>\n",
              "      <td>12-19</td>\n",
              "      <td>4627514</td>\n",
              "    </tr>\n",
              "    <tr>\n",
              "      <th>1</th>\n",
              "      <td>20-29</td>\n",
              "      <td>6013709</td>\n",
              "    </tr>\n",
              "    <tr>\n",
              "      <th>2</th>\n",
              "      <td>30-39</td>\n",
              "      <td>6794332</td>\n",
              "    </tr>\n",
              "    <tr>\n",
              "      <th>3</th>\n",
              "      <td>40-49</td>\n",
              "      <td>8783291</td>\n",
              "    </tr>\n",
              "    <tr>\n",
              "      <th>4</th>\n",
              "      <td>50-59</td>\n",
              "      <td>9649960</td>\n",
              "    </tr>\n",
              "    <tr>\n",
              "      <th>5</th>\n",
              "      <td>60-69</td>\n",
              "      <td>7553486</td>\n",
              "    </tr>\n",
              "    <tr>\n",
              "      <th>6</th>\n",
              "      <td>70-79</td>\n",
              "      <td>6019293</td>\n",
              "    </tr>\n",
              "    <tr>\n",
              "      <th>7</th>\n",
              "      <td>80+</td>\n",
              "      <td>4568359</td>\n",
              "    </tr>\n",
              "  </tbody>\n",
              "</table>\n",
              "</div>"
            ],
            "text/plain": [
              "  fascia_anagrafica  totale_popolazione\n",
              "0             12-19             4627514\n",
              "1             20-29             6013709\n",
              "2             30-39             6794332\n",
              "3             40-49             8783291\n",
              "4             50-59             9649960\n",
              "5             60-69             7553486\n",
              "6             70-79             6019293\n",
              "7               80+             4568359"
            ]
          },
          "metadata": {},
          "execution_count": 13
        }
      ]
    },
    {
      "cell_type": "code",
      "metadata": {
        "colab": {
          "base_uri": "https://localhost:8080/",
          "height": 143
        },
        "id": "qg0P4akE1m6u",
        "outputId": "6621fd61-e441-48e6-fd2f-fdbfdbc5476d"
      },
      "source": [
        "df2 = df.groupby(\"fascia_anagrafica\", as_index = False)[\"totale_popolazione\"].sum()\n",
        "df2\n",
        "df2.loc[(df2[\"totale_popolazione\"] <= 7000000) & (df2[\"totale_popolazione\"] >= 5000000),[\"fascia_anagrafica\",\"totale_popolazione\"]]"
      ],
      "execution_count": 14,
      "outputs": [
        {
          "output_type": "execute_result",
          "data": {
            "text/html": [
              "<div>\n",
              "<style scoped>\n",
              "    .dataframe tbody tr th:only-of-type {\n",
              "        vertical-align: middle;\n",
              "    }\n",
              "\n",
              "    .dataframe tbody tr th {\n",
              "        vertical-align: top;\n",
              "    }\n",
              "\n",
              "    .dataframe thead th {\n",
              "        text-align: right;\n",
              "    }\n",
              "</style>\n",
              "<table border=\"1\" class=\"dataframe\">\n",
              "  <thead>\n",
              "    <tr style=\"text-align: right;\">\n",
              "      <th></th>\n",
              "      <th>fascia_anagrafica</th>\n",
              "      <th>totale_popolazione</th>\n",
              "    </tr>\n",
              "  </thead>\n",
              "  <tbody>\n",
              "    <tr>\n",
              "      <th>1</th>\n",
              "      <td>20-29</td>\n",
              "      <td>6013709</td>\n",
              "    </tr>\n",
              "    <tr>\n",
              "      <th>2</th>\n",
              "      <td>30-39</td>\n",
              "      <td>6794332</td>\n",
              "    </tr>\n",
              "    <tr>\n",
              "      <th>6</th>\n",
              "      <td>70-79</td>\n",
              "      <td>6019293</td>\n",
              "    </tr>\n",
              "  </tbody>\n",
              "</table>\n",
              "</div>"
            ],
            "text/plain": [
              "  fascia_anagrafica  totale_popolazione\n",
              "1             20-29             6013709\n",
              "2             30-39             6794332\n",
              "6             70-79             6019293"
            ]
          },
          "metadata": {},
          "execution_count": 14
        }
      ]
    },
    {
      "cell_type": "markdown",
      "metadata": {
        "id": "n0_-g0k00gdt"
      },
      "source": [
        "g. Visualizzare il grafico a torta dei dati dell’esercizio 6. Visualizzare negli spicchi sia il numero assoluto\n",
        "degli abitanti (ad esempio 4345767) sia la percentuale"
      ]
    },
    {
      "cell_type": "code",
      "metadata": {
        "colab": {
          "base_uri": "https://localhost:8080/"
        },
        "id": "92K8WwqN5rhm",
        "outputId": "c44a6883-dad3-422f-9d58-99a08a2a3529"
      },
      "source": [
        "df3 = df1.loc[(df1[\"totale_popolazione\"] <= 7000000) & (df1[\"totale_popolazione\"] >= 5000000),[\"fascia_anagrafica\",\"totale_popolazione\"]]\n",
        "\n",
        "ele = list(df3[\"totale_popolazione\"])\n",
        "\n",
        "tot = sum(ele)\n",
        "\n",
        "print(tot)"
      ],
      "execution_count": 15,
      "outputs": [
        {
          "output_type": "stream",
          "name": "stdout",
          "text": [
            "18827334\n"
          ]
        }
      ]
    },
    {
      "cell_type": "code",
      "metadata": {
        "colab": {
          "base_uri": "https://localhost:8080/",
          "height": 683
        },
        "id": "W2q9vWGr0jiX",
        "outputId": "a18e398d-6938-4a19-a536-13059cf617d7"
      },
      "source": [
        "#############          IIIIIIIIMMMMMMMPPPPPPPOOOOORRRRRRRTTTTTTAAAAAANNNNNNTTTTTTEEEEEEEE\n",
        "\n",
        "df3 = df1.loc[(df1[\"totale_popolazione\"] <= 7000000) & (df1[\"totale_popolazione\"] >= 5000000),[\"fascia_anagrafica\",\"totale_popolazione\"]]\n",
        "\n",
        "ele = list(df3[\"totale_popolazione\"])\n",
        "totale = sum(ele)\n",
        "\n",
        "fig = plt.figure(figsize = (12,12))\n",
        "ax = plt.axes()\n",
        "\n",
        "plt.rcParams.update({\"font.size\":20})\n",
        "\n",
        "#   server per scrivere solo il valore assoluto nel graffico\n",
        "#ax.pie(df3[\"totale_popolazione\"], labels = df3[\"fascia_anagrafica\"], autopct =lambda p: '{:.0f}'.format(p * totale / 100))\n",
        "\n",
        "\n",
        "###   per far vedere sia la percentuale sia il suo valore assoluto\n",
        "def make_autopct(values):\n",
        "    def my_autopct(pct):\n",
        "        total = sum(values)\n",
        "        val = int(round(pct*total/100.0))\n",
        "        return '{v:d}({p:.2f}%) '.format(p=pct,v=val)\n",
        "    return my_autopct\n",
        "\n",
        "values = list(df3[\"totale_popolazione\"])\n",
        "\n",
        "ax.pie(df3[\"totale_popolazione\"], labels = df3[\"fascia_anagrafica\"], autopct=make_autopct(values))\n",
        "plt.show()"
      ],
      "execution_count": 18,
      "outputs": [
        {
          "output_type": "display_data",
          "data": {
            "image/png": "[encoded data removed]",
            "text/plain": [
              "<Figure size 864x864 with 1 Axes>"
            ]
          },
          "metadata": {}
        }
      ]
    },
    {
      "cell_type": "markdown",
      "metadata": {
        "id": "LOnkup1b31hG"
      },
      "source": [
        "h. Visualizzare un nuovo grafico con i grafici precedenti. Il nuovo grafico deve avere due colonne e tre\n",
        "righe e deve contenere nella prima colonna tre volte il grafico a barre e nelle seconda colonna tre volte\n",
        "il grafico a torta"
      ]
    },
    {
      "cell_type": "code",
      "metadata": {
        "id": "xwBkYXZv34We"
      },
      "source": [
        "fig, ((ax1, ax2), (ax3, ax4), (ax5, ax6)) = plt.subplots(3, 2)\n",
        "\n",
        "\n",
        "\n",
        "ax1.barh(df2[\"nome_area\"],df2[\"totale_popolazione\"])\n",
        "ax2.barh(df2[\"nome_area\"],df2[\"totale_popolazione\"])\n",
        "ax3.barh(df2[\"nome_area\"],df2[\"totale_popolazione\"])\n",
        "\n",
        "ax4.pie(df3[\"totale_popolazione\"], labels = df3[\"fascia_anagrafica\"])\n",
        "ax5.pie(df3[\"totale_popolazione\"], labels = df3[\"fascia_anagrafica\"])\n",
        "ax6.pie(df3[\"totale_popolazione\"], labels = df3[\"fascia_anagrafica\"])\n",
        "\n",
        "\n",
        "for ax in fig.get_axes():\n",
        "    ax.label_outer()"
      ],
      "execution_count": null,
      "outputs": []
    },
    {
      "cell_type": "markdown",
      "metadata": {
        "id": "HPzwVLh76BXO"
      },
      "source": [
        "i. Salvare il grafico in un file .png"
      ]
    },
    {
      "cell_type": "code",
      "metadata": {
        "id": "JhCgpEx66A0W"
      },
      "source": [
        "fig.savefig(\"myfig.png\")"
      ],
      "execution_count": null,
      "outputs": []
    }
  ]
}