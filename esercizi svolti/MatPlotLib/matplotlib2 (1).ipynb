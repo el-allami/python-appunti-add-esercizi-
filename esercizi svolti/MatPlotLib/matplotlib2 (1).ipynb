{
  "nbformat": 4,
  "nbformat_minor": 0,
  "metadata": {
    "colab": {
      "name": "Basco_matplotlib2.ipynb",
      "provenance": [],
      "collapsed_sections": []
    },
    "kernelspec": {
      "name": "python3",
      "display_name": "Python 3"
    },
    "language_info": {
      "name": "python"
    }
  },
  "cells": [
    {
      "cell_type": "code",
      "metadata": {
        "id": "j4e05CIIq3_r"
      },
      "source": [
        "import pandas as pd\n",
        "import matplotlib.pyplot as plt"
      ],
      "execution_count": null,
      "outputs": []
    },
    {
      "cell_type": "markdown",
      "metadata": {
        "id": "3HVt0tu6rGwl"
      },
      "source": [
        "a. creare un dataframe contenente le informazioni riportate qui sotto, relative a quanti prodotti ha\n",
        "venduto (‘quantity’) e quanto ha venduto in termini di $ (‘total_amount’) ogni membro dello staff\n",
        "(colonna “last_name”):"
      ]
    },
    {
      "cell_type": "code",
      "metadata": {
        "colab": {
          "base_uri": "https://localhost:8080/",
          "height": 234
        },
        "id": "G5EFsYOcrKL9",
        "outputId": "51cf8b72-364b-4e21-f8cb-2c47619ff582"
      },
      "source": [
        "diz = d = {\n",
        "    \"last_name\": [\"Boyer\",\"CopeLand\",\"Daniel\",\"Serrano\",\"Terrell\",\"Vargas\"],\n",
        "    \"quantity\": [766,213,812,269,100,114],\n",
        "    \"total_amount\": [643049.37,203549.39,744259.20,253183.68,93851.95,123156.90]\n",
        "    }\n",
        "\n",
        "df = pd.DataFrame(diz)\n",
        "df"
      ],
      "execution_count": null,
      "outputs": [
        {
          "output_type": "execute_result",
          "data": {
            "text/html": [
              "<div>\n",
              "<style scoped>\n",
              "    .dataframe tbody tr th:only-of-type {\n",
              "        vertical-align: middle;\n",
              "    }\n",
              "\n",
              "    .dataframe tbody tr th {\n",
              "        vertical-align: top;\n",
              "    }\n",
              "\n",
              "    .dataframe thead th {\n",
              "        text-align: right;\n",
              "    }\n",
              "</style>\n",
              "<table border=\"1\" class=\"dataframe\">\n",
              "  <thead>\n",
              "    <tr style=\"text-align: right;\">\n",
              "      <th></th>\n",
              "      <th>last_name</th>\n",
              "      <th>quantity</th>\n",
              "      <th>total_amount</th>\n",
              "    </tr>\n",
              "  </thead>\n",
              "  <tbody>\n",
              "    <tr>\n",
              "      <th>0</th>\n",
              "      <td>Boyer</td>\n",
              "      <td>766</td>\n",
              "      <td>643049.37</td>\n",
              "    </tr>\n",
              "    <tr>\n",
              "      <th>1</th>\n",
              "      <td>CopeLand</td>\n",
              "      <td>213</td>\n",
              "      <td>203549.39</td>\n",
              "    </tr>\n",
              "    <tr>\n",
              "      <th>2</th>\n",
              "      <td>Daniel</td>\n",
              "      <td>812</td>\n",
              "      <td>744259.20</td>\n",
              "    </tr>\n",
              "    <tr>\n",
              "      <th>3</th>\n",
              "      <td>Serrano</td>\n",
              "      <td>269</td>\n",
              "      <td>253183.68</td>\n",
              "    </tr>\n",
              "    <tr>\n",
              "      <th>4</th>\n",
              "      <td>Terrell</td>\n",
              "      <td>100</td>\n",
              "      <td>93851.95</td>\n",
              "    </tr>\n",
              "    <tr>\n",
              "      <th>5</th>\n",
              "      <td>Vargas</td>\n",
              "      <td>114</td>\n",
              "      <td>123156.90</td>\n",
              "    </tr>\n",
              "  </tbody>\n",
              "</table>\n",
              "</div>"
            ],
            "text/plain": [
              "  last_name  quantity  total_amount\n",
              "0     Boyer       766     643049.37\n",
              "1  CopeLand       213     203549.39\n",
              "2    Daniel       812     744259.20\n",
              "3   Serrano       269     253183.68\n",
              "4   Terrell       100      93851.95\n",
              "5    Vargas       114     123156.90"
            ]
          },
          "metadata": {},
          "execution_count": 2
        }
      ]
    },
    {
      "cell_type": "markdown",
      "metadata": {
        "id": "LAhE3-6gtBHO"
      },
      "source": [
        "b. visualizzi due grafici a barre affiancati che indichino quantità vendute e valore venduto per ogni\n",
        "dipendente."
      ]
    },
    {
      "cell_type": "code",
      "metadata": {
        "colab": {
          "base_uri": "https://localhost:8080/",
          "height": 391
        },
        "id": "GjxWNLYotEWd",
        "outputId": "08464a5b-ee14-49a4-cb35-b1d7b5dd904f"
      },
      "source": [
        "fig, (ax,ax2) = plt.subplots(1,2)\n",
        "fig.set_size_inches(10,6)\n",
        "\n",
        "ax.bar(df[\"last_name\"], df[\"quantity\"])\n",
        "ax2.bar(df[\"last_name\"], df[\"total_amount\"])\n",
        "plt.show"
      ],
      "execution_count": null,
      "outputs": [
        {
          "output_type": "execute_result",
          "data": {
            "text/plain": [
              "<function matplotlib.pyplot.show>"
            ]
          },
          "metadata": {},
          "execution_count": 3
        },
        {
          "output_type": "display_data",
          "data": {
            "image/png": "[encoded data removed]",
            "text/plain": [
              "<Figure size 720x432 with 2 Axes>"
            ]
          },
          "metadata": {
            "needs_background": "light"
          }
        }
      ]
    },
    {
      "cell_type": "markdown",
      "metadata": {
        "id": "3fmUfLqpw95-"
      },
      "source": [
        "C. visualizzi i grafici precedenti con un titolo, gli assi e la griglia."
      ]
    },
    {
      "cell_type": "code",
      "metadata": {
        "colab": {
          "base_uri": "https://localhost:8080/",
          "height": 642
        },
        "id": "OeRoKTINxAWG",
        "outputId": "6239a539-f69b-4ec4-e077-2db6e68a3b64"
      },
      "source": [
        "fig, (ax,ax2) = plt.subplots(1,2)\n",
        "\n",
        "#grandezza del grafico\n",
        "fig.set_size_inches(14,9)\n",
        "\n",
        "ax.bar(df[\"last_name\"], df[\"quantity\"])\n",
        "ax2.bar(df[\"last_name\"], df[\"total_amount\"])\n",
        "\n",
        "ax.grid(linewidth = 1, color = \"k\", linestyle= \"-\")\n",
        "ax2.grid(linewidth = 1, color = \"k\", linestyle= \"-\")\n",
        "\n",
        "#per fare il titolo degli assi del primo grafico\n",
        "ax.set_xlabel('last names', fontsize=20)\n",
        "ax.set_ylabel('quantities', fontsize=20)\n",
        "\n",
        "#per fare il titolo degli assi del secondo grafico\n",
        "ax2.set_xlabel('last names', fontsize=20)\n",
        "ax2.set_ylabel('total amount', fontsize=20)\n",
        "\n",
        "#per fare il titolo\n",
        "fig.suptitle(\"two graphs next to each other\", fontsize = 15)\n",
        "plt.show"
      ],
      "execution_count": null,
      "outputs": [
        {
          "output_type": "execute_result",
          "data": {
            "text/plain": [
              "<function matplotlib.pyplot.show>"
            ]
          },
          "metadata": {},
          "execution_count": 4
        },
        {
          "output_type": "display_data",
          "data": {
            "image/png": "[encoded data removed]",
            "text/plain": [
              "<Figure size 1008x648 with 2 Axes>"
            ]
          },
          "metadata": {
            "needs_background": "light"
          }
        }
      ]
    },
    {
      "cell_type": "markdown",
      "metadata": {
        "id": "Ak4UT3joycNO"
      },
      "source": [
        "d. visualizzi, senza creare nuovi dataframe, il costo medio dei prodotti venduti da ogni dipendente."
      ]
    },
    {
      "cell_type": "code",
      "metadata": {
        "colab": {
          "base_uri": "https://localhost:8080/",
          "height": 487
        },
        "id": "_SEJz4jmyf12",
        "outputId": "4a9648d4-58a7-4ccc-c000-2474d54f476b"
      },
      "source": [
        "media = list(df[\"total_amount\"]/ df[\"quantity\"])\n",
        "\n",
        "fig = plt.figure(figsize= (10,8))\n",
        "ax = plt.axes()\n",
        "\n",
        "#per mettere che y inizia da 800\n",
        "ax.set_ylim([800, 1100])\n",
        "\n",
        "ax.bar(df[\"last_name\"], media)\n",
        "\n",
        "plt.show()"
      ],
      "execution_count": null,
      "outputs": [
        {
          "output_type": "display_data",
          "data": {
            "image/png": "[encoded data removed]",
            "text/plain": [
              "<Figure size 720x576 with 1 Axes>"
            ]
          },
          "metadata": {
            "needs_background": "light"
          }
        }
      ]
    },
    {
      "cell_type": "code",
      "metadata": {
        "colab": {
          "base_uri": "https://localhost:8080/",
          "height": 269
        },
        "id": "QsF-hS4UYjAt",
        "outputId": "abc86b86-30b3-4dbf-9bed-88cf3c7b69f6"
      },
      "source": [
        "import matplotlib.pyplot as plt\n",
        "import math\n",
        "x = [1,2,3,4,5]\n",
        "y = [1000, 1002, 1001, 1003, 1005]\n",
        "low = min(y)\n",
        "high = max(y)\n",
        "plt.ylim([math.ceil(low-0.5*(high-low)), math.ceil(high+0.5*(high-low))])\n",
        "plt.bar(x,y) \n",
        "plt.show()"
      ],
      "execution_count": null,
      "outputs": [
        {
          "output_type": "display_data",
          "data": {
            "image/png": "[encoded data removed]",
            "text/plain": [
              "<Figure size 432x288 with 1 Axes>"
            ]
          },
          "metadata": {
            "needs_background": "light"
          }
        }
      ]
    }
  ]
}