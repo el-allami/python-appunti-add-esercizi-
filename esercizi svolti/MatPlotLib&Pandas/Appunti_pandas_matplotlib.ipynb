{
  "nbformat": 4,
  "nbformat_minor": 0,
  "metadata": {
    "colab": {
      "name": "Appunti_pandas/matplotlib.ipynb",
      "provenance": [],
      "collapsed_sections": []
    },
    "kernelspec": {
      "name": "python3",
      "display_name": "Python 3"
    },
    "language_info": {
      "name": "python"
    }
  },
  "cells": [
    {
      "cell_type": "markdown",
      "metadata": {
        "id": "jKEuw4m0o8rd"
      },
      "source": [
        "dal file: Copia di CorrezioneVerificaPandasFilaA&B.ipynb"
      ]
    },
    {
      "cell_type": "code",
      "metadata": {
        "id": "hYOk24dZhKy9",
        "colab": {
          "base_uri": "https://localhost:8080/",
          "height": 423
        },
        "outputId": "2f4f2d3a-c84b-47ed-a974-45cbdfd13de3"
      },
      "source": [
        "#   per importare un file \n",
        "import pandas as pd\n",
        "medals = pd.read_excel('https://raw.githubusercontent.com/wtitze/3E/main/Medals.xlsx')\n",
        "medals"
      ],
      "execution_count": null,
      "outputs": [
        {
          "output_type": "execute_result",
          "data": {
            "text/html": [
              "<div>\n",
              "<style scoped>\n",
              "    .dataframe tbody tr th:only-of-type {\n",
              "        vertical-align: middle;\n",
              "    }\n",
              "\n",
              "    .dataframe tbody tr th {\n",
              "        vertical-align: top;\n",
              "    }\n",
              "\n",
              "    .dataframe thead th {\n",
              "        text-align: right;\n",
              "    }\n",
              "</style>\n",
              "<table border=\"1\" class=\"dataframe\">\n",
              "  <thead>\n",
              "    <tr style=\"text-align: right;\">\n",
              "      <th></th>\n",
              "      <th>Rank</th>\n",
              "      <th>Team/NOC</th>\n",
              "      <th>Gold</th>\n",
              "      <th>Silver</th>\n",
              "      <th>Bronze</th>\n",
              "      <th>Total</th>\n",
              "      <th>Rank by Total</th>\n",
              "    </tr>\n",
              "  </thead>\n",
              "  <tbody>\n",
              "    <tr>\n",
              "      <th>0</th>\n",
              "      <td>1</td>\n",
              "      <td>United States of America</td>\n",
              "      <td>39</td>\n",
              "      <td>41</td>\n",
              "      <td>33</td>\n",
              "      <td>113</td>\n",
              "      <td>1</td>\n",
              "    </tr>\n",
              "    <tr>\n",
              "      <th>1</th>\n",
              "      <td>2</td>\n",
              "      <td>People's Republic of China</td>\n",
              "      <td>38</td>\n",
              "      <td>32</td>\n",
              "      <td>18</td>\n",
              "      <td>88</td>\n",
              "      <td>2</td>\n",
              "    </tr>\n",
              "    <tr>\n",
              "      <th>2</th>\n",
              "      <td>3</td>\n",
              "      <td>Japan</td>\n",
              "      <td>27</td>\n",
              "      <td>14</td>\n",
              "      <td>17</td>\n",
              "      <td>58</td>\n",
              "      <td>5</td>\n",
              "    </tr>\n",
              "    <tr>\n",
              "      <th>3</th>\n",
              "      <td>4</td>\n",
              "      <td>Great Britain</td>\n",
              "      <td>22</td>\n",
              "      <td>21</td>\n",
              "      <td>22</td>\n",
              "      <td>65</td>\n",
              "      <td>4</td>\n",
              "    </tr>\n",
              "    <tr>\n",
              "      <th>4</th>\n",
              "      <td>5</td>\n",
              "      <td>ROC</td>\n",
              "      <td>20</td>\n",
              "      <td>28</td>\n",
              "      <td>23</td>\n",
              "      <td>71</td>\n",
              "      <td>3</td>\n",
              "    </tr>\n",
              "    <tr>\n",
              "      <th>...</th>\n",
              "      <td>...</td>\n",
              "      <td>...</td>\n",
              "      <td>...</td>\n",
              "      <td>...</td>\n",
              "      <td>...</td>\n",
              "      <td>...</td>\n",
              "      <td>...</td>\n",
              "    </tr>\n",
              "    <tr>\n",
              "      <th>88</th>\n",
              "      <td>86</td>\n",
              "      <td>Ghana</td>\n",
              "      <td>0</td>\n",
              "      <td>0</td>\n",
              "      <td>1</td>\n",
              "      <td>1</td>\n",
              "      <td>77</td>\n",
              "    </tr>\n",
              "    <tr>\n",
              "      <th>89</th>\n",
              "      <td>86</td>\n",
              "      <td>Grenada</td>\n",
              "      <td>0</td>\n",
              "      <td>0</td>\n",
              "      <td>1</td>\n",
              "      <td>1</td>\n",
              "      <td>77</td>\n",
              "    </tr>\n",
              "    <tr>\n",
              "      <th>90</th>\n",
              "      <td>86</td>\n",
              "      <td>Kuwait</td>\n",
              "      <td>0</td>\n",
              "      <td>0</td>\n",
              "      <td>1</td>\n",
              "      <td>1</td>\n",
              "      <td>77</td>\n",
              "    </tr>\n",
              "    <tr>\n",
              "      <th>91</th>\n",
              "      <td>86</td>\n",
              "      <td>Republic of Moldova</td>\n",
              "      <td>0</td>\n",
              "      <td>0</td>\n",
              "      <td>1</td>\n",
              "      <td>1</td>\n",
              "      <td>77</td>\n",
              "    </tr>\n",
              "    <tr>\n",
              "      <th>92</th>\n",
              "      <td>86</td>\n",
              "      <td>Syrian Arab Republic</td>\n",
              "      <td>0</td>\n",
              "      <td>0</td>\n",
              "      <td>1</td>\n",
              "      <td>1</td>\n",
              "      <td>77</td>\n",
              "    </tr>\n",
              "  </tbody>\n",
              "</table>\n",
              "<p>93 rows × 7 columns</p>\n",
              "</div>"
            ],
            "text/plain": [
              "    Rank                    Team/NOC  Gold  ...  Bronze  Total  Rank by Total\n",
              "0      1    United States of America    39  ...      33    113              1\n",
              "1      2  People's Republic of China    38  ...      18     88              2\n",
              "2      3                       Japan    27  ...      17     58              5\n",
              "3      4               Great Britain    22  ...      22     65              4\n",
              "4      5                         ROC    20  ...      23     71              3\n",
              "..   ...                         ...   ...  ...     ...    ...            ...\n",
              "88    86                       Ghana     0  ...       1      1             77\n",
              "89    86                     Grenada     0  ...       1      1             77\n",
              "90    86                      Kuwait     0  ...       1      1             77\n",
              "91    86         Republic of Moldova     0  ...       1      1             77\n",
              "92    86        Syrian Arab Republic     0  ...       1      1             77\n",
              "\n",
              "[93 rows x 7 columns]"
            ]
          },
          "metadata": {},
          "execution_count": 1
        }
      ]
    },
    {
      "cell_type": "code",
      "metadata": {
        "id": "Rgzepgfio4ek"
      },
      "source": [
        "#   elimina colonne\n",
        "medals.drop(columns= ['Total','Rank by Total'])\n",
        "\n",
        "#   puo eliminare anche solo una colonna\n",
        "teams.drop(columns= ['Event'])\n",
        "\n",
        "######      per eliminare una riga\n",
        "dataF = dataF.drop(3)   \n",
        "dataF\n",
        "\n",
        "# #     eliminare le ultime tre colonne\n",
        "df = df.drop(columns = df.iloc[:, -3:])\n",
        "df\n",
        "\n",
        "\n",
        "###        df.loc[df[\"Telefono\"].isnull() | df[\"Fax\"].isnull()] \n",
        "\n",
        "###    elimina le rige che hanno come valore null\n",
        "df = df.drop(df.index[df[\"Telefono\"].isnull() | df[\"Fax\"].isnull()], inplace = True)\n",
        "df\n",
        "\n",
        "#  un altro per droppare colonne usando filter, metti nell'items le colonne che vuoi che resti\n",
        "df = df.filter(items = [\"borough\", \"cuisine\", \"name\"])\n",
        "\n",
        "\n",
        "#   .dropna()  ------>   elimina i valori di una colonna che hanno come valore null\n",
        "#   \n",
        "df.dropna(inplace = True)\n",
        "\n",
        "#   elimina i duplicati di uno specifa colonna, puio mettere piu colonne\n",
        "df = df.drop_duplicates(subset=['brand'])\n",
        "\n"
      ],
      "execution_count": null,
      "outputs": []
    },
    {
      "cell_type": "code",
      "metadata": {
        "id": "XyexDj5npBRV"
      },
      "source": [
        "#    rinominare una colonna\n",
        "medals.rename(columns= {'Team/NOC' : 'Team'}, inplace=True)\n",
        "medals\n",
        "\n",
        "#   per sostituire un valore di una colonna \n",
        "dataF['fascia_anagrafica'].replace(['90+'], '90-120')\n",
        "\n",
        "         ######     per sostituire un valore\n",
        "\n",
        "# df[column_name].replace([old_value1, old_value2, old_value3], new_value)   -----> Sostituisci più valori con lo stesso valore\n",
        "\n",
        "# df[column_name].replace([old_value1, old_value2, old_value3],[new_value1, new_value2, new_value3])   ------> Sostituisci più valori con più valori\n",
        "\n",
        "# df.replace([old_value], new_value)     ------->   Sostituisci un valore con un nuovo valore per l’intero DataFrame\n",
        "\n"
      ],
      "execution_count": null,
      "outputs": []
    },
    {
      "cell_type": "code",
      "metadata": {
        "id": "iGhWjOPpqEH-"
      },
      "source": [
        "#   RINOMINARE PIU COLONNE\n",
        "\n",
        "# import pandas\n",
        "import pandas as pd\n",
        "  \n",
        "# create data frame\n",
        "df = pd.DataFrame({'First Name': [\"Mukul\", \"Rohan\", \"Mayank\",\n",
        "                                  \"Vedansh\", \"Krishna\"],\n",
        "                     \n",
        "                   'Location': [\"Saharanpur\", \"Rampur\", \"Agra\", \n",
        "                                \"Saharanpur\", \"Noida\"],\n",
        "                     \n",
        "                   'Pay': [56000.0, 55000.0, 61000.0, 45000.0, 62000.0]})\n",
        "  \n",
        "# create a dictionary\n",
        "# key = old name\n",
        "# value = new name\n",
        "dict = {'First Name': 'Name',\n",
        "        'Location': 'City',\n",
        "        'Pay': 'Salary'}\n",
        "  \n",
        "# call rename () method\n",
        "df.rename(columns=dict,inplace=True)"
      ],
      "execution_count": null,
      "outputs": []
    },
    {
      "cell_type": "code",
      "metadata": {
        "id": "vXpqxe4uqRF0"
      },
      "source": [
        "#  vedere il valore di una colonna(['Gold']) del valore specifico di un'altra colonna(medals['Team'] == 'Italy')\n",
        "\n",
        "medals[medals['Team'] == 'Italy']['Gold']\n",
        "\n"
      ],
      "execution_count": null,
      "outputs": []
    },
    {
      "cell_type": "code",
      "metadata": {
        "id": "kfQUgkw2q5Uu"
      },
      "source": [
        "#   vedere il valore di una colonna(['Gold']) di un valore di una colonna che inizia con per esempio F (medals['Team'].str.startswith('F'))\n",
        "medals[medals['Team'].str.startswith('F')][['Team','Gold']]\n",
        "\n"
      ],
      "execution_count": null,
      "outputs": []
    },
    {
      "cell_type": "code",
      "metadata": {
        "id": "3NqCvlYksQh-"
      },
      "source": [
        "#   vedere il valore di una colonna(['Gold']) di un valore di una colonna che contiene per esempio ra (medals['Team'].str.contains('ra'))\n",
        "medals[medals['Team'].str.contains('ra')][['Team','Gold']]\n",
        "\n"
      ],
      "execution_count": null,
      "outputs": []
    },
    {
      "cell_type": "code",
      "metadata": {
        "id": "jQxosZRsslwM"
      },
      "source": [
        "#   vedere il valore di una colonna(['Gold']) di un valore di una colonna che finisce per esempio ncia (medals['Team'].str.contains('ncia'))\n",
        "medals[medals['Team'].str.endswith('ncia')][['Team','Gold']]\n",
        "\n"
      ],
      "execution_count": null,
      "outputs": []
    },
    {
      "cell_type": "code",
      "metadata": {
        "id": "Nqx-KMd-s9WM"
      },
      "source": [
        "#   fare una nuova colonna contenente interi\n",
        "medals['Total'] = medals['Gold'] + medals['Silver'] + medals['Bronze']\n",
        "medals\n",
        "\n"
      ],
      "execution_count": null,
      "outputs": []
    },
    {
      "cell_type": "code",
      "metadata": {
        "id": "p8TDxmX-tOxz"
      },
      "source": [
        "#   fare una nuova colonna contenente interi in percentuale\n",
        "medals['% of gold medals of a country'] = medals['Gold'] / medals['Gold'].sum()\n",
        "medals\n",
        "\n"
      ],
      "execution_count": null,
      "outputs": []
    },
    {
      "cell_type": "code",
      "metadata": {
        "id": "myu4h6iBt3w7"
      },
      "source": [
        "#   visualizzare la riga del df che ha il valore piu alto in una colonna specifica\n",
        "medals[medals['Total'] == medals['Total'].max()]\n",
        "\n"
      ],
      "execution_count": null,
      "outputs": []
    },
    {
      "cell_type": "code",
      "metadata": {
        "id": "Dk4g-8ZVuaHD"
      },
      "source": [
        "#   sommare tutti i valore di una colonna\n",
        "medals['Total'].sum()\n",
        "\n"
      ],
      "execution_count": null,
      "outputs": []
    },
    {
      "cell_type": "code",
      "metadata": {
        "id": "SqsKfVl5u25b"
      },
      "source": [
        "#   contare il numero di valori di una colonna per ogni valore di un'altra\n",
        "teams[teams['Event'] == 'Men'][['Discipline']].count()\n",
        "\n",
        "teams[teams['Event'] == 'Women'][['Discipline']].count()\n",
        "\n",
        "#   anche in questo modo:\n",
        "\n",
        "teams.groupby('Event', as_index = False)['Discipline'].count().sort_values(ascending = False) #  dal piu alto al piu basso\n",
        "\n",
        "#   discipline = tipo di sport;  Name =  colonne dei nazioni\n",
        "teams.groupby('Discipline', as_index = False)['Name'].count().sort_values(ascending = False)\n",
        "\n"
      ],
      "execution_count": null,
      "outputs": []
    },
    {
      "cell_type": "code",
      "metadata": {
        "id": "julsACAqv3wT"
      },
      "source": [
        "#   visualizzare l'elemento di una colonna(Name) che ha il valore massimo in un'altra colonna(NOC)\n",
        "teams1 = teams.groupby('Name', as_index = False).count()\n",
        "teams1.loc[teams1['NOC'] == teams1['NOC'].max(), ['NOC']]\n",
        "\n"
      ],
      "execution_count": null,
      "outputs": []
    },
    {
      "cell_type": "code",
      "metadata": {
        "id": "YEMa7soQ0e2A"
      },
      "source": [
        "#   visualizza l'elemento di una colonna che ha più elementi in un'altra colonna rispetto alla media \n",
        "coaches1 = coaches.groupby('NOC', as_index = False).count()\n",
        "media = coaches1.mean()['Name']\n",
        "coaches1.loc[coaches1['Name'] >= media] ['Name']\n",
        "\n"
      ],
      "execution_count": null,
      "outputs": []
    },
    {
      "cell_type": "markdown",
      "metadata": {
        "id": "AUrzc0VpdO-X"
      },
      "source": [
        "------------------------------------------------------------------------------------------"
      ]
    },
    {
      "cell_type": "markdown",
      "metadata": {
        "id": "Uw9biAHU_Rg7"
      },
      "source": [
        "dal file: PANDAS.ipynb"
      ]
    },
    {
      "cell_type": "code",
      "metadata": {
        "id": "Y8i0k8Fq_MM2"
      },
      "source": [
        "#   vedere i primi 10 elementi\n",
        "DataFrame.head(10)   \n",
        "\n"
      ],
      "execution_count": null,
      "outputs": []
    },
    {
      "cell_type": "code",
      "metadata": {
        "id": "UI5YUeEBBzBT"
      },
      "source": [
        "#   vedere gli ultimi 10 elementi\n",
        "DataFrame.tail(10)  \n",
        "\n"
      ],
      "execution_count": null,
      "outputs": []
    },
    {
      "cell_type": "code",
      "metadata": {
        "id": "bXlCCBV7B8JS"
      },
      "source": [
        "#   vedere solo la colonna di name, è utile perche forse ci servira solo una parte delle info\n",
        "DataFrame['Name']    \n",
        "\n"
      ],
      "execution_count": null,
      "outputs": []
    },
    {
      "cell_type": "code",
      "metadata": {
        "id": "zKYPLa3sCEr8"
      },
      "source": [
        "#   visualizzare piu colonne\n",
        "DataFrame[['Name', 'Type 1']]\n",
        "\n"
      ],
      "execution_count": null,
      "outputs": []
    },
    {
      "cell_type": "code",
      "metadata": {
        "id": "CW8Ck-7iCIML"
      },
      "source": [
        "#   Prende il valore del index inserito tra le parentesi quadre\n",
        "DataFrame.iloc[4]     \n",
        "\n",
        "#   possiamo passargli un array di numeri\n",
        "DataFrame.iloc[[4,2,7]]\n",
        "\n",
        "##    per vedere la prima colonna con lo slicing\n",
        "df.iloc[:, :1]\n",
        "\n",
        "##     vedere l'ultima colonna\n",
        "df.iloc[:, -1:]\n",
        "\n",
        "##    per vedere le colonne dalla 3 alla 6\n",
        "df.iloc[:, 3:6]\n",
        "\n"
      ],
      "execution_count": null,
      "outputs": []
    },
    {
      "cell_type": "code",
      "metadata": {
        "id": "za9z8ATvCPaC"
      },
      "source": [
        "#   vedi le rige da 80 a 119 delle colonne: 2,7\n",
        "DataFrame.iloc[80:120[2,7]]    \n",
        "\n",
        "#   possiamo passargli lo slicing, visualizza gli ultimi 10\n",
        "DataFrame.iloc[-10:]\n",
        "\n",
        "#   possiamo passargli lo slicing, visualizza i primi 10\n",
        "DataFrame.iloc[:10]\n",
        "\n"
      ],
      "execution_count": null,
      "outputs": []
    },
    {
      "cell_type": "code",
      "metadata": {
        "id": "NaW4iBRDCio7"
      },
      "source": [
        "#   prende tutti gli elementi e mostra la colonna 1 2 e 4   (con iloc si usano le index)\n",
        "DataFrame.iloc[:,[1,2,4]]       \n",
        "\n",
        "#   'Type 1', 'Name' sono le colonne  (con loc si usano le stringe)\n",
        "DataFrame.loc[15:21, ['Type 1', 'Name']] \n",
        "\n",
        "##    vedere la 3 e 6 colonna\n",
        "df.loc[:, [\"3 colonna\", \"6 colonna\"]]\n",
        "\n",
        "##########    PER VISALIZZARE RIGHE CHE HANNO UN VALORE SPECIFICO MANCANTE SI USA .isnull()\n",
        "df.loc[df[\"Telefono\"].isnull() | df[\"Fax\"].isnull()]       \n",
        "\n"
      ],
      "execution_count": null,
      "outputs": []
    },
    {
      "cell_type": "code",
      "metadata": {
        "id": "3dZ5yrBGEX5J"
      },
      "source": [
        "#    prende  tutti i valori del dataframe della colonna type 1 che sono di tipo per esempio fire\n",
        "DataFrame.loc[DataFrame['Type 1'] == 'Fire', ['Type 1', 'Name']]    \n",
        "\n"
      ],
      "execution_count": null,
      "outputs": []
    },
    {
      "cell_type": "code",
      "metadata": {
        "id": "l2JZzxqgEnwS"
      },
      "source": [
        "#   riporta tutte le righe che hanno nella colonna type 1 come valore fire e nella colonna generation come valore 6 contemporaneamente\n",
        "DataFrame.loc[(DataFrame['Type 1'] == 'Fire') & (DataFrame['Generation'] == 6)] \n",
        "\n",
        "#    vedere le colonne [[\"Indirizzo\", \"Telefono\", \"MUNICIPIO\"]]  che hanno come valore nella colonna \"MUNICIPIO\" 1,2,3\n",
        "df.loc[(df[\"MUNICIPIO\"] == 1) | (df[\"MUNICIPIO\"] == 2) | (df[\"MUNICIPIO\"] == 3)][[\"Indirizzo\", \"Telefono\", \"MUNICIPIO\"]]\n",
        "\n"
      ],
      "execution_count": null,
      "outputs": []
    },
    {
      "cell_type": "code",
      "metadata": {
        "id": "RPVpblrIM8hX"
      },
      "source": [
        "#   puoi anche localizzare in una colonna un input\n",
        "reg = input(\"inserire regione: \")\n",
        "df.loc[df[\"nome_area\"] == reg]\n",
        "\n"
      ],
      "execution_count": null,
      "outputs": []
    },
    {
      "cell_type": "code",
      "metadata": {
        "id": "_p7TSaiQHXYi"
      },
      "source": [
        "#   riporta il dataframe con la colonna di 'name' riordinato da Z ad A, ascending infatti serve per riordinare la colonna di Name da Z ad A se è false\n",
        "DataFrame.sort_values('Name', ascending = False)\n",
        "\n"
      ],
      "execution_count": null,
      "outputs": []
    },
    {
      "cell_type": "code",
      "metadata": {
        "id": "lLz6LC0hH4rw"
      },
      "source": [
        "#   riporta il dataframe con la colonna di 'name' riordinato da A a Z, ascending infatti serve per riordinare la colonna di Name da A a Z se è True\n",
        "DataFrame.sort_values('Name', ascending = True)\n",
        "\n"
      ],
      "execution_count": null,
      "outputs": []
    },
    {
      "cell_type": "code",
      "metadata": {
        "id": "YHME_e6qICOg"
      },
      "source": [
        "##### %%time serve per vedere quanto tempo impiega a fare l'esecuzione\n",
        "%time\n",
        "\n",
        "###### per esportare\n",
        "DataFrame.to_excel('./file.xlsx')\n",
        "DataFrame.to_csv('./file.csv')\n",
        "DataFrame.to_json('./file.json')\n",
        "\n"
      ],
      "execution_count": null,
      "outputs": []
    },
    {
      "cell_type": "markdown",
      "metadata": {
        "id": "Z38ZFgMkczNe"
      },
      "source": [
        "------------------------------------------------------------------------------------------"
      ]
    },
    {
      "cell_type": "markdown",
      "metadata": {
        "id": "wqJvY4XgIrum"
      },
      "source": [
        "dal file: Esercizio Python, Pandas e Matplotlib(Luke Basco).ipynb"
      ]
    },
    {
      "cell_type": "code",
      "metadata": {
        "id": "KU6pmuxfIvpi"
      },
      "source": [
        "!pip install squarify   ## per installare squarify   ---->   serve per fare un grafico di tipo treemap\n",
        "import pandas as pd\n",
        "import matplotlib.pyplot as plt\n",
        "\n"
      ],
      "execution_count": null,
      "outputs": []
    },
    {
      "cell_type": "code",
      "metadata": {
        "id": "Y01sedreIySX"
      },
      "source": [
        "#   visualizzare il numero di valori della colonna 'numero_dosi' associato per ogni valore della colonna 'fornitore'\n",
        "df.groupby('fornitore', as_index = False)['numero_dosi'].sum()\n",
        "\n"
      ],
      "execution_count": null,
      "outputs": []
    },
    {
      "cell_type": "code",
      "metadata": {
        "id": "vHFixr0tOQRd"
      },
      "source": [
        "#   visualizzare il numero di vaccini() per ogni fornitore di una regione inserita dall'utente. Ordinare in ordine decrescente sul numero di vaccini\n",
        "reg = input(\"inserire nome_area: \")\n",
        "df[df[\"nome_area\"] == reg].groupby(\"fornitore\")[\"numero_dosi\"].sum().sort_values(ascending = False)\n",
        "\n"
      ],
      "execution_count": null,
      "outputs": []
    },
    {
      "cell_type": "code",
      "metadata": {
        "id": "Aul5zi2DRExd"
      },
      "source": [
        "df2 = df[df[\"nome_area\"] == reg].groupby(\"fornitore\").sum()\n",
        "df2\n",
        "#   è uguale a\n",
        "\n",
        "df2 = df[df[\"nome_area\"] == \"Abruzzo\"].groupby(\"fornitore\").sum()\n",
        "df2\n",
        "\n"
      ],
      "execution_count": null,
      "outputs": []
    },
    {
      "cell_type": "code",
      "metadata": {
        "id": "wCbKnS0qSFlc"
      },
      "source": [
        "#   visualizza gli elementi di una colonna('nome_area' esempio lombardia) e il loro corrispettivo valore da un'altra colonna('numero_dosi'), sommandoli ; da quello che ne ha di piu a chi ne ha di meno\n",
        "df3 = df.groupby(\"nome_area\", as_index = False)[\"numero_dosi\"].sum().sort_values(ascending = False)\n",
        "df3.iloc[:3]\n",
        "\n"
      ],
      "execution_count": null,
      "outputs": []
    },
    {
      "cell_type": "code",
      "metadata": {
        "id": "-KhzCmqLS9-b"
      },
      "source": [
        "#   vedere gli elementi di una colonna che hanno come valore in un'altra, maggiore della media\n",
        "\n",
        "tot = df[\"numero_dosi\"].sum()\n",
        "media = tot / 21\n",
        "\n",
        "df4 = df.groupby(\"nome_area\").sum()\n",
        "df4.loc[df4[\"numero_dosi\"] >= media]\n",
        "\n"
      ],
      "execution_count": null,
      "outputs": []
    },
    {
      "cell_type": "code",
      "metadata": {
        "id": "1gYfL32GTxSU"
      },
      "source": [
        "#   visualizzare il grafico delle consegne dei vaccini in Lombardia e nel Lazio. Visualizzare solo i dati delle consegne avvenute negli utlimi sei mesi\n",
        "\n",
        "import datetime\n",
        "from datetime import date, timedelta\n",
        "from dateutil.relativedelta import relativedelta\n",
        "\n",
        "\n",
        "#   per trovare la data del passato\n",
        "past = date.today()- relativedelta(months = 6)\n",
        "print(past)\n",
        "\n",
        "#   per cercare in una colonna 2 elementi,  riporta solo le rige che hanno come elemento nella colonna 'nome_area' lombardia e lazio\n",
        "dfll = df[(df[\"nome_area\"] == \"Lombardia\") | (df[\"nome_area\"] == \"Lazio\")]\n",
        "dfll\n",
        "#   per non avere dati riportati come boolean, ma come tabella\n",
        "dfll2 = dfll[dfll[\"data_consegna\"] > str(past)].groupby(\"nome_area\").count()\n",
        "dfll2\n",
        "\n",
        "#   per trovare la data \n",
        "#date = datetime.now()\n",
        "\n"
      ],
      "execution_count": null,
      "outputs": []
    },
    {
      "cell_type": "markdown",
      "metadata": {
        "id": "yB3iaUgoc3Fn"
      },
      "source": [
        "------------------------------------------------------------------------------------------"
      ]
    },
    {
      "cell_type": "markdown",
      "metadata": {
        "id": "RQOYc0lf8xa0"
      },
      "source": [
        "dal file: Esercizio2Pandas.ipynb"
      ]
    },
    {
      "cell_type": "code",
      "metadata": {
        "id": "FfoJPCs40k3H"
      },
      "source": [
        "#   TROVARE COLONNE SPECIFICHE DI ELEMENTI SPECIFICI\n",
        "movies.loc[[23,29,45],[\"Film\", \"Year\"]]           \n",
        "\n"
      ],
      "execution_count": null,
      "outputs": []
    },
    {
      "cell_type": "code",
      "metadata": {
        "id": "KZJ9l22b86IT"
      },
      "source": [
        "#   vedere tutte le righe che hanno come elemento nella colonna 'genre', animation facendo vedere le colonne 'film' e 'genre'\n",
        "movies.loc[movies[\"Genre\"] == \"Animation\", [\"Film\", \"Genre\"]]\n",
        "\n",
        "\n",
        "movies.loc[(movies[\"Lead Studio\"] == \"Disney\") | (movies[\"Lead Studio\"] == \"20th Century Fox\"), [\"Film\", \"Lead Studio\"]]\n",
        "\n",
        "\n",
        "#  trova i film che sono uscito tra l'anno 2005 e 2010\n",
        "movies.loc[(movies[\"Year\"] <= 2010) & (movies[\"Year\"] >= 2005), [\"Film\", \"Year\"]]\n",
        "\n"
      ],
      "execution_count": null,
      "outputs": []
    },
    {
      "cell_type": "code",
      "metadata": {
        "id": "0sD4dgc09J3L"
      },
      "source": [
        "#   media,per prima cosa trova nel df nella colonna 'genre' tutti quelli che hanno suo valore 'drama', e della loro colonna \"Audience score %\" fa la media di tutti con .mean()\n",
        "movies.loc[movies[\"Genre\"] == \"Drama\",[\"Audience score %\"]].mean()\n",
        "\n"
      ],
      "execution_count": null,
      "outputs": []
    },
    {
      "cell_type": "code",
      "metadata": {
        "id": "jxLUk9QQFq_f"
      },
      "source": [
        "\n",
        "####\n",
        "movies.groupby(\"Genre\")[\"Film\"].count()\n",
        "####\n",
        "\n",
        "\n",
        "####\n",
        "df.groupby(\"fascia_anagrafica\")[[\"totale_popolazione\"]].sum()\n",
        "####\n",
        "\n",
        "####\n",
        "movies.groupby(\"Genre\", as_index = False)[\"Film\"].count()\n",
        "####\n",
        "\n"
      ],
      "execution_count": null,
      "outputs": []
    },
    {
      "cell_type": "code",
      "metadata": {
        "id": "mxm5_oy1GMpJ"
      },
      "source": [
        "#   applica alla colonna e ai tutti suoi elementi * 0.9 (questo diminuisce i valori nella colonna di 10%)\n",
        "movies[\"Audience score %\"] = movies[\"Audience score %\"] * 0.9\n",
        "movies\n",
        "\n"
      ],
      "execution_count": null,
      "outputs": []
    },
    {
      "cell_type": "code",
      "metadata": {
        "id": "clsfSIBkGvDY"
      },
      "source": [
        "#   guarda il valore piu alto della colonna \"Rotten Tomatoes %\"\n",
        "movies[\"Rotten Tomatoes %\"].max()\n",
        "\n"
      ],
      "execution_count": null,
      "outputs": []
    },
    {
      "cell_type": "markdown",
      "metadata": {
        "id": "3hKaxollc4hG"
      },
      "source": [
        "------------------------------------------------------------------------------------------"
      ]
    },
    {
      "cell_type": "markdown",
      "metadata": {
        "id": "EfYI4mMUHlZC"
      },
      "source": [
        "dal file:  Esercizio1PANDAS.ipynb"
      ]
    },
    {
      "cell_type": "code",
      "metadata": {
        "id": "KRF5T9WTHn4v"
      },
      "source": [
        "#   per vedere i titolo delle colonne come elementi di una lista\n",
        "nord_italia.columns    \n",
        "\n"
      ],
      "execution_count": null,
      "outputs": []
    },
    {
      "cell_type": "code",
      "metadata": {
        "id": "3kSVGI8yH74o"
      },
      "source": [
        "#   serve per vedere da quale index parte il df e a quale finisce\n",
        "nord_italia.index\n",
        "\n"
      ],
      "execution_count": null,
      "outputs": []
    },
    {
      "cell_type": "code",
      "metadata": {
        "id": "A1ggs9bwIL5O"
      },
      "source": [
        "#   trova nella colonna 'fascia_anagrafica' quelli che hanno come valore nella colonna 'totale' >= 10000000\n",
        "dataF.loc[dataF['totale'] >= 10000000, ['fascia_anagrafica']]\n",
        "\n",
        "\n",
        "#   trova nella colonna 'fascia_anagrafica' quelli che hanno come valore nella colonna 'totale' compreso tra 10000000 e 20000000\n",
        "dataF.loc[(dataF['totale'] > 10000000) & (dataF['totale'] < 20000000), ['fascia_anagrafica']]\n",
        "\n"
      ],
      "execution_count": null,
      "outputs": []
    },
    {
      "cell_type": "code",
      "metadata": {
        "id": "NgoVJMSqIyWW"
      },
      "source": [
        "#   fare una nuova colonna in % che ha solo 2 numeri dopo la virgola  ----->   round(df, 2)\n",
        "dataF['%_sesso_maschile'] = round((dataF['sesso_maschile'] * 100) / dataF['totale'], 2)\n",
        "dataF\n",
        "\n"
      ],
      "execution_count": null,
      "outputs": []
    },
    {
      "cell_type": "code",
      "metadata": {
        "id": "TKAXXiAvJds-"
      },
      "source": [
        "#   confronto tra 2 valori di 2 colonne diverse\n",
        "dataF.loc[dataF['%_sesso_maschile'] > dataF['%_sesso_femminile'], ['fascia_anagrafica']]\n",
        "\n"
      ],
      "execution_count": null,
      "outputs": []
    },
    {
      "cell_type": "code",
      "metadata": {
        "id": "xzINnCK8Jtv9"
      },
      "source": [
        "#   per sostituire un valore di una colonna \n",
        "dataF['fascia_anagrafica'].replace(['90+'], '90-120')\n",
        "\n"
      ],
      "execution_count": null,
      "outputs": []
    },
    {
      "cell_type": "code",
      "metadata": {
        "id": "l6YL4B_aKED3"
      },
      "source": [
        "####    creare un nuovo data frame contenente le prime dieci fasce anagrafiche\n",
        "dataF2 = dataF.loc[:10,['fascia_anagrafica']]\n",
        "dataF2\n",
        "\n",
        "#####    creare un nuovo data frame contenente la fascia anagrafica e la prima e seconda dose\n",
        "dataF3 = dataF.loc[:,['fascia_anagrafica', 'prima_dose', 'seconda_dose']]\n",
        "dataF3\n",
        "\n"
      ],
      "execution_count": null,
      "outputs": []
    },
    {
      "cell_type": "markdown",
      "metadata": {
        "id": "1uYMc-8Zc6aV"
      },
      "source": [
        "------------------------------------------------------------------------------------------"
      ]
    },
    {
      "cell_type": "markdown",
      "metadata": {
        "id": "gZfx3oRnc7O9"
      },
      "source": [
        "dal file: correzione_verifica_PANDAS_FILA2.ipynb"
      ]
    },
    {
      "cell_type": "code",
      "metadata": {
        "id": "KiSvZYFFKij1"
      },
      "source": [
        "# visualizzare la nazione che ha più atleti (in totale)\n",
        "\n",
        "athletes2 = athletes.groupby('NOC').count()\n",
        "maxx = athletes2['Name'].max()\n",
        "athletes2.loc[athletes2['Name'] == maxx]['Name']\n",
        "\n"
      ],
      "execution_count": null,
      "outputs": []
    },
    {
      "cell_type": "code",
      "metadata": {
        "id": "9ZMM914YLiLt"
      },
      "source": [
        "# visualizzare il numero totale di atleti\n",
        "\n",
        "athletes2[\"Name\"].count()\n",
        "\n"
      ],
      "execution_count": null,
      "outputs": []
    },
    {
      "cell_type": "markdown",
      "metadata": {
        "id": "RM2NaOYoQJ2x"
      },
      "source": [
        "dal file: Esercizio3Pandas.ipynb"
      ]
    },
    {
      "cell_type": "code",
      "metadata": {
        "id": "I3LY6GqOLnB9"
      },
      "source": [
        "#########    PER VISALIZZARE RIGHE CHE HANNO UN VALORE SPECIFICO MANCANTE SI USA .isnull()\n",
        "df.loc[df[\"Telefono\"].isnull() | df[\"Fax\"].isnull()]\n",
        "\n"
      ],
      "execution_count": null,
      "outputs": []
    },
    {
      "cell_type": "code",
      "metadata": {
        "id": "M02fGiqUQGvs"
      },
      "source": [
        "######       PER RIORDINARE UN VALORE DAL PIU GRANDE AL PIU PICCOLO\n",
        "df.groupby(\"NIL\")[\"Indirizzo\"].count().sort_values(ascending = False)\n",
        "\n",
        "##  .sort_values(ascending = False)\n",
        "\n"
      ],
      "execution_count": null,
      "outputs": []
    },
    {
      "cell_type": "code",
      "metadata": {
        "id": "hfvnHvy-QgUE"
      },
      "source": [
        "###    visualizzare i municipi che hanno più di 15 uffici postali:\n",
        "\n",
        "df1 = df.groupby(\"MUNICIPIO\").count()                   ###### TROVA L'INDICE CHE HA IL VALORE PIU ALTO DI TUTTI DI UNA SPECIFICA COLONNA\n",
        "df1.loc[df1[\"Indirizzo\"] >= 10][\"Indirizzo\"]\n",
        "\n"
      ],
      "execution_count": null,
      "outputs": []
    },
    {
      "cell_type": "code",
      "metadata": {
        "id": "juZHtwlcQvBd"
      },
      "source": [
        "###    visualizzare il municipio che ha più uffici postali\n",
        "\n",
        "df1 = df.groupby(\"MUNICIPIO\").count()\n",
        "max = df1[\"Indirizzo\"].max()\n",
        "df1.loc[df1[\"Indirizzo\"] == max] [\"Indirizzo\"]\n",
        "\n"
      ],
      "execution_count": null,
      "outputs": []
    },
    {
      "cell_type": "code",
      "metadata": {
        "id": "ZYpMtaA0Q0ij"
      },
      "source": [
        "###    visualizzare il municipio che ha meno uffici postali\n",
        "\n",
        "df1 = df.groupby(\"MUNICIPIO\").count()\n",
        "min = df1[\"Indirizzo\"].min()\n",
        "df1.loc[df1[\"Indirizzo\"] == min] [\"Indirizzo\"]\n",
        "\n"
      ],
      "execution_count": null,
      "outputs": []
    },
    {
      "cell_type": "code",
      "metadata": {
        "id": "kTMoItWeQ5Xa"
      },
      "source": [
        "#  # visualizzare il numero medio di uffici postali in ogni municipio\n",
        "df.groupby(\"MUNICIPIO\").count().mean()[\"Indirizzo\"]\n",
        "\n"
      ],
      "execution_count": null,
      "outputs": []
    },
    {
      "cell_type": "code",
      "metadata": {
        "id": "g_z2tZ4KTXEK"
      },
      "source": [
        "#   #   visualizzare gli uffici postali che hanno un numero di uffici postali superiore alla media\n",
        "df1 = df.groupby(\"MUNICIPIO\").count()\n",
        "media = df1.mean()[\"Indirizzo\"]\n",
        "df1.loc[df1[\"Indirizzo\"] >= media] [\"Indirizzo\"]\n",
        "\n"
      ],
      "execution_count": null,
      "outputs": []
    },
    {
      "cell_type": "code",
      "metadata": {
        "id": "dQUzGP5vTiRL"
      },
      "source": [
        "###        df.loc[df[\"Telefono\"].isnull() | df[\"Fax\"].isnull()] \n",
        "###    elimina le rige che hanno come valore null\n",
        "\n",
        "df = df.drop(df.index[df[\"Telefono\"].isnull() | df[\"Fax\"].isnull()], inplace = True)\n",
        "df\n",
        "\n"
      ],
      "execution_count": null,
      "outputs": []
    },
    {
      "cell_type": "code",
      "metadata": {
        "id": "oEE-490yUgaJ"
      },
      "source": [
        "## #   per modificare l'elemento di una colonna\n",
        "\n",
        "df[\"Telefono\"] = df[\"Telefono\"].replace([df.loc[df[\"Indirizzo\"].str.contains(\"VIALE ZARA\")]], \"02-69922222\")"
      ],
      "execution_count": null,
      "outputs": []
    },
    {
      "cell_type": "code",
      "metadata": {
        "id": "XsZjyOSiUnyS"
      },
      "source": [
        "#    sostituisce un carattere di un elemento di una colonna \n",
        "\n",
        "df[\"Telefono\"] = df[\"Telefono\"].str.replace('-', '/')\n",
        "df.loc[:, \"Telefono\"]              ###########            SI USA .str.replace('cosavuoisostituire','concosalovuoisostituire')\n",
        "\n"
      ],
      "execution_count": null,
      "outputs": []
    },
    {
      "cell_type": "markdown",
      "metadata": {
        "id": "aKUbQlE_dCkV"
      },
      "source": [
        "------------------------------------------------------------------------------------------"
      ]
    },
    {
      "cell_type": "markdown",
      "metadata": {
        "id": "50MYZqwEVJHE"
      },
      "source": [
        "dal file: Esercizio_Pandas/Matplotlib2.ipynb e Esercizio_Pandas/Matplotlib"
      ]
    },
    {
      "cell_type": "code",
      "metadata": {
        "id": "yNK0E9AhU5ey"
      },
      "source": [
        "## !!  eliminare dal dataframe tutti i record, cioè rige, con valori NaN   ##\n",
        "\n",
        "df.dropna(inplace = True)\n",
        "df\n",
        "\n"
      ],
      "execution_count": null,
      "outputs": []
    },
    {
      "cell_type": "code",
      "metadata": {
        "id": "jZhGSuJvVUrR"
      },
      "source": [
        "# !  modificare piu valori in una colonna\n",
        "df3 = df.replace(df[df[\"Language\"] != \"English\"][\"Language\"].tolist(), \"non English\")\n",
        "df3\n",
        "\n",
        "altro:\n",
        "\n",
        "nuovodf = df.replace(df[df[\"cuisine\"] != \"American\"][\"cuisine\"].tolist(), \"non American\")\n",
        "nuovodf\n",
        "\n",
        "#  ----->   senza .tolist()\n",
        "portadf = df\n",
        "portadf.loc[portadf[\"cuisine\"] != \"American\", \"cuisine\"]= \"Non American\"\n",
        "portadf"
      ],
      "execution_count": null,
      "outputs": []
    },
    {
      "cell_type": "code",
      "metadata": {
        "id": "06qeD8xoWW_R"
      },
      "source": [
        "#  un altro per droppare colonne usando filter, metti nell'items le colonne che vuoi che resti\n",
        "df.filter(items = [\"borough\", \"cuisine\", \"name\"])\n",
        "\n"
      ],
      "execution_count": null,
      "outputs": []
    },
    {
      "cell_type": "code",
      "metadata": {
        "id": "QrRqg_aRWbmh"
      },
      "source": [
        "#   conta il valore o le rige di una colonna che ha come elemento 'missing'\n",
        "df[df[\"borough\"] == \"Missing\"].count()\n",
        "\n"
      ],
      "execution_count": null,
      "outputs": []
    },
    {
      "cell_type": "code",
      "metadata": {
        "id": "0w1IkVxvWsNI"
      },
      "source": [
        "# !!     per sostituire un elemento o un valore di una colonna con null\n",
        "df[\"borough\"].replace('Missing', np.nan, inplace = True)\n",
        "df\n",
        "\n"
      ],
      "execution_count": null,
      "outputs": []
    },
    {
      "cell_type": "code",
      "metadata": {
        "id": "OdS-jaKNW6Go"
      },
      "source": [
        "# !!     Elimini dal dataframe tutti i ristoranti di cui non si conosce il il valore della colonna 'borough'\n",
        "df.drop(df[df[\"borough\"].isnull()].index, inplace = True)\n",
        "df\n",
        "\n"
      ],
      "execution_count": null,
      "outputs": []
    },
    {
      "cell_type": "code",
      "metadata": {
        "id": "wCPLUrroXKVo"
      },
      "source": [
        "#   .dropna()  ------>   elimina i valori di una colonna che hanno come valore null\n",
        "#   \n",
        "df.dropna(inplace = True)\n",
        "\n"
      ],
      "execution_count": null,
      "outputs": []
    },
    {
      "cell_type": "code",
      "metadata": {
        "id": "eJ7pWac4XYWA"
      },
      "source": [
        "#   calcola il numero di elementi in una colonna, non sommandoli tutti, ma contando semplicemente i valori che si ripetono\n",
        "df[\"cuisine\"].value_counts()\n",
        "\n",
        "#esempio: \n",
        "cuisine\n",
        "American           6173\n",
        "Chinese            2412\n",
        "Café/Coffee/Tea    1210\n",
        "Pizza              1162\n",
        "Italian            1069\n",
        "                   ... \n",
        "Iranian               2\n",
        "Chilean               1\n",
        "Californian           1\n",
        "Polynesian            1\n",
        "Creole/Cajun          1\n",
        "\n"
      ],
      "execution_count": null,
      "outputs": []
    },
    {
      "cell_type": "code",
      "metadata": {
        "id": "nDI_mSBdZKR_"
      },
      "source": [
        "# l'elemento che è ripetuto piu volte \n",
        "df[\"cuisine\"].value_counts().sort_values(ascending = False).index[0]\n",
        "\n",
        "#esempio: \n",
        "'American'\n",
        "\n",
        "---> # secondo modo\n",
        "#   .reset_index()  ----->   diventa da indice a una colonna\n",
        "df5 = df.groupby(\"cuisine\").count().reset_index()\n",
        "df5[df5[\"name\"] == df5[\"name\"].max()][\"cuisine\"]\n",
        "\n"
      ],
      "execution_count": null,
      "outputs": []
    },
    {
      "cell_type": "code",
      "metadata": {
        "id": "-VIan9MvZfLY"
      },
      "source": [
        "#   per fare groupby con piu elementi, per farlo si usa una lista\n",
        "df35 = portadf.groupby([\"borough\", \"cuisine\"]).count()\n",
        "df35\n",
        "\n"
      ],
      "execution_count": null,
      "outputs": []
    },
    {
      "cell_type": "markdown",
      "metadata": {
        "id": "Or7PfVJ_dFDO"
      },
      "source": [
        "------------------------------------------------------------------------------------------"
      ]
    },
    {
      "cell_type": "code",
      "metadata": {
        "id": "qEP4oD3Cazcg"
      },
      "source": [
        "####################      AVERE SEMPRE Esercizio_Pandas/Matplotlib.ipynb   APERTO!!!!!!    ##################"
      ],
      "execution_count": null,
      "outputs": []
    },
    {
      "cell_type": "markdown",
      "metadata": {
        "id": "51d-2UmWdFkp"
      },
      "source": [
        "------------------------------------------------------------------------------------------"
      ]
    },
    {
      "cell_type": "markdown",
      "metadata": {
        "id": "F7sv_9dOa_hT"
      },
      "source": [
        "PER GRAFICI: dal file Esercizio_Pandas/Matplotlib.ipynb e Esercizio1-analisiDati.ipynb"
      ]
    },
    {
      "cell_type": "code",
      "metadata": {
        "id": "M0wE3JyabGiO"
      },
      "source": [
        "                 ISTOGRAMMA   GRAFICO    \n",
        "\n",
        "\n",
        "#  ingrandisce tutto di 50% visto che il default del size di tutto è 10\n",
        "plt.rcParams.update({\"font.size\" : 30})\n",
        "\n",
        "#grandezza del grafico\n",
        "fig.set_size_inches(14,9)\n",
        "\n",
        "#  crea la figura\n",
        "fig = plt.figure(figsize=(11,8))\n",
        "\n",
        "#  crea gli assi\n",
        "ax = plt.axes()\n",
        "\n",
        "#  crea le barre\n",
        "#  color = \"chocolate\" per cambiare il colore delle barre\n",
        "#  dentro le virgolette mettere nome di un colore dalla tabella di cssdegli colori\n",
        "ax.bar(x, y, color=\"chocolate\")\n",
        "\n",
        "#  ruota i label o i nomi dell'asse x\n",
        "fig.autofmt_xdate(rotation=60) \n",
        "\n",
        "#  crea un titolo nell'asse x\n",
        "ax.set_xlabel(\"Utenti\")\n",
        "\n",
        "#  crea un titolo nell'asse y\n",
        "ax.set_ylabel(\"numero messaggio\")\n",
        "\n",
        "#  crea una griglia\n",
        "ax.grid()\n",
        "\n",
        "#   crea la griglia\n",
        "ax.grid(linewidth = 1, color = \"k\", linestyle= \"-\")\n",
        "ax2.grid(linewidth = 1, color = \"k\", linestyle= \"-\")\n",
        "\n",
        "#per mettere che y inizia da 800\n",
        "ax.set_ylim([800, 1100])\n",
        "\n",
        "#  crea un titolo\n",
        "fig.suptitle(\"tot messaggi\")\n",
        "\n",
        "#   cambia il colore di ogni barra o colonna con un colore diverso ogni volta\n",
        "\n",
        "#   per mettere la legenda delle colonne o barre\n",
        "ax.legend(loc=0)\n",
        "\n",
        "plt.show()"
      ],
      "execution_count": null,
      "outputs": []
    },
    {
      "cell_type": "code",
      "metadata": {
        "id": "yN9TeZIa6Fb4"
      },
      "source": [
        "                        COME CREARE UN GRAFICO (ISTOGRAMMA) IN MODO ORRIZZONTALE\n",
        "\n",
        "\n",
        "\n",
        "x = list(df[\"last_name\"])\n",
        "y = list(df[\"order_numbers\"])\n",
        "\n",
        "fig = plt.figure(figsize = (8,8))\n",
        "ax = plt.axes()\n",
        "\n",
        "plt.rcParams.update({'font.size': 10})\n",
        "\n",
        "ax.set_ylabel('last names', fontsize=20)\n",
        "ax.set_xlabel('order numbers', fontsize=20)\n",
        "ax.barh(x, y, color = \"g\")  ### si usa barh   ---->  h sta per horizontal\n",
        "\n",
        "fig.suptitle('Statistics of restaurants', color='k', fontsize=30)\n",
        "plt.show()"
      ],
      "execution_count": null,
      "outputs": []
    },
    {
      "cell_type": "code",
      "metadata": {
        "id": "H7iY2nx_7Pd7"
      },
      "source": [
        "                           GRAFICO   ISTOGRAMMA    DECRESCENTE      \n",
        "\n",
        "\n",
        "x = list(df.sort_values(\"order_numbers\",ascending=False)[\"last_name\"])\n",
        "y = list(df[\"order_numbers\"].sort_values(ascending=False))\n",
        "\n",
        "fig = plt.figure(figsize = (8,8))\n",
        "ax = plt.axes()\n",
        "\n",
        "plt.rcParams.update({'font.size': 10})\n",
        "\n",
        "ax.set_xlabel('last names', fontsize=20)\n",
        "ax.set_ylabel('order numbers', fontsize=20)\n",
        "ax.bar(x, y, color = \"g\")\n",
        "\n",
        "fig.suptitle('Statistics of restaurants', color='k', fontsize=30)\n",
        "plt.show()"
      ],
      "execution_count": null,
      "outputs": []
    },
    {
      "cell_type": "code",
      "metadata": {
        "id": "GLx7srYAbVY_"
      },
      "source": [
        "                     TORTA GRAFICO \n",
        "\n",
        "\n",
        "plt.rcParams.update({\"font.size\" : 12})\n",
        "\n",
        "data = df.groupby(df[\"full_date\"].dt.date).count()\n",
        "\n",
        "fig = plt.figure()\n",
        "ax = plt.axes()\n",
        "\n",
        "#  autopct = \"%1.1f%%\"  ----->    nelle virgolette il primo 1 è la lontananza dei percentuali\n",
        "#  startangle = 90   ------>    per ruotare il grafico\n",
        "#  colors = [\"yellow\", \"red\",\"purple\"]    ------->   per colorare il grafico e si alternano\n",
        "#  si scrive con l'= perche possiamo scrivere le funzioni senza ordine\n",
        "ax.pie(data[\"user_id\"],labels = data.index, autopct = \"%1.2f%%\",startangle = 90, colors = [\"yellow\", \"red\",\"purple\"])\n",
        "\n",
        "fig.suptitle(\"grafico a torta\")\n",
        "\n",
        "plt.show()"
      ],
      "execution_count": null,
      "outputs": []
    },
    {
      "cell_type": "code",
      "metadata": {
        "id": "ppX--PbKbulG"
      },
      "source": [
        "            ISTOGRAMMA    WIERD   grafico\n",
        "\n",
        "import matplotlib.pyplot as plt\n",
        "import numpy as np\n",
        "\n",
        "\n",
        "\n",
        "#  .agg   ------>    sta per aggregate\n",
        "#  \"sum\"   ----->   per sommare il valore di prima con il nuovo\n",
        "#data = df.groupby(\"user_id\").agg({\"message_length\" : \"count\", \"has_media\" : \"sum\", \"has_links\" : \"sum\"}).sort_values(\"message_length\", ascending = False)\n",
        "\n",
        "#  ingrandisce tutto di 50% visto che il default del size di tutto è 10\n",
        "plt.rcParams.update({\"font.size\" : 20})\n",
        "\n",
        "\n",
        "#   per fare i valori dell'asse x\n",
        "labels = data.index     #  index sono gli user id\n",
        "\n",
        "#   per fare i valori dell'asse y\n",
        "#  questo fa : \"message_length\" - (\"has_media\" + \"has_links\")\n",
        "msgs = np.subtract(data[\"message_length\"],np.add(data[\"has_media\"],data[\"has_links\"]))    #  faccio la somma della 2 e 3 colonna(has_media,\thas_links)\n",
        "\n",
        "\n",
        "msgs_links= data[\"has_links\"]\n",
        "msgs_media= data[\"has_media\"]\n",
        "\n",
        "fig = plt.figure(figsize=(13,9))\n",
        "ax = plt.axes()\n",
        "\n",
        "ax.set_xlabel('utenti', fontsize=20)\n",
        "ax.set_ylabel('tot messaggi', fontsize=20)\n",
        "\n",
        "#  per fare il grafico: \n",
        "ax.bar(labels, msgs, color = \"pink\")\n",
        "\n",
        "#  bottom = msgs    ---->    per metter che msgs nella barra sara al fondo\n",
        "ax.bar(labels, msgs_links, bottom = msgs, color = \"red\")\n",
        "ax.bar(labels, msgs_media, bottom = np.add(msgs,msgs_links), color = \"black\")\n",
        "\n",
        "#  ruota i label o i nomi dell'asse x\n",
        "fig.autofmt_xdate(rotation=60)\n",
        "\n",
        "plt.show()"
      ],
      "execution_count": null,
      "outputs": []
    },
    {
      "cell_type": "code",
      "metadata": {
        "id": "9OqZxdGycNut"
      },
      "source": [
        "      2   BARRE ISTOGRAMMA\n",
        "\n",
        "\n",
        "\n",
        "\n",
        "\n",
        "fig = plt.figure(figsize=(6,4)) \n",
        "ax = plt.axes()\n",
        "\n",
        "#   -0.15  ----->   perche la grandezza delle colonne è 0.3 e la meta è 0.15\n",
        "#   +0.15  ----->   perche la grandezza delle colonne è 0.3 e la meta è 0.15\n",
        "ax.bar(Ndf2.index - 0.15,Ndf2[\"American\"],label=\"American\",width=0.3,color=\"blue\")\n",
        "ax.bar(Ndf2.index + 0.15,Ndf2[\"Non American\"],label=\"Non American\",width=0.3,color=\"#ff8c00\")\n",
        "fig.autofmt_xdate(rotation=90)\n",
        "fig.suptitle(\"Tipologia di cucina\")\n",
        "\n",
        "labels = list(Ndf2[\"borough\"])\n",
        "x = np.arange(len(labels))  # the label locations\n",
        "ax.set_xticks(x, labels)\n",
        "\n",
        "#   per mettere la legenda delle colonne o barre\n",
        "ax.legend(loc=0)"
      ],
      "execution_count": null,
      "outputs": []
    },
    {
      "cell_type": "code",
      "metadata": {
        "id": "CLEZk-oqcXh-"
      },
      "source": [
        "         MOSTRARE     2     GRAFICI\n",
        "\n",
        "\n",
        "#   modo per mettere 2 grafici affiancati\n",
        "fig, (ax,ax2) = plt.subplots(1,2)\n",
        "\n",
        "#   modo per mettere 2 grafici uno sopra l'altro\n",
        "fig, (ax,ax2) = plt.subplots(2,1)\n",
        "\n",
        "\n",
        "fig.set_size_inches(15,6)\n",
        "\n",
        "ax.bar(df3[\"cuisine\"], df3[\"name\"], color=\"cyan\")\n",
        "fig.autofmt_xdate(rotation=60) \n",
        "ax2.pie(data[\"name\"],labels = data[\"borough\"], autopct = \"%1.2f%%\",startangle = 90, colors = [\"yellow\", \"red\",\"purple\"])\n",
        "\n",
        "fig.suptitle(\"Grafici, a torta e istogramma\")\n",
        "\n",
        "plt.show"
      ],
      "execution_count": null,
      "outputs": []
    },
    {
      "cell_type": "code",
      "metadata": {
        "id": "-x2qIKcl44Mw"
      },
      "source": [
        "               TREEMAP     GRAFICO\n",
        "\n",
        "\n",
        "!pip install squarify   ## per installare squarify\n",
        "import squarify as sqf  ## per importare\n",
        "\n",
        "\n",
        "\n",
        "size = list(df2[\"numero_dosi\"])\n",
        "nomi = list(df2.index)   #    perche i dato sono da un groupby senza as_index=False\n",
        "sqf.plot(sizes = size, label = nomi, alpha = 0.6)\n",
        "plt.axis(\"off\")\n",
        "plt.show"
      ],
      "execution_count": null,
      "outputs": []
    }
  ]
}