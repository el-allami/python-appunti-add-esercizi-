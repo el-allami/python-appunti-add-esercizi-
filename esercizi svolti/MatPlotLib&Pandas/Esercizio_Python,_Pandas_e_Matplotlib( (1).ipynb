{
  "nbformat": 4,
  "nbformat_minor": 0,
  "metadata": {
    "colab": {
      "name": "Esercizio Python, Pandas e Matplotlib(Luke Basco).ipynb",
      "provenance": [],
      "collapsed_sections": []
    },
    "kernelspec": {
      "name": "python3",
      "display_name": "Python 3"
    },
    "language_info": {
      "name": "python"
    }
  },
  "cells": [
    {
      "cell_type": "code",
      "metadata": {
        "colab": {
          "base_uri": "https://localhost:8080/"
        },
        "id": "Cw5bl4Hn5u1o",
        "outputId": "e77f95f8-ccf8-4ee8-8134-97f253a85131"
      },
      "source": [
        "!pip install squarify   ## per installare squarify"
      ],
      "execution_count": null,
      "outputs": [
        {
          "output_type": "stream",
          "name": "stdout",
          "text": [
            "Requirement already satisfied: squarify in /usr/local/lib/python3.7/dist-packages (0.4.3)\n"
          ]
        }
      ]
    },
    {
      "cell_type": "code",
      "metadata": {
        "id": "i9OKYOlojIbc"
      },
      "source": [
        "import pandas as pd\n",
        "import matplotlib.pyplot as plt\n"
      ],
      "execution_count": null,
      "outputs": []
    },
    {
      "cell_type": "markdown",
      "metadata": {
        "id": "U0Q5z7wrjoKH"
      },
      "source": [
        "a. visualizzare il numero totale di record presenti nel file"
      ]
    },
    {
      "cell_type": "code",
      "metadata": {
        "colab": {
          "base_uri": "https://localhost:8080/",
          "height": 423
        },
        "id": "vBc9ILCFjrOe",
        "outputId": "b2a5b163-65ae-46f8-ffbb-69885f96b054"
      },
      "source": [
        "url = \"https://raw.githubusercontent.com/italia/covid19-opendata-vaccini/master/dati/consegne-vaccini-latest.csv\"\n",
        "df = pd.read_csv(url)\n",
        "df"
      ],
      "execution_count": null,
      "outputs": [
        {
          "output_type": "execute_result",
          "data": {
            "text/html": [
              "<div>\n",
              "<style scoped>\n",
              "    .dataframe tbody tr th:only-of-type {\n",
              "        vertical-align: middle;\n",
              "    }\n",
              "\n",
              "    .dataframe tbody tr th {\n",
              "        vertical-align: top;\n",
              "    }\n",
              "\n",
              "    .dataframe thead th {\n",
              "        text-align: right;\n",
              "    }\n",
              "</style>\n",
              "<table border=\"1\" class=\"dataframe\">\n",
              "  <thead>\n",
              "    <tr style=\"text-align: right;\">\n",
              "      <th></th>\n",
              "      <th>area</th>\n",
              "      <th>fornitore</th>\n",
              "      <th>numero_dosi</th>\n",
              "      <th>data_consegna</th>\n",
              "      <th>codice_NUTS1</th>\n",
              "      <th>codice_NUTS2</th>\n",
              "      <th>codice_regione_ISTAT</th>\n",
              "      <th>nome_area</th>\n",
              "    </tr>\n",
              "  </thead>\n",
              "  <tbody>\n",
              "    <tr>\n",
              "      <th>0</th>\n",
              "      <td>ABR</td>\n",
              "      <td>Pfizer/BioNTech</td>\n",
              "      <td>135</td>\n",
              "      <td>2020-12-27</td>\n",
              "      <td>ITF</td>\n",
              "      <td>ITF1</td>\n",
              "      <td>13</td>\n",
              "      <td>Abruzzo</td>\n",
              "    </tr>\n",
              "    <tr>\n",
              "      <th>1</th>\n",
              "      <td>ABR</td>\n",
              "      <td>Pfizer/BioNTech</td>\n",
              "      <td>7800</td>\n",
              "      <td>2020-12-30</td>\n",
              "      <td>ITF</td>\n",
              "      <td>ITF1</td>\n",
              "      <td>13</td>\n",
              "      <td>Abruzzo</td>\n",
              "    </tr>\n",
              "    <tr>\n",
              "      <th>2</th>\n",
              "      <td>ABR</td>\n",
              "      <td>Pfizer/BioNTech</td>\n",
              "      <td>3900</td>\n",
              "      <td>2021-01-05</td>\n",
              "      <td>ITF</td>\n",
              "      <td>ITF1</td>\n",
              "      <td>13</td>\n",
              "      <td>Abruzzo</td>\n",
              "    </tr>\n",
              "    <tr>\n",
              "      <th>3</th>\n",
              "      <td>ABR</td>\n",
              "      <td>Pfizer/BioNTech</td>\n",
              "      <td>3900</td>\n",
              "      <td>2021-01-07</td>\n",
              "      <td>ITF</td>\n",
              "      <td>ITF1</td>\n",
              "      <td>13</td>\n",
              "      <td>Abruzzo</td>\n",
              "    </tr>\n",
              "    <tr>\n",
              "      <th>4</th>\n",
              "      <td>ABR</td>\n",
              "      <td>Pfizer/BioNTech</td>\n",
              "      <td>3900</td>\n",
              "      <td>2021-01-11</td>\n",
              "      <td>ITF</td>\n",
              "      <td>ITF1</td>\n",
              "      <td>13</td>\n",
              "      <td>Abruzzo</td>\n",
              "    </tr>\n",
              "    <tr>\n",
              "      <th>...</th>\n",
              "      <td>...</td>\n",
              "      <td>...</td>\n",
              "      <td>...</td>\n",
              "      <td>...</td>\n",
              "      <td>...</td>\n",
              "      <td>...</td>\n",
              "      <td>...</td>\n",
              "      <td>...</td>\n",
              "    </tr>\n",
              "    <tr>\n",
              "      <th>5350</th>\n",
              "      <td>VEN</td>\n",
              "      <td>Pfizer/BioNTech</td>\n",
              "      <td>4</td>\n",
              "      <td>2021-10-15</td>\n",
              "      <td>ITH</td>\n",
              "      <td>ITH3</td>\n",
              "      <td>5</td>\n",
              "      <td>Veneto</td>\n",
              "    </tr>\n",
              "    <tr>\n",
              "      <th>5351</th>\n",
              "      <td>VEN</td>\n",
              "      <td>Moderna</td>\n",
              "      <td>5</td>\n",
              "      <td>2021-11-11</td>\n",
              "      <td>ITH</td>\n",
              "      <td>ITH3</td>\n",
              "      <td>5</td>\n",
              "      <td>Veneto</td>\n",
              "    </tr>\n",
              "    <tr>\n",
              "      <th>5352</th>\n",
              "      <td>VEN</td>\n",
              "      <td>Moderna</td>\n",
              "      <td>161300</td>\n",
              "      <td>2021-11-22</td>\n",
              "      <td>ITH</td>\n",
              "      <td>ITH3</td>\n",
              "      <td>5</td>\n",
              "      <td>Veneto</td>\n",
              "    </tr>\n",
              "    <tr>\n",
              "      <th>5353</th>\n",
              "      <td>VEN</td>\n",
              "      <td>Moderna</td>\n",
              "      <td>2</td>\n",
              "      <td>2021-11-24</td>\n",
              "      <td>ITH</td>\n",
              "      <td>ITH3</td>\n",
              "      <td>5</td>\n",
              "      <td>Veneto</td>\n",
              "    </tr>\n",
              "    <tr>\n",
              "      <th>5354</th>\n",
              "      <td>VEN</td>\n",
              "      <td>Moderna</td>\n",
              "      <td>1</td>\n",
              "      <td>2021-11-25</td>\n",
              "      <td>ITH</td>\n",
              "      <td>ITH3</td>\n",
              "      <td>5</td>\n",
              "      <td>Veneto</td>\n",
              "    </tr>\n",
              "  </tbody>\n",
              "</table>\n",
              "<p>5355 rows × 8 columns</p>\n",
              "</div>"
            ],
            "text/plain": [
              "     area        fornitore  ...  codice_regione_ISTAT nome_area\n",
              "0     ABR  Pfizer/BioNTech  ...                    13   Abruzzo\n",
              "1     ABR  Pfizer/BioNTech  ...                    13   Abruzzo\n",
              "2     ABR  Pfizer/BioNTech  ...                    13   Abruzzo\n",
              "3     ABR  Pfizer/BioNTech  ...                    13   Abruzzo\n",
              "4     ABR  Pfizer/BioNTech  ...                    13   Abruzzo\n",
              "...   ...              ...  ...                   ...       ...\n",
              "5350  VEN  Pfizer/BioNTech  ...                     5    Veneto\n",
              "5351  VEN          Moderna  ...                     5    Veneto\n",
              "5352  VEN          Moderna  ...                     5    Veneto\n",
              "5353  VEN          Moderna  ...                     5    Veneto\n",
              "5354  VEN          Moderna  ...                     5    Veneto\n",
              "\n",
              "[5355 rows x 8 columns]"
            ]
          },
          "metadata": {},
          "execution_count": 2
        }
      ]
    },
    {
      "cell_type": "code",
      "metadata": {
        "id": "T10QPODO7NUp",
        "colab": {
          "base_uri": "https://localhost:8080/"
        },
        "outputId": "1f04bdb8-ca2c-42ec-91de-9f08a7c65d0c"
      },
      "source": [
        "len(df.index)"
      ],
      "execution_count": null,
      "outputs": [
        {
          "output_type": "execute_result",
          "data": {
            "text/plain": [
              "5307"
            ]
          },
          "metadata": {},
          "execution_count": 4
        }
      ]
    },
    {
      "cell_type": "markdown",
      "metadata": {
        "id": "vRoU-LtckwTL"
      },
      "source": [
        "b. visualizzare il numero di record presenti relativi ad una regione inserita dall'utente"
      ]
    },
    {
      "cell_type": "code",
      "metadata": {
        "id": "wFN4KNpHkzfw",
        "colab": {
          "base_uri": "https://localhost:8080/",
          "height": 441
        },
        "outputId": "9fbd9c20-49fb-4f31-b2c2-a2641cc61d98"
      },
      "source": [
        "\n",
        "reg = input(\"inserire regione: \")\n",
        "\n",
        "\n",
        "df.loc[df[\"nome_area\"] == reg]"
      ],
      "execution_count": null,
      "outputs": [
        {
          "name": "stdout",
          "output_type": "stream",
          "text": [
            "inserire regione: Abruzzo\n"
          ]
        },
        {
          "output_type": "execute_result",
          "data": {
            "text/html": [
              "<div>\n",
              "<style scoped>\n",
              "    .dataframe tbody tr th:only-of-type {\n",
              "        vertical-align: middle;\n",
              "    }\n",
              "\n",
              "    .dataframe tbody tr th {\n",
              "        vertical-align: top;\n",
              "    }\n",
              "\n",
              "    .dataframe thead th {\n",
              "        text-align: right;\n",
              "    }\n",
              "</style>\n",
              "<table border=\"1\" class=\"dataframe\">\n",
              "  <thead>\n",
              "    <tr style=\"text-align: right;\">\n",
              "      <th></th>\n",
              "      <th>area</th>\n",
              "      <th>fornitore</th>\n",
              "      <th>numero_dosi</th>\n",
              "      <th>data_consegna</th>\n",
              "      <th>codice_NUTS1</th>\n",
              "      <th>codice_NUTS2</th>\n",
              "      <th>codice_regione_ISTAT</th>\n",
              "      <th>nome_area</th>\n",
              "    </tr>\n",
              "  </thead>\n",
              "  <tbody>\n",
              "    <tr>\n",
              "      <th>0</th>\n",
              "      <td>ABR</td>\n",
              "      <td>Pfizer/BioNTech</td>\n",
              "      <td>135</td>\n",
              "      <td>2020-12-27</td>\n",
              "      <td>ITF</td>\n",
              "      <td>ITF1</td>\n",
              "      <td>13</td>\n",
              "      <td>Abruzzo</td>\n",
              "    </tr>\n",
              "    <tr>\n",
              "      <th>1</th>\n",
              "      <td>ABR</td>\n",
              "      <td>Pfizer/BioNTech</td>\n",
              "      <td>7800</td>\n",
              "      <td>2020-12-30</td>\n",
              "      <td>ITF</td>\n",
              "      <td>ITF1</td>\n",
              "      <td>13</td>\n",
              "      <td>Abruzzo</td>\n",
              "    </tr>\n",
              "    <tr>\n",
              "      <th>2</th>\n",
              "      <td>ABR</td>\n",
              "      <td>Pfizer/BioNTech</td>\n",
              "      <td>3900</td>\n",
              "      <td>2021-01-05</td>\n",
              "      <td>ITF</td>\n",
              "      <td>ITF1</td>\n",
              "      <td>13</td>\n",
              "      <td>Abruzzo</td>\n",
              "    </tr>\n",
              "    <tr>\n",
              "      <th>3</th>\n",
              "      <td>ABR</td>\n",
              "      <td>Pfizer/BioNTech</td>\n",
              "      <td>3900</td>\n",
              "      <td>2021-01-07</td>\n",
              "      <td>ITF</td>\n",
              "      <td>ITF1</td>\n",
              "      <td>13</td>\n",
              "      <td>Abruzzo</td>\n",
              "    </tr>\n",
              "    <tr>\n",
              "      <th>4</th>\n",
              "      <td>ABR</td>\n",
              "      <td>Pfizer/BioNTech</td>\n",
              "      <td>3900</td>\n",
              "      <td>2021-01-11</td>\n",
              "      <td>ITF</td>\n",
              "      <td>ITF1</td>\n",
              "      <td>13</td>\n",
              "      <td>Abruzzo</td>\n",
              "    </tr>\n",
              "    <tr>\n",
              "      <th>...</th>\n",
              "      <td>...</td>\n",
              "      <td>...</td>\n",
              "      <td>...</td>\n",
              "      <td>...</td>\n",
              "      <td>...</td>\n",
              "      <td>...</td>\n",
              "      <td>...</td>\n",
              "      <td>...</td>\n",
              "    </tr>\n",
              "    <tr>\n",
              "      <th>150</th>\n",
              "      <td>ABR</td>\n",
              "      <td>Janssen</td>\n",
              "      <td>-10100</td>\n",
              "      <td>2021-09-28</td>\n",
              "      <td>ITF</td>\n",
              "      <td>ITF1</td>\n",
              "      <td>13</td>\n",
              "      <td>Abruzzo</td>\n",
              "    </tr>\n",
              "    <tr>\n",
              "      <th>151</th>\n",
              "      <td>ABR</td>\n",
              "      <td>Moderna</td>\n",
              "      <td>29100</td>\n",
              "      <td>2021-09-29</td>\n",
              "      <td>ITF</td>\n",
              "      <td>ITF1</td>\n",
              "      <td>13</td>\n",
              "      <td>Abruzzo</td>\n",
              "    </tr>\n",
              "    <tr>\n",
              "      <th>152</th>\n",
              "      <td>ABR</td>\n",
              "      <td>Pfizer/BioNTech</td>\n",
              "      <td>71370</td>\n",
              "      <td>2021-09-29</td>\n",
              "      <td>ITF</td>\n",
              "      <td>ITF1</td>\n",
              "      <td>13</td>\n",
              "      <td>Abruzzo</td>\n",
              "    </tr>\n",
              "    <tr>\n",
              "      <th>153</th>\n",
              "      <td>ABR</td>\n",
              "      <td>Pfizer/BioNTech</td>\n",
              "      <td>24570</td>\n",
              "      <td>2021-10-06</td>\n",
              "      <td>ITF</td>\n",
              "      <td>ITF1</td>\n",
              "      <td>13</td>\n",
              "      <td>Abruzzo</td>\n",
              "    </tr>\n",
              "    <tr>\n",
              "      <th>154</th>\n",
              "      <td>ABR</td>\n",
              "      <td>Moderna</td>\n",
              "      <td>42500</td>\n",
              "      <td>2021-11-22</td>\n",
              "      <td>ITF</td>\n",
              "      <td>ITF1</td>\n",
              "      <td>13</td>\n",
              "      <td>Abruzzo</td>\n",
              "    </tr>\n",
              "  </tbody>\n",
              "</table>\n",
              "<p>155 rows × 8 columns</p>\n",
              "</div>"
            ],
            "text/plain": [
              "    area        fornitore  ...  codice_regione_ISTAT nome_area\n",
              "0    ABR  Pfizer/BioNTech  ...                    13   Abruzzo\n",
              "1    ABR  Pfizer/BioNTech  ...                    13   Abruzzo\n",
              "2    ABR  Pfizer/BioNTech  ...                    13   Abruzzo\n",
              "3    ABR  Pfizer/BioNTech  ...                    13   Abruzzo\n",
              "4    ABR  Pfizer/BioNTech  ...                    13   Abruzzo\n",
              "..   ...              ...  ...                   ...       ...\n",
              "150  ABR          Janssen  ...                    13   Abruzzo\n",
              "151  ABR          Moderna  ...                    13   Abruzzo\n",
              "152  ABR  Pfizer/BioNTech  ...                    13   Abruzzo\n",
              "153  ABR  Pfizer/BioNTech  ...                    13   Abruzzo\n",
              "154  ABR          Moderna  ...                    13   Abruzzo\n",
              "\n",
              "[155 rows x 8 columns]"
            ]
          },
          "metadata": {},
          "execution_count": 5
        }
      ]
    },
    {
      "cell_type": "markdown",
      "metadata": {
        "id": "EdPmBK8uqUnm"
      },
      "source": [
        "c. modificare l'esercizio precedente per rispondere con un messaggio appropriato se la regione non è presente"
      ]
    },
    {
      "cell_type": "code",
      "metadata": {
        "id": "p4B37bwTn5Ij",
        "colab": {
          "base_uri": "https://localhost:8080/"
        },
        "outputId": "8debc14e-5831-4f1e-d1d5-c50293b64ab1"
      },
      "source": [
        "reg = input(\"inserire regione: \")\n",
        "\n",
        "exists = reg in df.nome_area\n",
        "print(exists)\n",
        "\n",
        "          ##########           Sbagliato"
      ],
      "execution_count": null,
      "outputs": [
        {
          "output_type": "stream",
          "name": "stdout",
          "text": [
            "inserire regione: Abruzzo\n",
            "False\n"
          ]
        }
      ]
    },
    {
      "cell_type": "markdown",
      "metadata": {
        "id": "KBZkc8TYqXKN"
      },
      "source": [
        "d. visualizzare il numero totale di vaccini consegnati in una regione inserita dall'utente"
      ]
    },
    {
      "cell_type": "code",
      "metadata": {
        "colab": {
          "base_uri": "https://localhost:8080/"
        },
        "id": "1OvlhwVNqZov",
        "outputId": "ed4d76ce-556b-47d6-ac47-51bd3315b823"
      },
      "source": [
        "reg = input()\n",
        "\n",
        "df.loc[df[\"nome_area\"] == reg][\"numero_dosi\"].sum()"
      ],
      "execution_count": null,
      "outputs": [
        {
          "name": "stdout",
          "output_type": "stream",
          "text": [
            "Abruzzo\n"
          ]
        },
        {
          "output_type": "execute_result",
          "data": {
            "text/plain": [
              "2309752"
            ]
          },
          "metadata": {},
          "execution_count": 7
        }
      ]
    },
    {
      "cell_type": "markdown",
      "metadata": {
        "id": "aqiDVBWfq3xG"
      },
      "source": [
        "e. visualizzare il numero di vaccini per ogni fornitore"
      ]
    },
    {
      "cell_type": "code",
      "metadata": {
        "colab": {
          "base_uri": "https://localhost:8080/"
        },
        "id": "O4c04QoUq6a3",
        "outputId": "efed93ff-09e1-40d1-c126-765a97a2a82c"
      },
      "source": [
        "df.groupby('fornitore')['numero_dosi'].sum()"
      ],
      "execution_count": null,
      "outputs": [
        {
          "output_type": "execute_result",
          "data": {
            "text/plain": [
              "fornitore\n",
              "Janssen                     1846104\n",
              "Moderna                    16881242\n",
              "Pfizer/BioNTech            71421109\n",
              "Vaxzevria (AstraZeneca)    11544594\n",
              "Name: numero_dosi, dtype: int64"
            ]
          },
          "metadata": {},
          "execution_count": 8
        }
      ]
    },
    {
      "cell_type": "markdown",
      "metadata": {
        "id": "8jIV8dv4uUnP"
      },
      "source": [
        "f.  visualizzare il numero di vaccini per ogni fornitore di una regione inserita dall'utente. Ordinare in ordine\n",
        "decrescente sul numero di vaccini"
      ]
    },
    {
      "cell_type": "code",
      "metadata": {
        "colab": {
          "base_uri": "https://localhost:8080/"
        },
        "id": "cW1tZX3FuUDW",
        "outputId": "394fd5d0-e4ae-4f5c-8692-975c1af8aae0"
      },
      "source": [
        "reg = input(\"inserire nome_area: \")\n",
        "\n",
        "df[df[\"nome_area\"] == reg].groupby(\"fornitore\")[\"numero_dosi\"].sum().sort_values(ascending = False)"
      ],
      "execution_count": null,
      "outputs": [
        {
          "name": "stdout",
          "output_type": "stream",
          "text": [
            "inserire nome_area: Abruzzo\n"
          ]
        },
        {
          "output_type": "execute_result",
          "data": {
            "text/plain": [
              "fornitore\n",
              "Pfizer/BioNTech            1575702\n",
              "Moderna                     399700\n",
              "Vaxzevria (AstraZeneca)     298450\n",
              "Janssen                      35900\n",
              "Name: numero_dosi, dtype: int64"
            ]
          },
          "metadata": {},
          "execution_count": 9
        }
      ]
    },
    {
      "cell_type": "markdown",
      "metadata": {
        "id": "ZHeChil22HwO"
      },
      "source": [
        "g. visualizzare le informazioni dell'esercizio 6 con un grafico a barre"
      ]
    },
    {
      "cell_type": "code",
      "metadata": {
        "colab": {
          "base_uri": "https://localhost:8080/"
        },
        "id": "zdWSI9Ii3jZH",
        "outputId": "78b09351-aeb6-4734-846c-f3b1fcc4c23c"
      },
      "source": [
        "df2 = df[df[\"nome_area\"] == reg].groupby(\"fornitore\")[\"numero_dosi\"].sum().sort_values(ascending = False)\n",
        "df2"
      ],
      "execution_count": null,
      "outputs": [
        {
          "output_type": "execute_result",
          "data": {
            "text/plain": [
              "fornitore\n",
              "Pfizer/BioNTech            1575702\n",
              "Moderna                     399700\n",
              "Vaxzevria (AstraZeneca)     298450\n",
              "Janssen                      35900\n",
              "Name: numero_dosi, dtype: int64"
            ]
          },
          "metadata": {},
          "execution_count": 10
        }
      ]
    },
    {
      "cell_type": "code",
      "metadata": {
        "colab": {
          "base_uri": "https://localhost:8080/",
          "height": 206
        },
        "id": "WjvaOCZR3dRe",
        "outputId": "8ca09f46-0d71-414a-f8c2-66e32ca0f370"
      },
      "source": [
        "df2 = df[df[\"nome_area\"] == reg].groupby(\"fornitore\").sum()\n",
        "df2"
      ],
      "execution_count": null,
      "outputs": [
        {
          "output_type": "execute_result",
          "data": {
            "text/html": [
              "<div>\n",
              "<style scoped>\n",
              "    .dataframe tbody tr th:only-of-type {\n",
              "        vertical-align: middle;\n",
              "    }\n",
              "\n",
              "    .dataframe tbody tr th {\n",
              "        vertical-align: top;\n",
              "    }\n",
              "\n",
              "    .dataframe thead th {\n",
              "        text-align: right;\n",
              "    }\n",
              "</style>\n",
              "<table border=\"1\" class=\"dataframe\">\n",
              "  <thead>\n",
              "    <tr style=\"text-align: right;\">\n",
              "      <th></th>\n",
              "      <th>numero_dosi</th>\n",
              "      <th>codice_regione_ISTAT</th>\n",
              "    </tr>\n",
              "    <tr>\n",
              "      <th>fornitore</th>\n",
              "      <th></th>\n",
              "      <th></th>\n",
              "    </tr>\n",
              "  </thead>\n",
              "  <tbody>\n",
              "    <tr>\n",
              "      <th>Janssen</th>\n",
              "      <td>35900</td>\n",
              "      <td>169</td>\n",
              "    </tr>\n",
              "    <tr>\n",
              "      <th>Moderna</th>\n",
              "      <td>399700</td>\n",
              "      <td>416</td>\n",
              "    </tr>\n",
              "    <tr>\n",
              "      <th>Pfizer/BioNTech</th>\n",
              "      <td>1575702</td>\n",
              "      <td>910</td>\n",
              "    </tr>\n",
              "    <tr>\n",
              "      <th>Vaxzevria (AstraZeneca)</th>\n",
              "      <td>298450</td>\n",
              "      <td>520</td>\n",
              "    </tr>\n",
              "  </tbody>\n",
              "</table>\n",
              "</div>"
            ],
            "text/plain": [
              "                         numero_dosi  codice_regione_ISTAT\n",
              "fornitore                                                 \n",
              "Janssen                        35900                   169\n",
              "Moderna                       399700                   416\n",
              "Pfizer/BioNTech              1575702                   910\n",
              "Vaxzevria (AstraZeneca)       298450                   520"
            ]
          },
          "metadata": {},
          "execution_count": 11
        }
      ]
    },
    {
      "cell_type": "code",
      "metadata": {
        "colab": {
          "base_uri": "https://localhost:8080/",
          "height": 677
        },
        "id": "lfjb3oir2L5W",
        "outputId": "45f6a9a2-9a44-483b-f305-3ce2c9c18453"
      },
      "source": [
        "\n",
        "#  ingrandisce tutto di 50% visto che il default del size di tutto è 10\n",
        "plt.rcParams.update({\"font.size\" : 20})\n",
        "\n",
        "#  crea la figura\n",
        "fig = plt.figure(figsize=(9,7))\n",
        "\n",
        "#  crea gli assi\n",
        "ax = plt.axes()\n",
        "\n",
        "#  crea le barre\n",
        "#  color = \"chocolate\" per cambiare il colore delle barre\n",
        "#  dentro le virgolette mettere nome di un colore dalla tabella di cssdegli colori\n",
        "ax.bar(df2.index, df2[\"numero_dosi\"], color=\"chocolate\")\n",
        "\n",
        "#  ruota i label o i nomi dell'asse x\n",
        "fig.autofmt_xdate(rotation=60) \n",
        "\n",
        "#  crea un titolo nell'asse x\n",
        "ax.set_xlabel(\"Tipo di vaccini\")\n",
        "\n",
        "#  crea un titolo nell'asse y\n",
        "ax.set_ylabel(\"tot di vaccinazione\")\n",
        "\n",
        "#  crea una griglia\n",
        "ax.grid()\n",
        "\n",
        "#  crea un titolo\n",
        "fig.suptitle(\"tot messaggi\")\n",
        "\n",
        "plt.show()"
      ],
      "execution_count": null,
      "outputs": [
        {
          "output_type": "display_data",
          "data": {
            "image/png": "[encoded data removed]",
            "text/plain": [
              "<Figure size 648x504 with 1 Axes>"
            ]
          },
          "metadata": {
            "needs_background": "light"
          }
        }
      ]
    },
    {
      "cell_type": "markdown",
      "metadata": {
        "id": "sVd1K6qu4W1-"
      },
      "source": [
        "h. visualizzare le informazioni dell'esercizio 6 con un grafico a torta"
      ]
    },
    {
      "cell_type": "code",
      "metadata": {
        "colab": {
          "base_uri": "https://localhost:8080/",
          "height": 206
        },
        "id": "1Ijdwjow4nll",
        "outputId": "7522e7e4-513f-40b1-cde6-578196201965"
      },
      "source": [
        "df2 = df[df[\"nome_area\"] == reg].groupby(\"fornitore\").sum()\n",
        "df2"
      ],
      "execution_count": null,
      "outputs": [
        {
          "output_type": "execute_result",
          "data": {
            "text/html": [
              "<div>\n",
              "<style scoped>\n",
              "    .dataframe tbody tr th:only-of-type {\n",
              "        vertical-align: middle;\n",
              "    }\n",
              "\n",
              "    .dataframe tbody tr th {\n",
              "        vertical-align: top;\n",
              "    }\n",
              "\n",
              "    .dataframe thead th {\n",
              "        text-align: right;\n",
              "    }\n",
              "</style>\n",
              "<table border=\"1\" class=\"dataframe\">\n",
              "  <thead>\n",
              "    <tr style=\"text-align: right;\">\n",
              "      <th></th>\n",
              "      <th>numero_dosi</th>\n",
              "      <th>codice_regione_ISTAT</th>\n",
              "    </tr>\n",
              "    <tr>\n",
              "      <th>fornitore</th>\n",
              "      <th></th>\n",
              "      <th></th>\n",
              "    </tr>\n",
              "  </thead>\n",
              "  <tbody>\n",
              "    <tr>\n",
              "      <th>Janssen</th>\n",
              "      <td>35900</td>\n",
              "      <td>169</td>\n",
              "    </tr>\n",
              "    <tr>\n",
              "      <th>Moderna</th>\n",
              "      <td>399700</td>\n",
              "      <td>416</td>\n",
              "    </tr>\n",
              "    <tr>\n",
              "      <th>Pfizer/BioNTech</th>\n",
              "      <td>1575702</td>\n",
              "      <td>910</td>\n",
              "    </tr>\n",
              "    <tr>\n",
              "      <th>Vaxzevria (AstraZeneca)</th>\n",
              "      <td>298450</td>\n",
              "      <td>520</td>\n",
              "    </tr>\n",
              "  </tbody>\n",
              "</table>\n",
              "</div>"
            ],
            "text/plain": [
              "                         numero_dosi  codice_regione_ISTAT\n",
              "fornitore                                                 \n",
              "Janssen                        35900                   169\n",
              "Moderna                       399700                   416\n",
              "Pfizer/BioNTech              1575702                   910\n",
              "Vaxzevria (AstraZeneca)       298450                   520"
            ]
          },
          "metadata": {},
          "execution_count": 13
        }
      ]
    },
    {
      "cell_type": "code",
      "metadata": {
        "colab": {
          "base_uri": "https://localhost:8080/",
          "height": 277
        },
        "id": "i7T4-pmK4TR3",
        "outputId": "048ad2f8-7623-476f-8f70-4cb0841c2ce7"
      },
      "source": [
        "plt.rcParams.update({\"font.size\" : 12})\n",
        "\n",
        "fig = plt.figure()\n",
        "ax = plt.axes()\n",
        "\n",
        "#  autopct = \"%1.1f%%\"  ----->    nelle virgolette il primo 1 è la lontananza dei percentuali\n",
        "#  startangle = 90   ------>    per ruotare il grafico\n",
        "#  colors = [\"yellow\", \"red\",\"purple\"]    ------->   per colorare il grafico e si alternano\n",
        "#  si scrive con l'= perche possiamo scrivere le funzioni senza ordine\n",
        "ax.pie(df2[\"numero_dosi\"],labels = df2.index, autopct = \"%2.0f%%\", startangle = 90, colors = [\"green\", \"pink\",\"blue\"])\n",
        "\n",
        "fig.suptitle(\"grafico a torta\")\n",
        "\n",
        "plt.show()"
      ],
      "execution_count": null,
      "outputs": [
        {
          "output_type": "display_data",
          "data": {
            "image/png": "[encoded data removed]",
            "text/plain": [
              "<Figure size 432x288 with 1 Axes>"
            ]
          },
          "metadata": {}
        }
      ]
    },
    {
      "cell_type": "markdown",
      "metadata": {
        "id": "x0zgMZf35Oc-"
      },
      "source": [
        "i. visualizzare le informazioni dell'esercizio 6 con un grafico treemap"
      ]
    },
    {
      "cell_type": "code",
      "metadata": {
        "id": "8VmUsnsG50Hf"
      },
      "source": [
        "import squarify as sqf  ## per importare"
      ],
      "execution_count": null,
      "outputs": []
    },
    {
      "cell_type": "code",
      "metadata": {
        "colab": {
          "base_uri": "https://localhost:8080/",
          "height": 265
        },
        "id": "S62gAHva5RCv",
        "outputId": "32684982-64a1-4788-e336-afe99e57ce07"
      },
      "source": [
        "size = list(df2[\"numero_dosi\"])\n",
        "nomi = list(df2.index)\n",
        "sqf.plot(sizes = size, label = nomi, alpha = 0.6)\n",
        "plt.axis(\"off\")\n",
        "plt.show"
      ],
      "execution_count": null,
      "outputs": [
        {
          "output_type": "execute_result",
          "data": {
            "text/plain": [
              "<function matplotlib.pyplot.show>"
            ]
          },
          "metadata": {},
          "execution_count": 16
        },
        {
          "output_type": "display_data",
          "data": {
            "image/png": "[encoded data removed]",
            "text/plain": [
              "<Figure size 432x288 with 1 Axes>"
            ]
          },
          "metadata": {
            "needs_background": "light"
          }
        }
      ]
    },
    {
      "cell_type": "markdown",
      "metadata": {
        "id": "ySHOzZ4f6A8W"
      },
      "source": [
        "j. visualizzare i nomi delle tre regioni in cui sono stati consegnati più vaccini"
      ]
    },
    {
      "cell_type": "code",
      "metadata": {
        "colab": {
          "base_uri": "https://localhost:8080/"
        },
        "id": "kpVlFvltjaUJ",
        "outputId": "3eb08c9e-0037-4694-ca51-c1d858033ba7"
      },
      "source": [
        "df3 = df.groupby(\"nome_area\")[\"numero_dosi\"].sum().sort_values(ascending = False)\n",
        "df3.iloc[:3]"
      ],
      "execution_count": null,
      "outputs": [
        {
          "output_type": "execute_result",
          "data": {
            "text/plain": [
              "nome_area\n",
              "Lombardia    17612089\n",
              "Lazio        10532917\n",
              "Campania      9179719\n",
              "Name: numero_dosi, dtype: int64"
            ]
          },
          "metadata": {},
          "execution_count": 17
        }
      ]
    },
    {
      "cell_type": "markdown",
      "metadata": {
        "id": "WdFagD4nkMqI"
      },
      "source": [
        "k.  visualizzare i nomi delle regioni in cui sono stati consegnati un numero di vaccini inferiore alla media"
      ]
    },
    {
      "cell_type": "code",
      "metadata": {
        "colab": {
          "base_uri": "https://localhost:8080/"
        },
        "id": "gW9izy3Bkypx",
        "outputId": "aff5837e-bf37-42ea-8ffb-ea8efff3cded"
      },
      "source": [
        "somma = df[\"numero_dosi\"].sum()\n",
        "media = somma / 21\n",
        "\n",
        "print(media)"
      ],
      "execution_count": null,
      "outputs": [
        {
          "output_type": "stream",
          "name": "stdout",
          "text": [
            "4842526.142857143\n"
          ]
        }
      ]
    },
    {
      "cell_type": "code",
      "metadata": {
        "colab": {
          "base_uri": "https://localhost:8080/",
          "height": 363
        },
        "id": "f0JAoatVkRS4",
        "outputId": "9fb9ee3f-12f9-4b74-afa6-55dcdbf5bada"
      },
      "source": [
        "somma = df[\"numero_dosi\"].sum()\n",
        "media = somma / 21\n",
        "\n",
        "df4 = df.groupby(\"nome_area\").sum()\n",
        "df4 = df4.drop(columns = [\"codice_regione_ISTAT\"])\n",
        "df4.loc[df4[\"numero_dosi\"] >= media]"
      ],
      "execution_count": null,
      "outputs": [
        {
          "output_type": "execute_result",
          "data": {
            "text/html": [
              "<div>\n",
              "<style scoped>\n",
              "    .dataframe tbody tr th:only-of-type {\n",
              "        vertical-align: middle;\n",
              "    }\n",
              "\n",
              "    .dataframe tbody tr th {\n",
              "        vertical-align: top;\n",
              "    }\n",
              "\n",
              "    .dataframe thead th {\n",
              "        text-align: right;\n",
              "    }\n",
              "</style>\n",
              "<table border=\"1\" class=\"dataframe\">\n",
              "  <thead>\n",
              "    <tr style=\"text-align: right;\">\n",
              "      <th></th>\n",
              "      <th>numero_dosi</th>\n",
              "    </tr>\n",
              "    <tr>\n",
              "      <th>nome_area</th>\n",
              "      <th></th>\n",
              "    </tr>\n",
              "  </thead>\n",
              "  <tbody>\n",
              "    <tr>\n",
              "      <th>Campania</th>\n",
              "      <td>9179719</td>\n",
              "    </tr>\n",
              "    <tr>\n",
              "      <th>Emilia-Romagna</th>\n",
              "      <td>7474014</td>\n",
              "    </tr>\n",
              "    <tr>\n",
              "      <th>Lazio</th>\n",
              "      <td>10532917</td>\n",
              "    </tr>\n",
              "    <tr>\n",
              "      <th>Lombardia</th>\n",
              "      <td>17612089</td>\n",
              "    </tr>\n",
              "    <tr>\n",
              "      <th>Piemonte</th>\n",
              "      <td>7272560</td>\n",
              "    </tr>\n",
              "    <tr>\n",
              "      <th>Puglia</th>\n",
              "      <td>7008831</td>\n",
              "    </tr>\n",
              "    <tr>\n",
              "      <th>Sicilia</th>\n",
              "      <td>7812373</td>\n",
              "    </tr>\n",
              "    <tr>\n",
              "      <th>Toscana</th>\n",
              "      <td>6428855</td>\n",
              "    </tr>\n",
              "    <tr>\n",
              "      <th>Veneto</th>\n",
              "      <td>8249972</td>\n",
              "    </tr>\n",
              "  </tbody>\n",
              "</table>\n",
              "</div>"
            ],
            "text/plain": [
              "                numero_dosi\n",
              "nome_area                  \n",
              "Campania            9179719\n",
              "Emilia-Romagna      7474014\n",
              "Lazio              10532917\n",
              "Lombardia          17612089\n",
              "Piemonte            7272560\n",
              "Puglia              7008831\n",
              "Sicilia             7812373\n",
              "Toscana             6428855\n",
              "Veneto              8249972"
            ]
          },
          "metadata": {},
          "execution_count": 19
        }
      ]
    },
    {
      "cell_type": "markdown",
      "metadata": {
        "id": "3XVGzCkjrd7D"
      },
      "source": [
        "l. visualizzare il grafico delle consegne dei vaccini in Lombardia e nel Lazio. Visualizzare solo i dati delle\n",
        "consegne avvenute negli utlimi sei mesi. Fare in modo che la data sia determinata in modo automatico"
      ]
    },
    {
      "cell_type": "code",
      "metadata": {
        "id": "GHRTfJXCY1nn"
      },
      "source": [
        "import datetime\n",
        "from datetime import date, timedelta\n",
        "from dateutil.relativedelta import relativedelta"
      ],
      "execution_count": null,
      "outputs": []
    },
    {
      "cell_type": "code",
      "metadata": {
        "colab": {
          "base_uri": "https://localhost:8080/",
          "height": 162
        },
        "id": "1_x7GgHcdLRO",
        "outputId": "13dc2497-7ef4-4d97-8fbf-a6aaa7a674df"
      },
      "source": [
        "#   per trovare la data del passato\n",
        "past = date.today()- relativedelta(months = 6)\n",
        "print(past)\n",
        "\n",
        "#   per cercare in una colonna 2 elementi,  riporta solo le rige che hanno come elemento nella colonna 'nome_area' lombardia e lazio\n",
        "dfll = df[(df[\"nome_area\"] == \"Lombardia\") | (df[\"nome_area\"] == \"Lazio\")]\n",
        "dfll\n",
        "#   per non avere dati riportati come boolean, ma come tabella\n",
        "dfll2 = dfll[dfll[\"data_consegna\"] > str(past)].groupby(\"nome_area\").count()\n",
        "dfll2\n",
        "\n",
        "#   per trovare la data \n",
        "#date = datetime.now()"
      ],
      "execution_count": null,
      "outputs": [
        {
          "output_type": "stream",
          "name": "stdout",
          "text": [
            "2021-05-28\n"
          ]
        },
        {
          "output_type": "execute_result",
          "data": {
            "text/html": [
              "<div>\n",
              "<style scoped>\n",
              "    .dataframe tbody tr th:only-of-type {\n",
              "        vertical-align: middle;\n",
              "    }\n",
              "\n",
              "    .dataframe tbody tr th {\n",
              "        vertical-align: top;\n",
              "    }\n",
              "\n",
              "    .dataframe thead th {\n",
              "        text-align: right;\n",
              "    }\n",
              "</style>\n",
              "<table border=\"1\" class=\"dataframe\">\n",
              "  <thead>\n",
              "    <tr style=\"text-align: right;\">\n",
              "      <th></th>\n",
              "      <th>area</th>\n",
              "      <th>fornitore</th>\n",
              "      <th>numero_dosi</th>\n",
              "      <th>data_consegna</th>\n",
              "      <th>codice_NUTS1</th>\n",
              "      <th>codice_NUTS2</th>\n",
              "      <th>codice_regione_ISTAT</th>\n",
              "    </tr>\n",
              "    <tr>\n",
              "      <th>nome_area</th>\n",
              "      <th></th>\n",
              "      <th></th>\n",
              "      <th></th>\n",
              "      <th></th>\n",
              "      <th></th>\n",
              "      <th></th>\n",
              "      <th></th>\n",
              "    </tr>\n",
              "  </thead>\n",
              "  <tbody>\n",
              "    <tr>\n",
              "      <th>Lazio</th>\n",
              "      <td>453</td>\n",
              "      <td>453</td>\n",
              "      <td>453</td>\n",
              "      <td>453</td>\n",
              "      <td>453</td>\n",
              "      <td>453</td>\n",
              "      <td>453</td>\n",
              "    </tr>\n",
              "    <tr>\n",
              "      <th>Lombardia</th>\n",
              "      <td>161</td>\n",
              "      <td>161</td>\n",
              "      <td>161</td>\n",
              "      <td>161</td>\n",
              "      <td>161</td>\n",
              "      <td>161</td>\n",
              "      <td>161</td>\n",
              "    </tr>\n",
              "  </tbody>\n",
              "</table>\n",
              "</div>"
            ],
            "text/plain": [
              "           area  fornitore  ...  codice_NUTS2  codice_regione_ISTAT\n",
              "nome_area                   ...                                    \n",
              "Lazio       453        453  ...           453                   453\n",
              "Lombardia   161        161  ...           161                   161\n",
              "\n",
              "[2 rows x 7 columns]"
            ]
          },
          "metadata": {},
          "execution_count": 11
        }
      ]
    },
    {
      "cell_type": "code",
      "metadata": {
        "colab": {
          "base_uri": "https://localhost:8080/",
          "height": 556
        },
        "id": "yOBdPxmnrh7N",
        "outputId": "b29a076d-f3db-4c21-ce4c-d62afcb0ec18"
      },
      "source": [
        "\n",
        "\n",
        "\n",
        "#  ingrandisce tutto di 50% visto che il default del size di tutto è 10\n",
        "plt.rcParams.update({\"font.size\" : 20})\n",
        "\n",
        "#  crea la figura\n",
        "fig = plt.figure(figsize=(9,7))\n",
        "\n",
        "#  crea gli assi\n",
        "ax = plt.axes()\n",
        "\n",
        "#  crea le barre\n",
        "#  color = \"chocolate\" per cambiare il colore delle barre\n",
        "#  dentro le virgolette mettere nome di un colore dalla tabella di cssdegli colori\n",
        "ax.bar(dfll2.index, dfll2[\"numero_dosi\"], color=\"Brown\")\n",
        "\n",
        "#  ruota i label o i nomi dell'asse x\n",
        "fig.autofmt_xdate(rotation=60) \n",
        "\n",
        "#  crea un titolo nell'asse x\n",
        "ax.set_xlabel(\"Regione\")\n",
        "\n",
        "#  crea un titolo nell'asse y\n",
        "ax.set_ylabel(\"tot di vaccinazione\")\n",
        "\n",
        "#  crea una griglia\n",
        "ax.grid()\n",
        "\n",
        "#  crea un titolo\n",
        "fig.suptitle(\"tot messaggi\")\n",
        "\n",
        "#per mettere che y inizia da 800\n",
        "ax.set_ylim([100, 600])\n",
        "\n",
        "plt.show()"
      ],
      "execution_count": null,
      "outputs": [
        {
          "output_type": "display_data",
          "data": {
            "image/png": "[encoded data removed]",
            "text/plain": [
              "<Figure size 648x504 with 1 Axes>"
            ]
          },
          "metadata": {
            "needs_background": "light"
          }
        }
      ]
    }
  ]
}