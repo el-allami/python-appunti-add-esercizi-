{
  "nbformat": 4,
  "nbformat_minor": 0,
  "metadata": {
    "colab": {
      "name": "esercizio2.ipynb",
      "provenance": [],
      "collapsed_sections": []
    },
    "kernelspec": {
      "name": "python3",
      "display_name": "Python 3"
    },
    "language_info": {
      "name": "python"
    }
  },
  "cells": [
    {
      "cell_type": "markdown",
      "metadata": {
        "id": "xcy5QBouOJRq"
      },
      "source": [
        "Scrivere un programma che crei una lista contenente i nomi dei capoluoghi delle regioni italiane e che visualizzi la lista. Chiamare la lista capoluoghiRegione"
      ]
    },
    {
      "cell_type": "code",
      "metadata": {
        "id": "-YZuIFrfmzGJ",
        "colab": {
          "base_uri": "https://localhost:8080/"
        },
        "outputId": "a3cb97a1-644c-4310-fd0c-49177205f091"
      },
      "source": [
        "capoluoghiRegione = ['Aquila', 'Potenza', 'Catanzaro', 'Napoli', 'Bologna', 'Trieste', 'Roma', 'Genova', 'Milano', 'Ancona', 'Campobasso', 'Torino', 'Bari', 'Cagliari', 'Palermo', 'Firenze', 'Trento', 'Perugia', 'Aosta', 'Venezia']\n",
        "print(capoluoghiRegione)"
      ],
      "execution_count": 18,
      "outputs": [
        {
          "output_type": "stream",
          "name": "stdout",
          "text": [
            "['Aquila', 'Potenza', 'Catanzaro', 'Napoli', 'Bologna', 'Trieste', 'Roma', 'Genova', 'Milano', 'Ancona', 'Campobasso', 'Torino', 'Bari', 'Cagliari', 'Palermo', 'Firenze', 'Trento', 'Perugia', 'Aosta', 'Venezia']\n"
          ]
        }
      ]
    },
    {
      "cell_type": "markdown",
      "metadata": {
        "id": "ZqmmMIJWOG5p"
      },
      "source": [
        "Scrivere un programma che visualizzi i primi 6 capoluoghi di regione presenti in capoluoghiRegione"
      ]
    },
    {
      "cell_type": "code",
      "metadata": {
        "colab": {
          "base_uri": "https://localhost:8080/"
        },
        "id": "w2kQQ417OMq5",
        "outputId": "a28ce72b-effd-4a23-e87c-a3e8d0eeb911"
      },
      "source": [
        "print(capoluoghiRegione[0:6])"
      ],
      "execution_count": 19,
      "outputs": [
        {
          "output_type": "stream",
          "name": "stdout",
          "text": [
            "['Aquila', 'Potenza', 'Catanzaro', 'Napoli', 'Bologna', 'Trieste']\n"
          ]
        }
      ]
    },
    {
      "cell_type": "markdown",
      "metadata": {
        "id": "1SIMp5qyOOeS"
      },
      "source": [
        "Scrivere un programma che visualizzi gli ultimi 6 capoluoghi di regione presenti in capoluoghiRegione"
      ]
    },
    {
      "cell_type": "code",
      "metadata": {
        "colab": {
          "base_uri": "https://localhost:8080/"
        },
        "id": "q-l0aqeJOQ2h",
        "outputId": "28ebb48f-19ad-4482-f435-666b98fe8339"
      },
      "source": [
        "print(capoluoghiRegione[14:])"
      ],
      "execution_count": 20,
      "outputs": [
        {
          "output_type": "stream",
          "name": "stdout",
          "text": [
            "['Palermo', 'Firenze', 'Trento', 'Perugia', 'Aosta', 'Venezia']\n"
          ]
        }
      ]
    },
    {
      "cell_type": "markdown",
      "metadata": {
        "id": "kvap_6WEOSta"
      },
      "source": [
        "Scrivere un programma che visualizzi i 6 capoluoghi di regione presenti nella parte centrale di capoluoghiRegione"
      ]
    },
    {
      "cell_type": "code",
      "metadata": {
        "colab": {
          "base_uri": "https://localhost:8080/"
        },
        "id": "WLcYL8QPOVCS",
        "outputId": "5e40c71a-1023-4a11-9e85-cc4303b1ce15"
      },
      "source": [
        "print(capoluoghiRegione[7:13])"
      ],
      "execution_count": 21,
      "outputs": [
        {
          "output_type": "stream",
          "name": "stdout",
          "text": [
            "['Genova', 'Milano', 'Ancona', 'Campobasso', 'Torino', 'Bari']\n"
          ]
        }
      ]
    },
    {
      "cell_type": "markdown",
      "metadata": {
        "id": "MZ6Zb7PyOXE7"
      },
      "source": [
        "Scrivere un programma che visualizzi i capoluoghi di regione presenti in capoluoghiRegione nelle posizioni pari."
      ]
    },
    {
      "cell_type": "code",
      "metadata": {
        "colab": {
          "base_uri": "https://localhost:8080/"
        },
        "id": "eeBbP2eNOZV7",
        "outputId": "a29f7fe3-7371-4d6b-e52c-77eb2670c3bb"
      },
      "source": [
        "capoluoghipariindex = 0\n",
        "for capoluoghipari in capoluoghiRegione:\n",
        "  print(capoluoghiRegione[capoluoghipariindex])\n",
        "  capoluoghipariindex +=2\n",
        "  if capoluoghipariindex > 19:\n",
        "    break"
      ],
      "execution_count": 22,
      "outputs": [
        {
          "output_type": "stream",
          "name": "stdout",
          "text": [
            "Aquila\n",
            "Catanzaro\n",
            "Bologna\n",
            "Roma\n",
            "Milano\n",
            "Campobasso\n",
            "Bari\n",
            "Palermo\n",
            "Trento\n",
            "Aosta\n"
          ]
        }
      ]
    },
    {
      "cell_type": "markdown",
      "metadata": {
        "id": "zLSmCCXfOeYS"
      },
      "source": [
        "Scrivere un programma che visualizzi i capoluoghi di regione presenti in capoluoghiRegione nelle posizioni dispari."
      ]
    },
    {
      "cell_type": "code",
      "metadata": {
        "colab": {
          "base_uri": "https://localhost:8080/"
        },
        "id": "iogpSaLQOgwq",
        "outputId": "1c24e358-ff14-41f5-cb93-75e4cb761790"
      },
      "source": [
        "capoluoghidispariindex = 1\n",
        "for capoluoghidispari in capoluoghiRegione:\n",
        "  print(capoluoghiRegione[capoluoghidispariindex])\n",
        "  capoluoghidispariindex +=2\n",
        "  if capoluoghidispariindex >= 19:\n",
        "    break"
      ],
      "execution_count": 23,
      "outputs": [
        {
          "output_type": "stream",
          "name": "stdout",
          "text": [
            "Potenza\n",
            "Napoli\n",
            "Trieste\n",
            "Genova\n",
            "Ancona\n",
            "Torino\n",
            "Cagliari\n",
            "Firenze\n",
            "Perugia\n"
          ]
        }
      ]
    },
    {
      "cell_type": "markdown",
      "metadata": {
        "id": "8N6cT8SvOi3y"
      },
      "source": [
        "Scrivere un programma che visualizzi il primo capoluogo di regione in ordine alfabetico"
      ]
    },
    {
      "cell_type": "code",
      "metadata": {
        "colab": {
          "base_uri": "https://localhost:8080/"
        },
        "id": "ryjAL9H0Ok2r",
        "outputId": "823620e1-3942-4747-bfb6-280fe4043f2f"
      },
      "source": [
        "capoluoghiRegione.sort()\n",
        "print(capoluoghiRegione)"
      ],
      "execution_count": 24,
      "outputs": [
        {
          "output_type": "stream",
          "name": "stdout",
          "text": [
            "['Ancona', 'Aosta', 'Aquila', 'Bari', 'Bologna', 'Cagliari', 'Campobasso', 'Catanzaro', 'Firenze', 'Genova', 'Milano', 'Napoli', 'Palermo', 'Perugia', 'Potenza', 'Roma', 'Torino', 'Trento', 'Trieste', 'Venezia']\n"
          ]
        }
      ]
    },
    {
      "cell_type": "markdown",
      "metadata": {
        "id": "zBP1TLTQOmsZ"
      },
      "source": [
        "Scrivere un programma che permetta ad un utente di inserire il nome di una città è risponda True se quella città è un capoluogo di regione, False altrimenti."
      ]
    },
    {
      "cell_type": "code",
      "metadata": {
        "colab": {
          "base_uri": "https://localhost:8080/"
        },
        "id": "95ZGourxOo-5",
        "outputId": "7f04db42-8568-4d7e-82aa-36ad36aa8017"
      },
      "source": [
        "nomeinput = str(input(\"inserire il nome di una citta: \" ))\n",
        "if nomeinput in capoluoghiRegione:\n",
        "  print(\"True\")\n",
        "else:\n",
        "  print(\"False\")"
      ],
      "execution_count": 25,
      "outputs": [
        {
          "output_type": "stream",
          "name": "stdout",
          "text": [
            "inserire il nome di una citta: dsfgn\n",
            "False\n"
          ]
        }
      ]
    },
    {
      "cell_type": "markdown",
      "metadata": {
        "id": "BmpUAY8vOqv5"
      },
      "source": [
        "Scrivere un programma che visualizzi i capoluoghi in ordine alfabetico"
      ]
    },
    {
      "cell_type": "code",
      "metadata": {
        "colab": {
          "base_uri": "https://localhost:8080/"
        },
        "id": "PeomgaXFOswZ",
        "outputId": "df881c77-9bcc-4a00-debf-331b39ebeba5"
      },
      "source": [
        "capoluoghiRegione.sort()\n",
        "print(capoluoghiRegione)"
      ],
      "execution_count": 26,
      "outputs": [
        {
          "output_type": "stream",
          "name": "stdout",
          "text": [
            "['Ancona', 'Aosta', 'Aquila', 'Bari', 'Bologna', 'Cagliari', 'Campobasso', 'Catanzaro', 'Firenze', 'Genova', 'Milano', 'Napoli', 'Palermo', 'Perugia', 'Potenza', 'Roma', 'Torino', 'Trento', 'Trieste', 'Venezia']\n"
          ]
        }
      ]
    },
    {
      "cell_type": "markdown",
      "metadata": {
        "id": "I7pPg763Ou5i"
      },
      "source": [
        "Scrivere un programma che visualizzi i capoluoghi in ordine alfabetico inverso (dalla Z alla A)"
      ]
    },
    {
      "cell_type": "code",
      "metadata": {
        "colab": {
          "base_uri": "https://localhost:8080/"
        },
        "id": "yiTqOSdhOwwc",
        "outputId": "e847bf8d-5f41-407f-ae6a-d5557721008b"
      },
      "source": [
        "capoluoghiRegione.sort(reverse = True)\n",
        "print(capoluoghiRegione)"
      ],
      "execution_count": 27,
      "outputs": [
        {
          "output_type": "stream",
          "name": "stdout",
          "text": [
            "['Venezia', 'Trieste', 'Trento', 'Torino', 'Roma', 'Potenza', 'Perugia', 'Palermo', 'Napoli', 'Milano', 'Genova', 'Firenze', 'Catanzaro', 'Campobasso', 'Cagliari', 'Bologna', 'Bari', 'Aquila', 'Aosta', 'Ancona']\n"
          ]
        }
      ]
    },
    {
      "cell_type": "markdown",
      "metadata": {
        "id": "cQYL04FjOzbC"
      },
      "source": [
        "Scrivere un programma che visualizzi i capoluoghi in ordine sulla base della lunghezza del nome (da quello più corto a quello più lungo)"
      ]
    },
    {
      "cell_type": "code",
      "metadata": {
        "colab": {
          "base_uri": "https://localhost:8080/"
        },
        "id": "GJ_sWcR4OyTC",
        "outputId": "4c2247a3-e1ec-4151-e22c-411dc246565d"
      },
      "source": [
        "capoluoghiRegione.sort(key = len)\n",
        "print(capoluoghiRegione)"
      ],
      "execution_count": 28,
      "outputs": [
        {
          "output_type": "stream",
          "name": "stdout",
          "text": [
            "['Roma', 'Bari', 'Aosta', 'Trento', 'Torino', 'Napoli', 'Milano', 'Genova', 'Aquila', 'Ancona', 'Venezia', 'Trieste', 'Potenza', 'Perugia', 'Palermo', 'Firenze', 'Bologna', 'Cagliari', 'Catanzaro', 'Campobasso']\n"
          ]
        }
      ]
    },
    {
      "cell_type": "markdown",
      "metadata": {
        "id": "sTNiu_f2O5PS"
      },
      "source": [
        "Scrivere un programma che copi la lista capoluoghiRegione nella lista capoluoghiRegione2 e che elimini dalla prima lista il primo e l’ultimo elemento. Al termine, visualizzare le due liste una sotto l’altra per verificare che effettivamente siano stati eliminati gli elementi della lista originale."
      ]
    },
    {
      "cell_type": "code",
      "metadata": {
        "colab": {
          "base_uri": "https://localhost:8080/"
        },
        "id": "h--0hl45O-FR",
        "outputId": "3a573e20-1d16-4c1f-d783-44d2ce3ef5c8"
      },
      "source": [
        "capoluoghiRegione2 = capoluoghiRegione\n",
        "print(capoluoghiRegione2)\n",
        "capoluoghiRegione.remove('Aquila')\n",
        "capoluoghiRegione.remove('Venezia')\n",
        "print(capoluoghiRegione)"
      ],
      "execution_count": 29,
      "outputs": [
        {
          "output_type": "stream",
          "name": "stdout",
          "text": [
            "['Roma', 'Bari', 'Aosta', 'Trento', 'Torino', 'Napoli', 'Milano', 'Genova', 'Aquila', 'Ancona', 'Venezia', 'Trieste', 'Potenza', 'Perugia', 'Palermo', 'Firenze', 'Bologna', 'Cagliari', 'Catanzaro', 'Campobasso']\n",
            "['Roma', 'Bari', 'Aosta', 'Trento', 'Torino', 'Napoli', 'Milano', 'Genova', 'Ancona', 'Trieste', 'Potenza', 'Perugia', 'Palermo', 'Firenze', 'Bologna', 'Cagliari', 'Catanzaro', 'Campobasso']\n"
          ]
        }
      ]
    },
    {
      "cell_type": "markdown",
      "metadata": {
        "id": "uMNppmjpPArK"
      },
      "source": [
        "Scrivere un programma che, con una sola istruzione, carichi una lista con i primi 100 numeri interi. Chiamare la lista numeriInteri. Al termine, visualizzare la lista."
      ]
    },
    {
      "cell_type": "code",
      "metadata": {
        "colab": {
          "base_uri": "https://localhost:8080/"
        },
        "id": "9g0SJIFjPCwq",
        "outputId": "6c8fcb4e-abb9-42ff-b920-13899dc334fe"
      },
      "source": [
        "numeriInteri = [int(ele) for ele in range(0,101)]\n",
        "print(numeriInteri)"
      ],
      "execution_count": 30,
      "outputs": [
        {
          "output_type": "stream",
          "name": "stdout",
          "text": [
            "[0, 1, 2, 3, 4, 5, 6, 7, 8, 9, 10, 11, 12, 13, 14, 15, 16, 17, 18, 19, 20, 21, 22, 23, 24, 25, 26, 27, 28, 29, 30, 31, 32, 33, 34, 35, 36, 37, 38, 39, 40, 41, 42, 43, 44, 45, 46, 47, 48, 49, 50, 51, 52, 53, 54, 55, 56, 57, 58, 59, 60, 61, 62, 63, 64, 65, 66, 67, 68, 69, 70, 71, 72, 73, 74, 75, 76, 77, 78, 79, 80, 81, 82, 83, 84, 85, 86, 87, 88, 89, 90, 91, 92, 93, 94, 95, 96, 97, 98, 99, 100]\n"
          ]
        }
      ]
    },
    {
      "cell_type": "code",
      "metadata": {
        "colab": {
          "base_uri": "https://localhost:8080/"
        },
        "id": "Ls1FVYw0Pe1B",
        "outputId": "abe064cd-924e-47f4-806e-7d22c47ea1f7"
      },
      "source": [
        "# la mia vecchia soluzione lol\n",
        "\n",
        "numeriInteri = []\n",
        "i = 0\n",
        "\n",
        "while i < 101:\n",
        "  numeriInteri.append(i)\n",
        "  i += 1\n",
        "print(numeriInteri)"
      ],
      "execution_count": 31,
      "outputs": [
        {
          "output_type": "stream",
          "name": "stdout",
          "text": [
            "[0, 1, 2, 3, 4, 5, 6, 7, 8, 9, 10, 11, 12, 13, 14, 15, 16, 17, 18, 19, 20, 21, 22, 23, 24, 25, 26, 27, 28, 29, 30, 31, 32, 33, 34, 35, 36, 37, 38, 39, 40, 41, 42, 43, 44, 45, 46, 47, 48, 49, 50, 51, 52, 53, 54, 55, 56, 57, 58, 59, 60, 61, 62, 63, 64, 65, 66, 67, 68, 69, 70, 71, 72, 73, 74, 75, 76, 77, 78, 79, 80, 81, 82, 83, 84, 85, 86, 87, 88, 89, 90, 91, 92, 93, 94, 95, 96, 97, 98, 99, 100]\n"
          ]
        }
      ]
    },
    {
      "cell_type": "markdown",
      "metadata": {
        "id": "YKWqobvnPZcJ"
      },
      "source": [
        "Scrivere un programma che permetta all’utente di inserire in una lista 10 numeri interi, elimini i duplicati e visualizzi la lista senza duplicati. Chiamare la lista numeriInteri."
      ]
    },
    {
      "cell_type": "code",
      "metadata": {
        "colab": {
          "base_uri": "https://localhost:8080/"
        },
        "id": "yyK636ioPrQh",
        "outputId": "5da3d175-c29b-4fa4-f1ef-973f6dbb0543"
      },
      "source": [
        "numeriInteri = []\n",
        "for i in range(11):\n",
        " numeroinserito = int(input(\"inserire un numero: \" ))\n",
        " numeriInteri.append(numeroinserito)\n",
        " \n",
        " #  set()  ------>  elimina i duplicati\n",
        "setnumeriInteri = set(numeriInteri)\n",
        "print(setnumeriInteri)"
      ],
      "execution_count": 32,
      "outputs": [
        {
          "output_type": "stream",
          "name": "stdout",
          "text": [
            "inserire il primo numero: 3\n",
            "inserire il primo numero: 4\n",
            "inserire il primo numero: 5\n",
            "inserire il primo numero: 3\n",
            "inserire il primo numero: 1\n",
            "inserire il primo numero: 9\n",
            "inserire il primo numero: 7\n",
            "inserire il primo numero: 8\n",
            "inserire il primo numero: 6\n",
            "inserire il primo numero: 5\n",
            "inserire il primo numero: 4\n",
            "{1, 3, 4, 5, 6, 7, 8, 9}\n"
          ]
        }
      ]
    }
  ]
}