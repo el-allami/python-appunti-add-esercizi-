{
  "nbformat": 4,
  "nbformat_minor": 0,
  "metadata": {
    "colab": {
      "name": "correzionefilaA.ipynb",
      "provenance": [],
      "collapsed_sections": []
    },
    "kernelspec": {
      "name": "python3",
      "display_name": "Python 3"
    },
    "language_info": {
      "name": "python"
    }
  },
  "cells": [
    {
      "cell_type": "markdown",
      "metadata": {
        "id": "LnzcBjmrzrEz"
      },
      "source": [
        "1. scrivere un programma che calcoli la somma di due frazioni. L’utente deve inserire il numeratore e il denominatore della prima frazione e poi numeratore e denominatore della seconda frazione e il programma calcola la somma.\n"
      ]
    },
    {
      "cell_type": "code",
      "metadata": {
        "colab": {
          "base_uri": "https://localhost:8080/"
        },
        "id": "0A1BlgtTznjR",
        "outputId": "53c85156-edeb-4cc6-e881-c730cb52b9f3"
      },
      "source": [
        "n1 = int(input(\"scrivere n1 \"))\n",
        "d1 = int(input(\"scrivere d1 \"))\n",
        "n2 = int(input(\"scrivere n2 \"))\n",
        "d2 = int(input(\"scrivere d2 \"))\n",
        "\n",
        "print(str(n1 * d2 + n2 * d1) + '/' + str(d1 * d2))"
      ],
      "execution_count": null,
      "outputs": [
        {
          "output_type": "stream",
          "name": "stdout",
          "text": [
            "scrivere n1 1\n",
            "scrivere d1 2\n",
            "scrivere n2 1\n",
            "scrivere d2 3\n",
            "5/6\n"
          ]
        }
      ]
    },
    {
      "cell_type": "markdown",
      "metadata": {
        "id": "dGvSI-a92Tbq"
      },
      "source": [
        "2. scrivere un programma che permetta di verificare se un orario è scritto correttamente. Un orario è scritto correttamente se è formato da 5 caratteri di cui il terzo è il carattere : . Ad esempio 13:45 è scritto correttamente 123:4 non è scritto correttamente.\n"
      ]
    },
    {
      "cell_type": "code",
      "metadata": {
        "id": "7AtuQppW2V4i"
      },
      "source": [
        "orario = input(\"inserisci l'orario \")\n",
        "\n",
        "if len(orario) == 5:\n",
        "  if orario[2] == ':':\n",
        "    print(\"orario corretto\")\n",
        "  else:\n",
        "    print(\"orario scorretto\")\n",
        "else:\n",
        "  print(\"orario scritto scorrettamente\")"
      ],
      "execution_count": null,
      "outputs": []
    },
    {
      "cell_type": "markdown",
      "metadata": {
        "id": "ZLMzXpVU6CWZ"
      },
      "source": [
        "3. scrivere un programma che visualizzi le prime dieci potenze di un numero inserito dall’utente. Ad esempio se l’utente inserisse 2 il programma dovrebbe visualizzare i valori 1, 2, 4, 8, 16, 32, 64, 128, 256 e 512. Separare i valori con il trattino -\n"
      ]
    },
    {
      "cell_type": "code",
      "metadata": {
        "colab": {
          "base_uri": "https://localhost:8080/"
        },
        "id": "zYIR1len6FY4",
        "outputId": "2105623d-deb9-44f4-cb5f-65e3b1dfa61e"
      },
      "source": [
        "numero = int(input(\"inserire numero: \"))\n",
        "\n",
        "for i in range(0, 10):\n",
        "  print(numero**i)"
      ],
      "execution_count": null,
      "outputs": [
        {
          "output_type": "stream",
          "name": "stdout",
          "text": [
            "inserire numero: 2\n",
            "1\n",
            "-\n",
            "2\n",
            "-\n",
            "4\n",
            "-\n",
            "8\n",
            "-\n",
            "16\n",
            "-\n",
            "32\n",
            "-\n",
            "64\n",
            "-\n",
            "128\n",
            "-\n",
            "256\n",
            "-\n",
            "512\n",
            "-\n"
          ]
        }
      ]
    },
    {
      "cell_type": "markdown",
      "metadata": {
        "id": "PS8hewww7PzK"
      },
      "source": [
        "4. scrivere un programma che carichi in una lista le prime venti potenze di un numero inserito dall’utente. Al termine visualizzare gli ultimi tre elementi della lista.\n"
      ]
    },
    {
      "cell_type": "code",
      "metadata": {
        "colab": {
          "base_uri": "https://localhost:8080/"
        },
        "id": "lIxp2A2v7Sxo",
        "outputId": "afd28d8c-18fb-4e10-8e51-fc1955133081"
      },
      "source": [
        "numero = int(input(\"inserire numero: \"))\n",
        "potenze = []\n",
        "\n",
        "for i in range(0, 21):\n",
        "  potenze.append(numero**i)\n",
        "\n",
        "print(potenze[-3:])"
      ],
      "execution_count": null,
      "outputs": [
        {
          "output_type": "stream",
          "name": "stdout",
          "text": [
            "inserire numero: 2\n",
            "[262144, 524288, 1048576]\n"
          ]
        }
      ]
    },
    {
      "cell_type": "code",
      "metadata": {
        "colab": {
          "base_uri": "https://localhost:8080/"
        },
        "id": "Qc8Qg0958j-X",
        "outputId": "7423f5c8-91e5-42c8-a739-c3495a690ee0"
      },
      "source": [
        "\n",
        "#####     CON LA LIST COMPREHENSION       #####\n",
        "\n",
        "numero = int(input(\"inserire numero: \"))\n",
        "potenze = [numero**i for i in range(0,21)]\n",
        "\n",
        "print(potenze[-3:])"
      ],
      "execution_count": null,
      "outputs": [
        {
          "output_type": "stream",
          "name": "stdout",
          "text": [
            "inserire numero: 2\n",
            "[262144, 524288, 1048576]\n"
          ]
        }
      ]
    },
    {
      "cell_type": "markdown",
      "metadata": {
        "id": "3oPL-Rbx9lBH"
      },
      "source": [
        "5. scrivere un programma che elimini dalla lista precedente tutti i numeri compresi tra due estremi inseriti dall’utente. Visualizzare al termine la lista modificata\n"
      ]
    },
    {
      "cell_type": "code",
      "metadata": {
        "id": "TDtrZszM9nqP"
      },
      "source": [
        "numero = int(input(\"inserire numero: \"))\n",
        "potenze = [numero**i for i in range(0,21)]\n",
        "\n",
        "estremo1 = int(input(\"inserisci primo estremo \"))\n",
        "estremo2 = int(input(\"inserisci secondo estremo \"))\n",
        "\n",
        "print(potenze)\n",
        "\n",
        "for i in range(0, 21):\n",
        "  if estremo1 < potenze[i] < estremo2:\n",
        "    potenze.remove(potenze[i])\n",
        "    \n",
        "print(potenze)\n",
        "\n",
        "\n",
        "#### incompleto ####\n"
      ],
      "execution_count": null,
      "outputs": []
    },
    {
      "cell_type": "markdown",
      "metadata": {
        "id": "tLdmdLqtEh9E"
      },
      "source": [
        "6. scrivere una funzione chiamata prodotto che data una lista di numeri interi restituisca il prodotto di tutti i suoi elementi. Ad esempio se la lista fosse [2, 5, 3] la funzione restituirebbe 30\n"
      ]
    },
    {
      "cell_type": "code",
      "metadata": {
        "colab": {
          "base_uri": "https://localhost:8080/"
        },
        "id": "Mbb87tAaElSH",
        "outputId": "c34d0785-59fe-43df-f931-6576b28b99b6"
      },
      "source": [
        "\n",
        "#####      FUNZIONE CHE RESTTITUISCE IL PRODOTTO DI TUTTI GLI ELEMENTI DI UNA LISTA       #####\n",
        "\n",
        "def prodotto(L):\n",
        "  totale = 1\n",
        "  for e in L:\n",
        "    totale *= e\n",
        "  return totale\n",
        "\n",
        "lista = [int(ele) for ele in input(\"inserire numeri: \").split()]\n",
        "\n",
        "print(prodotto(lista))"
      ],
      "execution_count": null,
      "outputs": [
        {
          "output_type": "stream",
          "name": "stdout",
          "text": [
            "inserire numeri: 2 4 6 8 99 555\n",
            "21098880\n"
          ]
        }
      ]
    },
    {
      "cell_type": "markdown",
      "metadata": {
        "id": "DjHYBOu2HOTU"
      },
      "source": [
        "7. scrivere un programma che permetta di caricare in una struttura dati opportuna i nomi delle nazioni che compongono l’Unione Europea, le loro capitali e la popolazione (inserire solo tre nazioni). Visualizzare poi i dati di una nazione inserita dall’utente\n"
      ]
    },
    {
      "cell_type": "code",
      "metadata": {
        "id": "5VCJ6qstHR48",
        "colab": {
          "base_uri": "https://localhost:8080/"
        },
        "outputId": "adcce4a0-16c6-4c58-cd7b-ddb339e69716"
      },
      "source": [
        "unioneEuropea = [{'nome' : 'Italia','capitale' : 'Roma', 'popolazione' : 60000000},\n",
        "                 {'nome' : 'Francia','capitale' : 'Parigi', 'popolazione' : 58000000},\n",
        "                 {'nome' : 'Germania','capitale' : 'Berlino', 'popolazione' : 80000000}]\n",
        "\n",
        "nazione = input(\"inserire una nazione \")\n",
        "\n",
        "for r in unioneEuropea:\n",
        "  if r['nome'] == nazione:\n",
        "    print(\"il suo capoluogo è: \" , r['capitale'], \" ;\" , \" e la sua popolazione è: \" , r['popolazione'])"
      ],
      "execution_count": null,
      "outputs": [
        {
          "output_type": "stream",
          "name": "stdout",
          "text": [
            "inserire una nazione Italia\n",
            "il suo capoluogo è:  Roma  ;  e la sua popolazione è:  60000000\n"
          ]
        }
      ]
    },
    {
      "cell_type": "markdown",
      "metadata": {
        "id": "HcRmJv2jJtcD"
      },
      "source": [
        "8. scrivere un programma che, utilizzando una lambda function e la funzione map, elevi alla terza tutti gli elementi della lista. La lista deve essere caricata dall’utente.\n"
      ]
    },
    {
      "cell_type": "code",
      "metadata": {
        "colab": {
          "base_uri": "https://localhost:8080/"
        },
        "id": "FOQNLCQHJys6",
        "outputId": "a19f4e09-ec44-4212-da2d-43ff377e1443"
      },
      "source": [
        "lista = [int(ele) for ele in input(\"inserire numeri: \").split()]\n",
        "\n",
        "listafinale = list(map(lambda x: x**3, lista))\n",
        "\n",
        "print(listafinale)"
      ],
      "execution_count": null,
      "outputs": [
        {
          "output_type": "stream",
          "name": "stdout",
          "text": [
            "inserire numeri: 1 7 12 4\n",
            "[1, 343, 1728, 64]\n"
          ]
        }
      ]
    },
    {
      "cell_type": "markdown",
      "metadata": {
        "id": "ufp8lGoTKjER"
      },
      "source": [
        "9. scrivere una funzione che calcoli in modo ricorsivo il prodotto tra due numeri.\n"
      ]
    },
    {
      "cell_type": "code",
      "metadata": {
        "colab": {
          "base_uri": "https://localhost:8080/"
        },
        "id": "fU-mTsU3Kilq",
        "outputId": "41994627-8eef-422e-cf7e-9071ecc6d7ed"
      },
      "source": [
        "def prodotto2(f1, f2):\n",
        "  if f2 == 1:\n",
        "    return f1\n",
        "  else:\n",
        "    return f1 + prodotto2(f1, f2-1)\n",
        "\n",
        "prodotto2(5,4)"
      ],
      "execution_count": null,
      "outputs": [
        {
          "output_type": "execute_result",
          "data": {
            "text/plain": [
              "20"
            ]
          },
          "metadata": {},
          "execution_count": 30
        }
      ]
    }
  ]
}