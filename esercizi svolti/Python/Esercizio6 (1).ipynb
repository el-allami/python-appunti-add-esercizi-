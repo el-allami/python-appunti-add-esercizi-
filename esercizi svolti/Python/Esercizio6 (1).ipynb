{
  "nbformat": 4,
  "nbformat_minor": 0,
  "metadata": {
    "colab": {
      "name": "Esercizio6.ipynb",
      "provenance": [],
      "collapsed_sections": []
    },
    "kernelspec": {
      "name": "python3",
      "display_name": "Python 3"
    },
    "language_info": {
      "name": "python"
    }
  },
  "cells": [
    {
      "cell_type": "markdown",
      "metadata": {
        "id": "CgPZtgWp-V4_"
      },
      "source": [
        "1. scrivere una funzione chiamata sommaTutti che permetta di sommare un numero arbitrario di valori interi passati come parametri. Scrivere poi un programma che permetta all'utente di inserire un numero variabile di interi e visualizzi la somma."
      ]
    },
    {
      "cell_type": "code",
      "metadata": {
        "colab": {
          "base_uri": "https://localhost:8080/"
        },
        "id": "xToD0Z-d-Q4N",
        "outputId": "83d40638-8748-47e9-b3a2-5795caff16b3"
      },
      "source": [
        "def sommaTutti(valore):\n",
        "  numsommati = 0\n",
        "  for i in valore:\n",
        "    numsommati += i\n",
        "  return numsommati\n",
        "\n",
        "\n",
        "numeri = [int(elementi) for elementi in input(\"inserire numeri da sommare: \").split()]\n",
        "print(sommaTutti(numeri))"
      ],
      "execution_count": null,
      "outputs": [
        {
          "output_type": "stream",
          "name": "stdout",
          "text": [
            "inserire numeri da sommare: 3 5 6\n",
            "14\n"
          ]
        }
      ]
    },
    {
      "cell_type": "markdown",
      "metadata": {
        "id": "UjYK9W8DAqsW"
      },
      "source": [
        "2. scrivere una lambda function che calcoli la lunghezza della circonferenza di un cerchio dato il raggio. Utilizzarla poi in un programma che chieda all'utente il valore del raggio e visualizzi la lunghezza della circonferenza"
      ]
    },
    {
      "cell_type": "code",
      "metadata": {
        "colab": {
          "base_uri": "https://localhost:8080/"
        },
        "id": "XO5gBaQTAs2l",
        "outputId": "daf41e24-e3ee-4111-b800-9394cc410f9a"
      },
      "source": [
        "circonferenza = lambda x: 2 * 3.1415926535 * x\n",
        "\n",
        "circonferenza(int(input(\"inserire il raggio: \")))"
      ],
      "execution_count": null,
      "outputs": [
        {
          "name": "stdout",
          "output_type": "stream",
          "text": [
            "inserire il raggio: 4\n"
          ]
        },
        {
          "output_type": "execute_result",
          "data": {
            "text/plain": [
              "25.132741228"
            ]
          },
          "metadata": {},
          "execution_count": 14
        }
      ]
    },
    {
      "cell_type": "markdown",
      "metadata": {
        "id": "8JeFLMvKBjwd"
      },
      "source": [
        "3. scrivere una funzione che calcoli il quadrato di un numero. Scrivere poi una funzione che calcoli la radice quadrata della somma di due numeri. Scrivere poi una lambda function che date le lunghezze di due cateti di un triangolo calcoli l'ipotenusa utilizzando le funzioni definite precedentemente. Utilizzare quest'ultima funzione in un programma che permetta all'utente di inserire le lunghezze dei cateti e di avere in risposta la lunghezza dell'ipotenusa di un triangolo rettangolo"
      ]
    },
    {
      "cell_type": "code",
      "metadata": {
        "colab": {
          "base_uri": "https://localhost:8080/"
        },
        "id": "L7KyAlaABl19",
        "outputId": "ce6375a5-0489-4a41-e3ba-08d6a5a01b79"
      },
      "source": [
        "def calcolatore(quadrato):\n",
        "  risultato = pow(quadrato, 2)\n",
        "  return risultato\n",
        "\n",
        "\n",
        "def calcRadice(primonum, secondonum):\n",
        "  risultato2 =pow(primonum + secondonum, 1/2)\n",
        "  return risultato2\n",
        "\n",
        "ipotenusa = lambda primocateto, secondocateto: calcolatore(primocateto) + calcolatore(secondocateto)\n",
        "cat1 = int(input(\"inserire il primo cateto: \"))\n",
        "cat2 = int(input(\"inserire il secondo cateto: \"))\n",
        "ipotenusa(cat1,cat2)"
      ],
      "execution_count": null,
      "outputs": [
        {
          "name": "stdout",
          "output_type": "stream",
          "text": [
            "inserire il primo cateto: 5\n",
            "inserire il secondo cateto: 3\n"
          ]
        },
        {
          "output_type": "execute_result",
          "data": {
            "text/plain": [
              "34"
            ]
          },
          "metadata": {},
          "execution_count": 13
        }
      ]
    },
    {
      "cell_type": "markdown",
      "metadata": {
        "id": "8G5QZPmjFq1V"
      },
      "source": [
        "4. Scrivere le funzioni quadrato, cubo e radiceQuadrata che calcolano il quadrato, il cubo e la radice quadrata di un numero intero. Scrivere poi un programma che, utilizzando un ciclo for, richiami le tre funzioni su un valore intero inserito dall'utente e visualizzi i tre risultati."
      ]
    },
    {
      "cell_type": "code",
      "metadata": {
        "id": "dwIv6wdsFsvt",
        "colab": {
          "base_uri": "https://localhost:8080/"
        },
        "outputId": "efeb89cc-a4f2-41a5-b6ec-b6b36c6aee02"
      },
      "source": [
        "def quadrato(quadrato):\n",
        "  risultato = pow(quadrato, 2)\n",
        "  return risultato\n",
        "\n",
        "def cubo(cubo):\n",
        "  res = pow(cubo, 3)\n",
        "  return res\n",
        "\n",
        "def radiceQuadrata(primonum):\n",
        "  res2 =pow(primonum, 1/2)\n",
        "  return res2\n",
        "\n",
        "numdautente = int(input(\"inserire un numero: \"))\n",
        "for i in range(0,1):\n",
        "  print(\"il quadrato del numero inserito e \", quadrato(numdautente))\n",
        "  print(\"il cubo del numero inserito e \",cubo(numdautente))\n",
        "  print(\"la radiceQuadrata del numero inserito e \",radiceQuadrata(numdautente))"
      ],
      "execution_count": null,
      "outputs": [
        {
          "output_type": "stream",
          "name": "stdout",
          "text": [
            "inserire un numero: 5\n",
            "il quadrato del numero inserito e  25\n",
            "il cubo del numero inserito e  125\n",
            "la radiceQuadrata del numero inserito e  2.23606797749979\n"
          ]
        }
      ]
    },
    {
      "cell_type": "markdown",
      "metadata": {
        "id": "ClVZ3xRwDRB8"
      },
      "source": [
        "5. Utilizzando una lambda function, scrivere un programma che data una lista di numeri interi inserita dall'utente carichi in altre due liste i quadrati e i cubi dei numeri presenti nella lista inserita. Al termine, visualizzare le due liste."
      ]
    },
    {
      "cell_type": "code",
      "metadata": {
        "colab": {
          "base_uri": "https://localhost:8080/"
        },
        "id": "T6KRaP3lDZJs",
        "outputId": "17a5e352-1a15-4be5-e6da-18a2002d6eb8"
      },
      "source": [
        "def quadrato(quadrato):\n",
        "  risultato = pow(quadrato, 2)\n",
        "  return risultato\n",
        "\n",
        "def cubo(cubo):\n",
        "  res = pow(cubo, 3)\n",
        "  return res\n",
        "\n",
        "numeri = [int(elementi) for elementi in input(\"inserire numeri da sommare: \").split()]\n",
        "\n",
        "\n",
        "quad = list(map(lambda x: quadrato(x), numeri))\n",
        "cubee = list(map(lambda x: cubo(x), numeri))\n",
        "\n",
        "print(quad)\n",
        "print(cubee)"
      ],
      "execution_count": null,
      "outputs": [
        {
          "output_type": "stream",
          "name": "stdout",
          "text": [
            "inserire numeri da sommare: 2 3\n",
            "[4, 9]\n",
            "[8, 27]\n"
          ]
        }
      ]
    },
    {
      "cell_type": "markdown",
      "metadata": {
        "id": "M3C743b2KSY_"
      },
      "source": [
        "6. Utilizzando una lambda function, scrivere un programma che data una lista di numeri interi inserita dall'utente carichi in altre due liste i numeri pari e i numeri dispari presenti nella lista inserita. Al termine, visualizzare le due liste."
      ]
    },
    {
      "cell_type": "code",
      "metadata": {
        "colab": {
          "base_uri": "https://localhost:8080/"
        },
        "id": "iVmwHaqINVsO",
        "outputId": "b8d20c3f-b32e-4abf-d85d-f8b450f188bc"
      },
      "source": [
        "numeri = [int(elementi) for elementi in input(\"inserire dei numeri: \").split()]\n",
        "\n",
        "numpari = list(filter(lambda x: (x%2 == 0) , numeri))\n",
        "numdispari = list(filter(lambda x: (x%2 != 0) , numeri))\n",
        "print(numpari)\n",
        "print(numdispari)"
      ],
      "execution_count": null,
      "outputs": [
        {
          "output_type": "stream",
          "name": "stdout",
          "text": [
            "inserire dei numeri: 1 2 3 4 5 6 7 8 9 10\n",
            "[2, 4, 6, 8, 10]\n",
            "[1, 3, 5, 7, 9]\n"
          ]
        }
      ]
    },
    {
      "cell_type": "markdown",
      "metadata": {
        "id": "Ww4dOyadTE7E"
      },
      "source": [
        "7. Cercare su internet che cosa si intende per fattoriale di un numero. \n",
        "Scrivere poi una funzione ricorsiva che calcoli il fattoriale di un numero. Utilizzare poi la funzione creata per scrivere un programma che permetta all'utente di inserire un numero intero e che visualizzi il fattoriale di quel numero."
      ]
    },
    {
      "cell_type": "code",
      "metadata": {
        "colab": {
          "base_uri": "https://localhost:8080/"
        },
        "id": "1Gu95PT4T6Tk",
        "outputId": "a1a7d5ee-d82d-44dc-8978-591c5b00ec85"
      },
      "source": [
        "# il fattoriale di un numero è il prodotto che otteniamo moltiplicando tale numero per tutti i numeri (interi e positivi, cioè maggiori di zero) che sono minori del numero stesso.\n",
        "\n",
        "numerodautente = int(input(\"inserire un numero: \"))\n",
        "\n",
        "fattoriale = lambda n: 1 if n == 0 else n * fattoriale(n-1)\n",
        "fattoriale(numerodautente)"
      ],
      "execution_count": null,
      "outputs": [
        {
          "name": "stdout",
          "output_type": "stream",
          "text": [
            "inserire un numero: 4\n"
          ]
        },
        {
          "output_type": "execute_result",
          "data": {
            "text/plain": [
              "24"
            ]
          },
          "metadata": {},
          "execution_count": 66
        }
      ]
    },
    {
      "cell_type": "markdown",
      "metadata": {
        "id": "AAezKVTdV51U"
      },
      "source": [
        "8. Svolgere l'esercizio 7, senza ricorsione"
      ]
    },
    {
      "cell_type": "code",
      "metadata": {
        "colab": {
          "base_uri": "https://localhost:8080/"
        },
        "id": "7o6u1E_gV8bb",
        "outputId": "ba179193-20b2-47d5-d4bc-0bd185be5e69"
      },
      "source": [
        "numerodautente = int(input(\"inserire un numero: \"))\n",
        "\n",
        "def fattoriale(valore):\n",
        "  if valore == 0:\n",
        "    return 1\n",
        "  else:\n",
        "    return valore * fattoriale(valore - 1)\n",
        "\n",
        "fattoriale(numerodautente)\n",
        "\n",
        "# non penso che rispetta la consegna\n"
      ],
      "execution_count": null,
      "outputs": [
        {
          "name": "stdout",
          "output_type": "stream",
          "text": [
            "inserire un numero: 4\n"
          ]
        },
        {
          "output_type": "execute_result",
          "data": {
            "text/plain": [
              "24"
            ]
          },
          "metadata": {},
          "execution_count": 65
        }
      ]
    },
    {
      "cell_type": "markdown",
      "metadata": {
        "id": "TrOEP8R1ZKcs"
      },
      "source": [
        "9. Cercare su internet che cosa sono i numeri di Fibonacci. Scrivere poi una funzione ricorsiva che calcoli l'n-esimo numero della sequenza di Fibonacci. Utilizzare poi la funzione creata per scrivere un programma che permetta all'utente di inserire un numero intero e che visualizzi il numero della sequenza di Fibonacci corrispondente."
      ]
    },
    {
      "cell_type": "code",
      "metadata": {
        "id": "PyxyaF7TZNKr",
        "colab": {
          "base_uri": "https://localhost:8080/"
        },
        "outputId": "ed56ca6a-82c9-4e59-9071-d31d80622958"
      },
      "source": [
        "#La serie di Fibonacci è una successione di numeri interi i cui primi due elementi sono 1 e 1, e ciascun altro elemento è uguale alla somma dei due termini precedenti.\n",
        "\n",
        "numerodautente = int(input(\"inserire un numero: \"))\n",
        "\n",
        "def fib(num):\n",
        "  if num in {0, 1}:  # Base case\n",
        "        return num\n",
        "  return fib(num - 1) + fib(num - 2)\n",
        "\n",
        "fib(numerodautente)"
      ],
      "execution_count": null,
      "outputs": [
        {
          "name": "stdout",
          "output_type": "stream",
          "text": [
            "inserire un numero: 10\n"
          ]
        },
        {
          "output_type": "execute_result",
          "data": {
            "text/plain": [
              "55"
            ]
          },
          "metadata": {},
          "execution_count": 7
        }
      ]
    }
  ]
}