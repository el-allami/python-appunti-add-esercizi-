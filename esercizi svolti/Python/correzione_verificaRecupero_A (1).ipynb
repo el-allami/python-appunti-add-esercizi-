{
  "nbformat": 4,
  "nbformat_minor": 0,
  "metadata": {
    "colab": {
      "name": "correzione_verificaRecupero_A.ipynb",
      "provenance": [],
      "collapsed_sections": []
    },
    "kernelspec": {
      "name": "python3",
      "display_name": "Python 3"
    },
    "language_info": {
      "name": "python"
    }
  },
  "cells": [
    {
      "cell_type": "markdown",
      "metadata": {
        "id": "GfxzZZscBbY_"
      },
      "source": [
        "scrivere un programma che calcoli il volume di un parallelepipedo data la base, l’altezza e la profondità. I valori inseriti possono essere decimali e il risultato deve essere fornito con due cifre decimali. I valori della base, dell’altezza e della profondità devono essere inseriti dall’utente"
      ]
    },
    {
      "cell_type": "code",
      "metadata": {
        "id": "RlG7XsPwBU2i"
      },
      "source": [
        "base = float(input(\"base: \"))\n",
        "altezza = float(input(\"altezza: \"))\n",
        "profondita = float(input(\"profondita: \"))\n",
        "\n",
        "volume = base * altezza * profondita\n",
        "\n",
        "print(volume)"
      ],
      "execution_count": null,
      "outputs": []
    },
    {
      "cell_type": "markdown",
      "metadata": {
        "id": "dwCU013xBhUF"
      },
      "source": [
        "modificare il programma precedente in modo che prima di effettuare il calcolo controlli che i valori inseriti dall’utente siano positivi. Visualizzare gli opportuni messaggi di errore a seconda del verificarsi delle diverse condizioni\n"
      ]
    },
    {
      "cell_type": "code",
      "metadata": {
        "id": "moE17cVkBjQT"
      },
      "source": [
        "base = float(input(\"base: \"))\n",
        "altezza = float(input(\"altezza: \"))\n",
        "profondita = float(input(\"profondita: \"))\n",
        "\n",
        "if '-' in str(base) and '-' in str(altezza) and '-' in str(profondita):\n",
        "  print(\"un dato o piu dati sono negativi\")\n",
        "else:\n",
        "  volume = base * altezza * profondita\n",
        "  print(volume)"
      ],
      "execution_count": null,
      "outputs": []
    },
    {
      "cell_type": "code",
      "metadata": {
        "id": "OX-L9FZbBlg0"
      },
      "source": [
        "base = float(input(\"base: \"))\n",
        "\n",
        "\n",
        "if base < 0:\n",
        "  print(\"e negativo\")\n",
        "else:\n",
        "  altezza = float(input(\"altezza: \"))\n",
        "  if altezza < 0:\n",
        "     profondita = float(input(\"profondita: \"))\n",
        "  else:\n",
        "    print(\"e negativo\")\n",
        "    if profondita < 0:\n",
        "      volume = base * altezza * profondita\n",
        "      print(volume)\n",
        "    else:\n",
        "      print(\"e negativo\")\n",
        "\n",
        "      ###### sbagliato\n",
        "\n",
        "\n",
        "\n",
        "      ###### gli if nidificati sono usati per controllare se il valore inserito e giusto, se sbagliato termina l'esecuzione"
      ],
      "execution_count": null,
      "outputs": []
    },
    {
      "cell_type": "markdown",
      "metadata": {
        "id": "0gozC7PgBn61"
      },
      "source": [
        "scrivere un programma che permetta di visualizzare tutti i quadrati perfetti minori di un numero intero inserito dall’utente. I quadrati perfetti sono numeri interi che possono essere espressi come il quadrato di un numero intero. Ad esempio 9 è un quadrato perfetto perché è il quadrato del numero intero 3 mentre 8 non è un quadrato perfetto perché non è il quadrato di nessun numero intero)"
      ]
    },
    {
      "cell_type": "code",
      "metadata": {
        "id": "fsH0jAk3BqMc"
      },
      "source": [
        "quadratiperfetti = []\n",
        "num = int(input(\"inserire numero: \"))\n",
        "i = 1\n",
        "while i**2 < num:\n",
        "  print(i**2)\n",
        "  i += 1"
      ],
      "execution_count": null,
      "outputs": []
    },
    {
      "cell_type": "markdown",
      "metadata": {
        "id": "nbC5g_jhBxjO"
      },
      "source": [
        "scrivere un programma che inserisca in una lista tutti i numeri interi compresi tra due estremi forniti dall’utente. Al termine, visualizzare la lista dei numeri e la lista al contrario"
      ]
    },
    {
      "cell_type": "code",
      "metadata": {
        "id": "_W8_O56QBzJV"
      },
      "source": [
        "val1 = int(input(\"inserire lo estremo inferiore \"))\n",
        "val2 = int(input(\"inserire lo estremo superiore \"))\n",
        "\n",
        "lista = [int(ele) for ele in range(val1 + 1, val2)]    #### MODO MIGLIORE\n",
        "print(lista)\n",
        "\n",
        "print(sorted(lista, reverse = True))    "
      ],
      "execution_count": null,
      "outputs": []
    },
    {
      "cell_type": "markdown",
      "metadata": {
        "id": "TOtvu38fB08F"
      },
      "source": [
        "scrivere un programma che carichi in una lista chiamata “tutti” i numeri pari compresi tra -30 e +30. Usando poi lo slicing, caricare in una lista chiamata “negativi” gli elementi della lista “tutti” minori di 0 e in una chiamata “positivi” gli elementi della lista “tutti” maggiori di zero. Al termine visualizzare le tre liste.."
      ]
    },
    {
      "cell_type": "code",
      "metadata": {
        "id": "Dhf1b8mYB20m"
      },
      "source": [
        "lista = [int(ele) for ele in range(-30, 32, 2)]\n",
        "print(lista)\n",
        "negativo = lista[:15]\n",
        "positivo = lista[16:]\n",
        "print(negativo)\n",
        "print(positivo)"
      ],
      "execution_count": null,
      "outputs": []
    },
    {
      "cell_type": "markdown",
      "metadata": {
        "id": "f2ytbhE-B4y1"
      },
      "source": [
        "scrivere una funzione chiamata volumeSfera che dato il raggio in metri di una sfera calcoli il suo volume. Utilizzare poi quella funzione per scrivere un’altra funzione chiamata pesoSfera che permetta di calcolare il peso di una sfera dato il suo raggio in metri e la sua densità, espressa in grammi al centimetro cubo. Infine, scrivere un programma che calcoli il peso di una sfera di piombo del raggio di un metro (la densità del piombo è di 11.34 g/cm3)"
      ]
    },
    {
      "cell_type": "code",
      "metadata": {
        "id": "LvIYrr_UB71V",
        "colab": {
          "base_uri": "https://localhost:8080/"
        },
        "outputId": "403b2862-0dec-4d7a-c8af-af8f8df45749"
      },
      "source": [
        "import math\n",
        "def volumeSfera(R):\n",
        "  return 4/3 * math.pi * R**2\n",
        "\n",
        "def pesoSfera(R,D):\n",
        "  return volumeSfera(R) * D\n",
        "\n",
        "raggio= 1\n",
        "densita = 11.34\n",
        "\n",
        "print(pesoSfera(raggio, densita*1000), \"kg/m2\")"
      ],
      "execution_count": null,
      "outputs": [
        {
          "output_type": "stream",
          "name": "stdout",
          "text": [
            "47500.88092227767 kg/m2\n"
          ]
        }
      ]
    },
    {
      "cell_type": "markdown",
      "metadata": {
        "id": "2m4v_qc2B-gG"
      },
      "source": [
        "data una lista di 100 numeri pari casuali caricata tramite una list comprehension, sostituire ogni elemento con il suo quadrato"
      ]
    },
    {
      "cell_type": "code",
      "metadata": {
        "colab": {
          "base_uri": "https://localhost:8080/"
        },
        "id": "Go4OoJ4FCBON",
        "outputId": "883a6ad3-1214-4020-f573-9d46a51678ba"
      },
      "source": [
        "lista = [int(ele) for ele in range(0, 202, 2)]\n",
        "lista2 = []\n",
        "\n",
        "for i in lista:\n",
        "  lista2.append(i**2)\n",
        "print(lista)\n",
        "print(lista2)"
      ],
      "execution_count": null,
      "outputs": [
        {
          "output_type": "stream",
          "name": "stdout",
          "text": [
            "[0, 2, 4, 6, 8, 10, 12, 14, 16, 18, 20, 22, 24, 26, 28, 30, 32, 34, 36, 38, 40, 42, 44, 46, 48, 50, 52, 54, 56, 58, 60, 62, 64, 66, 68, 70, 72, 74, 76, 78, 80, 82, 84, 86, 88, 90, 92, 94, 96, 98, 100, 102, 104, 106, 108, 110, 112, 114, 116, 118, 120, 122, 124, 126, 128, 130, 132, 134, 136, 138, 140, 142, 144, 146, 148, 150, 152, 154, 156, 158, 160, 162, 164, 166, 168, 170, 172, 174, 176, 178, 180, 182, 184, 186, 188, 190, 192, 194, 196, 198, 200]\n",
            "[0, 4, 16, 36, 64, 100, 144, 196, 256, 324, 400, 484, 576, 676, 784, 900, 1024, 1156, 1296, 1444, 1600, 1764, 1936, 2116, 2304, 2500, 2704, 2916, 3136, 3364, 3600, 3844, 4096, 4356, 4624, 4900, 5184, 5476, 5776, 6084, 6400, 6724, 7056, 7396, 7744, 8100, 8464, 8836, 9216, 9604, 10000, 10404, 10816, 11236, 11664, 12100, 12544, 12996, 13456, 13924, 14400, 14884, 15376, 15876, 16384, 16900, 17424, 17956, 18496, 19044, 19600, 20164, 20736, 21316, 21904, 22500, 23104, 23716, 24336, 24964, 25600, 26244, 26896, 27556, 28224, 28900, 29584, 30276, 30976, 31684, 32400, 33124, 33856, 34596, 35344, 36100, 36864, 37636, 38416, 39204, 40000]\n"
          ]
        }
      ]
    },
    {
      "cell_type": "markdown",
      "metadata": {
        "id": "5oFybaR8Fl2d"
      },
      "source": [
        "data una lista di 100 numeri pari casuali caricata tramite una list comprehension, eliminare tutti gli elementi della lista che sono multipli di 6"
      ]
    },
    {
      "cell_type": "code",
      "metadata": {
        "colab": {
          "base_uri": "https://localhost:8080/"
        },
        "id": "4T9jpHuVFohm",
        "outputId": "a22bce57-0913-45ad-8212-0c748855d050"
      },
      "source": [
        "lista = [int(ele) for ele in range(0, 202, 2)]\n",
        "\n",
        "for i in lista:\n",
        "  if i % 6 == 0:\n",
        "    lista.remove(i)\n",
        "\n",
        "print(lista)"
      ],
      "execution_count": null,
      "outputs": [
        {
          "output_type": "stream",
          "name": "stdout",
          "text": [
            "[2, 4, 8, 10, 14, 16, 20, 22, 26, 28, 32, 34, 38, 40, 44, 46, 50, 52, 56, 58, 62, 64, 68, 70, 74, 76, 80, 82, 86, 88, 92, 94, 98, 100, 104, 106, 110, 112, 116, 118, 122, 124, 128, 130, 134, 136, 140, 142, 146, 148, 152, 154, 158, 160, 164, 166, 170, 172, 176, 178, 182, 184, 188, 190, 194, 196, 200]\n"
          ]
        }
      ]
    },
    {
      "cell_type": "markdown",
      "metadata": {
        "id": "mgD78puTGOHz"
      },
      "source": [
        "progettare una struttura dati che permetta di memorizzare l’orario di partenza e di arrivo dei treni della tratta Milano Roma dell’alta velocità. Ad esempio il treno 9645 parte alle 16.00 e arriva alle 19.10, il treno 9647 parte alle 16.30 e arriva alle 19.40 a Roma. Memorizzare nella struttura dati progettata queste informazioni e scrivere il codice necessario per cercare un treno ed avere l’ora di partenza e l’ora di arrivo. Se non c’è il treno che l’utente inserisce, dare un opportuno messaggio di errore."
      ]
    },
    {
      "cell_type": "code",
      "metadata": {
        "colab": {
          "base_uri": "https://localhost:8080/"
        },
        "id": "fv0pRLRtGQTF",
        "outputId": "2823e2d9-3996-40d6-9764-cf524937b888"
      },
      "source": [
        "orari = [{\"treno\" : \"9645\", \"partenza\" : \"16.00\", \"arrivo\" : \"19.10\"},\n",
        "         {\"treno\" : \"9647\", \"partenza\" : \"16.30\", \"arrivo\" : \"19.40\"}]\n",
        "\n",
        "treno = input(\"inserire il numero del treno: \")\n",
        "\n",
        "for i in orari:\n",
        "  if i[\"treno\"] == treno:\n",
        "    print(\"il treno\", i[\"treno\"], \"parte da milano alle\", i[\"partenza\"], \"e arrive a roma alle\", i[\"arrivo\"])"
      ],
      "execution_count": null,
      "outputs": [
        {
          "output_type": "stream",
          "name": "stdout",
          "text": [
            "inserire il numero del treno: 9645\n",
            "il treno 9645 parte da milano alle 16.00 e arrive a roma alle 19.10\n"
          ]
        }
      ]
    }
  ]
}