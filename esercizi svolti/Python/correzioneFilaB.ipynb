{
  "nbformat": 4,
  "nbformat_minor": 0,
  "metadata": {
    "colab": {
      "name": "correzioneFilaB.ipynb",
      "provenance": [],
      "collapsed_sections": []
    },
    "kernelspec": {
      "name": "python3",
      "display_name": "Python 3"
    },
    "language_info": {
      "name": "python"
    }
  },
  "cells": [
    {
      "cell_type": "markdown",
      "metadata": {
        "id": "eifeBqgCPUox"
      },
      "source": [
        "1. Scrivere un programma che permetta di convertire un peso da kg in libbre. L’utente inserisce il peso in kg e il programma calcola il peso corrispondente nell’altra unità di misura.\n"
      ]
    },
    {
      "cell_type": "code",
      "metadata": {
        "colab": {
          "base_uri": "https://localhost:8080/"
        },
        "id": "TCtxBUMXPREV",
        "outputId": "18729d69-3c8c-42ca-d8f5-7be2dbf26b47"
      },
      "source": [
        "Pesokg = float(input(\"inserire peso in kg: \"))\n",
        "\n",
        "pesoinLIBBRE = Pesokg * 2.205\n",
        "\n",
        "print(pesoinLIBBRE)"
      ],
      "execution_count": null,
      "outputs": [
        {
          "output_type": "stream",
          "name": "stdout",
          "text": [
            "inserire peso in kg: 73\n",
            "160.965\n"
          ]
        }
      ]
    },
    {
      "cell_type": "markdown",
      "metadata": {
        "id": "IyUtcBXPQOq4"
      },
      "source": [
        "2. Scrivere un programma che permetta di verificare se un indirizzo mail contiene il carattere @. L’utente inserisce l’indirizzo e il programma restituisce il messaggio “indirizzo corretto” se il carattere è presente” o “indirizzo errato” se il carattere non è presente. Il carattere @ non può essere presente in prima o ultima posizione.\n"
      ]
    },
    {
      "cell_type": "code",
      "metadata": {
        "colab": {
          "base_uri": "https://localhost:8080/"
        },
        "id": "ciIrlyCHQRMf",
        "outputId": "ed7ac497-ca44-420a-8125-a591ffc07a57"
      },
      "source": [
        "email = input(\"inserire email: \")\n",
        "\n",
        "if email[0] != '@' and email[-1:] != '@':\n",
        "  if '@' in email:\n",
        "    print(\"indirizzo corretto\")\n",
        "  else:\n",
        "    print(\"indirizzo errato\")\n",
        "else:\n",
        "  print(\"scrittura errata\") \n",
        "\n"
      ],
      "execution_count": null,
      "outputs": [
        {
          "output_type": "stream",
          "name": "stdout",
          "text": [
            "inserire email: awergtawerga\n",
            "indirizzo errato\n"
          ]
        }
      ]
    },
    {
      "cell_type": "markdown",
      "metadata": {
        "id": "TJ1YlBUhSsfn"
      },
      "source": [
        "3. Scrivere un programma che visualizzi l’inverso dei primi n numeri interi con n inserito dall’utente. Per esempio, se l’utente inserisse il valore 4 il programma dovrebbe visualizzare i valori 1 (1:1), 0,5 (1:2), 0,33333 (1:3) e 0.25 (1:4). Separare i valori visualizzati con una virgola.\n"
      ]
    },
    {
      "cell_type": "code",
      "metadata": {
        "colab": {
          "base_uri": "https://localhost:8080/"
        },
        "id": "GylTYUIzSvBm",
        "outputId": "2d91aadb-580d-4d2f-ea15-91b196fb7cb2"
      },
      "source": [
        "numero = int(input(\"inserisci numero: \"))\n",
        "lista = []\n",
        "\n",
        "for i in range(1,numero+1):\n",
        "  a = 1/i\n",
        "  lista.append(a)\n",
        "\n",
        "print(lista)"
      ],
      "execution_count": null,
      "outputs": [
        {
          "output_type": "stream",
          "name": "stdout",
          "text": [
            "inserisci numero: 7\n",
            "[1.0, 0.5, 0.3333333333333333, 0.25, 0.2, 0.16666666666666666, 0.14285714285714285]\n"
          ]
        }
      ]
    },
    {
      "cell_type": "markdown",
      "metadata": {
        "id": "VtiaVQZhUvkm"
      },
      "source": [
        "4. scrivere un programma che carichi in una lista i primi 100 numeri interi dispari. Al termine visualizzare gli ultimi 10 numeri della lista."
      ]
    },
    {
      "cell_type": "code",
      "metadata": {
        "colab": {
          "base_uri": "https://localhost:8080/"
        },
        "id": "c8XCe0AkUxxN",
        "outputId": "c661a5e9-0612-4d93-991b-48fc89b4bae2"
      },
      "source": [
        "lista = []\n",
        "i = 1\n",
        "while i < 202:\n",
        "  lista.append(i)\n",
        "  i += 2\n",
        "\n",
        "print(lista)\n",
        "print(lista[-10:])"
      ],
      "execution_count": null,
      "outputs": [
        {
          "output_type": "stream",
          "name": "stdout",
          "text": [
            "[1, 3, 5, 7, 9, 11, 13, 15, 17, 19, 21, 23, 25, 27, 29, 31, 33, 35, 37, 39, 41, 43, 45, 47, 49, 51, 53, 55, 57, 59, 61, 63, 65, 67, 69, 71, 73, 75, 77, 79, 81, 83, 85, 87, 89, 91, 93, 95, 97, 99, 101, 103, 105, 107, 109, 111, 113, 115, 117, 119, 121, 123, 125, 127, 129, 131, 133, 135, 137, 139, 141, 143, 145, 147, 149, 151, 153, 155, 157, 159, 161, 163, 165, 167, 169, 171, 173, 175, 177, 179, 181, 183, 185, 187, 189, 191, 193, 195, 197, 199, 201]\n",
            "[183, 185, 187, 189, 191, 193, 195, 197, 199, 201]\n"
          ]
        }
      ]
    },
    {
      "cell_type": "markdown",
      "metadata": {
        "id": "2E1mYsJdWYtF"
      },
      "source": [
        "5. scrivere un programma che elimini dalla lista precedente gli ultimi 10 elementi. Visualizzare al termine la lista modificata."
      ]
    },
    {
      "cell_type": "code",
      "metadata": {
        "colab": {
          "base_uri": "https://localhost:8080/"
        },
        "id": "qAjeXZdWWcvU",
        "outputId": "d8f886a1-b98a-488e-dd50-ccd59b129826"
      },
      "source": [
        "### MODO PIU SEMPLICE\n",
        "for i in range(0,10):\n",
        "  lista.pop( )\n",
        "print(lista)\n",
        "\n",
        "### FACENDO UNA NUOVA LISTA\n",
        "\n",
        "lst2 = lista[:-10]\n",
        "print(lst2)"
      ],
      "execution_count": null,
      "outputs": [
        {
          "output_type": "stream",
          "name": "stdout",
          "text": [
            "[1, 3, 5, 7, 9, 11, 13, 15, 17, 19, 21, 23, 25, 27, 29, 31, 33, 35, 37, 39, 41, 43, 45, 47, 49, 51, 53, 55, 57, 59, 61, 63, 65, 67, 69, 71, 73, 75, 77, 79, 81, 83, 85, 87, 89, 91, 93, 95, 97, 99, 101, 103, 105, 107, 109, 111, 113, 115, 117, 119, 121, 123, 125, 127, 129, 131, 133, 135, 137, 139, 141, 143, 145, 147, 149, 151, 153, 155, 157, 159, 161, 163, 165, 167, 169, 171, 173, 175, 177, 179, 181]\n"
          ]
        }
      ]
    },
    {
      "cell_type": "markdown",
      "metadata": {
        "id": "yAWgY1J4ZywU"
      },
      "source": [
        "6. scrivere una funzione che data una lista formata da un numero pari di elementi restituisca la lista con gli elementi scambiati a due a due. Ad esempio se la lista di partenza fosse [1, 2, 3, 4, 5, 6] la lista da restituire sarebbe [2, 1, 4, 3, 6, 5]\n"
      ]
    },
    {
      "cell_type": "code",
      "metadata": {
        "id": "Rkl8bOGWZ1Bz",
        "colab": {
          "base_uri": "https://localhost:8080/"
        },
        "outputId": "90cdb57f-21de-4952-8ffc-203289197c41"
      },
      "source": [
        "listanumpari = [2, 4, 6, 8, 10, 12, 14, 16, 18, 20, 22, 24]\n",
        "\n",
        "def scambio(L):\n",
        "  a = L[:]\n",
        "  if len(L) % 2 == 1:\n",
        "    return []\n",
        "  for i in range(0, len(L), 2):\n",
        "    a[i] = L[i+1]\n",
        "    a[i+1] = L[i]\n",
        "  return a\n",
        "\n",
        "print(scambio(listanumpari))"
      ],
      "execution_count": null,
      "outputs": [
        {
          "output_type": "stream",
          "name": "stdout",
          "text": [
            "[4, 2, 8, 6, 12, 10, 16, 14, 20, 18, 24, 22]\n"
          ]
        }
      ]
    },
    {
      "cell_type": "markdown",
      "metadata": {
        "id": "CMxm8Jaeg_j8"
      },
      "source": [
        "7. scrivere un programma che permetta di caricare in una struttura dati opportuna i nomi delle regioni italiane, i loro capoluoghi e la popolazione (inserire solo tre regioni). Visualizzare poi i dati di una regione inserita dall’utente\n"
      ]
    },
    {
      "cell_type": "code",
      "metadata": {
        "id": "q_Ca3tyfg-r8"
      },
      "source": [
        "unioneEuropea = [{'nome' : 'Italia','capitale' : 'Roma', 'popolazione' : 60000000},\n",
        "                 {'nome' : 'Francia','capitale' : 'Parigi', 'popolazione' : 58000000},\n",
        "                 {'nome' : 'Germania','capitale' : 'Berlino', 'popolazione' : 80000000}]\n",
        "\n",
        "nazione = input(\"inserire una nazione \")\n",
        "\n",
        "for r in unioneEuropea:\n",
        "  if r['nome'] == nazione:\n",
        "    print(\"il suo capoluogo è: \" , r['capitale'], \" ;\" , \" e la sua popolazione è: \" , r['popolazione'])"
      ],
      "execution_count": null,
      "outputs": []
    },
    {
      "cell_type": "markdown",
      "metadata": {
        "id": "ZKB8UAHrhBNM"
      },
      "source": [
        "8. scrivere un programma che, utilizzando una lambda function e la funzione filter, elimini da una lista inserita dall’utente tutti gli elementi dispari. Al termine, visualizzare la lista modificata\n"
      ]
    },
    {
      "cell_type": "code",
      "metadata": {
        "colab": {
          "base_uri": "https://localhost:8080/"
        },
        "id": "wd6-NSxDhEaE",
        "outputId": "4adc5a77-6c98-4e64-e50b-5671a72e8f9e"
      },
      "source": [
        "lista = [int(ele) for ele in input(\"inserire numeri: \").split()]\n",
        "numpari = list(filter(lambda x: (x  % 2 != 1), lista))\n",
        "print(numpari)"
      ],
      "execution_count": null,
      "outputs": [
        {
          "output_type": "stream",
          "name": "stdout",
          "text": [
            "inserire numeri: 3 5 6 8\n",
            "[6, 8]\n"
          ]
        }
      ]
    },
    {
      "cell_type": "markdown",
      "metadata": {
        "id": "k18TQGv_hIUE"
      },
      "source": [
        "9. scrivere una funzione che, in modo ricorsivo, calcoli la somma dei primi n numeri interi, con n inserito dall’utente. Ad esempio se l’utente inserisse 5 il programma dovrebbe restituire il valore 15 (5+4+3+2+1=15)\n"
      ]
    },
    {
      "cell_type": "code",
      "metadata": {
        "colab": {
          "base_uri": "https://localhost:8080/"
        },
        "id": "wb9WigAohLGN",
        "outputId": "474f5998-b789-45e0-b86d-69f9ad10b320"
      },
      "source": [
        "def sommaricorsiva(n):\n",
        "  if n ==1:\n",
        "    return n\n",
        "  else:\n",
        "    return n+(sommaricorsiva(n-1))\n",
        "\n",
        "sommaricorsiva(int(input(\"inserire un numero: \")))"
      ],
      "execution_count": null,
      "outputs": [
        {
          "name": "stdout",
          "output_type": "stream",
          "text": [
            "inserire un numero: 5\n"
          ]
        },
        {
          "output_type": "execute_result",
          "data": {
            "text/plain": [
              "15"
            ]
          },
          "metadata": {},
          "execution_count": 25
        }
      ]
    }
  ]
}