{
  "nbformat": 4,
  "nbformat_minor": 0,
  "metadata": {
    "colab": {
      "name": "Simulazioneverifica2(B).ipynb",
      "provenance": [],
      "collapsed_sections": []
    },
    "kernelspec": {
      "name": "python3",
      "display_name": "Python 3"
    },
    "language_info": {
      "name": "python"
    }
  },
  "cells": [
    {
      "cell_type": "markdown",
      "metadata": {
        "id": "kwwgCdQlPVx0"
      },
      "source": [
        "1. scrivere un programma che dato un indirizzo email nella forma nome.cognome@dominio visualizzi separatamente il nome, il cognome e il dominio\n"
      ]
    },
    {
      "cell_type": "code",
      "metadata": {
        "colab": {
          "base_uri": "https://localhost:8080/"
        },
        "id": "VGv_OCmEPSu8",
        "outputId": "5b7a72f3-8d57-489b-f418-9f1b42cfb8b3"
      },
      "source": [
        "indirizzo = \"nome.cognome@dominio\"\n",
        "\n",
        "indirizzo2 = str(indirizzo.split(\".\"))\n",
        "print(indirizzo2.split(\"@\"))"
      ],
      "execution_count": null,
      "outputs": [
        {
          "output_type": "stream",
          "name": "stdout",
          "text": [
            "[\"['nome', 'cognome\", \"dominio']\"]\n"
          ]
        }
      ]
    },
    {
      "cell_type": "markdown",
      "metadata": {
        "id": "V2NwXdDLQL8b"
      },
      "source": [
        "2. scrivere un programma che permetta di stabilire se un numero pari è divisibile per 6. L’utente inserisce il numero e il programma, una volta controllato che sia pari, controlla anche se è divisibile per 6.\n"
      ]
    },
    {
      "cell_type": "code",
      "metadata": {
        "colab": {
          "base_uri": "https://localhost:8080/"
        },
        "id": "kDTBvQ7XQPFb",
        "outputId": "c2505fbd-6d4f-43f2-b870-1e2022ece34c"
      },
      "source": [
        "num = int(input(\"inserire un numero: \"))\n",
        "\n",
        "if num % 2 == 0:\n",
        "  if num %6 == 0:\n",
        "    print(\"il numero è pari ed e divisibile per 6\")\n",
        "  else:\n",
        "    print(\"il numero e pari ma non e divisibile per 6\")\n",
        "else:\n",
        "  print(\"il numero non e pari\")"
      ],
      "execution_count": null,
      "outputs": [
        {
          "output_type": "stream",
          "name": "stdout",
          "text": [
            "inserire un numero: 6\n",
            "il numero è pari ed e divisibile per 6\n"
          ]
        }
      ]
    },
    {
      "cell_type": "markdown",
      "metadata": {
        "id": "d7ivcDOuQ698"
      },
      "source": [
        "3. scrivere un programma per verificare se una parola contiene solo vocali.\n"
      ]
    },
    {
      "cell_type": "code",
      "metadata": {
        "colab": {
          "base_uri": "https://localhost:8080/"
        },
        "id": "qhbZeS6WQ9Zs",
        "outputId": "c8499c65-6240-43f5-a8bd-5883000d891c"
      },
      "source": [
        "parola = input(\"inserire una parola: \")\n",
        "vocali = set(\"aeiou\")\n",
        "contatore = 0\n",
        "for i in parola:\n",
        "  if i in vocali:\n",
        "    contatore +=1\n",
        "\n",
        "if contatore == len(parola):\n",
        "  print(\"solo vocali\")\n",
        "else:\n",
        "  print(\"anche consonanti\")\n"
      ],
      "execution_count": null,
      "outputs": [
        {
          "output_type": "stream",
          "name": "stdout",
          "text": [
            "inserire una parola: asdfg\n",
            "anche consonanti\n"
          ]
        }
      ]
    },
    {
      "cell_type": "markdown",
      "metadata": {
        "id": "64IL5zQiWUvc"
      },
      "source": [
        "4. scrivere un programma che permetta di caricare una lista di parole e che elimini dalla lista tutte le parole più lunghe di un valore inserito dall’utente\n"
      ]
    },
    {
      "cell_type": "code",
      "metadata": {
        "colab": {
          "base_uri": "https://localhost:8080/"
        },
        "id": "lmtdrUMhWbSR",
        "outputId": "43d90eff-0fa3-4656-8908-07b1e490fc98"
      },
      "source": [
        "parole = [ele for ele in input(\"inserire parole: \").split()]\n",
        "val = int(input(\"inserire un numero: \"))\n",
        "\n",
        "for i in parole:\n",
        "  if len(i) > val:\n",
        "    parole.remove(i)\n",
        "\n",
        "print(parole)"
      ],
      "execution_count": null,
      "outputs": [
        {
          "output_type": "stream",
          "name": "stdout",
          "text": [
            "inserire parole: sfdgh kugjyfthdgrsfa fdsg h fsdg\n",
            "inserire un numero: 7\n",
            "['sfdgh', 'fdsg', 'h', 'fsdg']\n"
          ]
        }
      ]
    },
    {
      "cell_type": "markdown",
      "metadata": {
        "id": "B4wIPbNxXMiy"
      },
      "source": [
        "5. scrivere una funzione che data una parola restituisca la stessa parola con i caratteri separati da uno spazio\n"
      ]
    },
    {
      "cell_type": "code",
      "metadata": {
        "colab": {
          "base_uri": "https://localhost:8080/"
        },
        "id": "uWPqc5CLXPmh",
        "outputId": "e2b21abe-4bfa-4945-8fd7-ff0337185191"
      },
      "source": [
        "def sep(parola):\n",
        "  for i in range(0, len(parola)):\n",
        "    splitted = parola.replace(\"\", \" \")\n",
        "  return splitted\n",
        "\n",
        "parola = input(\"inserire parola: \")\n",
        "print(sep(parola))"
      ],
      "execution_count": null,
      "outputs": [
        {
          "output_type": "stream",
          "name": "stdout",
          "text": [
            "inserire parola: hello\n",
            " h e l l o \n"
          ]
        }
      ]
    },
    {
      "cell_type": "markdown",
      "metadata": {
        "id": "6wfmM0BvZS_i"
      },
      "source": [
        "6. scrivere un programma che utilizzando la funzione precedente inserisca uno spazio tra i caratteri di tutte le parole presenti in una stringa\n"
      ]
    },
    {
      "cell_type": "code",
      "metadata": {
        "colab": {
          "base_uri": "https://localhost:8080/"
        },
        "id": "ZWK_DoBwZVWx",
        "outputId": "408aaa87-b75b-4615-c7bf-4d365c7a045d"
      },
      "source": [
        "frase = input(\"scrivere una frase: \")\n",
        "\n",
        "print(sep(frase))"
      ],
      "execution_count": null,
      "outputs": [
        {
          "output_type": "stream",
          "name": "stdout",
          "text": [
            "scrivere una frase: asdfg dfghj bhy uyt\n",
            " a s d f g   d f g h j   b h y   u y t \n"
          ]
        }
      ]
    },
    {
      "cell_type": "markdown",
      "metadata": {
        "id": "r7sqL_3iZqbL"
      },
      "source": [
        "7. scrivere un programma che utilizzando una lambda function  sostituisca ad ogni elemento di una lista di parole la lunghezza delle parole stesse. Ad esempio se la lista fosse [‘mamma’, ‘stella’, ‘casa’] la lista finale dovrebbe essere [5, 5, 4]"
      ]
    },
    {
      "cell_type": "code",
      "metadata": {
        "colab": {
          "base_uri": "https://localhost:8080/"
        },
        "id": "x1qacF4wZtIq",
        "outputId": "cfa01d24-9edf-4045-a20d-df74c7d9a4ed"
      },
      "source": [
        "lista = [ele for ele in input(\"inserire parole: \").split()]\n",
        "\n",
        "conto = list(map(lambda x: len(x), lista))\n",
        "\n",
        "print(conto)"
      ],
      "execution_count": null,
      "outputs": [
        {
          "output_type": "stream",
          "name": "stdout",
          "text": [
            "inserire parole: asdfghj nhgr uyhg\n",
            "[7, 4, 4]\n"
          ]
        }
      ]
    },
    {
      "cell_type": "markdown",
      "metadata": {
        "id": "tKJmIwVkm2f8"
      },
      "source": [
        "8. scrivere un programma che utilizzando una lambda function elimini da una lista di parole tutte quelle più corte di un valore inserito dall’utente.  Ad esempio se la lista fosse [‘tre’, ‘stella’, ‘casa’] e l’utente inserisse il valore 5, la lista finale dovrebbe essere [‘stella’]\n"
      ]
    },
    {
      "cell_type": "code",
      "metadata": {
        "colab": {
          "base_uri": "https://localhost:8080/"
        },
        "id": "GAB25JAym6fC",
        "outputId": "42d3e9f2-05ea-47c8-f260-9f386b99d84e"
      },
      "source": [
        "lista2 = [ele for ele in input(\"inserire parole: \").split()]\n",
        "valore = int(input(\"inserire un valore: \"))\n",
        "filtered = list(filter(lambda x: len(x) > valore, lista2))\n",
        "\n",
        "print(filtered)"
      ],
      "execution_count": null,
      "outputs": [
        {
          "output_type": "stream",
          "name": "stdout",
          "text": [
            "inserire parole: asdfghjkl qwertyuiop zxcv\n",
            "inserire un valore: 6\n",
            "['asdfghjkl', 'qwertyuiop']\n"
          ]
        }
      ]
    },
    {
      "cell_type": "markdown",
      "metadata": {
        "id": "KJgyw8Xcnk07"
      },
      "source": [
        "9. Il centro vaccinale Covid di Milano vuole memorizzare le informazioni dei cittadini che si sono vaccinati. Le informazioni da inserire sono il codice fiscale del cittadino, le date in cui ha fatto la vaccinazione e il vaccino utilizzato. Caricare in una struttura dati apposita i codici fiscali dei cittadini (solo due codici) e le vaccinazioni effettuate (solo due vaccinazioni) e permettere di avere le informazioni relative ad un cittadino di cui si inserisce il codice fiscle. Inventare ovviamente tutte le informazioni.\n"
      ]
    },
    {
      "cell_type": "code",
      "metadata": {
        "id": "-gH5XlSgnnhU"
      },
      "source": [
        "listadidizionari = {'ASDFGH12345' : 'Codice fiscale: ASDFGH12345 ; Data di vaccinazione: 12/07/2021 ; Tipo di vaccino: pfizer .', \n",
        "                    'LOUJBH98762' : 'Codice fiscale: LOUJBH98762 ; Data di vaccinazione: 36/006/2021 ; Tipo di vaccino: jhonson and jhonson .'}\n",
        "\n",
        "codfiscale = input(\"inserire codice fiscale: \")\n",
        "\n",
        "print(listadidizionari[codfiscale])"
      ],
      "execution_count": null,
      "outputs": []
    }
  ]
}