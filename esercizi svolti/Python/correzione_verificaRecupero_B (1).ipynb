{
  "nbformat": 4,
  "nbformat_minor": 0,
  "metadata": {
    "colab": {
      "name": "correzione_verificaRecupero_B.ipynb",
      "provenance": [],
      "collapsed_sections": []
    },
    "kernelspec": {
      "name": "python3",
      "display_name": "Python 3"
    },
    "language_info": {
      "name": "python"
    }
  },
  "cells": [
    {
      "cell_type": "markdown",
      "metadata": {
        "id": "iw3Nj__pITRJ"
      },
      "source": [
        "scrivere un programma che calcoli le radici (dette anche zeri) di una equazione di secondo grado. L’utente inserisce i valori dei coefficienti  a, b e c e il programma calcola gli zeri.\n"
      ]
    },
    {
      "cell_type": "code",
      "metadata": {
        "colab": {
          "base_uri": "https://localhost:8080/",
          "height": 262
        },
        "id": "HMJF7Q-_IQel",
        "outputId": "9e31c5b5-6cfc-4598-acc8-8d2c58499dfc"
      },
      "source": [
        "import math\n",
        "a = int(input(\"primo num \"))\n",
        "b = int(input(\"secondo num \"))\n",
        "c = int(input(\"terzo num \"))\n",
        "\n",
        "delta = a**2-(4*a*c)\n",
        "x1 = (b**2 + math.sqrt(delta)) / 2*a\n",
        "print(x1)\n",
        "\n",
        "\n",
        "######                                                 ???????"
      ],
      "execution_count": null,
      "outputs": [
        {
          "name": "stdout",
          "output_type": "stream",
          "text": [
            "primo num 1\n",
            "secondo num 2\n",
            "terzo num 3\n"
          ]
        },
        {
          "output_type": "error",
          "ename": "ValueError",
          "evalue": "ignored",
          "traceback": [
            "\u001b[0;31m---------------------------------------------------------------------------\u001b[0m",
            "\u001b[0;31mValueError\u001b[0m                                Traceback (most recent call last)",
            "\u001b[0;32m<ipython-input-6-3081ba84d7f1>\u001b[0m in \u001b[0;36m<module>\u001b[0;34m()\u001b[0m\n\u001b[1;32m      5\u001b[0m \u001b[0;34m\u001b[0m\u001b[0m\n\u001b[1;32m      6\u001b[0m \u001b[0mdelta\u001b[0m \u001b[0;34m=\u001b[0m \u001b[0ma\u001b[0m\u001b[0;34m**\u001b[0m\u001b[0;36m2\u001b[0m\u001b[0;34m-\u001b[0m\u001b[0;34m(\u001b[0m\u001b[0;36m4\u001b[0m\u001b[0;34m*\u001b[0m\u001b[0ma\u001b[0m\u001b[0;34m*\u001b[0m\u001b[0mc\u001b[0m\u001b[0;34m)\u001b[0m\u001b[0;34m\u001b[0m\u001b[0;34m\u001b[0m\u001b[0m\n\u001b[0;32m----> 7\u001b[0;31m \u001b[0mx1\u001b[0m \u001b[0;34m=\u001b[0m \u001b[0;34m(\u001b[0m\u001b[0mb\u001b[0m\u001b[0;34m**\u001b[0m\u001b[0;36m2\u001b[0m \u001b[0;34m+\u001b[0m \u001b[0mmath\u001b[0m\u001b[0;34m.\u001b[0m\u001b[0msqrt\u001b[0m\u001b[0;34m(\u001b[0m\u001b[0mdelta\u001b[0m\u001b[0;34m)\u001b[0m\u001b[0;34m)\u001b[0m \u001b[0;34m/\u001b[0m \u001b[0;36m2\u001b[0m\u001b[0;34m*\u001b[0m\u001b[0ma\u001b[0m\u001b[0;34m\u001b[0m\u001b[0;34m\u001b[0m\u001b[0m\n\u001b[0m\u001b[1;32m      8\u001b[0m \u001b[0mprint\u001b[0m\u001b[0;34m(\u001b[0m\u001b[0mx1\u001b[0m\u001b[0;34m)\u001b[0m\u001b[0;34m\u001b[0m\u001b[0;34m\u001b[0m\u001b[0m\n",
            "\u001b[0;31mValueError\u001b[0m: math domain error"
          ]
        }
      ]
    },
    {
      "cell_type": "markdown",
      "metadata": {
        "id": "pspiVc3S7LYS"
      },
      "source": [
        "modificare il programma precedente in modo che prima di effettuare il calcolo controlli che i valori inseriti dall’utente siano accettabili. Visualizzare gli opportuni messaggi di errore a seconda del verificarsi delle diverse condizioni\n"
      ]
    },
    {
      "cell_type": "code",
      "metadata": {
        "id": "x_I_Qkkv7Pi5"
      },
      "source": [
        "######           il primo è incompleto"
      ],
      "execution_count": null,
      "outputs": []
    },
    {
      "cell_type": "markdown",
      "metadata": {
        "id": "vQnd9HV47xYB"
      },
      "source": [
        "scrivere un programma che permetta di visualizzare tutti i multipli di 10 minori di un numero inserito dall’utente.\n"
      ]
    },
    {
      "cell_type": "code",
      "metadata": {
        "colab": {
          "base_uri": "https://localhost:8080/"
        },
        "id": "dGhKSBaA_XP6",
        "outputId": "75ceeeab-7825-4f80-d9b8-f9e3b08cd2ec"
      },
      "source": [
        "numero = int(input(\"inserire numero: \"))\n",
        "elementi = [int(ele) for ele in range(0, numero , 10)]\n",
        "\n",
        "print(elementi)\n",
        "\n",
        "               ############                  MODO PIUUU EFFICIENTE"
      ],
      "execution_count": null,
      "outputs": [
        {
          "output_type": "stream",
          "name": "stdout",
          "text": [
            "inserire numero: 23\n",
            "[0, 10, 20]\n"
          ]
        }
      ]
    },
    {
      "cell_type": "markdown",
      "metadata": {
        "id": "psr-mW2f-1cy"
      },
      "source": [
        "scrivere un programma che inserisca in una lista tutti i numeri interi pari minori di un numero inserito dall’utente. Al termine, visualizzare la lista dei numeri e la lista al contrario"
      ]
    },
    {
      "cell_type": "code",
      "metadata": {
        "colab": {
          "base_uri": "https://localhost:8080/"
        },
        "id": "7QL5Q123-3g4",
        "outputId": "38d1f5f7-45a3-4b1c-de5d-803ce79702d7"
      },
      "source": [
        "numero = int(input(\"inserire numero: \"))\n",
        "pari = [int(ele) for ele in range(0,numero + 1, 2)]\n",
        "\n",
        "print(pari)\n",
        "print(sorted(pari, reverse = True))\n",
        "\n",
        "               ############                  MODO PIUUU EFFICIENTE"
      ],
      "execution_count": null,
      "outputs": [
        {
          "output_type": "stream",
          "name": "stdout",
          "text": [
            "inserire numero: 34\n",
            "[0, 2, 4, 6, 8, 10, 12, 14, 16, 18, 20, 22, 24, 26, 28, 30, 32, 34]\n",
            "[34, 32, 30, 28, 26, 24, 22, 20, 18, 16, 14, 12, 10, 8, 6, 4, 2, 0]\n"
          ]
        }
      ]
    },
    {
      "cell_type": "markdown",
      "metadata": {
        "id": "oPORuBtZAHUq"
      },
      "source": [
        "scrivere un programma che carichi in una lista chiamata “tutti” i numeri dispari compresi tra 0 e 90. Usando poi lo slicing, caricare in una lista chiamata “bassi” gli elementi della prima metà della lista “tutti” e in una lista chiamata “alti” gli elementi della seconda metà della  lista. Al termine visualizzare le tre liste..\n"
      ]
    },
    {
      "cell_type": "code",
      "metadata": {
        "colab": {
          "base_uri": "https://localhost:8080/"
        },
        "id": "TjTnHUK5ANL4",
        "outputId": "e19b33a3-289a-4295-868c-bac6cf6b5279"
      },
      "source": [
        "tutti = [int(ele) for ele in range(1, 90, 2)]\n",
        "\n",
        "               ############                  MODO PIUUU EFFICIENTE\n",
        "\n",
        "bassi = tutti[:23]\n",
        "alti = tutti[-22:]\n",
        "\n",
        "print(tutti)\n",
        "print(bassi)\n",
        "print(alti)"
      ],
      "execution_count": null,
      "outputs": [
        {
          "output_type": "stream",
          "name": "stdout",
          "text": [
            "[1, 3, 5, 7, 9, 11, 13, 15, 17, 19, 21, 23, 25, 27, 29, 31, 33, 35, 37, 39, 41, 43, 45, 47, 49, 51, 53, 55, 57, 59, 61, 63, 65, 67, 69, 71, 73, 75, 77, 79, 81, 83, 85, 87, 89]\n",
            "[1, 3, 5, 7, 9, 11, 13, 15, 17, 19, 21, 23, 25, 27, 29, 31, 33, 35, 37, 39, 41, 43, 45]\n",
            "[47, 49, 51, 53, 55, 57, 59, 61, 63, 65, 67, 69, 71, 73, 75, 77, 79, 81, 83, 85, 87, 89]\n"
          ]
        }
      ]
    },
    {
      "cell_type": "markdown",
      "metadata": {
        "id": "O9u03lBjBD4L"
      },
      "source": [
        "scrivere una funzione chiamata volumeCubo che dato il lato in metri di un cubo calcoli il suo volume. Utilizzare poi quella funzione per scrivere un’altra funzione chiamata pesoCubo che permetta di calcolare il peso in kg di un cubo dato il suo lato in metri e la sua densità, espressa in grammi al centimetro cubo. Infine, scrivere un programma che calcoli il peso di un cubo di alluminio avente il lato di un metro (la densità dell’alluminio è di 2.7 g/cm3)\n"
      ]
    },
    {
      "cell_type": "code",
      "metadata": {
        "colab": {
          "base_uri": "https://localhost:8080/"
        },
        "id": "A9I7bA7KBHLC",
        "outputId": "d4bffd1d-55ad-4149-e04b-db2d78e2bbc2"
      },
      "source": [
        "def volumeCubo(L):\n",
        "  return L*L*L\n",
        "\n",
        "def pesoCubo(L,D):\n",
        "  return volumeCubo(L) * D\n",
        "\n",
        "lato = 1\n",
        "densita = 2.7 / (10**6)\n",
        "\n",
        "print(pesoCubo(lato,densita), \"kg/m3\")"
      ],
      "execution_count": null,
      "outputs": [
        {
          "output_type": "stream",
          "name": "stdout",
          "text": [
            "2.7e-06 kg/m3\n"
          ]
        }
      ]
    },
    {
      "cell_type": "markdown",
      "metadata": {
        "id": "ImOe0SL0DZ8D"
      },
      "source": [
        "data una lista di 100 numeri pari casuali caricata tramite una list comprehension, sostituire con uno zero tutti gli elementi della lista che sono multipli di 6"
      ]
    },
    {
      "cell_type": "code",
      "metadata": {
        "colab": {
          "base_uri": "https://localhost:8080/"
        },
        "id": "FLOO4XvyDb2F",
        "outputId": "0a4d7688-bad3-4622-d771-70cb541e53cc"
      },
      "source": [
        "lista = [int(ele) for ele in range(0, 201, 2)]\n",
        "\n",
        "for index, value in enumerate(lista):\n",
        "    if value % 6 == 0:\n",
        "      lista[index] = 0\n",
        "\n",
        "print(lista)"
      ],
      "execution_count": null,
      "outputs": [
        {
          "output_type": "stream",
          "name": "stdout",
          "text": [
            "[0, 2, 4, 0, 8, 10, 0, 14, 16, 0, 20, 22, 0, 26, 28, 0, 32, 34, 0, 38, 40, 0, 44, 46, 0, 50, 52, 0, 56, 58, 0, 62, 64, 0, 68, 70, 0, 74, 76, 0, 80, 82, 0, 86, 88, 0, 92, 94, 0, 98, 100, 0, 104, 106, 0, 110, 112, 0, 116, 118, 0, 122, 124, 0, 128, 130, 0, 134, 136, 0, 140, 142, 0, 146, 148, 0, 152, 154, 0, 158, 160, 0, 164, 166, 0, 170, 172, 0, 176, 178, 0, 182, 184, 0, 188, 190, 0, 194, 196, 0, 200]\n"
          ]
        }
      ]
    },
    {
      "cell_type": "markdown",
      "metadata": {
        "id": "hx0qsI83Ez5K"
      },
      "source": [
        "data una lista di 100 numeri pari casuali caricata tramite una list comprehension, eliminare tutti gli elementi della lista minori di un valore intero inserito dall’utente"
      ]
    },
    {
      "cell_type": "code",
      "metadata": {
        "colab": {
          "base_uri": "https://localhost:8080/"
        },
        "id": "wCrBfk9IE2c6",
        "outputId": "00f67160-2b58-4e7d-fc38-999598b2434f"
      },
      "source": [
        "lista = [int(ele) for ele in range(0, 201, 2)]\n",
        "valore = int(input(\"inserire un valore: \"))\n",
        "\n",
        "for ele in lista:\n",
        "  if ele < valore:\n",
        "    lista.remove(ele)\n",
        "print(lista)\n",
        "\n",
        "\n",
        "###############                              SCORRETTO"
      ],
      "execution_count": null,
      "outputs": [
        {
          "output_type": "stream",
          "name": "stdout",
          "text": [
            "inserire un valore: 23\n",
            "[2, 6, 10, 14, 18, 22, 24, 26, 28, 30, 32, 34, 36, 38, 40, 42, 44, 46, 48, 50, 52, 54, 56, 58, 60, 62, 64, 66, 68, 70, 72, 74, 76, 78, 80, 82, 84, 86, 88, 90, 92, 94, 96, 98, 100, 102, 104, 106, 108, 110, 112, 114, 116, 118, 120, 122, 124, 126, 128, 130, 132, 134, 136, 138, 140, 142, 144, 146, 148, 150, 152, 154, 156, 158, 160, 162, 164, 166, 168, 170, 172, 174, 176, 178, 180, 182, 184, 186, 188, 190, 192, 194, 196, 198, 200]\n"
          ]
        }
      ]
    },
    {
      "cell_type": "markdown",
      "metadata": {
        "id": "cdV8FUZ6G9XD"
      },
      "source": [
        "progettare una struttura dati che permetta di memorizzare l’orario di partenza e di arrivo dei treni della tratta Milano Roma dell’alta velocità. Ad esempio il treno 9645 parte alle 16.00 e arriva alle 19.10, il treno 9647 parte alle 16.30 e arriva alle 19.40 a Roma. Memorizzare nella struttura dati progettata queste informazioni e scrivere il codice necessario per cercare un treno ed avere l’ora di partenza e l’ora di arrivo. Se non c’è il treno che l’utente inserisce, dare un opportuno messaggio di errore."
      ]
    },
    {
      "cell_type": "code",
      "metadata": {
        "colab": {
          "base_uri": "https://localhost:8080/"
        },
        "id": "siwNDARhG_6a",
        "outputId": "184dd913-7cc5-4384-fabb-983d84bf7475"
      },
      "source": [
        "orari = [{\"treno\": \"9645\", \"partenza\": \"16.00\", \"arrivo\": \"19.10\"},\n",
        "         {\"treno\": \"9647\", \"partenza\": \"16.30\", \"arrivo\": \"19.40\"}]\n",
        "\n",
        "treno = input(\"inserire il codice del treno: \")\n",
        "\n",
        "for ele in orari:\n",
        "  if ele[\"treno\"] == treno:\n",
        "    print(\"il treno\", ele[\"treno\"], \"parte da milano alle\", ele[\"partenza\"], \"e arriva a roma alle\", ele[\"arrivo\"])"
      ],
      "execution_count": null,
      "outputs": [
        {
          "output_type": "stream",
          "name": "stdout",
          "text": [
            "inserire il codice del treno: 9647\n",
            "il treno 9647 parte da milano alle 16.30 e arriva a roma alle 19.40\n"
          ]
        }
      ]
    }
  ]
}