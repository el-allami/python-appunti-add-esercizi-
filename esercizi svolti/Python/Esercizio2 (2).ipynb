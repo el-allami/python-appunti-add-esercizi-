{
  "nbformat": 4,
  "nbformat_minor": 0,
  "metadata": {
    "colab": {
      "name": "Esercizio2.ipynb",
      "provenance": [],
      "collapsed_sections": []
    },
    "kernelspec": {
      "name": "python3",
      "display_name": "Python 3"
    },
    "language_info": {
      "name": "python"
    }
  },
  "cells": [
    {
      "cell_type": "markdown",
      "metadata": {
        "id": "LZ3YglGSvuP0"
      },
      "source": [
        "1. Scrivere un programma che crei una lista contenente i nomi dei capoluoghi delle regioni italiane e\n",
        "che visualizzi la lista. Chiamare la lista capoluoghiRegione\n"
      ]
    },
    {
      "cell_type": "code",
      "metadata": {
        "colab": {
          "base_uri": "https://localhost:8080/"
        },
        "id": "f8bhFTMBvpyc",
        "outputId": "0defd744-6ebc-4886-9e2b-85dda58aeab3"
      },
      "source": [
        "capoluoghiRegione = ['Aquila', 'Potenza', 'Catanzaro', 'Napoli', 'Bologna', 'Trieste', 'Roma', 'Genova', 'Milano', 'Ancona', 'Campobasso', 'Torino', 'Bari', 'Cagliari', 'Palermo', 'Firenze', 'Trento', 'Perugia', 'Aosta', 'Venezia']\n",
        "print(capoluoghiRegione)"
      ],
      "execution_count": null,
      "outputs": [
        {
          "output_type": "stream",
          "name": "stdout",
          "text": [
            "['Aquila', 'Potenza', 'Catanzaro', 'Napoli', 'Bologna', 'Trieste', 'Roma', 'Genova', 'Milano', 'Ancona', 'Campobasso', 'Torino', 'Bari', 'Cagliari', 'Palermo', 'Firenze', 'Trento', 'Perugia', 'Aosta', 'Venezia']\n"
          ]
        }
      ]
    },
    {
      "cell_type": "markdown",
      "metadata": {
        "id": "byWAaLcVylR6"
      },
      "source": [
        "2. Scrivere un programma che visualizzi i primi 6 capoluoghi di regione presenti in\n",
        "capoluoghiRegione"
      ]
    },
    {
      "cell_type": "code",
      "metadata": {
        "colab": {
          "base_uri": "https://localhost:8080/"
        },
        "id": "PMQ0IkXuyosc",
        "outputId": "75e713e6-bb4f-4a84-d4f8-82ac9ab74c88"
      },
      "source": [
        "print(capoluoghiRegione[0:6])"
      ],
      "execution_count": null,
      "outputs": [
        {
          "output_type": "stream",
          "name": "stdout",
          "text": [
            "['Aquila', 'Potenza', 'Catanzaro', 'Napoli', 'Bologna', 'Trieste']\n"
          ]
        }
      ]
    },
    {
      "cell_type": "markdown",
      "metadata": {
        "id": "uizUyuVpy5Cp"
      },
      "source": [
        "3. Scrivere un programma che visualizzi gli ultimi 6 capoluoghi di regione presenti in\n",
        "capoluoghiRegione"
      ]
    },
    {
      "cell_type": "code",
      "metadata": {
        "colab": {
          "base_uri": "https://localhost:8080/"
        },
        "id": "rN-78A0vy8Q0",
        "outputId": "0376b193-3a4d-4206-cdc2-72d783c920d6"
      },
      "source": [
        "print(capoluoghiRegione[-6:])"
      ],
      "execution_count": null,
      "outputs": [
        {
          "output_type": "stream",
          "name": "stdout",
          "text": [
            "['Palermo', 'Firenze', 'Trento', 'Perugia', 'Aosta', 'Venezia']\n"
          ]
        }
      ]
    },
    {
      "cell_type": "markdown",
      "metadata": {
        "id": "eo4kfJSEzTQv"
      },
      "source": [
        "4. Scrivere un programma che visualizzi i 6 capoluoghi di regione presenti nella parte centrale di\n",
        "capoluoghiRegione"
      ]
    },
    {
      "cell_type": "code",
      "metadata": {
        "colab": {
          "base_uri": "https://localhost:8080/"
        },
        "id": "9PGfed9kzV8a",
        "outputId": "777e367c-ad2c-4685-ebb9-2ac9ca80bde7"
      },
      "source": [
        "print(capoluoghiRegione[7:13])"
      ],
      "execution_count": null,
      "outputs": [
        {
          "output_type": "stream",
          "name": "stdout",
          "text": [
            "['Genova', 'Milano', 'Ancona', 'Campobasso', 'Torino', 'Bari']\n"
          ]
        }
      ]
    },
    {
      "cell_type": "markdown",
      "metadata": {
        "id": "3UVFaHKoz_ZL"
      },
      "source": [
        "5. Scrivere un programma che visualizzi i capoluoghi di regione presenti in capoluoghiRegione\n",
        "nelle posizioni pari."
      ]
    },
    {
      "cell_type": "code",
      "metadata": {
        "colab": {
          "base_uri": "https://localhost:8080/"
        },
        "id": "OqRxAfhw0B2A",
        "outputId": "d73b94d8-a015-4276-a850-bd5ab9af2cd9"
      },
      "source": [
        "capoluoghipariindex = 0\n",
        "for capoluoghipari in capoluoghiRegione:\n",
        "  print(capoluoghiRegione[capoluoghipariindex])\n",
        "  capoluoghipariindex +=2\n",
        "  if capoluoghipariindex > 19:\n",
        "    break\n",
        "  "
      ],
      "execution_count": null,
      "outputs": [
        {
          "output_type": "stream",
          "name": "stdout",
          "text": [
            "Aquila\n",
            "Catanzaro\n",
            "Bologna\n",
            "Roma\n",
            "Milano\n",
            "Campobasso\n",
            "Bari\n",
            "Palermo\n",
            "Trento\n",
            "Aosta\n"
          ]
        }
      ]
    },
    {
      "cell_type": "code",
      "metadata": {
        "colab": {
          "base_uri": "https://localhost:8080/"
        },
        "id": "xdvuUiXLmunj",
        "outputId": "f7704e3a-829c-47f2-ea97-9745fa4e0001"
      },
      "source": [
        "# Solotchi\n",
        "# Solotchi\n",
        "# Solotchi\n",
        "\n",
        "result = [nome for nome in capoluoghiRegione if capoluoghiRegione.index(nome)%2==0]\n",
        "\n",
        "result2 =[]\n",
        "for nome in capoluoghiRegione:\n",
        "  if capoluoghiRegione.index(nome)%2==0:  # %2==0  ----> lo zero è il resto\n",
        "    result2.append(nome)\n",
        "\n",
        "print(result2)\n",
        "print(result)\n",
        "\n",
        "\n",
        "# MODO PIU SEMPLICE\n",
        "print(capoluoghiRegione[:20:2])    # :2 prende ogni due passi\n"
      ],
      "execution_count": null,
      "outputs": [
        {
          "output_type": "stream",
          "name": "stdout",
          "text": [
            "['Aquila', 'Catanzaro', 'Bologna', 'Roma', 'Milano', 'Campobasso', 'Bari', 'Palermo', 'Trento', 'Aosta']\n",
            "['Aquila', 'Catanzaro', 'Bologna', 'Roma', 'Milano', 'Campobasso', 'Bari', 'Palermo', 'Trento', 'Aosta']\n",
            "['Aquila', 'Catanzaro', 'Bologna', 'Roma', 'Milano', 'Campobasso', 'Bari', 'Palermo', 'Trento', 'Aosta']\n"
          ]
        }
      ]
    },
    {
      "cell_type": "markdown",
      "metadata": {
        "id": "QpBLd0HT4WtK"
      },
      "source": [
        "6. Scrivere un programma che visualizzi i capoluoghi di regione presenti in capoluoghiRegione\n",
        "nelle posizioni dispari."
      ]
    },
    {
      "cell_type": "code",
      "metadata": {
        "colab": {
          "base_uri": "https://localhost:8080/"
        },
        "id": "fGnWJMKK4lUE",
        "outputId": "bcb23bb0-18fc-47f0-8de1-9100bb73f234"
      },
      "source": [
        "capoluoghidispariindex = 1\n",
        "for capoluoghidispari in capoluoghiRegione:\n",
        "  print(capoluoghiRegione[capoluoghidispariindex])\n",
        "  capoluoghidispariindex +=2\n",
        "  if capoluoghidispariindex >= 19:\n",
        "    break\n",
        "\n",
        "\n",
        "\n",
        "# MODO PIU SEMPLICE\n",
        "print(capoluoghiRegione[1:20:2])    # :2 prende ogni due passi"
      ],
      "execution_count": null,
      "outputs": [
        {
          "output_type": "stream",
          "name": "stdout",
          "text": [
            "Potenza\n",
            "Napoli\n",
            "Trieste\n",
            "Genova\n",
            "Ancona\n",
            "Torino\n",
            "Cagliari\n",
            "Firenze\n",
            "Perugia\n",
            "['Potenza', 'Napoli', 'Trieste', 'Genova', 'Ancona', 'Torino', 'Cagliari', 'Firenze', 'Perugia', 'Venezia']\n"
          ]
        }
      ]
    },
    {
      "cell_type": "markdown",
      "metadata": {
        "id": "i0NW0eJ85Ah-"
      },
      "source": [
        "7. Scrivere un programma che visualizzi il primo capoluogo di regione in ordine alfabetico"
      ]
    },
    {
      "cell_type": "code",
      "metadata": {
        "colab": {
          "base_uri": "https://localhost:8080/"
        },
        "id": "zZVF6EL85EQT",
        "outputId": "5c963c3a-75ce-401b-8d16-c39319736eb8"
      },
      "source": [
        "capoluoghiRegione.sort()\n",
        "print(capoluoghiRegione[0])"
      ],
      "execution_count": null,
      "outputs": [
        {
          "output_type": "stream",
          "name": "stdout",
          "text": [
            "Ancona\n"
          ]
        }
      ]
    },
    {
      "cell_type": "markdown",
      "metadata": {
        "id": "uRmq-NJ06B43"
      },
      "source": [
        "8. Scrivere un programma che permetta ad un utente di inserire il nome di una città è risponda True\n",
        "se quella città è un capoluogo di regione, False altrimenti."
      ]
    },
    {
      "cell_type": "code",
      "metadata": {
        "colab": {
          "base_uri": "https://localhost:8080/"
        },
        "id": "KNe4mRyG6Wng",
        "outputId": "aca8b44e-724d-49dd-8264-1b343cbe97a2"
      },
      "source": [
        "nomeinput = str(input(\"inserire il nome di una citta: \" ))\n",
        "if nomeinput in capoluoghiRegione:\n",
        "  print(\"True\")\n",
        "else:\n",
        "  print(\"False\")"
      ],
      "execution_count": null,
      "outputs": [
        {
          "output_type": "stream",
          "name": "stdout",
          "text": [
            "inserire il nome di una citta: New York\n",
            "False\n"
          ]
        }
      ]
    },
    {
      "cell_type": "code",
      "metadata": {
        "colab": {
          "base_uri": "https://localhost:8080/"
        },
        "id": "-H_Sr4Tsq2p7",
        "outputId": "31d76e82-52c5-4947-86e9-d0c53a3fd40a"
      },
      "source": [
        "#MODO PIU SEMPLICE\n",
        "\n",
        "citta = input()\n",
        "citta in capoluoghiRegione"
      ],
      "execution_count": null,
      "outputs": [
        {
          "name": "stdout",
          "output_type": "stream",
          "text": [
            "Roma\n"
          ]
        },
        {
          "output_type": "execute_result",
          "data": {
            "text/plain": [
              "True"
            ]
          },
          "metadata": {},
          "execution_count": 24
        }
      ]
    },
    {
      "cell_type": "markdown",
      "metadata": {
        "id": "3IsxMbyg7rKu"
      },
      "source": [
        "9. Scrivere un programma che visualizzi i capoluoghi in ordine alfabetico"
      ]
    },
    {
      "cell_type": "code",
      "metadata": {
        "colab": {
          "base_uri": "https://localhost:8080/"
        },
        "id": "faph4qaU7up4",
        "outputId": "a1f895fb-bdf6-4005-dc01-43fecaf6aed5"
      },
      "source": [
        "capoluoghiRegione.sort()\n",
        "print(capoluoghiRegione)"
      ],
      "execution_count": null,
      "outputs": [
        {
          "output_type": "stream",
          "name": "stdout",
          "text": [
            "['Ancona', 'Aosta', 'Aquila', 'Bari', 'Bologna', 'Cagliari', 'Campobasso', 'Catanzaro', 'Firenze', 'Genova', 'Milano', 'Napoli', 'Palermo', 'Perugia', 'Potenza', 'Roma', 'Torino', 'Trento', 'Trieste', 'Venezia']\n"
          ]
        }
      ]
    },
    {
      "cell_type": "markdown",
      "metadata": {
        "id": "cFA6CP5zGfyk"
      },
      "source": [
        "10. Scrivere un programma che visualizzi i capoluoghi in ordine alfabetico inverso (dalla Z alla A)"
      ]
    },
    {
      "cell_type": "code",
      "metadata": {
        "colab": {
          "base_uri": "https://localhost:8080/"
        },
        "id": "ANdlh-xaGkNu",
        "outputId": "46ff2d3e-5fb3-427d-bbb6-34564468d384"
      },
      "source": [
        "capoluoghiRegione.sort(reverse = True)\n",
        "print(capoluoghiRegione)"
      ],
      "execution_count": null,
      "outputs": [
        {
          "output_type": "stream",
          "name": "stdout",
          "text": [
            "['Venezia', 'Trieste', 'Trento', 'Torino', 'Roma', 'Potenza', 'Perugia', 'Palermo', 'Napoli', 'Milano', 'Genova', 'Firenze', 'Catanzaro', 'Campobasso', 'Cagliari', 'Bologna', 'Bari', 'Aquila', 'Aosta', 'Ancona']\n"
          ]
        }
      ]
    },
    {
      "cell_type": "markdown",
      "metadata": {
        "id": "Z6Gam6xjGxc_"
      },
      "source": [
        "11. Scrivere un programma che visualizzi i capoluoghi in ordine sulla base della lunghezza del nome (da\n",
        "quello più corto a quello più lungo)"
      ]
    },
    {
      "cell_type": "code",
      "metadata": {
        "colab": {
          "base_uri": "https://localhost:8080/"
        },
        "id": "4yQih3m8G0_u",
        "outputId": "53dec103-b361-4dcf-b27c-d33681941714"
      },
      "source": [
        "capoluoghiRegione.sort(key = len)\n",
        "print(capoluoghiRegione)"
      ],
      "execution_count": null,
      "outputs": [
        {
          "output_type": "stream",
          "name": "stdout",
          "text": [
            "['Roma', 'Bari', 'Aosta', 'Trento', 'Torino', 'Napoli', 'Milano', 'Genova', 'Aquila', 'Ancona', 'Venezia', 'Trieste', 'Potenza', 'Perugia', 'Palermo', 'Firenze', 'Bologna', 'Cagliari', 'Catanzaro', 'Campobasso']\n"
          ]
        }
      ]
    },
    {
      "cell_type": "markdown",
      "metadata": {
        "id": "KbzvFWukHHYw"
      },
      "source": [
        "12. Scrivere un programma che copi la lista capoluoghiRegione nella lista\n",
        "capoluoghiRegione2 e che elimini dalla prima lista il primo e l’ultimo elemento. Al termine,\n",
        "visualizzare le due liste una sotto l’altra per verificare che effettivamente siano stati eliminati gli\n",
        "elementi della lista originale."
      ]
    },
    {
      "cell_type": "code",
      "metadata": {
        "colab": {
          "base_uri": "https://localhost:8080/"
        },
        "id": "UefCBffTHLMd",
        "outputId": "e5678709-cfbd-4546-9aa0-ffd3b1f25198"
      },
      "source": [
        "capoluoghiRegione2 = capoluoghiRegione\n",
        "print(capoluoghiRegione2)\n",
        "capoluoghiRegione.remove('Aquila')\n",
        "capoluoghiRegione.remove('Venezia')\n",
        "print(capoluoghiRegione)\n",
        "\n"
      ],
      "execution_count": null,
      "outputs": [
        {
          "output_type": "stream",
          "name": "stdout",
          "text": [
            "['Aquila', 'Potenza', 'Catanzaro', 'Napoli', 'Bologna', 'Trieste', 'Roma', 'Genova', 'Milano', 'Ancona', 'Campobasso', 'Torino', 'Bari', 'Cagliari', 'Palermo', 'Firenze', 'Trento', 'Perugia', 'Aosta', 'Venezia']\n",
            "['Potenza', 'Catanzaro', 'Napoli', 'Bologna', 'Trieste', 'Roma', 'Genova', 'Milano', 'Ancona', 'Campobasso', 'Torino', 'Bari', 'Cagliari', 'Palermo', 'Firenze', 'Trento', 'Perugia', 'Aosta']\n"
          ]
        }
      ]
    },
    {
      "cell_type": "code",
      "metadata": {
        "colab": {
          "base_uri": "https://localhost:8080/"
        },
        "id": "ppWggR4QrZNa",
        "outputId": "35a904e5-7f7b-4b57-868e-1d7eac0ec1d5"
      },
      "source": [
        "# SECONDO METODO\n",
        "\n",
        "capoluoghiRegione2 = capoluoghiRegione [:] # PER FARE UNA COPIA DEFINITIVA\n",
        "print(capoluoghiRegione2)\n",
        "capoluoghiRegione.pop()\n",
        "capoluoghiRegione.pop(0)\n",
        "print(capoluoghiRegione)"
      ],
      "execution_count": null,
      "outputs": [
        {
          "output_type": "stream",
          "name": "stdout",
          "text": [
            "['Aquila', 'Potenza', 'Catanzaro', 'Napoli', 'Bologna', 'Trieste', 'Roma', 'Genova', 'Milano', 'Ancona', 'Campobasso', 'Torino', 'Bari', 'Cagliari', 'Palermo', 'Firenze', 'Trento', 'Perugia', 'Aosta', 'Venezia']\n",
            "['Potenza', 'Catanzaro', 'Napoli', 'Bologna', 'Trieste', 'Roma', 'Genova', 'Milano', 'Ancona', 'Campobasso', 'Torino', 'Bari', 'Cagliari', 'Palermo', 'Firenze', 'Trento', 'Perugia', 'Aosta']\n"
          ]
        }
      ]
    },
    {
      "cell_type": "markdown",
      "metadata": {
        "id": "gHPRtfe8JKG3"
      },
      "source": [
        "13. Scrivere un programma che, con una sola istruzione, carichi una lista con i primi 100 numeri interi.\n",
        "Chiamare la lista numeriInteri. Al termine, visualizzare la lista."
      ]
    },
    {
      "cell_type": "code",
      "metadata": {
        "colab": {
          "base_uri": "https://localhost:8080/"
        },
        "id": "PvqoAcG2JN33",
        "outputId": "bb4f76fc-8bf3-4046-8718-5c52c69337df"
      },
      "source": [
        "numeriInteri = []\n",
        "i = 0\n",
        "\n",
        "while i < 101:\n",
        "  numeriInteri.append(i)\n",
        "  i += 1\n",
        "print(numeriInteri)"
      ],
      "execution_count": null,
      "outputs": [
        {
          "output_type": "stream",
          "name": "stdout",
          "text": [
            "[0, 1, 2, 3, 4, 5, 6, 7, 8, 9, 10, 11, 12, 13, 14, 15, 16, 17, 18, 19, 20, 21, 22, 23, 24, 25, 26, 27, 28, 29, 30, 31, 32, 33, 34, 35, 36, 37, 38, 39, 40, 41, 42, 43, 44, 45, 46, 47, 48, 49, 50, 51, 52, 53, 54, 55, 56, 57, 58, 59, 60, 61, 62, 63, 64, 65, 66, 67, 68, 69, 70, 71, 72, 73, 74, 75, 76, 77, 78, 79, 80, 81, 82, 83, 84, 85, 86, 87, 88, 89, 90, 91, 92, 93, 94, 95, 96, 97, 98, 99, 100]\n"
          ]
        }
      ]
    },
    {
      "cell_type": "code",
      "metadata": {
        "colab": {
          "base_uri": "https://localhost:8080/"
        },
        "id": "4h-g5wPTsaRx",
        "outputId": "b12c502d-8a77-4690-87af-66f2fc28346e"
      },
      "source": [
        "NUMINTERI = [i for i in range(0, 101)]\n",
        "print(NUMINTERI)"
      ],
      "execution_count": null,
      "outputs": [
        {
          "output_type": "stream",
          "name": "stdout",
          "text": [
            "[0, 1, 2, 3, 4, 5, 6, 7, 8, 9, 10, 11, 12, 13, 14, 15, 16, 17, 18, 19, 20, 21, 22, 23, 24, 25, 26, 27, 28, 29, 30, 31, 32, 33, 34, 35, 36, 37, 38, 39, 40, 41, 42, 43, 44, 45, 46, 47, 48, 49, 50, 51, 52, 53, 54, 55, 56, 57, 58, 59, 60, 61, 62, 63, 64, 65, 66, 67, 68, 69, 70, 71, 72, 73, 74, 75, 76, 77, 78, 79, 80, 81, 82, 83, 84, 85, 86, 87, 88, 89, 90, 91, 92, 93, 94, 95, 96, 97, 98, 99, 100]\n"
          ]
        }
      ]
    },
    {
      "cell_type": "markdown",
      "metadata": {
        "id": "Jyxnxj96K0Sw"
      },
      "source": [
        "14. Scrivere un programma che permetta all’utente di inserire in una lista 10 numeri interi, elimini i\n",
        "duplicati e visualizzi la lista senza duplicati. Chiamare la lista numeriInteri."
      ]
    },
    {
      "cell_type": "code",
      "metadata": {
        "colab": {
          "base_uri": "https://localhost:8080/"
        },
        "id": "Ua7dA_gfK35T",
        "outputId": "5371ca38-28e9-44f4-fad6-cb79a72dc0a6"
      },
      "source": [
        "numeriInteri = []\n",
        "for i in range(11):\n",
        " numeroinserito = int(input(\"inserire il primo numero: \" ))\n",
        " numeriInteri.append(numeroinserito)\n",
        "setnumeriInteri = set(numeriInteri)\n",
        "print(setnumeriInteri)\n"
      ],
      "execution_count": null,
      "outputs": [
        {
          "output_type": "stream",
          "name": "stdout",
          "text": [
            "inserire il primo numero: 1\n",
            "inserire il primo numero: 1\n",
            "inserire il primo numero: 2\n",
            "inserire il primo numero: 5\n",
            "inserire il primo numero: 5\n",
            "inserire il primo numero: 8\n",
            "inserire il primo numero: 8\n",
            "inserire il primo numero: 7\n",
            "inserire il primo numero: 9\n",
            "inserire il primo numero: 4\n",
            "inserire il primo numero: 6\n",
            "{1, 2, 4, 5, 6, 7, 8, 9}\n"
          ]
        }
      ]
    }
  ]
}