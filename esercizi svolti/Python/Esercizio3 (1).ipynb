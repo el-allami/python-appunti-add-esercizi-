{
  "nbformat": 4,
  "nbformat_minor": 0,
  "metadata": {
    "colab": {
      "name": "Esercizio3.ipynb",
      "provenance": [],
      "collapsed_sections": []
    },
    "kernelspec": {
      "name": "python3",
      "display_name": "Python 3"
    },
    "language_info": {
      "name": "python"
    }
  },
  "cells": [
    {
      "cell_type": "markdown",
      "metadata": {
        "id": "qGsunIYZvbng"
      },
      "source": [
        "Esempio"
      ]
    },
    {
      "cell_type": "code",
      "metadata": {
        "colab": {
          "base_uri": "https://localhost:8080/"
        },
        "id": "KpxXUb0avV7g",
        "outputId": "6e11d153-5f76-4395-aab4-a5b7a7fcca69"
      },
      "source": [
        "telefoni = {'mario': '02643957396', 'ugo': '10294573964', 'paolo': ['10294539657', 39127559397]}\n",
        "telefoni['paolo']"
      ],
      "execution_count": null,
      "outputs": [
        {
          "output_type": "execute_result",
          "data": {
            "text/plain": [
              "['10294539657', 39127559397]"
            ]
          },
          "metadata": {},
          "execution_count": 4
        }
      ]
    },
    {
      "cell_type": "markdown",
      "metadata": {
        "id": "vFJ4mSYAxRrp"
      },
      "source": [
        "1. Scrivere un programma che crei un dizionario contenente i nomi delle regioni e i nomi dei loro\n",
        "capoluoghi. Il nome della regione deve essere il campo chiave. Chiamare il dizionario\n",
        "capoluoghiRegione\n"
      ]
    },
    {
      "cell_type": "code",
      "metadata": {
        "colab": {
          "base_uri": "https://localhost:8080/",
          "height": 35
        },
        "id": "flMoUvuxxU_4",
        "outputId": "5b636acf-06b8-4032-cf6f-696907ac6b85"
      },
      "source": [
        "capoluoghiRegione = {'Abruzzo': 'L\\'Aquila','Basilicata': 'Potenza','Calabria': 'Catanzaro','Campania': 'Napoli','Emilia-Romagna': 'Bologna','Friuli-Venezia Giulia': 'Trieste','Lazio': 'Roma','Liguria': 'Genova','Lombardia': 'Milano','Marche': 'Ancona','Molise': 'Campobasso','Piemonte': 'Torino','Puglia': 'Bari','Sardegna': 'Cagliari','Sicilia': 'Palermo','Toscana': 'Firenze','Trentino-Alto Adige': 'Trento','Umbria': 'Perugia','Valle dAosta': 'Aosta','Veneto': 'Venezia'}\n",
        "capoluoghiRegione['Abruzzo']\n"
      ],
      "execution_count": null,
      "outputs": [
        {
          "output_type": "execute_result",
          "data": {
            "application/vnd.google.colaboratory.intrinsic+json": {
              "type": "string"
            },
            "text/plain": [
              "\"L'Aquila\""
            ]
          },
          "metadata": {},
          "execution_count": 5
        }
      ]
    },
    {
      "cell_type": "markdown",
      "metadata": {
        "id": "3PEazrckz5Rf"
      },
      "source": [
        "2. Scrivere un programma che visualizzi tutti i nomi delle regioni presenti in capoluoghiRegione"
      ]
    },
    {
      "cell_type": "code",
      "metadata": {
        "colab": {
          "base_uri": "https://localhost:8080/"
        },
        "id": "2JXxWI610ANO",
        "outputId": "6a0f0715-2c51-40ae-8ab1-41638fd30565"
      },
      "source": [
        "print(capoluoghiRegione.keys())"
      ],
      "execution_count": null,
      "outputs": [
        {
          "output_type": "stream",
          "name": "stdout",
          "text": [
            "dict_keys(['Abruzzo', 'Basilicata', 'Calabria', 'Campania', 'Emilia-Romagna', 'Friuli-Venezia Giulia', 'Lazio', 'Liguria', 'Lombardia', 'Marche', 'Molise', 'Piemonte', 'Puglia', 'Sardegna', 'Sicilia', 'Toscana', 'Trentino-Alto Adige', 'Umbria', 'Valle dAosta', 'Veneto'])\n"
          ]
        }
      ]
    },
    {
      "cell_type": "markdown",
      "metadata": {
        "id": "x9DEzYgB2TR-"
      },
      "source": [
        "3. Scrivere un programma che visualizzi tutti i nomi dei capoluoghi di regione presenti in\n",
        "capoluoghiRegione"
      ]
    },
    {
      "cell_type": "code",
      "metadata": {
        "colab": {
          "base_uri": "https://localhost:8080/"
        },
        "id": "lTlL8_Fx2Vv2",
        "outputId": "3e26f305-e42c-46d9-fb77-ba381931430e"
      },
      "source": [
        "print( {value for value in capoluoghiRegione.values()})"
      ],
      "execution_count": null,
      "outputs": [
        {
          "output_type": "stream",
          "name": "stdout",
          "text": [
            "{'Bologna', 'Venezia', 'Aosta', 'Catanzaro', 'Firenze', 'Genova', 'Potenza', 'Napoli', 'Torino', 'Palermo', 'Campobasso', 'Trento', 'Aquila', 'Trieste', 'Roma', 'Cagliari', 'Ancona', 'Perugia', 'Bari', 'Milano'}\n"
          ]
        }
      ]
    },
    {
      "cell_type": "markdown",
      "metadata": {
        "id": "5rZV95Wx2vZu"
      },
      "source": [
        "4. Scrivere un programma che acquisisca dall’utente il nome di una regione e fornisca il nome del suo\n",
        "capoluogo."
      ]
    },
    {
      "cell_type": "code",
      "metadata": {
        "colab": {
          "base_uri": "https://localhost:8080/"
        },
        "id": "4Qy9wA-e2xvh",
        "outputId": "8c0f3809-ed84-4638-cc3b-78f6044409bd"
      },
      "source": [
        "regioneinserito = str(input(\"inserire una regione: \" ))\n",
        "print(capoluoghiRegione[regioneinserito])"
      ],
      "execution_count": null,
      "outputs": [
        {
          "output_type": "stream",
          "name": "stdout",
          "text": [
            "inserire una regione: Basilicata\n",
            "Potenza\n"
          ]
        }
      ]
    },
    {
      "cell_type": "markdown",
      "metadata": {
        "id": "_dN6G24i3wHe"
      },
      "source": [
        "5. Scrivere un programma che acquisisca dall’utente il nome di un capoluogo e fornisca il nome della\n",
        "regione a cui appartiene."
      ]
    },
    {
      "cell_type": "code",
      "metadata": {
        "colab": {
          "base_uri": "https://localhost:8080/"
        },
        "id": "kr_WczI_3y2O",
        "outputId": "257d9d49-e36d-49f3-d263-52c01d70572b"
      },
      "source": [
        "\n",
        "\n",
        "\n",
        "# il dizionario viene trasformato in una lista contenente tuple. ogni tupla contiene una regione e il suo capoluogo\n",
        "\n",
        "\n",
        "\n",
        "items = list(capoluoghiRegione.items())\n",
        "print(items)\n",
        "cap = input()\n",
        "\n",
        "for item in items:\n",
        "  if item[1] == cap: # 1 sarebbe la value\n",
        "    c = item[0] # 0 sarebbe la key\n",
        "\n",
        "print(c)"
      ],
      "execution_count": null,
      "outputs": [
        {
          "output_type": "stream",
          "name": "stdout",
          "text": [
            "[('Abruzzo', \"L'Aquila\"), ('Basilicata', 'Potenza'), ('Calabria', 'Catanzaro'), ('Campania', 'Napoli'), ('Emilia-Romagna', 'Bologna'), ('Friuli-Venezia Giulia', 'Trieste'), ('Lazio', 'Roma'), ('Liguria', 'Genova'), ('Lombardia', 'Milano'), ('Marche', 'Ancona'), ('Molise', 'Campobasso'), ('Piemonte', 'Torino'), ('Puglia', 'Bari'), ('Sardegna', 'Cagliari'), ('Sicilia', 'Palermo'), ('Toscana', 'Firenze'), ('Trentino-Alto Adige', 'Trento'), ('Umbria', 'Perugia'), ('Valle dAosta', 'Aosta'), ('Veneto', 'Venezia')]\n",
            "Potenza\n",
            "Basilicata\n"
          ]
        }
      ]
    },
    {
      "cell_type": "markdown",
      "metadata": {
        "id": "VazN9BLs73Ve"
      },
      "source": [
        "6. Scrivere un programma che visualizzi tutte le regioni con i rispettivi capoluoghi"
      ]
    },
    {
      "cell_type": "code",
      "metadata": {
        "id": "FVwGrgLh77q8",
        "colab": {
          "base_uri": "https://localhost:8080/"
        },
        "outputId": "7fe4077f-93dd-435a-9210-ce2e6886fd96"
      },
      "source": [
        "\n",
        "\n",
        "\n",
        "# dividiamo i capoluoghi (in values) dalle regioni (in keys)\n",
        "\n",
        "\n",
        "\n",
        "regioni = list(capoluoghiRegione.keys())\n",
        "capoluoghi = list(capoluoghiRegione.values())\n",
        "\n",
        "for i in range(len(capoluoghiRegione)):\n",
        "  print(regioni[i], capoluoghi[i])\n",
        "\n",
        "  "
      ],
      "execution_count": null,
      "outputs": [
        {
          "output_type": "stream",
          "name": "stdout",
          "text": [
            "Abruzzo L'Aquila\n",
            "Basilicata Potenza\n",
            "Calabria Catanzaro\n",
            "Campania Napoli\n",
            "Emilia-Romagna Bologna\n",
            "Friuli-Venezia Giulia Trieste\n",
            "Lazio Roma\n",
            "Liguria Genova\n",
            "Lombardia Milano\n",
            "Marche Ancona\n",
            "Molise Campobasso\n",
            "Piemonte Torino\n",
            "Puglia Bari\n",
            "Sardegna Cagliari\n",
            "Sicilia Palermo\n",
            "Toscana Firenze\n",
            "Trentino-Alto Adige Trento\n",
            "Umbria Perugia\n",
            "Valle dAosta Aosta\n",
            "Veneto Venezia\n"
          ]
        }
      ]
    },
    {
      "cell_type": "code",
      "metadata": {
        "colab": {
          "base_uri": "https://localhost:8080/"
        },
        "id": "z_GG6I43_PgS",
        "outputId": "037c4229-d786-4ed2-a2cd-a49768a1bc82"
      },
      "source": [
        "\n",
        "# di Parma Manuel\n",
        "\n",
        "print('\\n'.join(('regioni:' + reg + 'capoluogo:' + cap) for (reg, cap) in capoluoghiRegione.items()))\n",
        "\n",
        "# \\n serve per andare a capo\n"
      ],
      "execution_count": null,
      "outputs": [
        {
          "output_type": "stream",
          "name": "stdout",
          "text": [
            "regioni:Abruzzocapoluogo:L'Aquila\n",
            "regioni:Basilicatacapoluogo:Potenza\n",
            "regioni:Calabriacapoluogo:Catanzaro\n",
            "regioni:Campaniacapoluogo:Napoli\n",
            "regioni:Emilia-Romagnacapoluogo:Bologna\n",
            "regioni:Friuli-Venezia Giuliacapoluogo:Trieste\n",
            "regioni:Laziocapoluogo:Roma\n",
            "regioni:Liguriacapoluogo:Genova\n",
            "regioni:Lombardiacapoluogo:Milano\n",
            "regioni:Marchecapoluogo:Ancona\n",
            "regioni:Molisecapoluogo:Campobasso\n",
            "regioni:Piemontecapoluogo:Torino\n",
            "regioni:Pugliacapoluogo:Bari\n",
            "regioni:Sardegnacapoluogo:Cagliari\n",
            "regioni:Siciliacapoluogo:Palermo\n",
            "regioni:Toscanacapoluogo:Firenze\n",
            "regioni:Trentino-Alto Adigecapoluogo:Trento\n",
            "regioni:Umbriacapoluogo:Perugia\n",
            "regioni:Valle dAostacapoluogo:Aosta\n",
            "regioni:Venetocapoluogo:Venezia\n"
          ]
        }
      ]
    },
    {
      "cell_type": "code",
      "metadata": {
        "colab": {
          "base_uri": "https://localhost:8080/"
        },
        "id": "7i22jMjcB_qL",
        "outputId": "2024d00b-d441-462a-c2bd-1b775415c1b4"
      },
      "source": [
        "\n",
        "\n",
        "\n",
        "# di Kappuccitti\n",
        "\n",
        "\n",
        "\n",
        "res = sorted(capoluoghiRegione)\n",
        "print(res)\n",
        "for reg in res:\n",
        "  print(reg + \", \" + capoluoghiRegione[reg])\n"
      ],
      "execution_count": null,
      "outputs": [
        {
          "output_type": "stream",
          "name": "stdout",
          "text": [
            "['Abruzzo', 'Basilicata', 'Calabria', 'Campania', 'Emilia-Romagna', 'Friuli-Venezia Giulia', 'Lazio', 'Liguria', 'Lombardia', 'Marche', 'Molise', 'Piemonte', 'Puglia', 'Sardegna', 'Sicilia', 'Toscana', 'Trentino-Alto Adige', 'Umbria', 'Valle dAosta', 'Veneto']\n",
            "Abruzzo, L'Aquila\n",
            "Basilicata, Potenza\n",
            "Calabria, Catanzaro\n",
            "Campania, Napoli\n",
            "Emilia-Romagna, Bologna\n",
            "Friuli-Venezia Giulia, Trieste\n",
            "Lazio, Roma\n",
            "Liguria, Genova\n",
            "Lombardia, Milano\n",
            "Marche, Ancona\n",
            "Molise, Campobasso\n",
            "Piemonte, Torino\n",
            "Puglia, Bari\n",
            "Sardegna, Cagliari\n",
            "Sicilia, Palermo\n",
            "Toscana, Firenze\n",
            "Trentino-Alto Adige, Trento\n",
            "Umbria, Perugia\n",
            "Valle dAosta, Aosta\n",
            "Veneto, Venezia\n"
          ]
        }
      ]
    },
    {
      "cell_type": "markdown",
      "metadata": {
        "id": "YxmCrtCC8G9k"
      },
      "source": [
        "7. Scrivere un programma che visualizzi tutte le regioni con i rispettivi capoluoghi. Ordinare le regioni\n",
        "in ordine alfabetico"
      ]
    },
    {
      "cell_type": "code",
      "metadata": {
        "colab": {
          "base_uri": "https://localhost:8080/"
        },
        "id": "V3mrmeGx8MCa",
        "outputId": "474a713f-f7e4-4c28-fcfa-2c63049e4c27"
      },
      "source": [
        "key_list = list(capoluoghiRegione.keys())\n",
        "value_list = list(capoluoghiRegione.values())\n",
        "sortedkey_list = sorted(key_list)\n",
        "\n",
        "for i in range(len(capoluoghiRegione)):\n",
        "  print(sortedkey_list[i], value_list[i])"
      ],
      "execution_count": null,
      "outputs": [
        {
          "output_type": "stream",
          "name": "stdout",
          "text": [
            "Abruzzo Aquila\n",
            "Basilicata Potenza\n",
            "Calabria Catanzaro\n",
            "Campania Napoli\n",
            "Emilia-Romagna Bologna\n",
            "Friuli-Venezia Giulia Trieste\n",
            "Lazio Roma\n",
            "Liguria Genova\n",
            "Lombardia Milano\n",
            "Marche Ancona\n",
            "Molise Campobasso\n",
            "Piemonte Torino\n",
            "Puglia Bari\n",
            "Sardegna Cagliari\n",
            "Sicilia Palermo\n",
            "Toscana Firenze\n",
            "Trentino-Alto Adige Trento\n",
            "Umbria Perugia\n",
            "Valle dAosta Aosta\n",
            "Veneto Venezia\n"
          ]
        }
      ]
    },
    {
      "cell_type": "markdown",
      "metadata": {
        "id": "IeSWh0Wu991B"
      },
      "source": [
        "8. Scrivere un programma che visualizzi tutte le regioni con i rispettivi capoluoghi. Ordinare i\n",
        "capoluoghi in ordine alfabetico"
      ]
    },
    {
      "cell_type": "code",
      "metadata": {
        "colab": {
          "base_uri": "https://localhost:8080/"
        },
        "id": "Zth02IWp-CkO",
        "outputId": "ad5a52bd-aac9-41d2-d034-df7f18faea96"
      },
      "source": [
        "key_list = list(capoluoghiRegione.keys())\n",
        "value_list = list(capoluoghiRegione.values())\n",
        "sortedvalue_list = sorted(value_list)\n",
        "\n",
        "for i in range(len(capoluoghiRegione)):\n",
        "  print(key_list[i], sortedvalue_list[i])\n",
        "\n",
        "\n",
        "  # MANCA UN PEZZO DI CODICE"
      ],
      "execution_count": null,
      "outputs": [
        {
          "output_type": "stream",
          "name": "stdout",
          "text": [
            "Abruzzo Ancona\n",
            "Basilicata Aosta\n",
            "Calabria Aquila\n",
            "Campania Bari\n",
            "Emilia-Romagna Bologna\n",
            "Friuli-Venezia Giulia Cagliari\n",
            "Lazio Campobasso\n",
            "Liguria Catanzaro\n",
            "Lombardia Firenze\n",
            "Marche Genova\n",
            "Molise Milano\n",
            "Piemonte Napoli\n",
            "Puglia Palermo\n",
            "Sardegna Perugia\n",
            "Sicilia Potenza\n",
            "Toscana Roma\n",
            "Trentino-Alto Adige Torino\n",
            "Umbria Trento\n",
            "Valle dAosta Trieste\n",
            "Veneto Venezia\n"
          ]
        }
      ]
    },
    {
      "cell_type": "code",
      "metadata": {
        "colab": {
          "base_uri": "https://localhost:8080/"
        },
        "id": "aUjqfD81DVmi",
        "outputId": "97e4f028-2ab9-45de-ad72-257da19e094e"
      },
      "source": [
        "\n",
        "# come ordinare un valore con il suo corrispondente chiave\n",
        "\n",
        "\n",
        "\n",
        "# di giurato\n",
        "\n",
        "\n",
        "regioni = list(capoluoghiRegione.keys())\n",
        "capoluoghi = sorted(list(capoluoghiRegione.values()))\n",
        "o = [''] *20\n",
        "\n",
        "for reg in regioni:\n",
        "  indice = capoluoghi.index(capoluoghiRegione[reg])\n",
        "  o[indice] = reg\n",
        "\n",
        "for cap in capoluoghi:\n",
        "  print(o[capoluoghi.index(cap)], cap)"
      ],
      "execution_count": null,
      "outputs": [
        {
          "output_type": "stream",
          "name": "stdout",
          "text": [
            "Marche Ancona\n",
            "Valle dAosta Aosta\n",
            "Puglia Bari\n",
            "Emilia-Romagna Bologna\n",
            "Sardegna Cagliari\n",
            "Molise Campobasso\n",
            "Calabria Catanzaro\n",
            "Toscana Firenze\n",
            "Liguria Genova\n",
            "Abruzzo L'Aquila\n",
            "Lombardia Milano\n",
            "Campania Napoli\n",
            "Sicilia Palermo\n",
            "Umbria Perugia\n",
            "Basilicata Potenza\n",
            "Lazio Roma\n",
            "Piemonte Torino\n",
            "Trentino-Alto Adige Trento\n",
            "Friuli-Venezia Giulia Trieste\n",
            "Veneto Venezia\n"
          ]
        }
      ]
    },
    {
      "cell_type": "markdown",
      "metadata": {
        "id": "0voI4pWWFZqc"
      },
      "source": [
        "9. Scrivere un programma che carichi in una lista i nomi delle regioni e in un’altra lista i nomi dei\n",
        "rispettivi capoluoghi. Scrivere poi l’istruzione che permette di costruire il dizionario a partire dalle\n",
        "due liste."
      ]
    },
    {
      "cell_type": "code",
      "metadata": {
        "colab": {
          "base_uri": "https://localhost:8080/"
        },
        "id": "Ky72neJoFdWW",
        "outputId": "43c1e504-56c4-46f5-cc44-93bef7ea1c9b"
      },
      "source": [
        "regioni = [\"Abruzzo\",\"Basilicata\",\"Calabria\",\"Campania\",\"Emilia-Romagna\",\"Friuli-Venezia Giulia\",\"Lazio\", \"Liguria\", \"Lombardia\", \"Marche\", \"Molise\",\"Piemonte\",\"Puglia\",\"Sardegna\",\"Sicilia\",\"Toscana\",\"Trentino-Alto Adige\",\"Umbria\",\"Valle dAosta\",\"Veneto\"]\n",
        "capoluoghi = [\"Aquila\",\"Potenza\",\"Catanzaro\",\"Napoli\",\"Bologna\",\"Trieste\",\"Roma\",\"Genova\",\"Milano\",\"Ancona\",\"Campobasso\",\"Torino\",\"Bari\",\"Cagliari\",\"Palermo\",\"Firenze\",\"Trento\",\"Perugia\",\"Aosta\",\"Venezia\"]\n",
        "\n",
        "dictionary = {}\n",
        "\n",
        "for key in regioni:\n",
        "    for value in capoluoghi:\n",
        "        dictionary[key] = value\n",
        "        capoluoghi.remove(value)\n",
        "        break\n",
        "print(str(dictionary))"
      ],
      "execution_count": null,
      "outputs": [
        {
          "output_type": "stream",
          "name": "stdout",
          "text": [
            "{'Abruzzo': 'Aquila', 'Basilicata': 'Potenza', 'Calabria': 'Catanzaro', 'Campania': 'Napoli', 'Emilia-Romagna': 'Bologna', 'Friuli-Venezia Giulia': 'Trieste', 'Lazio': 'Roma', 'Liguria': 'Genova', 'Lombardia': 'Milano', 'Marche': 'Ancona', 'Molise': 'Campobasso', 'Piemonte': 'Torino', 'Puglia': 'Bari', 'Sardegna': 'Cagliari', 'Sicilia': 'Palermo', 'Toscana': 'Firenze', 'Trentino-Alto Adige': 'Trento', 'Umbria': 'Perugia', 'Valle dAosta': 'Aosta', 'Veneto': 'Venezia'}\n"
          ]
        }
      ]
    }
  ]
}