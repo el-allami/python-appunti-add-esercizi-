{
  "nbformat": 4,
  "nbformat_minor": 0,
  "metadata": {
    "colab": {
      "name": "Esercizio4.ipynb",
      "provenance": [],
      "collapsed_sections": []
    },
    "kernelspec": {
      "name": "python3",
      "display_name": "Python 3"
    },
    "language_info": {
      "name": "python"
    }
  },
  "cells": [
    {
      "cell_type": "markdown",
      "metadata": {
        "id": "iFERZvWmrvmH"
      },
      "source": [
        "1. scrivere una funzione chiamata media che dati due numeri restituisca la media. Utilizzare poi la funzione in un programma che acquisisca dall'utente due numeri e calcoli la media\n"
      ]
    },
    {
      "cell_type": "code",
      "metadata": {
        "colab": {
          "base_uri": "https://localhost:8080/"
        },
        "id": "90nWKFB4rrzE",
        "outputId": "9ace030d-b709-48ed-96c0-2796dc1abbf0"
      },
      "source": [
        "def media(x,y):\n",
        "  lamedia = (x + y) / 2\n",
        "  print(lamedia)\n",
        "  \n",
        "x = int(input())\n",
        "y = int(input())\n",
        "media(x,y)"
      ],
      "execution_count": null,
      "outputs": [
        {
          "output_type": "stream",
          "name": "stdout",
          "text": [
            "2\n",
            "4\n",
            "3.0\n"
          ]
        }
      ]
    },
    {
      "cell_type": "markdown",
      "metadata": {
        "id": "52yLwSw3seRY"
      },
      "source": [
        "2. scrivere una funzione chiamata piuCorta che date due liste restituisca la lista con meno elementi. Utilizzare poi la funzione in un programma che acquisisca dall'utente due liste e visualizzi gli elementi della lista più corta."
      ]
    },
    {
      "cell_type": "code",
      "metadata": {
        "colab": {
          "base_uri": "https://localhost:8080/"
        },
        "id": "wBgvx32xsg7v",
        "outputId": "d46c4841-898f-4cfd-cbf3-79cf9b527162"
      },
      "source": [
        "list1 = []\n",
        "list2 = []\n",
        "\n",
        "def piuCorta(list1,list2):\n",
        "  \n",
        "  \n",
        "  if len(list1) < len(list2):\n",
        "    print(\"List 1 ha meno elementi, e sono: \")\n",
        "    print(list1)\n",
        "  else:\n",
        "    print(\"list 2 ha meno elementi, e sono:def\")\n",
        "    print(list2)\n",
        "\n",
        "numelementi1 = int(input(\"inserire numero totale di elementi: \"))\n",
        "for i in range(0, numelementi1):\n",
        "  elementi = str(input())\n",
        "  list1.append(elementi)\n",
        "\n",
        "numelementi2 = int(input(\"inserire numero totale di elementi: \"))\n",
        "for i in range(0, numelementi2):\n",
        "  elementi = str(input())\n",
        "  list2.append(elementi)\n",
        "\n",
        "piuCorta(list1,list2)"
      ],
      "execution_count": null,
      "outputs": [
        {
          "output_type": "stream",
          "name": "stdout",
          "text": [
            "inserire numero totale di elementi: 5\n",
            "\n",
            "e\n",
            "d\n",
            "f\n",
            "r\n",
            "inserire numero totale di elementi: 3\n",
            "d\n",
            "g\n",
            "e\n",
            "list 2 ha meno elementi, e sono:\n",
            "['d', 'g', 'e']\n"
          ]
        }
      ]
    },
    {
      "cell_type": "code",
      "metadata": {
        "colab": {
          "base_uri": "https://localhost:8080/"
        },
        "id": "EacYtK47_Czq",
        "outputId": "00331805-9b9f-4cc0-8a9c-ca17da9aec65"
      },
      "source": [
        "# MODO piu veloce\n",
        "\n",
        "def piuCorta(lista1, lista2):\n",
        "  return min(lista1, lista2)\n",
        "\n",
        "  #########\n",
        "\n",
        "\n",
        "\n",
        "def piuCorta2(numeri,numeri2):\n",
        "  if len(numeri) > len(numeri2):\n",
        "    return numeri2\n",
        "  else:\n",
        "    return numeri\n",
        "\n",
        "\n",
        "# come trasformare una stringa in una lista\n",
        "numeri = [ int(s) for s in input(\"inserisci valori: \").split()]   # s = numeri\n",
        "numeri2 = [ int(s) for s in input(\"inserisci valori: \").split()]\n",
        "print(piuCorta2(numeri, numeri2))\n",
        "\n",
        "\n",
        "\n",
        "\n"
      ],
      "execution_count": null,
      "outputs": [
        {
          "output_type": "stream",
          "name": "stdout",
          "text": [
            "inserisci valori: 3 4\n",
            "inserisci valori: 3\n",
            "[3]\n"
          ]
        }
      ]
    },
    {
      "cell_type": "markdown",
      "metadata": {
        "id": "HpBF-wZ_CyeT"
      },
      "source": [
        "scrivere una programma che date 4 liste visualizzi la piu corta. utilizzare la funzione piuCorta2."
      ]
    },
    {
      "cell_type": "code",
      "metadata": {
        "colab": {
          "base_uri": "https://localhost:8080/"
        },
        "id": "SYBKY5gRDHby",
        "outputId": "98ac62e2-d99e-41e2-aaf1-96b9566e079c"
      },
      "source": [
        "numeri = [int(s)for s in input(\"inserisci valori: \").split()]   # s = numeri\n",
        "numeri2 = [int(s)for s in input(\"inserisci valori: \").split()]\n",
        "numeri3 = [int(s)for s in input(\"inserisci valori: \").split()]\n",
        "numeri4 = [int(s)for s in input(\"inserisci valori: \").split()]\n",
        "print(piuCorta2(numeri4,piuCorta2(piuCorta2(numeri, numeri2), numeri3)))"
      ],
      "execution_count": null,
      "outputs": [
        {
          "output_type": "stream",
          "name": "stdout",
          "text": [
            "inserisci valori: 2\n",
            "inserisci valori: 3 4\n",
            "inserisci valori: 3 4 5\n",
            "inserisci valori: 4 5 6 7\n",
            "[2]\n"
          ]
        }
      ]
    },
    {
      "cell_type": "markdown",
      "metadata": {
        "id": "GzWkEHlytLPv"
      },
      "source": [
        "3. scrivere una funzione chiamata costruisciLista che dati due numeri interi restituisca la lista formata da tutti i numeri interi compresi tra i due numeri dati. Utilizzare poi la funzione in un programma che acquisisca dall'utente due numeri e visualizzi la lista formata da tutti i numeri interi compresi tra i due numeri dati ma a partire dal più grande fino al più piccolo."
      ]
    },
    {
      "cell_type": "code",
      "metadata": {
        "colab": {
          "base_uri": "https://localhost:8080/"
        },
        "id": "pazjRXhwtNGZ",
        "outputId": "f3e3fae5-0ee3-4360-a6b1-44192a61da91"
      },
      "source": [
        "def costruisciLista():\n",
        "  if num1>num2:\n",
        "    print(\"il primo numero deve essere piu grande del secondo numero\")\n",
        "  else:\n",
        "    lista = list(range(num1 + 1, num2))\n",
        "    print(lista)\n",
        "    print(sorted(lista,reverse=True)) \n",
        "\n",
        "num1 = int(input(\"inserisci il primo numero: \"))\n",
        "num2 = int(input(\"inserisci il secondo numero: \"))\n",
        "costruisciLista()\n",
        "\n"
      ],
      "execution_count": null,
      "outputs": [
        {
          "output_type": "stream",
          "name": "stdout",
          "text": [
            "inserisci il primo numero: 2\n",
            "inserisci il secondo numero: 10\n",
            "[3, 4, 5, 6, 7, 8, 9]\n",
            "[9, 8, 7, 6, 5, 4, 3]\n"
          ]
        }
      ]
    },
    {
      "cell_type": "code",
      "metadata": {
        "colab": {
          "base_uri": "https://localhost:8080/"
        },
        "id": "zgQw3gP-ExSj",
        "outputId": "0860c002-2191-4d0a-98de-8f45e8a207e3"
      },
      "source": [
        "# Bono \n",
        "# piu efficiente\n",
        "def costruisciLista(x,y):\n",
        "  a = min(x,y)\n",
        "  b = max(x,y)\n",
        "  lst = [i for i in range(a,b+1)]\n",
        "  return lst\n",
        "\n",
        "  \n",
        "lista = costruisciLista(int(input()), int(input()))\n",
        "lista.reverse()\n",
        "print(lista)"
      ],
      "execution_count": null,
      "outputs": [
        {
          "output_type": "stream",
          "name": "stdout",
          "text": [
            "4\n",
            "9\n",
            "[9, 8, 7, 6, 5, 4]\n"
          ]
        }
      ]
    },
    {
      "cell_type": "markdown",
      "metadata": {
        "id": "O7b6qgoX40lT"
      },
      "source": [
        "4. scrivere una funzione chiamata valoreAssoluto che dato un numero restituisca il suo valore assoluto. Utilizzare poi questa funzione per determinare il valore assoluto degli elementi di una lista inserita dall'utente."
      ]
    },
    {
      "cell_type": "code",
      "metadata": {
        "colab": {
          "base_uri": "https://localhost:8080/"
        },
        "id": "NAtmgcjeAtPi",
        "outputId": "425b5b7b-e818-48c2-cf6f-119c42cf3b45"
      },
      "source": [
        "arr = input(\"inserisci dei numeri:\").split(',')\n",
        "\n",
        "def valore_assoluto(randomthinginsidesoitwillwork):\n",
        "  return abs(randomthinginsidesoitwillwork)\n",
        "\n",
        "print([valore_assoluto(float(i)) for i in arr])"
      ],
      "execution_count": null,
      "outputs": [
        {
          "output_type": "stream",
          "name": "stdout",
          "text": [
            "inserisci dei numeri:-2,-2.2\n",
            "[2.0, 2.2]\n"
          ]
        }
      ]
    },
    {
      "cell_type": "code",
      "metadata": {
        "id": "e48mNRV2GMmf"
      },
      "source": [
        "\n",
        "# modo migliore\n",
        "\n",
        "def valoreAssoluto(x):\n",
        "  return [abs(a) for a in x]\n",
        "\n",
        "x = int(input(\"elementi lista: \"))\n",
        "lst = [int(input(\"elementi lista: \")) for i in range(x)]\n",
        "\n",
        "print(valoreAssoluto(x))\n"
      ],
      "execution_count": null,
      "outputs": []
    },
    {
      "cell_type": "markdown",
      "metadata": {
        "id": "3caqPxoBCsgD"
      },
      "source": [
        "5. scrivere una funzione chiamata scambia che data una lista scambi il primo elemento con l'ultimo, il secondo con il penultimo e così via. Utilizzare poi la funzione in un programma che acquisisca dall'utente una lista di 10 elementi e li visualizzi scambiati."
      ]
    },
    {
      "cell_type": "code",
      "metadata": {
        "id": "H7StYENDCu3S",
        "colab": {
          "base_uri": "https://localhost:8080/"
        },
        "outputId": "010d8b2c-ee0b-4aef-98b5-d478ca3b3add"
      },
      "source": [
        "def scambia(lst):   # lista e il parametro formale\n",
        "  lst.reverse()\n",
        "  return lst\n",
        "\n",
        "elementi = [int(input(\"inserisci numeri: \")) for i in range(10)]     #  elementi è il parametro attuale\n",
        "\n",
        "elementi2 = elementi [:]\n",
        "print(elementi)\n",
        "print(scambia(elementi2))\n",
        "\n"
      ],
      "execution_count": null,
      "outputs": [
        {
          "output_type": "stream",
          "name": "stdout",
          "text": [
            "inserisci numeri: 1\n",
            "inserisci numeri: 2\n",
            "inserisci numeri: 3\n",
            "inserisci numeri: 4\n",
            "inserisci numeri: 5\n",
            "inserisci numeri: 6\n",
            "inserisci numeri: 7\n",
            "inserisci numeri: 8\n",
            "inserisci numeri: 9\n",
            "inserisci numeri: 10\n",
            "[1, 2, 3, 4, 5, 6, 7, 8, 9, 10]\n",
            "[10, 9, 8, 7, 6, 5, 4, 3, 2, 1]\n"
          ]
        }
      ]
    },
    {
      "cell_type": "markdown",
      "metadata": {
        "id": "DmfZ7nxOtPIJ"
      },
      "source": [
        "6. scrivere una funzione lambda che dati due numeri calcoli la loro somma. Utilizzare la funzione in un programma che chieda all'utente due numeri interi e visualizzi la loro somma."
      ]
    },
    {
      "cell_type": "code",
      "metadata": {
        "colab": {
          "base_uri": "https://localhost:8080/"
        },
        "id": "kbNJ3ZYHtSJ5",
        "outputId": "e775a44c-a528-4545-a084-c291624a17f0"
      },
      "source": [
        "\n",
        "primonumero = int(input(\"insert first number: \"))\n",
        "secondonumero = int(input(\"insert second number: \"))\n",
        "\n",
        "somma = lambda primonumero, secondonumero: primonumero + secondonumero\n",
        "\n",
        "result = somma(primonumero, secondonumero)\n",
        "print(\"La somma è:\", result)\n",
        "  \n"
      ],
      "execution_count": null,
      "outputs": [
        {
          "output_type": "stream",
          "name": "stdout",
          "text": [
            "insert first number: 2\n",
            "insert second number: 3\n",
            "La somma è: 5\n"
          ]
        }
      ]
    },
    {
      "cell_type": "code",
      "metadata": {
        "colab": {
          "base_uri": "https://localhost:8080/"
        },
        "id": "ka0VD3dEyhax",
        "outputId": "2f7e727d-d9f2-4286-8246-ba5262eb1bc3"
      },
      "source": [
        "#di gebrous\n",
        "\n",
        "math = lambda x,y: x + y\n",
        "\n",
        "math(int(input('')),int(input('')))"
      ],
      "execution_count": null,
      "outputs": [
        {
          "name": "stdout",
          "output_type": "stream",
          "text": [
            "10\n",
            "2\n"
          ]
        },
        {
          "output_type": "execute_result",
          "data": {
            "text/plain": [
              "12"
            ]
          },
          "metadata": {},
          "execution_count": 12
        }
      ]
    },
    {
      "cell_type": "markdown",
      "metadata": {
        "id": "L5vOi7bbw-Zh"
      },
      "source": [
        "7. scrivere un programma che utilizzi una lambda function per aumentare di 10 unità tutti gli elementi di una lista di interi inserita dall'utente."
      ]
    },
    {
      "cell_type": "code",
      "metadata": {
        "colab": {
          "base_uri": "https://localhost:8080/"
        },
        "id": "G0wwZIlYMCZ_",
        "outputId": "0e40a9ad-292c-4251-a7db-98ec89dd6df2"
      },
      "source": [
        "listaelementi = []\n",
        "n = int(input(\"Inserisci il numero di elementi: \"))\n",
        "\n",
        "for i in range(0, n):\n",
        "    ele = int(input())\n",
        "    listaelementi.append(ele)\n",
        "\n",
        "lista =list(map(lambda x: x + 10, listaelementi)) # consente di elaborare e trasformare tutti gli elementi in una lista iterabile senza utilizzare un ciclo for \n",
        "print(lista)"
      ],
      "execution_count": null,
      "outputs": [
        {
          "output_type": "stream",
          "name": "stdout",
          "text": [
            "Inserisci il numero di elementi: 2\n",
            "5\n",
            "4\n",
            "[15, 14]\n"
          ]
        }
      ]
    },
    {
      "cell_type": "code",
      "metadata": {
        "id": "xT-_zlqUzH0Y",
        "colab": {
          "base_uri": "https://localhost:8080/"
        },
        "outputId": "86e808d3-9621-46e5-cf16-f3eada2a2b6a"
      },
      "source": [
        "# di gebrous\n",
        "\n",
        "lst = [int(input(\"Inserisci il numero di elementi: \")) for i in range(0,4)]\n",
        "list(map(lambda x: x+ 10, lst))"
      ],
      "execution_count": null,
      "outputs": [
        {
          "name": "stdout",
          "output_type": "stream",
          "text": [
            "Inserisci il numero di elementi: 3\n",
            "Inserisci il numero di elementi: 5\n",
            "Inserisci il numero di elementi: 6\n",
            "Inserisci il numero di elementi: 5\n"
          ]
        },
        {
          "output_type": "execute_result",
          "data": {
            "text/plain": [
              "[13, 15, 16, 15]"
            ]
          },
          "metadata": {},
          "execution_count": 3
        }
      ]
    },
    {
      "cell_type": "markdown",
      "metadata": {
        "id": "o7H16Ae_Shqo"
      },
      "source": [
        "8. scrivere una funzione lambda che sostituisca il valore 0 se il parametro è negativo, il valore del parametro se è positivo. Utilizzare poi la funzione in un programma che chieda all'utente i 10 elementi di una lista e visualizzi la lista con il valore 0 al posto dei numeri negativi."
      ]
    },
    {
      "cell_type": "code",
      "metadata": {
        "id": "PF9bs48SVpza",
        "colab": {
          "base_uri": "https://localhost:8080/"
        },
        "outputId": "8f149079-a054-4d6d-ff40-cdfde6b3fc7f"
      },
      "source": [
        "def sost(valore):\n",
        "  if valore < 0:\n",
        "    return 0\n",
        "  else:\n",
        "    return valore\n",
        "\n",
        "lista = [int(input(\"inserisci numeri: \")) for i in range(10)]\n",
        "lista2 = [sost(elemento) for elemento in lista]\n",
        "\n",
        "print(lista)\n",
        "print(lista2)"
      ],
      "execution_count": null,
      "outputs": [
        {
          "output_type": "stream",
          "name": "stdout",
          "text": [
            "inserisci numeri: -2\n",
            "inserisci numeri: 1\n",
            "inserisci numeri: -4\n",
            "inserisci numeri: 3\n",
            "inserisci numeri: 7\n",
            "inserisci numeri: 5\n",
            "inserisci numeri: 8\n",
            "inserisci numeri: 6\n",
            "inserisci numeri: 5\n",
            "inserisci numeri: 4\n",
            "[-2, 1, -4, 3, 7, 5, 8, 6, 5, 4]\n",
            "[-2, 1, -4, 3, 7, 5, 8, 6, 5, 4]\n"
          ]
        }
      ]
    },
    {
      "cell_type": "code",
      "metadata": {
        "colab": {
          "base_uri": "https://localhost:8080/"
        },
        "id": "LJe-YdBc6LU5",
        "outputId": "75eaddc1-a34b-4c00-b9ab-eaf98d84d3d6"
      },
      "source": [
        "sost2 = lambda x: x if x >= 0 else 0\n",
        "\n",
        "lista3 = [sost2(elemento) for elemento in lista]\n",
        "print(lista3)"
      ],
      "execution_count": null,
      "outputs": [
        {
          "output_type": "stream",
          "name": "stdout",
          "text": [
            "[0, 1, 0, 3, 7, 5, 8, 6, 5, 4]\n"
          ]
        }
      ]
    },
    {
      "cell_type": "markdown",
      "metadata": {
        "id": "pTAqqcvFVsvx"
      },
      "source": [
        "9. scrivere un programma che calcoli il fattoriale di un numero utilizzando una lambda function. Provare a realizzare una lambda function ricorsiva (per la ricorsione, google it...)"
      ]
    },
    {
      "cell_type": "code",
      "metadata": {
        "id": "0G4LxTBqVvJA",
        "colab": {
          "base_uri": "https://localhost:8080/"
        },
        "outputId": "d402055a-13d0-4a67-d1f4-2b30a880468f"
      },
      "source": [
        "fattoriale = lambda n: 1 if n == 0 else n * fattoriale(n-1)\n",
        "fattoriale(968)"
      ],
      "execution_count": null,
      "outputs": [
        {
          "output_type": "execute_result",
          "data": {
            "text/plain": [
              "664281859377706235192276234565735250298568313080526163562226238075190230264260968184891752376551055458858868845802771628998265183359657872849110022955882655189833013229049439318347811680355299701904679694647881149111960747002616558499159930034562656909570044323303107667613126850702236175933392658287984267795168869866655546086373961126640643493002192149149589430599885850470638761667252980522443755822245696263607872205631669346321628886572549328231847211559951826546237412596594227374267165676091028080773281367997049855638888289693960776920898443319590886522505141920372578800743515002232457035837540322152095005614039813604940244740322154291989440470969758700664661206389740639685720542157509260553812351796372638856443137152445775461105022165213448780995031143624923972342176598057489490032310361156551978888682608614105985955471234328654986436508921031947491856978125270693505979483833975868938803000183499601990951768261614953969456203601790994331224932421694290073628552184232742758034388762816373139491535489873471003958890525853918831534178546689330491330536547725283747803439836444446686636364959567448398503288367883690540658265662821767308792812082252570803466521792843597654003420008122537336884893013129091158834382300606656480872235523350294508829733670488820174822559406868193015100879062889628448581229840345645893314304232228206458630258163150562583853136112224332490697072456997229389058751315238439641541541620827302400266663488380417676391944451359847595528565068633223383159791538709891415420262977834308648078493095741788601534309143636175862955283418424715831760243609217052270707883580084081809212733334375045732533594318319088178984355011010043779685654814694511560095464396131045602018897308591795762650046234954923255043382175979167812948383373984946306663853569834366905802758443498159140215108265020134392390695222990876084873772394232715419443503472974237462776879829648140005803152750153482561231977493094790737598781535881102558770598040372737018562185088875063368629875191668273801474753544765169528968047055394726165070658202074377925031548589573668994437364746283719197598621980176359865919509098133211316156147859804034333315519977260946172624443111086625505843823618065133882891620807626824089600000000000000000000000000000000000000000000000000000000000000000000000000000000000000000000000000000000000000000000000000000000000000000000000000000000000000000000000000000000000000000000000000000000000000000000000000000000000000000000000"
            ]
          },
          "metadata": {},
          "execution_count": 33
        }
      ]
    }
  ]
}