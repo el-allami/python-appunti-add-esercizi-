{
  "nbformat": 4,
  "nbformat_minor": 0,
  "metadata": {
    "colab": {
      "name": "Esercizio1.ipynb",
      "provenance": [],
      "collapsed_sections": []
    },
    "kernelspec": {
      "name": "python3",
      "display_name": "Python 3"
    },
    "language_info": {
      "name": "python"
    }
  },
  "cells": [
    {
      "cell_type": "markdown",
      "metadata": {
        "id": "igYjYw97hcHX"
      },
      "source": [
        "a. far inserire all'utente due valori interi"
      ]
    },
    {
      "cell_type": "code",
      "metadata": {
        "colab": {
          "base_uri": "https://localhost:8080/"
        },
        "id": "K9PzYCimhhXV",
        "outputId": "5b25f675-48a0-4aae-d53a-dd541922557a"
      },
      "source": [
        "num1 = int(input(\"inserire il primo numero: \" ))\n",
        "num2 = int(input(\"inserire il secondo numero: \" ))"
      ],
      "execution_count": null,
      "outputs": [
        {
          "name": "stdout",
          "output_type": "stream",
          "text": [
            "inserire il primo numero: 5\n",
            "inserire il secondo numero: 2\n"
          ]
        }
      ]
    },
    {
      "cell_type": "markdown",
      "metadata": {
        "id": "ILP6z6uViPGl"
      },
      "source": [
        "b. effettuare le 4 operazioni aritmetiche tra i due numeri"
      ]
    },
    {
      "cell_type": "code",
      "metadata": {
        "colab": {
          "base_uri": "https://localhost:8080/"
        },
        "id": "Pz1ZnL78iUC8",
        "outputId": "7dba87e8-37f9-4be6-f580-1c81295da7e6"
      },
      "source": [
        "addition = num1 + num2\n",
        "print(num1, \"+\", num2, \"=\", addition)\n",
        "subtraction = num1 - num2\n",
        "print(num1, \"-\", num2, \"=\", subtraction)\n",
        "moltiplication = num1 * num2\n",
        "print(num1, \"*\", num2, \"=\", moltiplication)\n",
        "division = num1 / num2\n",
        "print(num1, \"/\", num2, \"=\", division)"
      ],
      "execution_count": null,
      "outputs": [
        {
          "output_type": "stream",
          "name": "stdout",
          "text": [
            "22 + 7 = 29\n",
            "22 - 7 = 15\n",
            "22 * 7 = 154\n",
            "22 / 7 = 3.142857142857143\n"
          ]
        }
      ]
    },
    {
      "cell_type": "markdown",
      "metadata": {
        "id": "N0_3QJ_UjniF"
      },
      "source": [
        "c. effettuare l'elevamento a potenza del primo numero per il secondo"
      ]
    },
    {
      "cell_type": "code",
      "metadata": {
        "colab": {
          "base_uri": "https://localhost:8080/"
        },
        "id": "TAYzT_MqjuWe",
        "outputId": "960f095a-2143-4ee3-ed94-0bfdecd3fee1"
      },
      "source": [
        "power = num1**num2\n",
        "print(power)"
      ],
      "execution_count": null,
      "outputs": [
        {
          "output_type": "stream",
          "name": "stdout",
          "text": [
            "512\n"
          ]
        }
      ]
    },
    {
      "cell_type": "markdown",
      "metadata": {
        "id": "4zXTkNI5kDQt"
      },
      "source": [
        "d. effettuare il calcolo del resto della divisione tra il primo e il secondo numero"
      ]
    },
    {
      "cell_type": "code",
      "metadata": {
        "colab": {
          "base_uri": "https://localhost:8080/"
        },
        "id": "JIiDfwoMkIFj",
        "outputId": "5f12767c-44c1-4d44-d75e-6081af840829"
      },
      "source": [
        "remainder = num1 % num2\n",
        "print(remainder)"
      ],
      "execution_count": null,
      "outputs": [
        {
          "output_type": "stream",
          "name": "stdout",
          "text": [
            "1\n"
          ]
        }
      ]
    },
    {
      "cell_type": "markdown",
      "metadata": {
        "id": "WDsUDGQhlTRE"
      },
      "source": [
        "f. effettuare la divisione intera tra il primo e il secondo numero"
      ]
    },
    {
      "cell_type": "code",
      "metadata": {
        "colab": {
          "base_uri": "https://localhost:8080/"
        },
        "id": "YduCJnt0lWjd",
        "outputId": "911ccdf9-08cf-4970-a02c-7c78ce29f423"
      },
      "source": [
        "divintera = num1 // num2\n",
        "print(divintera)"
      ],
      "execution_count": null,
      "outputs": [
        {
          "output_type": "stream",
          "name": "stdout",
          "text": [
            "3\n"
          ]
        }
      ]
    },
    {
      "cell_type": "markdown",
      "metadata": {
        "id": "CsrUlSXqlzWC"
      },
      "source": [
        "g. incrementare di una unità entrambi i numeri"
      ]
    },
    {
      "cell_type": "code",
      "metadata": {
        "colab": {
          "base_uri": "https://localhost:8080/"
        },
        "id": "TqDUQ609l3jb",
        "outputId": "4164ebfe-c035-490b-e737-c671064f0f0b"
      },
      "source": [
        "num1 +=1 \n",
        "num2 +=1 \n",
        "\n",
        "print(num1)\n",
        "print(num2)\n"
      ],
      "execution_count": null,
      "outputs": [
        {
          "output_type": "stream",
          "name": "stdout",
          "text": [
            "22\n",
            "7\n"
          ]
        }
      ]
    },
    {
      "cell_type": "markdown",
      "metadata": {
        "id": "YyrKH7RQmKF8"
      },
      "source": [
        "h. far inserie all'utente due valori: il primo rappresenta la sua altezza (in metri) e il secondo rappresenta il suo peso (in kg). Visualizzare poi l'IMC (google it...)"
      ]
    },
    {
      "cell_type": "code",
      "metadata": {
        "colab": {
          "base_uri": "https://localhost:8080/"
        },
        "id": "6_KfTGQdmNeL",
        "outputId": "f436f70e-740b-446b-c7a0-0fa589101217"
      },
      "source": [
        "heightstring = float(input(\"inserire la tua altezza(m): \" ))\n",
        "weightstring = float(input(\"inserire il tuo peso(kg): \" ))\n",
        "IMC = weightstring / heightstring**2\n",
        "print(IMC)\n",
        "\n",
        "\n",
        "\n"
      ],
      "execution_count": null,
      "outputs": [
        {
          "output_type": "stream",
          "name": "stdout",
          "text": [
            "inserire la tua altezza(m): 1.75\n",
            "inserire il tuo peso(kg): 73\n",
            "23.836734693877553\n"
          ]
        }
      ]
    },
    {
      "cell_type": "markdown",
      "metadata": {
        "id": "lwOfpFB2weQ7"
      },
      "source": [
        "i. arrotondare l'IMC precedente"
      ]
    },
    {
      "cell_type": "code",
      "metadata": {
        "colab": {
          "base_uri": "https://localhost:8080/"
        },
        "id": "9-X25WqxwjgD",
        "outputId": "230e1224-d4ef-4332-f528-be0a6b340298"
      },
      "source": [
        "roundedIMC = round(IMC)\n",
        "\n",
        "print(roundedIMC)\n"
      ],
      "execution_count": null,
      "outputs": [
        {
          "output_type": "stream",
          "name": "stdout",
          "text": [
            "24\n"
          ]
        }
      ]
    },
    {
      "cell_type": "markdown",
      "metadata": {
        "id": "PPvKNp3x3RCs"
      },
      "source": [
        "j. visualizzare il proprio nome, cognome, data di nascita e città di nascita separando le informazioni con un trattino."
      ]
    },
    {
      "cell_type": "code",
      "metadata": {
        "colab": {
          "base_uri": "https://localhost:8080/"
        },
        "id": "70MYJZkM3gjI",
        "outputId": "cbaea1d7-9c8e-4980-94b5-3ab2cfa2394e"
      },
      "source": [
        "print(\"Luke - Basco - 12/04/05 - Solano\")\n",
        "\n",
        "nome = input(\"nome: \")\n",
        "cognome = input(\"cognome: \")\n",
        "data_di_nascita = input(\"data di nascita: \")\n",
        "citta_di_nascita = input(\"citta di nascita: \")\n",
        "\n",
        "print(nome, cognome, data_di_nascita, citta_di_nascita, sep='-fa')\n"
      ],
      "execution_count": null,
      "outputs": [
        {
          "output_type": "stream",
          "name": "stdout",
          "text": [
            "Luke - Basco - 12/04/05 - Solano\n",
            "nome: afd\n",
            "cognome: dfasg\n",
            "data di nascita: gsgs\n",
            "citta di nascita: fefeeffea\n",
            "afd-dfasg-gsgs-fefeeffea\n"
          ]
        }
      ]
    },
    {
      "cell_type": "markdown",
      "metadata": {
        "id": "BjJQhf8G4jh1"
      },
      "source": [
        "k. visualizzare le stesse informazioni per 10 volte di seguito"
      ]
    },
    {
      "cell_type": "code",
      "metadata": {
        "colab": {
          "base_uri": "https://localhost:8080/"
        },
        "id": "6_sUrxNm4orb",
        "outputId": "c32e00dc-089c-4346-a089-be16991b40a1"
      },
      "source": [
        "info = nome +' '+ cognome +' '+ data_di_nascita +' '+ citta_di_nascita + '\\n'\n",
        "\n",
        "print(info * 10)"
      ],
      "execution_count": null,
      "outputs": [
        {
          "output_type": "stream",
          "name": "stdout",
          "text": [
            "afd dfasg gsgs fefeeffea\n",
            "afd dfasg gsgs fefeeffea\n",
            "afd dfasg gsgs fefeeffea\n",
            "afd dfasg gsgs fefeeffea\n",
            "afd dfasg gsgs fefeeffea\n",
            "afd dfasg gsgs fefeeffea\n",
            "afd dfasg gsgs fefeeffea\n",
            "afd dfasg gsgs fefeeffea\n",
            "afd dfasg gsgs fefeeffea\n",
            "afd dfasg gsgs fefeeffea\n",
            "\n"
          ]
        }
      ]
    },
    {
      "cell_type": "markdown",
      "metadata": {
        "id": "C3UHfy1b56j3"
      },
      "source": [
        "l. assegnare il proprio nome e cognome ad una stringa e visualizzarla con tutte le lettere maiuscole"
      ]
    },
    {
      "cell_type": "code",
      "metadata": {
        "colab": {
          "base_uri": "https://localhost:8080/"
        },
        "id": "OyoTk2W25-yt",
        "outputId": "fdb9e186-e60c-40fa-9d5b-91f19cb64a02"
      },
      "source": [
        "Name = \"Luke\"\n",
        "Surename = \"Basco\"\n",
        "\n",
        "print(\"%s \"%Name.upper() + '%s'%Surename.upper())"
      ],
      "execution_count": null,
      "outputs": [
        {
          "output_type": "stream",
          "name": "stdout",
          "text": [
            "LUKE BASCO\n"
          ]
        }
      ]
    },
    {
      "cell_type": "markdown",
      "metadata": {
        "id": "I1I89UMz76qc"
      },
      "source": [
        "m. assegnare il proprio nome e cognome ad una stringa e visualizzarla con le prime lettere maiuscole"
      ]
    },
    {
      "cell_type": "code",
      "metadata": {
        "colab": {
          "base_uri": "https://localhost:8080/"
        },
        "id": "Cgw3S-pk7-vw",
        "outputId": "e6e0abd2-058b-441c-c04e-b7b0c3d21fa4"
      },
      "source": [
        "Name = \"luke\"\n",
        "Surename =\"basco\"\n",
        "\n",
        "print(\"%s \"%Name.title() + \"%s\"%Surename.title())"
      ],
      "execution_count": null,
      "outputs": [
        {
          "output_type": "stream",
          "name": "stdout",
          "text": [
            "Luke Basco\n"
          ]
        }
      ]
    },
    {
      "cell_type": "markdown",
      "metadata": {
        "id": "XIx4Sgw581qm"
      },
      "source": [
        "n. assegnare il proprio nome e cognome ad una stringa e visualizzarne la lunghezza"
      ]
    },
    {
      "cell_type": "code",
      "metadata": {
        "colab": {
          "base_uri": "https://localhost:8080/"
        },
        "id": "cTPF1He884Qi",
        "outputId": "b0479a4c-3ead-4129-ce2b-c0d2fb49ae25"
      },
      "source": [
        "Name = \"Luke\"\n",
        "Surename = \"Basco\"\n",
        "\n",
        "print(\"the lenght of my name is: \")\n",
        "print(len(Name) + len(Surename))\n",
        "print(\"characters\")"
      ],
      "execution_count": null,
      "outputs": [
        {
          "output_type": "stream",
          "name": "stdout",
          "text": [
            "the lenght of my name is: \n",
            "9\n",
            "characters\n"
          ]
        }
      ]
    },
    {
      "cell_type": "markdown",
      "metadata": {
        "id": "rkkdyje6_Hfp"
      },
      "source": [
        "o. assegnare il proprio nome e cognome ad una stringa e contate quante vocali contiene"
      ]
    },
    {
      "cell_type": "code",
      "metadata": {
        "colab": {
          "base_uri": "https://localhost:8080/"
        },
        "id": "VO5u5fRl_LKU",
        "outputId": "488200c4-497f-47de-f4b9-6560aafba9cd"
      },
      "source": [
        "Name = \"Luke\"\n",
        "Surename = \"Basco\"\n",
        "\n",
        "print(\"the total number of vocals in my name and surename is : \")\n",
        "print(Name.count('u') + Name.count('e') + Surename.count('a') + Surename.count('o'))\n",
        "\n",
        "\n",
        "\n"
      ],
      "execution_count": null,
      "outputs": [
        {
          "output_type": "stream",
          "name": "stdout",
          "text": [
            "the total number of vocals in my name and surename is : \n",
            "4\n"
          ]
        }
      ]
    },
    {
      "cell_type": "code",
      "metadata": {
        "colab": {
          "base_uri": "https://localhost:8080/"
        },
        "id": "PEFv4fQRISWP",
        "outputId": "64fc590f-aaf6-471e-f8c4-5b735927ddfd"
      },
      "source": [
        "string = \"luke basco\"\n",
        "vocali = \"aeiou\"\n",
        "string = string.replace(\" \", \"\")\n",
        "contatore = 0\n",
        "# per ogni lettera presente nella string trasformata in minuscolo\n",
        "for lettera in string.lower():\n",
        "  if lettera in vocali:\n",
        "    contatore += 1\n",
        "print(\"num consonanti: \")\n",
        "print(len(string) - contatore)"
      ],
      "execution_count": null,
      "outputs": [
        {
          "output_type": "stream",
          "name": "stdout",
          "text": [
            "num consonanti: \n",
            "5\n"
          ]
        }
      ]
    },
    {
      "cell_type": "markdown",
      "metadata": {
        "id": "b_mDbV1VCUMD"
      },
      "source": [
        "p. assegnare il proprio nome e cognome ad una stringa e visualizzare i primi 5 caratteri"
      ]
    },
    {
      "cell_type": "code",
      "metadata": {
        "colab": {
          "base_uri": "https://localhost:8080/"
        },
        "id": "zzmqbWOLCXYv",
        "outputId": "8373bef7-7f04-4194-c8e2-f96409dde654"
      },
      "source": [
        "Name = \"Luke\"\n",
        "Surename = \"Basco\"\n",
        "\n",
        "print(\"the first 5 characters of my name is: \" + Name[0:5])\n",
        "print(\"the first 5 characters of my surename is: \" + Surename[0:5])"
      ],
      "execution_count": null,
      "outputs": [
        {
          "output_type": "stream",
          "name": "stdout",
          "text": [
            "the first 5 characters of my name is: Luke\n",
            "the first 5 characters of my surename is: Basco\n"
          ]
        }
      ]
    },
    {
      "cell_type": "markdown",
      "metadata": {
        "id": "oMXaGOGtEK8k"
      },
      "source": [
        "q. assegnare il proprio nome e cognome ad una stringa e visualizzare gli ultimi 5 caratteri"
      ]
    },
    {
      "cell_type": "code",
      "metadata": {
        "colab": {
          "base_uri": "https://localhost:8080/"
        },
        "id": "tQaX9KThEMDA",
        "outputId": "4d99b58b-6207-4938-aeb5-ef49041ffc35"
      },
      "source": [
        "Name = \"Luke\"\n",
        "Surename = \"Basco\"\n",
        "\n",
        "print(\"the last 5 characters of my name is: \" + Name[5:10])\n",
        "print(\"the last 5 characters of my surename is: \" + Surename[5:10])"
      ],
      "execution_count": null,
      "outputs": [
        {
          "output_type": "stream",
          "name": "stdout",
          "text": [
            "the last 5 characters of my name is: \n",
            "the last 5 characters of my surename is: \n"
          ]
        }
      ]
    },
    {
      "cell_type": "markdown",
      "metadata": {
        "id": "vn_ytYP7GaHy"
      },
      "source": [
        "r.. assegnare il proprio nome e cognome ad una stringa e visualizzare i 5 caratteri centrali"
      ]
    },
    {
      "cell_type": "code",
      "metadata": {
        "colab": {
          "base_uri": "https://localhost:8080/"
        },
        "id": "CfDQipbnGc5I",
        "outputId": "c141ff81-b3c2-4f6f-8709-4a84ecd4cba8"
      },
      "source": [
        "Name = \"Luke\"\n",
        "Surename = \"Basco\"\n",
        "\n",
        "print(\"the 5 central characters of my name is: \" + Name[0:5])\n",
        "print(\"the 5 central characters of my surename is: \" + Surename[0:5])"
      ],
      "execution_count": null,
      "outputs": [
        {
          "output_type": "stream",
          "name": "stdout",
          "text": [
            "the first 5 characters of my name is: Luke\n",
            "the first 5 characters of my surename is: Basco\n"
          ]
        }
      ]
    },
    {
      "cell_type": "markdown",
      "metadata": {
        "id": "MiTA0tW7HhOk"
      },
      "source": [
        "s. assegnare il proprio nome e cognome ad una stringa e sostituire le vocali con una X"
      ]
    },
    {
      "cell_type": "code",
      "metadata": {
        "colab": {
          "base_uri": "https://localhost:8080/"
        },
        "id": "-9lVetzpHj9O",
        "outputId": "94908a33-2537-4e00-9f89-a887e900d09d"
      },
      "source": [
        "Name = \"Luke\"\n",
        "Surename = \"Basco\"\n",
        "\n",
        "NameX = Name.replace('u', 'X')\n",
        "NamewithX = NameX.replace('e', 'X')\n",
        "SurenameX = Surename.replace('a', 'X')\n",
        "SurenamewithX = SurenameX.replace('o', 'X')\n",
        "\n",
        "print(NamewithX + \" \" + SurenamewithX )"
      ],
      "execution_count": null,
      "outputs": [
        {
          "output_type": "stream",
          "name": "stdout",
          "text": [
            "LXkX BXscX\n"
          ]
        }
      ]
    }
  ]
}