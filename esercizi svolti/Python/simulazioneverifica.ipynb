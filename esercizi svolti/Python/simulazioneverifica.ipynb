{
  "nbformat": 4,
  "nbformat_minor": 0,
  "metadata": {
    "colab": {
      "name": "simulazioneverifica.ipynb",
      "provenance": [],
      "collapsed_sections": []
    },
    "kernelspec": {
      "name": "python3",
      "display_name": "Python 3"
    },
    "language_info": {
      "name": "python"
    }
  },
  "cells": [
    {
      "cell_type": "markdown",
      "metadata": {
        "id": "rO8lhBtX8SId"
      },
      "source": [
        "1. scrivere un programma che permetta all'utente di inserire tre valori e visualizzi quello intermedio."
      ]
    },
    {
      "cell_type": "code",
      "metadata": {
        "id": "Q27Ancgo8C6H"
      },
      "source": [
        "num1 = int(input(\"inserire un numero: \"))\n",
        "num2 = int(input(\"inserire un numero: \"))\n",
        "num3= int(input(\"inserire un numero: \"))\n",
        "\n",
        "if num1 < num2 < num3:\n",
        "  print(num2)\n",
        "elif num2 < num1 < num3:\n",
        "  print(num1)\n",
        "else:\n",
        "   print(num3)"
      ],
      "execution_count": null,
      "outputs": []
    },
    {
      "cell_type": "markdown",
      "metadata": {
        "id": "01aBpES0Atzi"
      },
      "source": [
        "2. scrivere un programma che permetta all'utente di caricare una lista di numeri interi ed un valore e carichi in un'altra lista tutti gli elementi della prima lista che sono multipli del valore inserito. Al termnine visualizzare entrambe le liste."
      ]
    },
    {
      "cell_type": "code",
      "metadata": {
        "colab": {
          "base_uri": "https://localhost:8080/"
        },
        "id": "iXxDskR9Aw4j",
        "outputId": "0e34f237-3ec3-4212-d85a-ff58e711a8d9"
      },
      "source": [
        "listanum = [int(ele) for ele in input(\"inserire numeri: \").split()]\n",
        "valore = int(input(\"inserire un valore\"))\n",
        "listafinale = []\n",
        "\n",
        "for numero in listanum:\n",
        "  if numero%valore == 0:\n",
        "    listafinale.append(numero)\n",
        "print(listanum)\n",
        "print(listafinale)"
      ],
      "execution_count": null,
      "outputs": [
        {
          "output_type": "stream",
          "name": "stdout",
          "text": [
            "inserire numeri: 5 12 15 18 40 45 72\n",
            "inserire un valore5\n",
            "[5, 12, 15, 18, 40, 45, 72]\n",
            "[5, 15, 40, 45]\n"
          ]
        }
      ]
    },
    {
      "cell_type": "code",
      "metadata": {
        "colab": {
          "base_uri": "https://localhost:8080/"
        },
        "id": "0Q2-UzYLCx2s",
        "outputId": "42bb589e-7a7d-4249-cb67-fc7013cf2b94"
      },
      "source": [
        "# piu semplice anche in stile python\n",
        "\n",
        "listanum = [int(ele) for ele in input(\"inserire numeri: \").split()]\n",
        "valore = int(input(\"inserire un valore: \"))\n",
        "listafinale = [num for num in listanum if num%valore == 0]\n",
        "print(listafinale)"
      ],
      "execution_count": null,
      "outputs": [
        {
          "output_type": "stream",
          "name": "stdout",
          "text": [
            "inserire numeri: 5 8 10 12 15 18 \n",
            "inserire un valore5\n",
            "[5, 10, 15]\n"
          ]
        }
      ]
    },
    {
      "cell_type": "markdown",
      "metadata": {
        "id": "IMp2fZkODnez"
      },
      "source": [
        "3. scrivere un programma che permetta all'utente di memorizzare in un dizionario i numeri di telefono dei propri amici. L'utente deve poter inserire i nomi e i numeri."
      ]
    },
    {
      "cell_type": "code",
      "metadata": {
        "colab": {
          "base_uri": "https://localhost:8080/"
        },
        "id": "PX5S6JI7DvT7",
        "outputId": "40997989-70aa-486d-de6f-4dcb120458c6"
      },
      "source": [
        "nomi = [str(ele) for ele in input(\"inserire nomi: \").split()]\n",
        "numeri = [str(ele) for ele in input(\"inserire nomi: \").split()]\n",
        "\n",
        "rubrica = dict((nome,numero) for nome,numero in zip(nomi,numeri))    # Lo zip unisce la chiave e il valore\n",
        "print(rubrica)"
      ],
      "execution_count": null,
      "outputs": [
        {
          "output_type": "stream",
          "name": "stdout",
          "text": [
            "inserire nomi: a b c\n",
            "inserire nomi: 10 20 30\n",
            "{'a': '10', 'b': '20', 'c': '30'}\n"
          ]
        }
      ]
    },
    {
      "cell_type": "markdown",
      "metadata": {
        "id": "zK8ReuahFJND"
      },
      "source": [
        "4. scrivere un programma che dato il dizionario dell'esercizio precedente, permetta all'utente di inserire un nome e avere il numero di telefono corrispondente"
      ]
    },
    {
      "cell_type": "code",
      "metadata": {
        "colab": {
          "base_uri": "https://localhost:8080/"
        },
        "id": "ps29gg6ZFMAK",
        "outputId": "f562ad73-ef9e-4ec2-dbf1-30b61bc29b0e"
      },
      "source": [
        "nome = input(\"inserire nome: \")\n",
        "print(rubrica[nome])"
      ],
      "execution_count": null,
      "outputs": [
        {
          "output_type": "stream",
          "name": "stdout",
          "text": [
            "inserire nome: b\n",
            "20\n"
          ]
        }
      ]
    },
    {
      "cell_type": "markdown",
      "metadata": {
        "id": "3XD8kWDeFrzb"
      },
      "source": [
        "5. scrivere una funzione che dato il raggio calcoli la superficie del cerchio avente quel raggio. Chiamare al funzione superficie,. Il valore di ritorno deve avere tre cifre decimali."
      ]
    },
    {
      "cell_type": "code",
      "metadata": {
        "colab": {
          "base_uri": "https://localhost:8080/"
        },
        "id": "GGqjy7ljFt27",
        "outputId": "4ca7f734-8e7d-4597-df5b-cd0d245c62d7"
      },
      "source": [
        "import math\n",
        "\n",
        "def superficie(r):\n",
        "  return r**2 * math.pi\n",
        "\n",
        "superficie(int(input()))"
      ],
      "execution_count": null,
      "outputs": [
        {
          "name": "stdout",
          "output_type": "stream",
          "text": [
            "5\n"
          ]
        },
        {
          "output_type": "execute_result",
          "data": {
            "text/plain": [
              "78.53981633974483"
            ]
          },
          "metadata": {},
          "execution_count": 8
        }
      ]
    },
    {
      "cell_type": "markdown",
      "metadata": {
        "id": "kDv7ClXKGsCz"
      },
      "source": [
        "6. scrivere una funzione che, utilizzando la funzione superficie dell'esercizio precedente, permetta di calcolare il volume di un cilindro dato il raggio e l'altezza. Chiamare la funzione volume. "
      ]
    },
    {
      "cell_type": "code",
      "metadata": {
        "colab": {
          "base_uri": "https://localhost:8080/"
        },
        "id": "AwpMUkAaGuAj",
        "outputId": "00ed6fb4-69b7-45a6-d489-372e83b5776d"
      },
      "source": [
        "def volume(r,a):\n",
        "  return (r**2 * math.pi)*a\n",
        "\n",
        "volume(int(input()),int(input()))"
      ],
      "execution_count": null,
      "outputs": [
        {
          "name": "stdout",
          "output_type": "stream",
          "text": [
            "3\n",
            "4\n"
          ]
        },
        {
          "output_type": "execute_result",
          "data": {
            "text/plain": [
              "113.09733552923255"
            ]
          },
          "metadata": {},
          "execution_count": 9
        }
      ]
    },
    {
      "cell_type": "markdown",
      "metadata": {
        "id": "SGiGTMstHXXj"
      },
      "source": [
        "7. scrivere un programma che permetta di decrementare tutti gli elementi di una lista utilizzando una lambda function e la funzione map(). Far inserire all'utente gli elementi della lista."
      ]
    },
    {
      "cell_type": "code",
      "metadata": {
        "colab": {
          "base_uri": "https://localhost:8080/"
        },
        "id": "7c-SC1g0HZ4C",
        "outputId": "e62ba621-3a71-49a5-ff01-0f2f85450eda"
      },
      "source": [
        "lista = [int(ele) for ele in input(\"inserire numeri: \").split()]\n",
        "\n",
        "listadecrementato = list(map(lambda x: x-1, lista))\n",
        "print(lista, listadecrementato)"
      ],
      "execution_count": null,
      "outputs": [
        {
          "output_type": "stream",
          "name": "stdout",
          "text": [
            "inserire numeri: 1 2 3 4 5 6 7\n",
            "[1, 2, 3, 4, 5, 6, 7] [0, 1, 2, 3, 4, 5, 6]\n"
          ]
        }
      ]
    },
    {
      "cell_type": "markdown",
      "metadata": {
        "id": "rwWjDPyuIQn7"
      },
      "source": [
        "8. scrivere un programma che permetta di estrarre da una lista tutti i valori pari utilizzando una lambda function e la funzione filter(). Far inserire all'utente gli elementi della lista."
      ]
    },
    {
      "cell_type": "code",
      "metadata": {
        "colab": {
          "base_uri": "https://localhost:8080/"
        },
        "id": "6Q-_uohOISm6",
        "outputId": "e5f8513b-f82d-4b03-ea89-912d4a7f10a8"
      },
      "source": [
        "lista = [int(ele) for ele in input(\"inserire numeri: \").split()]\n",
        "\n",
        "listapari = list(filter(lambda x: (x%2 == 0), lista))\n",
        "print(listapari)"
      ],
      "execution_count": null,
      "outputs": [
        {
          "output_type": "stream",
          "name": "stdout",
          "text": [
            "inserire numeri: 1 7 5 2 8 4 9\n",
            "[2, 8, 4]\n"
          ]
        }
      ]
    },
    {
      "cell_type": "markdown",
      "metadata": {
        "id": "qjf_zGlmIl9a"
      },
      "source": [
        "9. scrivere una funzione ricorsiva per calcolare l'elevamento a potenza di un numero intero. La funzione ha due paramentri: numero ed esponente"
      ]
    },
    {
      "cell_type": "code",
      "metadata": {
        "colab": {
          "base_uri": "https://localhost:8080/"
        },
        "id": "TVC8gG5lJkwD",
        "outputId": "7f0e7c13-398e-42dd-f6bd-3962cb927662"
      },
      "source": [
        "def potenza(base,esponente):\n",
        "  if esponente == 0:\n",
        "    return 1\n",
        "  else:\n",
        "    return base*potenza(base, esponente -1)\n",
        "\n",
        "print(potenza(int(input()),int(input())))"
      ],
      "execution_count": null,
      "outputs": [
        {
          "output_type": "stream",
          "name": "stdout",
          "text": [
            "2\n",
            "4\n",
            "16\n"
          ]
        }
      ]
    }
  ]
}