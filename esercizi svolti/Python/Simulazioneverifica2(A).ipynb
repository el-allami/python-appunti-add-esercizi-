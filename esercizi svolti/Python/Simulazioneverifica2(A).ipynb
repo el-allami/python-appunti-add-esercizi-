{
  "nbformat": 4,
  "nbformat_minor": 0,
  "metadata": {
    "colab": {
      "name": "Simulazioneverifica2(A).ipynb",
      "provenance": [],
      "collapsed_sections": []
    },
    "kernelspec": {
      "name": "python3",
      "display_name": "Python 3"
    },
    "language_info": {
      "name": "python"
    }
  },
  "cells": [
    {
      "cell_type": "markdown",
      "metadata": {
        "id": "JbTVMGWDoE8y"
      },
      "source": [
        "1. scrivere un programma che data una data nella forma gg/mm/aaaa visualizzi separatamente il giorno, il mese e l'anno."
      ]
    },
    {
      "cell_type": "code",
      "metadata": {
        "colab": {
          "base_uri": "https://localhost:8080/"
        },
        "id": "klQ2_vwsnpaW",
        "outputId": "5dc23995-41a1-455b-e9d0-e884f2d8e154"
      },
      "source": [
        "data = input(\"inserisci data: \")\n",
        "\n",
        "if len(data) == 10 and data[2] == '/' and data[5] == '/':\n",
        "  print(\"il giorno è: \" + data[0:2])\n",
        "  print(\"il mese è: \" + data[3: 5])\n",
        "  print(\"lanno è: \" + data[6: 10])"
      ],
      "execution_count": null,
      "outputs": [
        {
          "output_type": "stream",
          "name": "stdout",
          "text": [
            "inserisci data. 12/12/1222\n",
            "il giorno è: 12\n",
            "il mese è: 12\n",
            "lanno è: 1222\n"
          ]
        }
      ]
    },
    {
      "cell_type": "markdown",
      "metadata": {
        "id": "N9V9pHJPo6LS"
      },
      "source": [
        "2. scrivere un programma che permetta di stabilire se un numero dispari è divisibile per 5. L'utente inserisce il numero e il programma, una volta controllato che sia dispari, controlla anche se è divisibile per 5."
      ]
    },
    {
      "cell_type": "code",
      "metadata": {
        "colab": {
          "base_uri": "https://localhost:8080/"
        },
        "id": "4I-s0JVzpSPo",
        "outputId": "d844bbe7-c863-4735-dac0-8ea4515dd779"
      },
      "source": [
        "numero = int(input(\"inserire numero: \"))\n",
        "\n",
        "if numero% 2 == 0:\n",
        "  print(\"il numero non è dispari!\")\n",
        "elif numero % 5 == 0:\n",
        "  print(\"il numero è dispari ed è divisibile per 5\")\n",
        "else:\n",
        "  print(\"il numero è dispari ma non divisibile per 5!\")"
      ],
      "execution_count": null,
      "outputs": [
        {
          "output_type": "stream",
          "name": "stdout",
          "text": [
            "inserire numero: 3\n",
            "il numero è dispari ma non divisibile per 5!\n"
          ]
        }
      ]
    },
    {
      "cell_type": "markdown",
      "metadata": {
        "id": "DPNn8U-Fr75P"
      },
      "source": [
        "3. scrivere un programma per verificare se una parola comincia e finisce con la stessa lettera."
      ]
    },
    {
      "cell_type": "code",
      "metadata": {
        "colab": {
          "base_uri": "https://localhost:8080/"
        },
        "id": "-CHjdexDsa3n",
        "outputId": "69c38e17-0398-4fc9-a367-64fcb8f340a0"
      },
      "source": [
        "stringa = input(\"inserire una parola: \")\n",
        "\n",
        "if stringa[0] == stringa[-1]:\n",
        "  print(\"la parola inizia e fisce con la stessa lettera\")\n",
        "else:\n",
        "  print(\"la parola non inizia e finisce con la stessa lettera!\")"
      ],
      "execution_count": null,
      "outputs": [
        {
          "output_type": "stream",
          "name": "stdout",
          "text": [
            "inserire una parola: seth\n",
            "la parola non inizia e finisce con la stessa lettera!\n"
          ]
        }
      ]
    },
    {
      "cell_type": "markdown",
      "metadata": {
        "id": "E1kFSbm5s_JH"
      },
      "source": [
        "4. scrivere una programa che permetta di caricare una lista di parole e che elimini dalla lista tutte le parole che iniziano con una lettera inserita dall'utente"
      ]
    },
    {
      "cell_type": "code",
      "metadata": {
        "colab": {
          "base_uri": "https://localhost:8080/"
        },
        "id": "wr_g-Ns2tSgX",
        "outputId": "e7e680ad-f449-4942-efa3-c11244efaf01"
      },
      "source": [
        "lista = [ele for ele in input(\"inserire parole: \").split()]\n",
        "lettera = input(\"inserire una letter: \")\n",
        "lista2 = lista[:]\n",
        "for ele in lista:\n",
        "  if ele[0] == lettera:\n",
        "    lista2.remove(ele)\n",
        "\n",
        "print(lista2)"
      ],
      "execution_count": null,
      "outputs": [
        {
          "output_type": "stream",
          "name": "stdout",
          "text": [
            "inserire parole: sdtyjh ssdrthsrth fsdtrh rsh\n",
            "inserire una letter: s\n",
            "['fsdtrh', 'rsh']\n"
          ]
        }
      ]
    },
    {
      "cell_type": "markdown",
      "metadata": {
        "id": "hbtJap-5upMm"
      },
      "source": [
        "5. scrivere una funzione che data una parola restituisca la stessa parola senza le vocali\n"
      ]
    },
    {
      "cell_type": "code",
      "metadata": {
        "colab": {
          "base_uri": "https://localhost:8080/"
        },
        "id": "yY4pfrFfvBud",
        "outputId": "47a7cd9c-f9ca-4eec-f97a-814258f4083e"
      },
      "source": [
        "def sost(word):\n",
        "  vocali = set(\"aeiou\")\n",
        "  for i in word:\n",
        "    if i.lower() in vocali:\n",
        "      word = word.replace(i, \"\")\n",
        "  return word\n",
        "\n",
        "parola = input(\"inserire una parola: \")\n",
        "print(sost(parola))"
      ],
      "execution_count": null,
      "outputs": [
        {
          "output_type": "stream",
          "name": "stdout",
          "text": [
            "inserire una parola: Exfgth\n",
            "xfgth\n"
          ]
        }
      ]
    },
    {
      "cell_type": "markdown",
      "metadata": {
        "id": "a5secQhXHTjL"
      },
      "source": [
        "6. scrivere un programma che utilizzando la funzione precedente elimini da una frase composta da più parole tutte le vocali\n"
      ]
    },
    {
      "cell_type": "code",
      "metadata": {
        "colab": {
          "base_uri": "https://localhost:8080/",
          "height": 35
        },
        "id": "aKfAJfEjHZMb",
        "outputId": "516ddc39-8d9a-45ce-dc4c-079d800ca12b"
      },
      "source": [
        "frase = \"Hello my name is Luke\"\n",
        "\n",
        "sost(frase)"
      ],
      "execution_count": null,
      "outputs": [
        {
          "output_type": "execute_result",
          "data": {
            "application/vnd.google.colaboratory.intrinsic+json": {
              "type": "string"
            },
            "text/plain": [
              "'Hll my nm s Lk'"
            ]
          },
          "metadata": {},
          "execution_count": 3
        }
      ]
    },
    {
      "cell_type": "markdown",
      "metadata": {
        "id": "zGS39gTXJOda"
      },
      "source": [
        "7. scrivere un programma che utilizzando una lambda function  sostituisca ad ogni elemento di una lista di parole la lunghezza delle parole stesse. Ad esempio se la lista fosse [‘mamma’, ‘stella’, ‘casa’] la lista finale dovrebbe essere [5, 5, 4]\n"
      ]
    },
    {
      "cell_type": "code",
      "metadata": {
        "colab": {
          "base_uri": "https://localhost:8080/"
        },
        "id": "n_X7nsZrJRMa",
        "outputId": "9545ab8a-172d-4e57-e2e8-cb19935e60b1"
      },
      "source": [
        "lista = [\"sdtrh\", \"srhgg\", \"xsthgdrgt\"]\n",
        "\n",
        "count = list(map(lambda x: len(x), lista))\n",
        "  \n",
        "print(count)"
      ],
      "execution_count": null,
      "outputs": [
        {
          "output_type": "stream",
          "name": "stdout",
          "text": [
            "[5, 5, 9]\n"
          ]
        }
      ]
    },
    {
      "cell_type": "markdown",
      "metadata": {
        "id": "ucJDlE0xL3QC"
      },
      "source": [
        "8. scrivere un programma che utilizzando una lambda function elimini da una lista di parole tutte quelle più corte di un valore inserito dall’utente.  Ad esempio se la lista fosse [‘tre’, ‘stella’, ‘casa’] e l’utente inserisse il valore 5, la lista finale dovrebbe essere [‘stella’]\n"
      ]
    },
    {
      "cell_type": "code",
      "metadata": {
        "colab": {
          "base_uri": "https://localhost:8080/"
        },
        "id": "hyO8FlQaMOmN",
        "outputId": "84754027-02cc-483d-ea75-d3e32f94723e"
      },
      "source": [
        "lista = [\"sdtrh\", \"srhgg\", \"xsthgdrgt\"]\n",
        "val = int(input(\"inserire numero: \"))\n",
        "\n",
        "lambdaa = list(filter(lambda x: len(x) >= val, lista))\n",
        "print(lambdaa)"
      ],
      "execution_count": null,
      "outputs": [
        {
          "output_type": "stream",
          "name": "stdout",
          "text": [
            "inserire numero: 6\n",
            "['xsthgdrgt']\n"
          ]
        }
      ]
    },
    {
      "cell_type": "markdown",
      "metadata": {
        "id": "2eXWdRd3NluK"
      },
      "source": [
        "9. MilanoSport propone corsi di nuoto e vuole memorizzare i nomi dei corsi e i cognomi delle persone che partecipano a quel corso. Caricare in una struttura dati apposita i nomi dei corsi (solo due nomi) e i cognomi dei partecipanti (solo due cognomi) e permettere di avere i cognomi dei partecipanti di un determinato corso inserito dall’utente. \n"
      ]
    },
    {
      "cell_type": "code",
      "metadata": {
        "colab": {
          "base_uri": "https://localhost:8080/"
        },
        "id": "h6Lz2haoNoPy",
        "outputId": "76bcde3b-85d9-441a-f47e-ae581d7a6385"
      },
      "source": [
        "MilanoSport = {\"corso principiante\" : \"Rossi\", \"corso dilettante\" : \"bianchi\"}\n",
        "corso = input(\"inserire corso: \")\n",
        "\n",
        "print(MilanoSport[corso])"
      ],
      "execution_count": null,
      "outputs": [
        {
          "output_type": "stream",
          "name": "stdout",
          "text": [
            "inserire corso: corso principiante\n",
            "Rossi\n"
          ]
        }
      ]
    }
  ]
}